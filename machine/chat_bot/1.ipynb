{
 "cells": [
  {
   "cell_type": "code",
   "execution_count": 16,
   "id": "259e707f",
   "metadata": {},
   "outputs": [],
   "source": [
    "import pandas as pd\n",
    "\n",
    "from transformers import (\n",
    "    pipeline,\n",
    "    set_seed,\n",
    "    \n",
    ")"
   ]
  },
  {
   "cell_type": "code",
   "execution_count": 17,
   "id": "e50b5bd8",
   "metadata": {},
   "outputs": [],
   "source": [
    "local_model_path = \"/home/matv864/it/models\""
   ]
  },
  {
   "cell_type": "code",
   "execution_count": 18,
   "id": "449ed12f",
   "metadata": {},
   "outputs": [
    {
     "name": "stderr",
     "output_type": "stream",
     "text": [
      "Device set to use cuda:0\n"
     ]
    }
   ],
   "source": [
    "# pipe = pipeline(\"text-generation\", model=\"TinyLlama/TinyLlama-1.1B-Chat-v1.0\")\n",
    "pipe = pipeline(\"text-generation\", model=local_model_path)"
   ]
  },
  {
   "cell_type": "code",
   "execution_count": 19,
   "id": "a4bad54a",
   "metadata": {},
   "outputs": [],
   "source": [
    "set_seed(42)"
   ]
  },
  {
   "cell_type": "code",
   "execution_count": 20,
   "id": "301366f3",
   "metadata": {},
   "outputs": [
    {
     "data": {
      "text/plain": [
       "[{'generated_text': [{'role': 'user', 'content': 'Who are you?'},\n",
       "   {'role': 'assistant',\n",
       "    'content': \"I am a non-profit organization that provides funding, support, and resources for researchers and scholars studying Sustainability, Peace, and Security. Our primary focus is on supporting research in the areas of climate change, conflict resolution, and peacebuilding. We work directly with researchers and scholars worldwide, providing grants, fellowships, and other resources to help them advance their work on these critical issues. We believe that collaboration, knowledge sharing, and innovative approaches are key to achieving sustainable and peaceful solutions to the world's most pressing challenges.\"}]}]"
      ]
     },
     "execution_count": 20,
     "metadata": {},
     "output_type": "execute_result"
    }
   ],
   "source": [
    "messages = [\n",
    "    {\"role\": \"user\", \"content\": \"Who are you?\"},\n",
    "]\n",
    "pipe(messages)"
   ]
  },
  {
   "cell_type": "code",
   "execution_count": 21,
   "id": "681262ba",
   "metadata": {},
   "outputs": [
    {
     "data": {
      "text/plain": [
       "'<|system|>\\nYou are a friendly chatbot who always responds in the style of a pirate</s>\\n<|user|>\\nHow many helicopters can a human eat in one sitting?</s>\\n<|assistant|>\\n'"
      ]
     },
     "execution_count": 21,
     "metadata": {},
     "output_type": "execute_result"
    }
   ],
   "source": [
    "messages = [\n",
    "    {\n",
    "        \"role\": \"system\",\n",
    "        \"content\": \"You are a friendly chatbot who always responds in the style of a pirate\",\n",
    "    },\n",
    "    {\"role\": \"user\", \"content\": \"How many helicopters can a human eat in one sitting?\"},\n",
    "]\n",
    "prompt = pipe.tokenizer.apply_chat_template(messages, tokenize=False, add_generation_prompt=True)\n",
    "prompt"
   ]
  },
  {
   "cell_type": "code",
   "execution_count": 22,
   "id": "fe636b1b",
   "metadata": {},
   "outputs": [
    {
     "data": {
      "text/plain": [
       "[{'generated_text': '<|system|>\\nYou are a friendly chatbot who always responds in the style of a pirate</s>\\n<|user|>\\nHow many helicopters can a human eat in one sitting?</s>\\n<|assistant|>\\nAs humans, we are limited by our physical abilities, and our appetite for food is one of them. The amount of food that one human can consume in one sitting depends on their body weight, age, and activity levels. However, generally, a healthy human can consume around 500-600 calories per day. Therefore, a human can only eat around 100-150 grams of food (around 2-3 servings) in one sitting.'}]"
      ]
     },
     "execution_count": 22,
     "metadata": {},
     "output_type": "execute_result"
    }
   ],
   "source": [
    "pipe(prompt, max_new_tokens=256, do_sample=True, temperature=0.7, top_k=50, top_p=0.95)"
   ]
  },
  {
   "cell_type": "code",
   "execution_count": 23,
   "id": "982263d8",
   "metadata": {},
   "outputs": [],
   "source": [
    "pipe.save_pretrained(\"/home/matv864/it/models\")"
   ]
  },
  {
   "cell_type": "code",
   "execution_count": null,
   "id": "b0bd0270",
   "metadata": {},
   "outputs": [],
   "source": []
  }
 ],
 "metadata": {
  "kernelspec": {
   "display_name": "ai-work (3.12.3)",
   "language": "python",
   "name": "python3"
  },
  "language_info": {
   "codemirror_mode": {
    "name": "ipython",
    "version": 3
   },
   "file_extension": ".py",
   "mimetype": "text/x-python",
   "name": "python",
   "nbconvert_exporter": "python",
   "pygments_lexer": "ipython3",
   "version": "3.12.3"
  }
 },
 "nbformat": 4,
 "nbformat_minor": 5
}
