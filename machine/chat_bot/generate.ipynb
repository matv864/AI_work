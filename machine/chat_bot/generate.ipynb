{
 "cells": [
  {
   "cell_type": "code",
   "execution_count": 11,
   "id": "259e707f",
   "metadata": {},
   "outputs": [],
   "source": [
    "from pprint import pprint\n",
    "\n",
    "from transformers import (\n",
    "    pipeline,\n",
    "    set_seed,\n",
    "    \n",
    ")"
   ]
  },
  {
   "cell_type": "code",
   "execution_count": 12,
   "id": "e50b5bd8",
   "metadata": {},
   "outputs": [],
   "source": [
    "local_model_path = \"/home/matv864/it/models\""
   ]
  },
  {
   "cell_type": "code",
   "execution_count": 13,
   "id": "449ed12f",
   "metadata": {},
   "outputs": [
    {
     "name": "stderr",
     "output_type": "stream",
     "text": [
      "Device set to use cuda:0\n"
     ]
    }
   ],
   "source": [
    "# pipe = pipeline(\"text-generation\", model=\"TinyLlama/TinyLlama-1.1B-Chat-v1.0\")\n",
    "pipe = pipeline(\"text-generation\", model=local_model_path)"
   ]
  },
  {
   "cell_type": "code",
   "execution_count": 14,
   "id": "a4bad54a",
   "metadata": {},
   "outputs": [],
   "source": [
    "set_seed(42)"
   ]
  },
  {
   "cell_type": "code",
   "execution_count": 15,
   "id": "301366f3",
   "metadata": {},
   "outputs": [
    {
     "name": "stdout",
     "output_type": "stream",
     "text": [
      "[{'generated_text': [{'content': 'Who are you?', 'role': 'user'},\n",
      "                     {'content': 'I am a non-profit organization that provides '\n",
      "                                 'funding, support, and resources for '\n",
      "                                 'researchers and scholars studying '\n",
      "                                 'Sustainability, Peace, and Security. Our '\n",
      "                                 'primary focus is on supporting research in '\n",
      "                                 'the areas of climate change, conflict '\n",
      "                                 'resolution, and peacebuilding. We work '\n",
      "                                 'directly with researchers and scholars '\n",
      "                                 'worldwide, providing grants, fellowships, '\n",
      "                                 'and other resources to help them advance '\n",
      "                                 'their work on these critical issues. We '\n",
      "                                 'believe that collaboration, knowledge '\n",
      "                                 'sharing, and innovative approaches are key '\n",
      "                                 'to achieving sustainable and peaceful '\n",
      "                                 \"solutions to the world's most pressing \"\n",
      "                                 'challenges.',\n",
      "                      'role': 'assistant'}]}]\n"
     ]
    }
   ],
   "source": [
    "messages = [\n",
    "    {\"role\": \"user\", \"content\": \"Who are you?\"},\n",
    "]\n",
    "response = pipe(messages)\n",
    "\n",
    "pprint(response)"
   ]
  },
  {
   "cell_type": "code",
   "execution_count": 19,
   "id": "681262ba",
   "metadata": {},
   "outputs": [
    {
     "data": {
      "text/plain": [
       "'<|user|>\\nwhich is wheather now?</s>\\n'"
      ]
     },
     "execution_count": 19,
     "metadata": {},
     "output_type": "execute_result"
    }
   ],
   "source": [
    "messages = [\n",
    "    # {\n",
    "    #     \"role\": \"system\",\n",
    "    #     \"content\": \"You are a friendly chatbot who always responds in the style of a pirate\",\n",
    "    # },\n",
    "    {\"role\": \"user\", \"content\": \"which is wheather now?\"},\n",
    "]\n",
    "prompt = pipe.tokenizer.apply_chat_template(messages, tokenize=False, add_generation_prompt=False)\n",
    "prompt"
   ]
  },
  {
   "cell_type": "code",
   "execution_count": 20,
   "id": "fe636b1b",
   "metadata": {},
   "outputs": [
    {
     "name": "stdout",
     "output_type": "stream",
     "text": [
      "[{'generated_text': '<|user|>\\n'\n",
      "                    'which is wheather now?</s>\\n'\n",
      "                    '<|assistant|>\\n'\n",
      "                    'Yes, the question asks which is the current weather. The '\n",
      "                    'phrase \"whether now\" is a common expression that means '\n",
      "                    '\"at the moment\" or \"at the present time.\" In this '\n",
      "                    'context, \"now\" refers to the current weather.'}]\n"
     ]
    }
   ],
   "source": [
    "response = pipe(prompt, max_new_tokens=256, do_sample=True, temperature=0.7, top_k=50, top_p=0.95)\n",
    "pprint(response)"
   ]
  },
  {
   "cell_type": "code",
   "execution_count": 18,
   "id": "982263d8",
   "metadata": {},
   "outputs": [],
   "source": [
    "# pipe.save_pretrained(\"/home/matv864/it/models\")"
   ]
  },
  {
   "cell_type": "code",
   "execution_count": null,
   "id": "b0bd0270",
   "metadata": {},
   "outputs": [],
   "source": []
  }
 ],
 "metadata": {
  "kernelspec": {
   "display_name": "ai-work (3.12.3)",
   "language": "python",
   "name": "python3"
  },
  "language_info": {
   "codemirror_mode": {
    "name": "ipython",
    "version": 3
   },
   "file_extension": ".py",
   "mimetype": "text/x-python",
   "name": "python",
   "nbconvert_exporter": "python",
   "pygments_lexer": "ipython3",
   "version": "3.12.3"
  }
 },
 "nbformat": 4,
 "nbformat_minor": 5
}
