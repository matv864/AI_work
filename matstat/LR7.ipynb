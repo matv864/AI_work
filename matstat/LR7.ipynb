{
 "cells": [
  {
   "cell_type": "markdown",
   "id": "bf12f7c0",
   "metadata": {},
   "source": [
    "## ЛАБОРАТОРНАЯ РАБОТА №7.\n",
    "## ТЕСТИРОВАНИЕ ГИПОТЕЗ О РАСПРЕДЛЕНИЯХ\n",
    "#### по дисциплине «Математическая статистика»\n",
    "Направление подготовки 01.03.02 Прикладная математика и информатика\n",
    "Очной формы обучения"
   ]
  },
  {
   "cell_type": "markdown",
   "id": "1c7d04db",
   "metadata": {},
   "source": [
    "выполнил: студент группы Б9123-01.03.02ии\n",
    "\n",
    "Иванов Матвей Олегович\n",
    "\n",
    "принял: Деревягин Андрей Алексеевич"
   ]
  },
  {
   "cell_type": "markdown",
   "id": "df280f39",
   "metadata": {},
   "source": [
    "# Математическая часть"
   ]
  },
  {
   "cell_type": "markdown",
   "id": "e752d619",
   "metadata": {},
   "source": [
    "### Критерий Колмогорова\n",
    "\n",
    "Критерий Колмогорова - Проверка гипотезы о том, что cлучайная выборка $X_1, …, X_n​$ \\\n",
    "c распределением F_x(x) происходит из заданного распределения $\\hat{F}(x)$\n",
    "\n",
    "статистика $D_n = \\sqrt{n} \\cdot sup_{x \\in R} |\\hat{F}(x) - F_x(x)|$ \\\n",
    "Асимптотическое распределение статистики $\\sqrt{n}D_n$ при $n \\to \\infty$ задаётся функцией Колмогорова: \\\n",
    "$F_k(x) = \\sum_{k=-\\infty}^{+\\infty} (-1)^k e^{-2k^2x^2} \\cdot I(x > 0)$ \\\n",
    "p-значение $p = 1 - F_K(k)$\n",
    "\n"
   ]
  },
  {
   "cell_type": "markdown",
   "id": "9a26abf5",
   "metadata": {},
   "source": [
    "### Критерий Колмогорова-Смирнова\n",
    "\n",
    "Критерий Колмогорова-Смирнова - гипотеза для проверки однородности двух выборок \\\n",
    "$X_1, X_2, \\cdots, X_n$ с ф-ией распределения $F_X(x)$; $Y_1, Y_2, \\cdots, Y_m$ с ф-ией распределения $F_Y(x)$ \\\n",
    "Статистика: $K=\\sqrt{\\frac{n+m}{nm}} \\cdot \\sup_{x \\in R} |F_X(x) - F_Y(x)|$ \\\n",
    "p-значение: $p=1-F_K(k)$"
   ]
  },
  {
   "cell_type": "markdown",
   "id": "04bdb785",
   "metadata": {},
   "source": [
    "### Тест Шапиро-Уилка\n",
    "Тест Шапиро-Уилка — это проверка гипотез, которая применяется к выборке данных с нулевой\n",
    "гипотезой о том, что выборка имеет нормальное распределение. В этом тесте высокое значение p\n",
    "указывает на то, что набор данных имеет нормальное распределение, тогда как низкое значение p\n",
    "указывает на то, что он не имеет нормального распределения."
   ]
  },
  {
   "cell_type": "markdown",
   "id": "b21a7178",
   "metadata": {},
   "source": [
    "# Практическая часть"
   ]
  },
  {
   "cell_type": "code",
   "execution_count": 43,
   "id": "7bfca0d1",
   "metadata": {},
   "outputs": [],
   "source": [
    "# вводные\n",
    "import numpy as np\n",
    "import scipy.stats as stats"
   ]
  },
  {
   "cell_type": "code",
   "execution_count": 44,
   "id": "e4ca79aa",
   "metadata": {},
   "outputs": [],
   "source": [
    "# Критерий Колмогорова\n",
    "def kolmogorov_test(sample, cdf):\n",
    "    n = len(sample)\n",
    "    sample_sorted = np.sort(sample)\n",
    "\n",
    "    y = np.arange(1, n + 1) / n  # ЭФР\n",
    "\n",
    "    # Вычисляем статистику D_n = sup |F_n(x) - F(x)|\n",
    "    D_n = np.max(np.abs(y - cdf(sample_sorted)))\n",
    "\n",
    "    # Вычисляем p-значение через асимптотическое распределение Колмогорова\n",
    "    sqrt_n_D = np.sqrt(n) * D_n\n",
    "    p_value = 1 - kolmogorov_cdf(sqrt_n_D)\n",
    "\n",
    "    return p_value\n",
    "\n",
    "\n",
    "def kolmogorov_cdf(x, terms=100):\n",
    "    if x <= 0:\n",
    "        return 0.0\n",
    "    total = 0.0\n",
    "    for k in range(-terms, terms + 1):\n",
    "        term = (-1) ** k * np.exp(-2 * k**2 * x**2)\n",
    "        total += term\n",
    "    return total"
   ]
  },
  {
   "cell_type": "code",
   "execution_count": 45,
   "id": "8ba39494",
   "metadata": {},
   "outputs": [],
   "source": [
    "# 2. Критерий однородности двух выборок\n",
    "def kolmogorov_smirnov_test(sample1, sample2):\n",
    "    n = len(sample1)\n",
    "    m = len(sample2)\n",
    "    combined = np.concatenate([sample1, sample2])\n",
    "    combined_sorted = np.sort(combined)\n",
    "\n",
    "    ecdf1 = np.searchsorted(np.sort(sample1), combined_sorted, side=\"right\") / n\n",
    "    ecdf2 = np.searchsorted(np.sort(sample2), combined_sorted, side=\"right\") / m\n",
    "\n",
    "    K = np.sqrt((n * m) / (n + m)) * np.max(np.abs(ecdf1 - ecdf2))\n",
    "\n",
    "    p_value = 0\n",
    "    for k in range(1, 100):\n",
    "        p_value += (-1) ** (k - 1) * np.exp(-2 * k**2 * K**2)\n",
    "    p_value = 2 * p_value\n",
    "\n",
    "    return p_value"
   ]
  },
  {
   "cell_type": "code",
   "execution_count": 46,
   "id": "36df5949",
   "metadata": {},
   "outputs": [],
   "source": [
    "# 3. Критерий хи-квадрат\n",
    "def chi_square_test(sample, bins, cdf):\n",
    "    # Разбиваем выборку на интервалы\n",
    "    observed, _ = np.histogram(sample, bins=bins)\n",
    "    n = len(sample)\n",
    "    k = len(bins) - 1\n",
    "\n",
    "    # Вычисляем ожидаемые частоты\n",
    "    expected = []\n",
    "    for i in range(k):\n",
    "        p = cdf(bins[i + 1]) - cdf(bins[i])\n",
    "        expected.append(n * p)\n",
    "    expected = np.array(expected)\n",
    "\n",
    "    chi2 = np.sum((observed - expected) ** 2 / expected)\n",
    "    p_value = 1 - stats.chi2.cdf(chi2, df=k - 1)\n",
    "    return p_value"
   ]
  },
  {
   "cell_type": "markdown",
   "id": "663b661f",
   "metadata": {},
   "source": [
    "№ 1 \\\n",
    "Напишите функцию, реализующую тестирование гипотезы о распределении случайной величины \\\n",
    "с помощью критерия Колмогорова. \\\n",
    "На вход функции подаются: \n",
    "- выборка\n",
    "- предполагаемая в рамках нулевой гипотезы функция распределения.\n",
    "\n",
    "Возвращает функция p-значение. Можно использовать библиотечную эмпирическую функцию распределения."
   ]
  },
  {
   "cell_type": "code",
   "execution_count": 47,
   "id": "fc93bcd4",
   "metadata": {},
   "outputs": [
    {
     "data": {
      "text/plain": [
       "<function __main__.kolmogorov_test(sample, cdf)>"
      ]
     },
     "execution_count": 47,
     "metadata": {},
     "output_type": "execute_result"
    }
   ],
   "source": [
    "kolmogorov_test"
   ]
  },
  {
   "cell_type": "markdown",
   "id": "95ace388",
   "metadata": {},
   "source": [
    "№ 2 \\\n",
    "Напишите функцию, реализующую тестирование гипотезы о распределении с помощью критерия хи квадрат. \\\n",
    "На вход функции подаются: \n",
    "- выборка,\n",
    "- разбиение числовой оси на интервалы,\n",
    "- предполагаемая функция распределения.\n",
    "\n",
    "Возвращает функция p-значение."
   ]
  },
  {
   "cell_type": "code",
   "execution_count": 48,
   "id": "2726273f",
   "metadata": {},
   "outputs": [
    {
     "data": {
      "text/plain": [
       "<function __main__.chi_square_test(sample, bins, cdf)>"
      ]
     },
     "execution_count": 48,
     "metadata": {},
     "output_type": "execute_result"
    }
   ],
   "source": [
    "chi_square_test"
   ]
  },
  {
   "cell_type": "markdown",
   "id": "e99ef7ba",
   "metadata": {},
   "source": [
    "№ 3 \\\n",
    "Напишите функцию, реализующую тестирование гипотезы об однородности выборок. \\\n",
    "На вход функции подаются 2 выборки. \\\n",
    "Возвращает функция p-значение."
   ]
  },
  {
   "cell_type": "code",
   "execution_count": 49,
   "id": "65b6d1f0",
   "metadata": {},
   "outputs": [
    {
     "data": {
      "text/plain": [
       "<function __main__.kolmogorov_smirnov_test(sample1, sample2)>"
      ]
     },
     "execution_count": 49,
     "metadata": {},
     "output_type": "execute_result"
    }
   ],
   "source": [
    "kolmogorov_smirnov_test"
   ]
  },
  {
   "cell_type": "markdown",
   "id": "cae524bd",
   "metadata": {},
   "source": [
    "№ 4 \\\n",
    "Вычислите остаток от деления своего номера (6) в списке группы на 3. \n",
    "Это номер распределения: \n",
    "- 0) $\\sqrt{}$ нормальное, \n",
    "- 1)   равномерное,\n",
    "- 2)   биномиальное. \n",
    "\n",
    "Из распределения сгенерируйте 3 выборки.\n",
    "Две с одинаковыми параметрами распределения, а третью с другими."
   ]
  },
  {
   "cell_type": "code",
   "execution_count": 50,
   "id": "67d974d5",
   "metadata": {},
   "outputs": [],
   "source": [
    "n = 50\n",
    "np.random.seed(4232)\n",
    "sample_1 = stats.norm.rvs(loc=0, scale=1, size=n)\n",
    "sample_2 = stats.norm.rvs(loc=0, scale=1, size=n)\n",
    "sample_3 = stats.norm.rvs(loc=2, scale=3, size=n)"
   ]
  },
  {
   "cell_type": "markdown",
   "id": "f10ee0ae",
   "metadata": {},
   "source": [
    "№ 5 \\\n",
    "Проверьте гипотезы"
   ]
  },
  {
   "cell_type": "markdown",
   "id": "39dad9a6",
   "metadata": {},
   "source": [
    "№ 5.1 \\\n",
    "ваша выборка имеет то распределение, откуда она взялась \\\n",
    "(по Колмогорову для непрерывных распределений и по хи квадрат для дискретных); \\\n",
    "сверить результат с библиотечными тестами."
   ]
  },
  {
   "cell_type": "code",
   "execution_count": 51,
   "id": "98bc6b4c",
   "metadata": {},
   "outputs": [
    {
     "name": "stdout",
     "output_type": "stream",
     "text": [
      "слева результат моей функции, справа результат функции из библиотеки\n",
      "непрерывные распределения, по Колмогорову\n",
      "0.4332185565026252 0.23304109054332622\n",
      "дискретные распределения, хи квадрат\n",
      "0.9202814431572397 0.9222682694288054\n"
     ]
    }
   ],
   "source": [
    "print(\"слева результат моей функции, справа результат функции из библиотеки\")\n",
    "my_p = kolmogorov_test(sample_1, lambda x: stats.norm.cdf(x, loc=0, scale=1))\n",
    "scipy_p = stats.kstest(sample_1, \"norm\", args=(0, 1))[1]\n",
    "print(\"непрерывные распределения, по Колмогорову\")\n",
    "print(my_p, scipy_p)\n",
    "\n",
    "bins = np.linspace(np.min(sample_1), np.max(sample_1), 6)\n",
    "\n",
    "my_p = chi_square_test(sample_1, bins, lambda x: stats.norm.cdf(x, loc=0, scale=1))\n",
    "\n",
    "observed = np.histogram(sample_1, bins=bins)[0]\n",
    "expected = len(sample_1) * np.diff(stats.norm.cdf(bins, loc=0, scale=1))\n",
    "expected = expected * (sum(observed) / sum(expected))  # Нормализация\n",
    "\n",
    "scipy_p = stats.chisquare(observed, f_exp=expected)[1]\n",
    "print(\"дискретные распределения, хи квадрат\")\n",
    "print(my_p, scipy_p)"
   ]
  },
  {
   "cell_type": "markdown",
   "id": "ca5cd092",
   "metadata": {},
   "source": [
    "№ 5.2 \\\n",
    "ваша выборка имеет какое-то другое конкретное распределение (теми же критериями) \\\n",
    "сверить результат с библиотечными тестами."
   ]
  },
  {
   "cell_type": "code",
   "execution_count": 52,
   "id": "e508f835",
   "metadata": {},
   "outputs": [
    {
     "name": "stdout",
     "output_type": "stream",
     "text": [
      "слева результат моей функции, справа результат функции из библиотеки\n",
      "непрерывные распределения, по Колмогорову\n",
      "0.026569182238102007 0.022574126717365584\n",
      "дискретные распределения, хи квадрат\n",
      "0.024903817905698955 0.027318054911369006\n"
     ]
    }
   ],
   "source": [
    "print(\"слева результат моей функции, справа результат функции из библиотеки\")\n",
    "my_p = kolmogorov_test(sample_1, lambda x: stats.norm.cdf(x, loc=0.5, scale=1))\n",
    "scipy_p = stats.kstest(sample_1, \"norm\", args=(0.5, 1))[1]\n",
    "print(\"непрерывные распределения, по Колмогорову\")\n",
    "print(my_p, scipy_p)\n",
    "\n",
    "bins = np.linspace(np.min(sample_1), np.max(sample_1), 6)\n",
    "\n",
    "my_p = chi_square_test(sample_1, bins, lambda x: stats.norm.cdf(x, loc=0.5, scale=1))\n",
    "observed = np.histogram(sample_1, bins=bins)[0]\n",
    "expected = len(sample_1) * np.diff(stats.norm.cdf(bins, loc=0.5, scale=1))\n",
    "expected = expected * (sum(observed) / sum(expected))  # Нормализация\n",
    "scipy_p = stats.chisquare(observed, f_exp=expected)[1]\n",
    "print(\"дискретные распределения, хи квадрат\")\n",
    "print(my_p, scipy_p)"
   ]
  },
  {
   "cell_type": "markdown",
   "id": "d6843db7",
   "metadata": {},
   "source": [
    "№ 5.3 \\\n",
    "для каждой пары выборок гипотезу однородности \\\n",
    "сверить результат с библиотечными тестами."
   ]
  },
  {
   "cell_type": "code",
   "execution_count": 53,
   "id": "40a9a135",
   "metadata": {},
   "outputs": [
    {
     "name": "stdout",
     "output_type": "stream",
     "text": [
      "слева результат моей функции, справа результат функции из библиотеки\n",
      "выборки с одним и тем же распределением\n",
      "0.8642827790506044 0.8692618870414056\n",
      "выборки с разными распределениями\n",
      "9.311431431566156e-07 4.929118631187453e-07\n",
      "другие выборки с разными распределениями\n",
      "0.00012504300754960976 9.909301386655972e-05\n"
     ]
    }
   ],
   "source": [
    "print(\"слева результат моей функции, справа результат функции из библиотеки\")\n",
    "\n",
    "my_p = kolmogorov_smirnov_test(sample_1, sample_2)\n",
    "scipy_p = stats.ks_2samp(sample_1, sample_2)[1]\n",
    "print(\"выборки с одним и тем же распределением\")\n",
    "print(my_p, scipy_p)\n",
    "\n",
    "my_p = kolmogorov_smirnov_test(sample_1, sample_3)\n",
    "scipy_p = stats.ks_2samp(sample_1, sample_3)[1]\n",
    "print(\"выборки с разными распределениями\")\n",
    "print(my_p, scipy_p)\n",
    "\n",
    "my_p = kolmogorov_smirnov_test(sample_2, sample_3)\n",
    "scipy_p = stats.ks_2samp(sample_2, sample_3)[1]\n",
    "print(\"другие выборки с разными распределениями\")\n",
    "print(my_p, scipy_p)"
   ]
  },
  {
   "cell_type": "markdown",
   "id": "9107e28a",
   "metadata": {},
   "source": [
    "№ 5.4 \\\n",
    "нормальность распределения по критерию Шапиро-Вилка (библиотечный). "
   ]
  },
  {
   "cell_type": "code",
   "execution_count": null,
   "id": "63379cf4",
   "metadata": {},
   "outputs": [
    {
     "name": "stdout",
     "output_type": "stream",
     "text": [
      "0.7383049250236408 0.2093654482517558 0.5365632053431899\n"
     ]
    }
   ],
   "source": [
    "p_1 = stats.shapiro(sample_1)[1]\n",
    "p_2 = stats.shapiro(sample_2)[1]\n",
    "p_3 = stats.shapiro(sample_3)[1]\n",
    "print(p_1, p_2, p_3)"
   ]
  }
 ],
 "metadata": {
  "kernelspec": {
   "display_name": ".venv",
   "language": "python",
   "name": "python3"
  },
  "language_info": {
   "codemirror_mode": {
    "name": "ipython",
    "version": 3
   },
   "file_extension": ".py",
   "mimetype": "text/x-python",
   "name": "python",
   "nbconvert_exporter": "python",
   "pygments_lexer": "ipython3",
   "version": "3.12.3"
  }
 },
 "nbformat": 4,
 "nbformat_minor": 5
}
