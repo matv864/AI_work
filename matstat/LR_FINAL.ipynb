{
 "cells": [
  {
   "cell_type": "markdown",
   "id": "e974bb69",
   "metadata": {},
   "source": [
    "## ЛАБОРАТОРНАЯ РАБОТА ИТОГОВАЯ\n",
    "## Статистическая обработка данных психологического исследования\n",
    "#### по дисциплине «Математическая статистика»\n",
    "Направление подготовки 01.03.02 Прикладная математика и информатика\n",
    "Очной формы обучения"
   ]
  },
  {
   "cell_type": "markdown",
   "id": "35cca067",
   "metadata": {},
   "source": [
    "выполнил: студент группы Б9123-01.03.02ии\n",
    "\n",
    "Иванов Матвей Олегович\n",
    "\n",
    "принял: Деревягин Андрей Алексеевич"
   ]
  },
  {
   "cell_type": "markdown",
   "id": "ff94debb",
   "metadata": {},
   "source": [
    "# Математическая часть"
   ]
  },
  {
   "cell_type": "code",
   "execution_count": null,
   "id": "101ff7d9",
   "metadata": {},
   "outputs": [],
   "source": []
  },
  {
   "cell_type": "markdown",
   "id": "a1e1d01b",
   "metadata": {},
   "source": [
    "# листинг кода"
   ]
  },
  {
   "cell_type": "markdown",
   "id": "bbd97687",
   "metadata": {},
   "source": [
    "## подготовка"
   ]
  },
  {
   "cell_type": "code",
   "execution_count": 1,
   "id": "53d2cf7a",
   "metadata": {},
   "outputs": [],
   "source": [
    "import pandas as pd\n",
    "import numpy as np\n",
    "from scipy import stats\n",
    "import matplotlib.pyplot as plt\n",
    "import seaborn as sns"
   ]
  },
  {
   "cell_type": "code",
   "execution_count": 2,
   "id": "a2374540",
   "metadata": {},
   "outputs": [],
   "source": [
    "DATA_PATH = \"/home/matv864/it/AI_work/data/psydata.xlsx\"\n",
    "SIGNIFICANCE_LEVEL = 0.01"
   ]
  },
  {
   "cell_type": "code",
   "execution_count": 3,
   "id": "5e73e64c",
   "metadata": {},
   "outputs": [],
   "source": [
    "# заголовки убрал вручную\n",
    "socio = pd.read_excel(DATA_PATH, sheet_name='Социофобия')\n",
    "attach = pd.read_excel(DATA_PATH, sheet_name='ПривязанностьМ')\n",
    "anxiety = pd.read_excel(DATA_PATH, sheet_name='Тревожность')\n",
    "negative = pd.read_excel(DATA_PATH, sheet_name='Негатив')\n",
    "fears = pd.read_excel(DATA_PATH, sheet_name='Страхи')"
   ]
  },
  {
   "cell_type": "code",
   "execution_count": 4,
   "id": "e49f0d3f",
   "metadata": {},
   "outputs": [],
   "source": [
    "data = pd.DataFrame({'id': socio['id']})\n",
    "\n",
    "data['социалочка'] = socio['Общий']\n",
    "\n",
    "data['надёжная привязанность'] = attach['н']\n",
    "data['тревожная привязанность'] = attach['т']\n",
    "data['избегающая привязанность'] = attach['и']\n",
    "\n",
    "data['общая тревожность'] = anxiety['Общая']\n",
    "data['школьная тревожность'] = anxiety['Школьная']\n",
    "data['самооценочная тревожность'] = anxiety['Самооценочная']\n",
    "data['межличностная тревожность'] = anxiety['Межличностная']\n",
    "\n",
    "data['страх негативной оценки'] = negative['Сумма']\n",
    "data['сумма всех страхов из таблицы страхов'] = fears['Сумма']\n",
    "data['общий бал страхов'] = data['страх негативной оценки'] + data['сумма всех страхов из таблицы страхов']\n",
    "\n",
    "\n",
    "\n"
   ]
  },
  {
   "cell_type": "markdown",
   "id": "324bd4a3",
   "metadata": {},
   "source": [
    "## тесты и инструменты"
   ]
  },
  {
   "cell_type": "code",
   "execution_count": 5,
   "id": "15564a59",
   "metadata": {},
   "outputs": [],
   "source": [
    "# проверка на нормальность через тесты Шапиро-Уилка и Колмогорова-Смирнова\n",
    "def check_normality(*groups):\n",
    "    results = []\n",
    "    for group in groups:\n",
    "        stat1, p1 = stats.shapiro(group)\n",
    "        results.append(p1 > SIGNIFICANCE_LEVEL)\n",
    "\n",
    "    if all(results):\n",
    "        return True\n",
    "    \n",
    "    # тест Шапиро-Уилка чувствителен к выбросам, поэтому проверяем более универсальным тестом Колмогорова-Смирнова\n",
    "    \n",
    "    results = []\n",
    "    for group in groups:\n",
    "        ks_stat1, ks_p1 = stats.kstest(group, 'norm', args=(np.mean(group), np.std(group)))\n",
    "        results.append(ks_p1 > SIGNIFICANCE_LEVEL)\n",
    "\n",
    "    return all(results)"
   ]
  },
  {
   "cell_type": "code",
   "execution_count": 6,
   "id": "dca85f00",
   "metadata": {},
   "outputs": [],
   "source": [
    "def compare_groups(column: str):\n",
    "    \"\"\"\n",
    "    return\n",
    "    normal: bool\n",
    "    p_value (middle of unrel attach > middle of rel attach): float\n",
    "    \"\"\"\n",
    "    unrel = data[data['надёжная привязанность'] > 5][column].dropna()  # X - среднее ненадёжной группы\n",
    "    rel = data[data['надёжная привязанность'] <= 5][column].dropna()      # Y - среднее надёжной группы\n",
    "\n",
    "    normal = check_normality(unrel, rel)\n",
    "    stat, p = stats.ttest_ind(unrel, rel, alternative='greater')\n",
    "    return normal, p\n"
   ]
  },
  {
   "cell_type": "markdown",
   "id": "8759b4ec",
   "metadata": {},
   "source": [
    "## задание 1,2,3,4"
   ]
  },
  {
   "cell_type": "code",
   "execution_count": 7,
   "id": "7bf3d493",
   "metadata": {},
   "outputs": [
    {
     "name": "stdout",
     "output_type": "stream",
     "text": [
      "социалочка\n",
      "H_0 не отвергается — нет доказательств, что среднее значение уровня 'социалочка' ненадёжно привязанных выше, чем надёжно привязанных\n",
      "----------------------------------------------------------------------------------------------------\n",
      "общая тревожность\n",
      "H_0 не отвергается — нет доказательств, что среднее значение уровня 'общая тревожность' ненадёжно привязанных выше, чем надёжно привязанных\n",
      "----------------------------------------------------------------------------------------------------\n",
      "школьная тревожность\n",
      "H_0 не отвергается — нет доказательств, что среднее значение уровня 'школьная тревожность' ненадёжно привязанных выше, чем надёжно привязанных\n",
      "----------------------------------------------------------------------------------------------------\n",
      "самооценочная тревожность\n",
      "H_0 не отвергается — нет доказательств, что среднее значение уровня 'самооценочная тревожность' ненадёжно привязанных выше, чем надёжно привязанных\n",
      "----------------------------------------------------------------------------------------------------\n",
      "межличностная тревожность\n",
      "H_0 не отвергается — нет доказательств, что среднее значение уровня 'межличностная тревожность' ненадёжно привязанных выше, чем надёжно привязанных\n",
      "----------------------------------------------------------------------------------------------------\n",
      "страх негативной оценки\n",
      "H_0 не отвергается — нет доказательств, что среднее значение уровня 'страх негативной оценки' ненадёжно привязанных выше, чем надёжно привязанных\n",
      "----------------------------------------------------------------------------------------------------\n",
      "общий бал страхов\n",
      "H_0 не отвергается — нет доказательств, что среднее значение уровня 'общий бал страхов' ненадёжно привязанных выше, чем надёжно привязанных\n",
      "----------------------------------------------------------------------------------------------------\n"
     ]
    }
   ],
   "source": [
    "levels = [\n",
    "    # 1 задание\n",
    "    \"социалочка\",\n",
    "\n",
    "    # 2 задание\n",
    "    \"общая тревожность\",\n",
    "    \"школьная тревожность\",\n",
    "    \"самооценочная тревожность\",\n",
    "    \"межличностная тревожность\",\n",
    "\n",
    "    # 3 задание\n",
    "    \"страх негативной оценки\",\n",
    "    \n",
    "    # 4 задание\n",
    "    \"общий бал страхов\",\n",
    "]\n",
    "\n",
    "for level in levels:\n",
    "    print(level)\n",
    "    normal, p_val = compare_groups(level)\n",
    "\n",
    "    if not normal:\n",
    "        print(\"Нормальность не подтверждена, результаты t-теста стоит воспринимать осторожно\")\n",
    "\n",
    "    if p_val < 0.05:\n",
    "        print(f\"H_1 подтверждена — среднее значение уровня '{level}' ненадёжно привязанных выше, чем надёжно привязанных\")\n",
    "    else:\n",
    "        print(f\"H_0 не отвергается — нет доказательств, что среднее значение уровня '{level}' ненадёжно привязанных выше, чем надёжно привязанных\")\n",
    "    print(\"-\"*100)\n"
   ]
  },
  {
   "cell_type": "markdown",
   "id": "b371f959",
   "metadata": {},
   "source": [
    "## задание 4"
   ]
  },
  {
   "cell_type": "code",
   "execution_count": null,
   "id": "2320502f",
   "metadata": {},
   "outputs": [],
   "source": []
  }
 ],
 "metadata": {
  "kernelspec": {
   "display_name": ".venv",
   "language": "python",
   "name": "python3"
  },
  "language_info": {
   "codemirror_mode": {
    "name": "ipython",
    "version": 3
   },
   "file_extension": ".py",
   "mimetype": "text/x-python",
   "name": "python",
   "nbconvert_exporter": "python",
   "pygments_lexer": "ipython3",
   "version": "3.12.3"
  }
 },
 "nbformat": 4,
 "nbformat_minor": 5
}
