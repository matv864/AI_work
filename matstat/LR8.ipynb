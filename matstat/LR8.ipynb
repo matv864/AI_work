{
 "cells": [
  {
   "cell_type": "markdown",
   "id": "65c5f6cf",
   "metadata": {},
   "source": [
    "## ЛАБОРАТОРНАЯ РАБОТА №7.\n",
    "## ТЕСТИРОВАНИЕ ГИПОТЕЗ О РАСПРЕДЛЕНИЯХ\n",
    "#### по дисциплине «Математическая статистика»\n",
    "Направление подготовки 01.03.02 Прикладная математика и информатика\n",
    "Очной формы обучения"
   ]
  },
  {
   "cell_type": "markdown",
   "id": "ef8f4527",
   "metadata": {},
   "source": [
    "выполнил: студент группы Б9123-01.03.02ии\n",
    "\n",
    "Иванов Матвей Олегович\n",
    "\n",
    "принял: Деревягин Андрей Алексеевич"
   ]
  },
  {
   "cell_type": "markdown",
   "id": "d6eca49d",
   "metadata": {},
   "source": [
    "# Математическая часть"
   ]
  },
  {
   "cell_type": "markdown",
   "id": "5fa0a58c",
   "metadata": {},
   "source": [
    "### Коэффициент корреляции Пирсона\n",
    "$\\widehat{p} = \\frac{\\sum_{i=1}^{n} {(X_i-\\overline{X})*(Y_i-\\overline{Y})}}{\\sqrt{\\sum_{i=1}^{n} {(X_i-\\overline{X})^2} * \\sum_{i=1}^{n} {(Y_i-\\overline{Y})^2}}}$\n",
    "\n",
    "- $|\\widehat{p}| \\le 1$\n",
    "- показывает линейную зависимость между X и Y\n",
    "- Стоит использовать в случае нормального распределения выборок\n"
   ]
  },
  {
   "cell_type": "code",
   "execution_count": 1,
   "id": "27542cfa",
   "metadata": {},
   "outputs": [],
   "source": [
    "import numpy as np\n",
    "import scipy.stats as stats\n",
    "\n",
    "def pearson_corr(x, y):\n",
    "    if len(x) != len(y):\n",
    "        raise ValueError(\"Длины выборок должны быть равны\")\n",
    "    n = len(x)\n",
    "    mean_x = np.mean(x)\n",
    "    mean_y = np.mean(y)\n",
    "    numerator = np.sum((x - mean_x) * (y - mean_y))\n",
    "    denominator = np.sqrt(np.sum((x - mean_x)**2) * np.sum((y - mean_y)**2))\n",
    "    if denominator == 0:\n",
    "        return 0.0, 1.0\n",
    "    r = numerator / denominator\n",
    "    t = r * np.sqrt((n - 2) / (1 - r**2))\n",
    "    p = 2 * stats.t.sf(np.abs(t), n-2)\n",
    "    return r, p"
   ]
  },
  {
   "cell_type": "markdown",
   "id": "542a71ac",
   "metadata": {},
   "source": [
    "### Коэффициент корреляции Спирмена\n",
    "Ранговый аналог Пирсона. Для проверки: $H_0: \\widehat{p}_{R(x), R(y)}$\n",
    "\n",
    "- показывает монотонную зависимость между X и Y\n",
    "- Стоит использовать в случае не нормального распределения выборок"
   ]
  },
  {
   "cell_type": "code",
   "execution_count": 2,
   "id": "315439d4",
   "metadata": {},
   "outputs": [],
   "source": [
    "def spearman_corr(x, y):\n",
    "    def rank_data(data):\n",
    "        sorted_data = sorted((val, idx) for idx, val in enumerate(data))\n",
    "        ranks = [0] * len(data)\n",
    "        i, n = 0, len(sorted_data)\n",
    "        while i < n:\n",
    "            j = i\n",
    "            while j < n and sorted_data[j][0] == sorted_data[i][0]:\n",
    "                    j += 1\n",
    "            avg_rank = (i + j + 1) / 2.0\n",
    "            for k in range(i, j):\n",
    "                    ranks[sorted_data[k][1]] = avg_rank\n",
    "            i = j\n",
    "        return ranks\n",
    "    rank_x = rank_data(x)\n",
    "    rank_y = rank_data(y)\n",
    "    return pearson_corr(rank_x, rank_y)"
   ]
  },
  {
   "cell_type": "markdown",
   "id": "ecd4a490",
   "metadata": {},
   "source": [
    "### Задачи"
   ]
  },
  {
   "cell_type": "code",
   "execution_count": 3,
   "id": "25c0e3d7",
   "metadata": {},
   "outputs": [
    {
     "name": "stdout",
     "output_type": "stream",
     "text": [
      "результаты от моей реализации коэффициент - -0.1621, p-значение - 0.10711\n",
      "результаты от библиотеки scipy коэффициент - -0.1621, p-значение - 0.10711\n",
      "слабая или отсутствующая корреляция\n",
      "p>0.05 => отвергаем гипотезу\n"
     ]
    }
   ],
   "source": [
    "# № 1\n",
    "\n",
    "X = []\n",
    "Y = []\n",
    "# Заполнение данных\n",
    "data = [\n",
    "    (35, [4, 0, 6, 7, 8, 3]),\n",
    "    (45, [5, 5, 2, 10, 0, 0]),\n",
    "    (55, [6, 7, 0, 0, 2, 3]),\n",
    "    (65, [0, 6, 5, 4, 0, 2]),\n",
    "    (75, [5, 1, 2, 4, 3, 0])\n",
    "]\n",
    "x_values = [100, 105, 110, 115, 120, 125]\n",
    "  \n",
    "for y_val, counts in data:\n",
    "    for x_val, count in zip(x_values, counts):\n",
    "        X += ([x_val] * count)\n",
    "        Y += ([y_val] * count)\n",
    "\n",
    "# Расчет коэффициента\n",
    "r_self, p_self = pearson_corr(X, Y)\n",
    "r_lib, p_lib = stats.pearsonr(X, Y)\n",
    "print(f\"результаты от моей реализации коэффициент - {r_self:.5}, p-значение - {p_self:.5}\")\n",
    "print(f\"результаты от библиотеки scipy коэффициент - {r_lib:.5}, p-значение - {p_lib:.5}\")\n",
    "\n",
    "if -1 <= r_lib <= -0.7:\n",
    "    print(\"сильная отрицательная корреляция\")\n",
    "elif -0.7 <= r_lib <= -0.3:\n",
    "    print(\"умеренная отрицательная корреляция\")\n",
    "elif -0.3 <= r_lib <= 0.3:\n",
    "    print(\"слабая или отсутствующая корреляция\")\n",
    "elif 0.3 <= r_lib <= 0.7:\n",
    "    print(\"умеренная положительная корреляция\")\n",
    "elif 0.7 <= r_lib <= 1:\n",
    "    print(\"сильная положительная корреляция\")\n",
    "else:\n",
    "    raise ValueError()\n",
    "\n",
    "if p_lib <= 0.05:\n",
    "    print(\"p<=0.05 => принимаем гипотезу\")\n",
    "else:\n",
    "    print(\"p>0.05 => отвергаем гипотезу\")\n",
    "\n"
   ]
  },
  {
   "cell_type": "code",
   "execution_count": 4,
   "id": "7804dd2c",
   "metadata": {},
   "outputs": [
    {
     "name": "stdout",
     "output_type": "stream",
     "text": [
      "нормальность распределения X, p = 0.2992682032342635\n",
      "нормальность распределения Y, p = 0.39402483634132013\n",
      "x,Y распределения нормальны\n",
      "результаты от моей реализации коэффициент - 0.91608, p-значение - 2.8428e-05\n",
      "результаты от библиотеки scipy коэффициент - 0.91608, p-значение - 2.8428e-05\n",
      "сильная положительная корреляция\n",
      "p<=0.05 => принимаем гипотезу\n"
     ]
    }
   ],
   "source": [
    "# № 2\n",
    "\n",
    "X = [98, 94, 88, 80, 76, 70, 63, 61, 60, 58, 56, 51]\n",
    "Y = [99, 91, 93, 74, 78, 65, 64, 66, 52, 53, 48, 62]\n",
    "\n",
    "\n",
    "print(\"нормальность распределения X, p =\", stats.shapiro(X)[1])\n",
    "print(\"нормальность распределения Y, p =\", stats.shapiro(Y)[1])\n",
    "print(\"x,Y распределения нормальны\")\n",
    "\n",
    "r_self, p_self = spearman_corr(X, Y)\n",
    "r_lib, p_lib = stats.spearmanr(X, Y)\n",
    "\n",
    "print(f\"результаты от моей реализации коэффициент - {r_self:.5}, p-значение - {p_self:.5}\")\n",
    "print(f\"результаты от библиотеки scipy коэффициент - {r_lib:.5}, p-значение - {p_lib:.5}\")\n",
    "\n",
    "if -1 <= r_lib <= -0.7:\n",
    "    print(\"сильная отрицательная корреляция\")\n",
    "elif -0.7 <= r_lib <= -0.3:\n",
    "    print(\"умеренная отрицательная корреляция\")\n",
    "elif -0.3 <= r_lib <= 0.3:\n",
    "    print(\"слабая или отсутствующая корреляция\")\n",
    "elif 0.3 <= r_lib <= 0.7:\n",
    "    print(\"умеренная положительная корреляция\")\n",
    "elif 0.7 <= r_lib <= 1:\n",
    "    print(\"сильная положительная корреляция\")\n",
    "else:\n",
    "    raise ValueError()\n",
    "\n",
    "if p_lib <= 0.05:\n",
    "    print(\"p<=0.05 => принимаем гипотезу\")\n",
    "else:\n",
    "    print(\"p>0.05 => отвергаем гипотезу\")\n"
   ]
  },
  {
   "cell_type": "markdown",
   "id": "c9db3a16",
   "metadata": {},
   "source": [
    "Все обновления и историю изменений можно посмотреть по ссылке в моём репозитории \\\n",
    "https://github.com/matv864/AI_work/tree/main/matstat"
   ]
  }
 ],
 "metadata": {
  "kernelspec": {
   "display_name": ".venv",
   "language": "python",
   "name": "python3"
  },
  "language_info": {
   "codemirror_mode": {
    "name": "ipython",
    "version": 3
   },
   "file_extension": ".py",
   "mimetype": "text/x-python",
   "name": "python",
   "nbconvert_exporter": "python",
   "pygments_lexer": "ipython3",
   "version": "3.12.3"
  }
 },
 "nbformat": 4,
 "nbformat_minor": 5
}
