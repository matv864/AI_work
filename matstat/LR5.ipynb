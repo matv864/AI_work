{
 "cells": [
  {
   "cell_type": "code",
   "execution_count": null,
   "metadata": {},
   "outputs": [],
   "source": [
    "from typing import Literal\n",
    "\n",
    "import numpy as np\n",
    "from scipy.stats import norm, t, ttest_1samp"
   ]
  },
  {
   "cell_type": "code",
   "execution_count": null,
   "metadata": {},
   "outputs": [],
   "source": [
    "ABSOLUTE_PATH = \"C:/Users/arman/it/prog/AI\""
   ]
  },
  {
   "cell_type": "code",
   "execution_count": null,
   "metadata": {},
   "outputs": [],
   "source": [
    "\n",
    "def check_hypothesis_mean(\n",
    "    sample,\n",
    "    mu0,  # гипотетическое среднее (H0: μ = mu0)\n",
    "    alternative: Literal[\"two-sided\", \"less\", \"greater\"] ='two-sided',\n",
    "    std=None,  # стандартное отклонение\n",
    ") -> float:\n",
    "\n",
    "    n = len(sample)\n",
    "    sample_mean = np.mean(sample)\n",
    "\n",
    "    if std is not None:  # Z-тест\n",
    "        z = (sample_mean - mu0) / (std / np.sqrt(n))\n",
    "\n",
    "        match alternative:\n",
    "            case \"two-sided\":\n",
    "                p_value = 2 * (1 - norm.cdf(abs(z)))\n",
    "            case \"less\":\n",
    "                p_value = norm.cdf(z)\n",
    "            case \"greater\":\n",
    "                p_value = 1 - norm.cdf(z)\n",
    "\n",
    "\n",
    "    else:  # t-тест\n",
    "        s = np.std(sample, ddof=1)\n",
    "        t_stat = (sample_mean - mu0) / (s / np.sqrt(n))\n",
    "\n",
    "        match alternative:\n",
    "            case \"two-sided\":\n",
    "                p_value = 2 * (1 - t.cdf(abs(t_stat), df=n-1))\n",
    "            case \"less\":\n",
    "                p_value = t.cdf(t_stat, df=n-1)\n",
    "            case \"greater\":\n",
    "                p_value = 1 - t.cdf(t_stat, df=n-1)\n",
    "\n",
    "    return p_value"
   ]
  },
  {
   "cell_type": "code",
   "execution_count": null,
   "metadata": {},
   "outputs": [],
   "source": [
    "# задача 1\n",
    "\n",
    "sample = np.array([0.53] * 121)\n",
    "p_value = check_hypothesis_mean(sample, mu0=0.50, alternative='greater', std=0.11)\n",
    "\n",
    "print(f\"p = {p_value}\")\n",
    "\n",
    "if p_value < 0.01:\n",
    "    print(\"ложь\")\n",
    "else:\n",
    "    print(\"правда\")"
   ]
  },
  {
   "cell_type": "code",
   "execution_count": null,
   "metadata": {},
   "outputs": [],
   "source": [
    "# задача 2 (условия кодом)\n",
    "\n",
    "data = {34.8: 2, 34.9: 3, 35.0: 4, 35.1: 6, 35.3: 5}\n",
    "\n",
    "mu0=35\n",
    "\n",
    "sample = np.concatenate([[x] * n for x, n in data.items()])\n",
    "\n",
    "print(f\"Выборка: {sample}\")\n",
    "print(f\"Размер выборки: n = {len(sample)}\")\n",
    "print(f\"Выборочное среднее: {np.mean(sample)}\")\n",
    "print(f\"Выборочное стандартное отклонение: {np.std(sample, ddof=1)}\")\n"
   ]
  },
  {
   "cell_type": "code",
   "execution_count": null,
   "metadata": {},
   "outputs": [],
   "source": [
    "# задача 2 (самописная функция)\n",
    "\n",
    "p_value = check_hypothesis_mean(sample, mu0, alternative='two-sided', std=None)\n",
    "\n",
    "print(f\"P (самописная функция) = {p_value}\")\n",
    "\n",
    "if p_value < 0.05:\n",
    "    print(\"ложь\")\n",
    "else:\n",
    "    print(\"правда\")"
   ]
  },
  {
   "cell_type": "code",
   "execution_count": null,
   "metadata": {},
   "outputs": [],
   "source": [
    "# задача 2 (библиотечная функция) \n",
    "\n",
    "t_stat, p_value_scipy = ttest_1samp(sample, popmean=mu0)\n",
    "\n",
    "print(f\"P (библиотечная функция) = {p_value_scipy}\")\n",
    "\n",
    "if p_value_scipy < 0.05:\n",
    "    print(\"ложь\")\n",
    "else:\n",
    "    print(\"правда\")"
   ]
  }
 ],
 "metadata": {
  "kernelspec": {
   "display_name": ".venv",
   "language": "python",
   "name": "python3"
  },
  "language_info": {
   "codemirror_mode": {
    "name": "ipython",
    "version": 3
   },
   "file_extension": ".py",
   "mimetype": "text/x-python",
   "name": "python",
   "nbconvert_exporter": "python",
   "pygments_lexer": "ipython3",
   "version": "3.12.8"
  }
 },
 "nbformat": 4,
 "nbformat_minor": 2
}
