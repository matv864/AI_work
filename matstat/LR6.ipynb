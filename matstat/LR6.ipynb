{
 "cells": [
  {
   "cell_type": "code",
   "execution_count": null,
   "id": "06364a33",
   "metadata": {},
   "outputs": [],
   "source": [
    "import numpy as np\n",
    "import scipy.stats as stats\n"
   ]
  },
  {
   "cell_type": "code",
   "execution_count": null,
   "id": "20246d41",
   "metadata": {},
   "outputs": [],
   "source": [
    "\n",
    "def Fischer_test(sample1, sample2, alternative=\"two-sided\"):\n",
    "    \"\"\"Проверка гипотезы о равенстве двух генеральных дисперсий\"\"\"\n",
    "    n = len(sample1)\n",
    "    m = len(sample2)\n",
    "    f = np.var(sample1, ddof=1)/np.var(sample2, ddof=1)\n",
    "    match(alternative):\n",
    "        case \"less\":\n",
    "            return stats.f.cdf(f, n-1, m-1)\n",
    "        case \"greater\":\n",
    "            return 1 - stats.f.cdf(f, n-1, m-1)\n",
    "        case \"two-sided\":\n",
    "            return 2*min(stats.f.cdf(f, n-1, m-1), 1 - stats.f.cdf(f, n-1, m-1))\n",
    "\n"
   ]
  },
  {
   "cell_type": "code",
   "execution_count": null,
   "id": "4ff3bf13",
   "metadata": {},
   "outputs": [],
   "source": [
    "\n",
    "def Z_test(sample1, sample2, std1, std2, alternative=\"two-sided\"):\n",
    "    n = len(sample1)\n",
    "    m = len(sample2)\n",
    "    z = (np.mean(sample1) - np.mean(sample2))/(std1**2/n + std2**2/m)**.5\n",
    "\n",
    "    match(alternative):\n",
    "        case \"less\":\n",
    "            return stats.norm.cdf(z)\n",
    "        case \"greater\":\n",
    "            return 1 - stats.norm.cdf(z)\n",
    "        case \"two-sided\":\n",
    "            return stats.norm.cdf(-np.abs(z))\n"
   ]
  },
  {
   "cell_type": "code",
   "execution_count": null,
   "id": "9cf541bc",
   "metadata": {},
   "outputs": [],
   "source": [
    "def T_test(sample1, sample2, alternative=\"two-sided\"):\n",
    "    n = len(sample1)\n",
    "    m = len(sample2)\n",
    "    std1 = np.std(sample1, ddof=1) # Несмещенная оценка\n",
    "    std2 = np.std(sample2, ddof=1) # Несмещенная оценка\n",
    "\n",
    "    t = ((np.mean(sample1) - np.mean(sample2))/((n-1)*std1**2 + (m-1)*std2**2)**.5) * ((n*m*(n+m-2))/(n+m))**.5\n",
    "    match(alternative):\n",
    "        case \"less\":\n",
    "            return stats.t.cdf(t, n+m-2)\n",
    "        case \"greater\":\n",
    "            return 1 - stats.t.cdf(t, n+m-2)\n",
    "        case \"two-sided\":\n",
    "            # Ошибка: возвращает половину p-value\n",
    "            return stats.t.cdf(-np.abs(t), n+m-2)\n",
    "\n"
   ]
  },
  {
   "cell_type": "code",
   "execution_count": null,
   "id": "300fe97e",
   "metadata": {},
   "outputs": [],
   "source": [
    "\n",
    "def dependent_t_test(sample1, sample2):\n",
    "    \"\"\"Проверка гипотезы о равенстве двух генеральных средних, когда выборки зависимы\"\"\"\n",
    "    if len(sample1) != len(sample2): raise BaseException(\"Для теста с зависимыми выборками, размер выборок должен совпадать\")\n",
    "    n = len(sample1)\n",
    "    D = np.array(sample1) - np.array(sample2)\n",
    "    # Ошибка: используется смещенная оценка std (np.std по умолчанию ddof=0)\n",
    "    # и возвращается половина p-value для двусторонней гипотезы\n",
    "    t = (np.mean(D)*n**.5)/np.std(D) # Должно быть np.std(D, ddof=1)\n",
    "    return stats.t.cdf(-np.abs(t), n-1) # Возвращает половину p-value\n",
    "\n"
   ]
  },
  {
   "cell_type": "code",
   "execution_count": null,
   "id": "e5079777",
   "metadata": {},
   "outputs": [],
   "source": [
    "\n",
    "def universal_mean_test(sample1, sample2, alternative=\"two-sided\", std1=None, std2=None, isdependent=False):\n",
    "    if isdependent:\n",
    "        # t-test для зависимых выборок\n",
    "        # Примечание: dependent_t_test возвращает половину p-value для two-sided\n",
    "        # и использует смещенную оценку std\n",
    "        if alternative != \"two-sided\": print(\"Warning: dependent_t_test implemented only for two-sided\")\n",
    "        return dependent_t_test(sample1, sample2)\n",
    "    elif std1 and std2:\n",
    "        # z-test для известных дисперсий (независимые выборки)\n",
    "        # Примечание: Z_test возвращает половину p-value для two-sided\n",
    "        return Z_test(sample1, sample2, std1, std2, alternative)\n",
    "    else:\n",
    "        # t-test для неизвестных дисперсий (независимые выборки)\n",
    "        # Проверка равенства дисперсий\n",
    "        if Fischer_test(sample1, sample2) > 0.05:\n",
    "            # Примечание: T_test возвращает половину p-value для two-sided\n",
    "            return T_test(sample1, sample2, alternative)\n",
    "        else:\n",
    "            # Случай неравных дисперсий не реализован (тест Уэлча)\n",
    "            raise BaseException(\"Для T_test дисперсии должны быть равны (F-test p <= 0.05)\")\n",
    "\n"
   ]
  },
  {
   "cell_type": "code",
   "execution_count": null,
   "id": "5284ebaa",
   "metadata": {},
   "outputs": [],
   "source": [
    "\n",
    "def universal_mean_test_scipy(sample1, sample2, alternative=\"two-sided\", std1=None, std2=None, isdependent=False, alpha=0.05):\n",
    "    \"\"\"Сравнение с использованием scipy.stats и корректных формул\"\"\"\n",
    "    if isdependent:\n",
    "        # t-test для зависимых выборок (scipy.stats.ttest_rel)\n",
    "        if len(sample1) != len(sample2):\n",
    "            raise ValueError(\"Для теста с зависимыми выборками, размер выборок должен совпадать\")\n",
    "        # scipy.stats.ttest_rel использует несмещенную оценку std разностей\n",
    "        p_value = stats.ttest_rel(sample1, sample2, alternative=alternative)[1]\n",
    "\n",
    "    elif std1 is not None and std2 is not None:\n",
    "        # z-test для известных дисперсий (независимые выборки)\n",
    "        n = len(sample1)\n",
    "        m = len(sample2)\n",
    "        z_statistic = (np.mean(sample1) - np.mean(sample2)) / (std1**2/n + std2**2/m)**.5\n",
    "\n",
    "        # Корректный расчет p-value\n",
    "        if alternative == 'less':\n",
    "            p_value = stats.norm.cdf(z_statistic)\n",
    "        elif alternative == 'greater':\n",
    "            p_value = 1 - stats.norm.cdf(z_statistic)\n",
    "        elif alternative == 'two-sided':\n",
    "            p_value = 2 * stats.norm.cdf(-np.abs(z_statistic)) # Правильная формула\n",
    "\n",
    "    else:\n",
    "        # t-test для неизвестных дисперсий (независимые выборки)\n",
    "        # Проверка равенства дисперсий (как в universal_mean_test)\n",
    "        fischer_p_value = Fischer_test(sample1, sample2)\n",
    "\n",
    "        if fischer_p_value < alpha:\n",
    "            # Дисперсии значимо различаются - используем тест Уэлча\n",
    "            # (встроенный в ttest_ind с equal_var=False)\n",
    "            print(\"Warning: Variances seem unequal (F-test p < alpha). Using Welch's t-test (scipy).\")\n",
    "            p_value = stats.ttest_ind(sample1, sample2, alternative=alternative, equal_var=False)[1]\n",
    "        else:\n",
    "            # Дисперсии считаем равными - используем стандартный t-test\n",
    "            # (встроенный в ttest_ind с equal_var=True)\n",
    "            p_value = stats.ttest_ind(sample1, sample2, alternative=alternative, equal_var=True)[1]\n",
    "\n",
    "    return p_value\n",
    "\n"
   ]
  },
  {
   "cell_type": "markdown",
   "id": "d3b8027e",
   "metadata": {},
   "source": [
    "# Решение Задач"
   ]
  },
  {
   "cell_type": "code",
   "execution_count": null,
   "id": "457556da",
   "metadata": {},
   "outputs": [],
   "source": [
    "\n",
    "# Задача 1\n",
    "sample1_z1 = [130] * 30\n",
    "sample2_z1 = [125] * 40\n",
    "std1_z1 = 60**.5\n",
    "std2_z1 = 80**.5\n",
    "\n",
    "result_z1 = universal_mean_test(sample1_z1, sample2_z1, alternative=\"two-sided\", std1=std1_z1, std2=std2_z1)\n",
    "result_scipy_z1 = universal_mean_test_scipy(sample1_z1, sample2_z1, alternative=\"two-sided\", std1=std1_z1, std2=std2_z1)\n",
    "print(f\"Результат теста (мой) : {result_z1}\")\n",
    "print(f\"Результат теста (scipy): {result_scipy_z1}\")\n",
    "print(f\"Вывод: p = {result_scipy_z1:.4f} < alpha = 0.05. H0 отвергается.\")\n"
   ]
  },
  {
   "cell_type": "code",
   "execution_count": null,
   "id": "7d069607",
   "metadata": {},
   "outputs": [],
   "source": [
    "\n",
    "# Задача 2\n",
    "sample1_z2 = [3.4]*2+[3.5]*3+[3.7]*4+[3.9]\n",
    "# Исправлена опечатка: было [3.6*8]\n",
    "sample2_z2 = [3.2]*2+[3.4]*2+[3.6]*8\n",
    "\n",
    "# Проверим F-тест отдельно\n",
    "f_p_value_z2 = Fischer_test(sample1_z2, sample2_z2)\n",
    "print(f\"F-test p-value for variances: {f_p_value_z2:.3f}\")\n",
    "if f_p_value_z2 > 0.05:\n",
    "    print(\"F-test: Дисперсии считаем равными (p > 0.05). Используется T-test.\")\n",
    "    result_z2 = universal_mean_test(sample1_z2, sample2_z2, alternative=\"two-sided\")\n",
    "    result_scipy_z2 = universal_mean_test_scipy(sample1_z2, sample2_z2, alternative=\"two-sided\", alpha=0.05) # Используем alpha=0.05 для проверки дисперсий в scipy-функции\n",
    "    print(f\"Результат теста (мой) : {result_z2}\")\n",
    "    print(f\"Результат теста (scipy): {result_scipy_z2}\")\n",
    "    print(f\"Вывод: p = {result_scipy_z2:.5f} < alpha = 0.02. H0 отвергается.\")\n",
    "else:\n",
    "    print(\"F-test: Дисперсии считаем неравными (p <= 0.05). Мой тест не применим.\")\n",
    "    # Посмотрим, что скажет scipy с Welch's test\n",
    "    result_scipy_z2_welch = universal_mean_test_scipy(sample1_z2, sample2_z2, alternative=\"two-sided\", alpha=0.05)\n",
    "    print(f\"Результат теста (scipy, Welch): {result_scipy_z2_welch}\")\n",
    "    print(f\"Вывод (Welch): p = {result_scipy_z2_welch:.5f} < alpha = 0.02. H0 отвергается.\")\n"
   ]
  },
  {
   "cell_type": "code",
   "execution_count": null,
   "id": "f9970679",
   "metadata": {},
   "outputs": [],
   "source": [
    "\n",
    "# Задача 3\n",
    "sample1_z3 = [2, 3, 5, 6, 8, 10]\n",
    "sample2_z3 = [10, 3, 6, 1, 7, 4]\n",
    "\n",
    "result_z3 = universal_mean_test(sample1_z3, sample2_z3, alternative=\"two-sided\", isdependent=True)\n",
    "result_scipy_z3 = universal_mean_test_scipy(sample1_z3, sample2_z3, alternative=\"two-sided\", isdependent=True)\n",
    "\n",
    "print(f\"Результат теста (мой) : {result_z3}\")\n",
    "print(f\"Результат теста (scipy): {result_scipy_z3}\")\n",
    "print(f\"Вывод: p = {result_scipy_z3:.3f} > alpha = 0.05. H0 не отвергается.\")"
   ]
  }
 ],
 "metadata": {
  "kernelspec": {
   "display_name": ".venv",
   "language": "python",
   "name": "python3"
  },
  "language_info": {
   "name": "python",
   "version": "3.12.3"
  }
 },
 "nbformat": 4,
 "nbformat_minor": 5
}
