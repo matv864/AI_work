{
 "cells": [
  {
   "cell_type": "code",
   "execution_count": 25,
   "id": "06364a33",
   "metadata": {},
   "outputs": [],
   "source": [
    "import numpy as np\n",
    "import scipy.stats as stats\n"
   ]
  },
  {
   "cell_type": "code",
   "execution_count": 26,
   "id": "20246d41",
   "metadata": {},
   "outputs": [],
   "source": [
    "\n",
    "def Fischer_test(sample1, sample2, alternative=\"two-sided\"):\n",
    "    \"\"\"Проверка гипотезы о равенстве двух генеральных дисперсий\"\"\"\n",
    "    n = len(sample1)\n",
    "    m = len(sample2)\n",
    "    f = np.var(sample1, ddof=1)/np.var(sample2, ddof=1)\n",
    "    match alternative:\n",
    "        case \"less\":\n",
    "            return stats.f.cdf(f, n-1, m-1)\n",
    "        case \"greater\":\n",
    "            return 1 - stats.f.cdf(f, n-1, m-1)\n",
    "        case \"two-sided\":\n",
    "            return 2*min(stats.f.cdf(f, n-1, m-1), 1 - stats.f.cdf(f, n-1, m-1))\n",
    "\n"
   ]
  },
  {
   "cell_type": "code",
   "execution_count": null,
   "id": "d34a032a",
   "metadata": {},
   "outputs": [],
   "source": [
    "def Welch_t_test(sample1, sample2, alternative='two-sided'):\n",
    "    \"\"\"Реализация t-теста Уэлча для двух независимых выборок.\"\"\"\n",
    "    n1 = len(sample1)\n",
    "    n2 = len(sample2)\n",
    "    mean1 = np.mean(sample1)\n",
    "    mean2 = np.mean(sample2)\n",
    "    var1 = np.var(sample1, ddof=1)\n",
    "    var2 = np.var(sample2, ddof=1)\n",
    "\n",
    "    # t-статистика\n",
    "    t = (mean1 - mean2) / np.sqrt(var1/n1 + var2/n2)\n",
    "    \n",
    "    # Степени свободы\n",
    "    df = (var1/n1 + var2/n2)**2 / ((var1/n1)**2/(n1-1) + (var2/n2)**2/(n2-1))\n",
    "    \n",
    "    match alternative:\n",
    "        case 'two-sided':\n",
    "            p_value = 2 * (1 - stats.t.cdf(np.abs(t), df))\n",
    "        case 'greater':\n",
    "            p_value = 1 - stats.t.cdf(t, df)\n",
    "        case 'less':\n",
    "            p_value = stats.t.cdf(t, df)\n",
    "    \n",
    "    return p_value"
   ]
  },
  {
   "cell_type": "code",
   "execution_count": 28,
   "id": "4ff3bf13",
   "metadata": {},
   "outputs": [],
   "source": [
    "\n",
    "def Z_test(sample1, sample2, std1, std2, alternative=\"two-sided\"):\n",
    "    n = len(sample1)\n",
    "    m = len(sample2)\n",
    "    z = (np.mean(sample1) - np.mean(sample2))/(std1**2/n + std2**2/m)**.5\n",
    "\n",
    "    match alternative:\n",
    "        case \"less\":\n",
    "            return stats.norm.cdf(z)\n",
    "        case \"greater\":\n",
    "            return 1 - stats.norm.cdf(z)\n",
    "        case \"two-sided\":\n",
    "            return stats.norm.cdf(-np.abs(z))\n"
   ]
  },
  {
   "cell_type": "code",
   "execution_count": null,
   "id": "9cf541bc",
   "metadata": {},
   "outputs": [],
   "source": [
    "def T_test(sample1, sample2, alternative=\"two-sided\"):\n",
    "    n = len(sample1)\n",
    "    m = len(sample2)\n",
    "    std1 = np.std(sample1, ddof=1)\n",
    "    std2 = np.std(sample2, ddof=1)\n",
    "\n",
    "    t = ((np.mean(sample1) - np.mean(sample2))/((n-1)*std1**2 + (m-1)*std2**2)**.5) * ((n*m*(n+m-2))/(n+m))**.5\n",
    "    match(alternative):\n",
    "        case \"less\":\n",
    "            return stats.t.cdf(t, n+m-2)\n",
    "        case \"greater\":\n",
    "            return 1 - stats.t.cdf(t, n+m-2)\n",
    "        case \"two-sided\":\n",
    "            return stats.t.cdf(-np.abs(t), n+m-2)\n",
    "\n"
   ]
  },
  {
   "cell_type": "code",
   "execution_count": 30,
   "id": "300fe97e",
   "metadata": {},
   "outputs": [],
   "source": [
    "\n",
    "def dependent_t_test(sample1, sample2):\n",
    "    \"\"\"Проверка гипотезы о равенстве двух генеральных средних, когда выборки зависимы\"\"\"\n",
    "    if len(sample1) != len(sample2): raise BaseException(\"Для теста с зависимыми выборками, размер выборок должен совпадать\")\n",
    "    n = len(sample1)\n",
    "    D = np.array(sample1) - np.array(sample2)\n",
    "    t = (np.mean(D)*n**.5)/np.std(D)\n",
    "    return stats.t.cdf(-np.abs(t), n-1)\n",
    "\n"
   ]
  },
  {
   "cell_type": "markdown",
   "id": "8d9c2ed7",
   "metadata": {},
   "source": [
    "# Лабораторная работа 6.\n",
    "## Тестирование гипотезы о значимости различия средних\n",
    "\n",
    "- выполнил:\n",
    "студент направления Б9123-01.03.02\n",
    "Иванов Матвей Олегович\n",
    "\n",
    "- принял:\n",
    "Деревягин А.А\n"
   ]
  },
  {
   "cell_type": "markdown",
   "id": "5f0a0164",
   "metadata": {},
   "source": [
    "# задание 1\n",
    "```\n",
    "Напишите функцию, проверяющую гипотезу о незначимости различий между средними двух нормальных генеральных совокупностей. Функция по переданным параметрам должна учитывать, что: 1) дисперсии могут быть известны, а могут быть неизвестны (в этом случае внимательно прочитайте условия применения критерия), 2) выборки могут быть зависимыми, а могут быть независимыми, 3) критерий может быть право-, лево-, дву-сторонним. Результат функции — p-значение или ошибка в случае возникновения причин невозможности проведения теста. Результаты собственной функции нужно сверить с результатами встроенного метода.\n",
    "```\n",
    "\n",
    "## матчасть\n",
    "Мы хотим проверить:\n",
    "$H0:μ1=μ2 \\,\\, \\text{ против } \\,\\, H1:μ1\\ne μ2 \\,\\,(\\text{или}\\,\\, >, <)$\n",
    "\n",
    "**Ключевые моменты:**\n",
    "1. Дисперсии известны → Z-критерий (нормальное распределение).\n",
    "2. Дисперсии неизвестны → t-критерий (распределение Стьюдента).\n",
    "3. Выборки зависимые → парный t-критерий (сводим к одной выборке разностей)."
   ]
  },
  {
   "cell_type": "code",
   "execution_count": null,
   "id": "e5079777",
   "metadata": {},
   "outputs": [],
   "source": [
    "# моя реализация\n",
    "def universal_mean_test(sample1, sample2, alternative=\"two-sided\", std1=None, std2=None, isdependent=False):\n",
    "    if isdependent:\n",
    "        # t-test для зависимых выборок\n",
    "        return dependent_t_test(sample1, sample2)\n",
    "    elif std1 and std2:\n",
    "        # z-test для известных дисперсий (независимые выборки)\n",
    "        return Z_test(sample1, sample2, std1, std2, alternative)\n",
    "    else:\n",
    "        if Fischer_test(sample1, sample2) > 0.05:\n",
    "            return T_test(sample1, sample2, alternative)\n",
    "        else:\n",
    "            return Welch_t_test(sample1, sample2, alternative)"
   ]
  },
  {
   "cell_type": "code",
   "execution_count": null,
   "id": "5284ebaa",
   "metadata": {},
   "outputs": [],
   "source": [
    "# через scipy.stats\n",
    "def universal_mean_test_scipy(sample1, sample2, alternative=\"two-sided\", std1=None, std2=None, isdependent=False, alpha=0.05):\n",
    "    \"\"\"Сравнение с использованием scipy.stats\"\"\"\n",
    "    p_value = None\n",
    "    if isdependent:\n",
    "        p_value = stats.ttest_rel(sample1, sample2, alternative=alternative)[1]\n",
    "\n",
    "    elif std1 and std2:\n",
    "        # z-test для известных дисперсий (независимые выборки)\n",
    "        n = len(sample1)\n",
    "        m = len(sample2)\n",
    "        z_statistic = (np.mean(sample1) - np.mean(sample2)) / (std1**2/n + std2**2/m)**.5\n",
    "        # Корректный расчет p-value\n",
    "        match alternative:\n",
    "            case 'less':\n",
    "                p_value = stats.norm.cdf(z_statistic)\n",
    "            case 'greater':\n",
    "                p_value = 1 - stats.norm.cdf(z_statistic)\n",
    "            case 'two-sided':\n",
    "                p_value = 2 * stats.norm.cdf(-np.abs(z_statistic))\n",
    "    else:\n",
    "        # t-test для неизвестных дисперсий (независимые выборки)\n",
    "        # Проверка равенства дисперсий (как в universal_mean_test)\n",
    "        fischer_p_value = Fischer_test(sample1, sample2)\n",
    "        if fischer_p_value < alpha:\n",
    "            p_value = stats.ttest_ind(sample1, sample2, alternative=alternative, equal_var=True)[1]\n",
    "        else:\n",
    "            p_value = stats.ttest_ind(sample1, sample2, alternative=alternative, equal_var=False)[1]\n",
    "    \n",
    "    return p_value"
   ]
  },
  {
   "cell_type": "markdown",
   "id": "d3b8027e",
   "metadata": {},
   "source": [
    "# Решение Задач"
   ]
  },
  {
   "cell_type": "code",
   "execution_count": 33,
   "id": "457556da",
   "metadata": {},
   "outputs": [
    {
     "name": "stdout",
     "output_type": "stream",
     "text": [
      "Результат теста (мой) : 0.006209665325776132\n",
      "Результат теста (scipy): 0.012419330651552265\n",
      "Вывод: p = 0.0124\n"
     ]
    }
   ],
   "source": [
    "\n",
    "# Задача 1\n",
    "sample1_z1 = [130] * 30\n",
    "sample2_z1 = [125] * 40\n",
    "std1_z1 = 60**(1/2)\n",
    "std2_z1 = 80**(1/2)\n",
    "\n",
    "result_z1 = universal_mean_test(sample1_z1, sample2_z1, alternative=\"two-sided\", std1=std1_z1, std2=std2_z1)\n",
    "result_scipy_z1 = universal_mean_test_scipy(sample1_z1, sample2_z1, alternative=\"two-sided\", std1=std1_z1, std2=std2_z1)\n",
    "print(f\"Результат теста (мой) : {result_z1}\")\n",
    "print(f\"Результат теста (scipy): {result_scipy_z1}\")\n",
    "print(f\"Вывод: p = {result_scipy_z1:.4f}\")\n"
   ]
  },
  {
   "cell_type": "code",
   "execution_count": 34,
   "id": "7d069607",
   "metadata": {},
   "outputs": [
    {
     "name": "stdout",
     "output_type": "stream",
     "text": [
      "Результат теста (мой) : 0.0814992575109142\n",
      "Результат теста (scipy): 0.16459547698225657\n",
      "Вывод: p = 0.16460\n"
     ]
    }
   ],
   "source": [
    "\n",
    "# Задача 2\n",
    "sample1_z2 = [3.4]*2+[3.5]*3+[3.7]*4+[3.9]\n",
    "sample2_z2 = [3.2]*2+[3.4]*2+[3.6]*8\n",
    "\n",
    "result_z2 = universal_mean_test(sample1_z2, sample2_z2, alternative=\"two-sided\")\n",
    "result_scipy_z2 = universal_mean_test_scipy(sample1_z2, sample2_z2, alternative=\"two-sided\", alpha=0.05) # Используем alpha=0.05 для проверки дисперсий в scipy-функции\n",
    "print(f\"Результат теста (мой) : {result_z2}\")\n",
    "print(f\"Результат теста (scipy): {result_scipy_z2}\")\n",
    "print(f\"Вывод: p = {result_scipy_z2:.5f}\")\n"
   ]
  },
  {
   "cell_type": "code",
   "execution_count": 35,
   "id": "f9970679",
   "metadata": {},
   "outputs": [
    {
     "name": "stdout",
     "output_type": "stream",
     "text": [
      "Результат теста (мой) : 0.39977728803854506\n",
      "Результат теста (scipy): 0.8165892159697636\n",
      "Вывод: p = 0.817\n"
     ]
    }
   ],
   "source": [
    "\n",
    "# Задача 3\n",
    "sample1_z3 = [2, 3, 5, 6, 8, 10]\n",
    "sample2_z3 = [10, 3, 6, 1, 7, 4]\n",
    "result_z3 = universal_mean_test(sample1_z3, sample2_z3, alternative=\"two-sided\", isdependent=True)\n",
    "result_scipy_z3 = universal_mean_test_scipy(sample1_z3, sample2_z3, alternative=\"two-sided\", isdependent=True)\n",
    "\n",
    "print(f\"Результат теста (мой) : {result_z3}\")\n",
    "print(f\"Результат теста (scipy): {result_scipy_z3}\")\n",
    "print(f\"Вывод: p = {result_scipy_z3:.3f}\")"
   ]
  }
 ],
 "metadata": {
  "kernelspec": {
   "display_name": ".venv",
   "language": "python",
   "name": "python3"
  },
  "language_info": {
   "codemirror_mode": {
    "name": "ipython",
    "version": 3
   },
   "file_extension": ".py",
   "mimetype": "text/x-python",
   "name": "python",
   "nbconvert_exporter": "python",
   "pygments_lexer": "ipython3",
   "version": "3.12.3"
  }
 },
 "nbformat": 4,
 "nbformat_minor": 5
}
