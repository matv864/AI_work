{
 "cells": [
  {
   "cell_type": "code",
   "execution_count": 14,
   "id": "06364a33",
   "metadata": {},
   "outputs": [],
   "source": [
    "import numpy as np\n",
    "import scipy.stats as stats\n",
    "from scipy.special import betainc\n"
   ]
  },
  {
   "cell_type": "code",
   "execution_count": 15,
   "id": "20246d41",
   "metadata": {},
   "outputs": [],
   "source": [
    "\n",
    "def Fischer_test(sample1, sample2, alternative=\"two-sided\"):\n",
    "    \"\"\"Проверка гипотезы о равенстве двух генеральных дисперсий\"\"\"\n",
    "    n = len(sample1)\n",
    "    m = len(sample2)\n",
    "    f = np.var(sample1, ddof=1)/np.var(sample2, ddof=1)\n",
    "    match(alternative):\n",
    "        case \"less\":\n",
    "            return stats.f.cdf(f, n-1, m-1)\n",
    "        case \"greater\":\n",
    "            return 1 - stats.f.cdf(f, n-1, m-1)\n",
    "        case \"two-sided\":\n",
    "            return 2*min(stats.f.cdf(f, n-1, m-1), 1 - stats.f.cdf(f, n-1, m-1))\n",
    "\n"
   ]
  },
  {
   "cell_type": "code",
   "execution_count": 16,
   "id": "d34a032a",
   "metadata": {},
   "outputs": [],
   "source": [
    "def Welch_t_test(sample1, sample2, alternative='two-sided'):\n",
    "    \"\"\"Реализация t-теста Уэлча для двух независимых выборок.\"\"\"\n",
    "    n1 = len(sample1)\n",
    "    n2 = len(sample2)\n",
    "    mean1 = np.mean(sample1)\n",
    "    mean2 = np.mean(sample2)\n",
    "    var1 = np.var(sample1, ddof=1)  # Исправленная дисперсия\n",
    "    var2 = np.var(sample2, ddof=1)\n",
    "\n",
    "    # t-статистика\n",
    "    t = (mean1 - mean2) / np.sqrt(var1/n1 + var2/n2)\n",
    "    \n",
    "    # Степени свободы (Саттертуэйт)\n",
    "    df = (var1/n1 + var2/n2)**2 / ((var1/n1)**2/(n1-1) + (var2/n2)**2/(n2-1))\n",
    "    \n",
    "    # p-значение (используем CDF t-распределения)\n",
    "    def t_cdf(x, df):\n",
    "        # Реализация CDF t-распределения через бета-функцию\n",
    "        x_sq = x**2\n",
    "        p = betainc(0.5*df, 0.5, df/(df + x_sq))\n",
    "        return 0.5 * (1 + np.sign(x) * (1 - p))\n",
    "    \n",
    "    p_two_sided = 2 * (1 - t_cdf(np.abs(t), df))\n",
    "    \n",
    "    if alternative == 'two-sided':\n",
    "        p_value = p_two_sided\n",
    "    elif alternative == 'greater':\n",
    "        p_value = 1 - t_cdf(t, df)\n",
    "    elif alternative == 'less':\n",
    "        p_value = t_cdf(t, df)\n",
    "    else:\n",
    "        raise ValueError(\"alternative must be 'two-sided', 'greater', or 'less'\")\n",
    "    \n",
    "    return p_value"
   ]
  },
  {
   "cell_type": "code",
   "execution_count": 17,
   "id": "4ff3bf13",
   "metadata": {},
   "outputs": [],
   "source": [
    "\n",
    "def Z_test(sample1, sample2, std1, std2, alternative=\"two-sided\"):\n",
    "    n = len(sample1)\n",
    "    m = len(sample2)\n",
    "    z = (np.mean(sample1) - np.mean(sample2))/(std1**2/n + std2**2/m)**.5\n",
    "\n",
    "    match(alternative):\n",
    "        case \"less\":\n",
    "            return stats.norm.cdf(z)\n",
    "        case \"greater\":\n",
    "            return 1 - stats.norm.cdf(z)\n",
    "        case \"two-sided\":\n",
    "            return stats.norm.cdf(-np.abs(z))\n"
   ]
  },
  {
   "cell_type": "code",
   "execution_count": 18,
   "id": "9cf541bc",
   "metadata": {},
   "outputs": [],
   "source": [
    "def T_test(sample1, sample2, alternative=\"two-sided\"):\n",
    "    n = len(sample1)\n",
    "    m = len(sample2)\n",
    "    std1 = np.std(sample1, ddof=1) # Несмещенная оценка\n",
    "    std2 = np.std(sample2, ddof=1) # Несмещенная оценка\n",
    "\n",
    "    t = ((np.mean(sample1) - np.mean(sample2))/((n-1)*std1**2 + (m-1)*std2**2)**.5) * ((n*m*(n+m-2))/(n+m))**.5\n",
    "    match(alternative):\n",
    "        case \"less\":\n",
    "            return stats.t.cdf(t, n+m-2)\n",
    "        case \"greater\":\n",
    "            return 1 - stats.t.cdf(t, n+m-2)\n",
    "        case \"two-sided\":\n",
    "            # Ошибка: возвращает половину p-value\n",
    "            return stats.t.cdf(-np.abs(t), n+m-2)\n",
    "\n"
   ]
  },
  {
   "cell_type": "code",
   "execution_count": 19,
   "id": "300fe97e",
   "metadata": {},
   "outputs": [],
   "source": [
    "\n",
    "def dependent_t_test(sample1, sample2):\n",
    "    \"\"\"Проверка гипотезы о равенстве двух генеральных средних, когда выборки зависимы\"\"\"\n",
    "    if len(sample1) != len(sample2): raise BaseException(\"Для теста с зависимыми выборками, размер выборок должен совпадать\")\n",
    "    n = len(sample1)\n",
    "    D = np.array(sample1) - np.array(sample2)\n",
    "    # Ошибка: используется смещенная оценка std (np.std по умолчанию ddof=0)\n",
    "    # и возвращается половина p-value для двусторонней гипотезы\n",
    "    t = (np.mean(D)*n**.5)/np.std(D) # Должно быть np.std(D, ddof=1)\n",
    "    return stats.t.cdf(-np.abs(t), n-1) # Возвращает половину p-value\n",
    "\n"
   ]
  },
  {
   "cell_type": "code",
   "execution_count": null,
   "id": "e5079777",
   "metadata": {},
   "outputs": [],
   "source": [
    "def universal_mean_test(sample1, sample2, alternative=\"two-sided\", std1=None, std2=None, isdependent=False):\n",
    "    if isdependent:\n",
    "        # t-test для зависимых выборок\n",
    "        return dependent_t_test(sample1, sample2)\n",
    "    elif std1 and std2:\n",
    "        # z-test для известных дисперсий (независимые выборки)\n",
    "        return Z_test(sample1, sample2, std1, std2, alternative)\n",
    "    else:\n",
    "        if Fischer_test(sample1, sample2) > 0.05:\n",
    "            return T_test(sample1, sample2, alternative)\n",
    "        else:\n",
    "            return Welch_t_test(sample1, sample2, alternative)"
   ]
  },
  {
   "cell_type": "code",
   "execution_count": 21,
   "id": "5284ebaa",
   "metadata": {},
   "outputs": [],
   "source": [
    "def universal_mean_test_scipy(sample1, sample2, alternative=\"two-sided\", std1=None, std2=None, isdependent=False, alpha=0.05):\n",
    "    \"\"\"Сравнение с использованием scipy.stats\"\"\"\n",
    "    p_value = None\n",
    "    if isdependent:\n",
    "        p_value = stats.ttest_rel(sample1, sample2, alternative=alternative)[1]\n",
    "\n",
    "    elif std1 and std2:\n",
    "        # z-test для известных дисперсий (независимые выборки)\n",
    "        n = len(sample1)\n",
    "        m = len(sample2)\n",
    "        z_statistic = (np.mean(sample1) - np.mean(sample2)) / (std1**2/n + std2**2/m)**.5\n",
    "        # Корректный расчет p-value\n",
    "        if alternative == 'less':\n",
    "            p_value = stats.norm.cdf(z_statistic)\n",
    "        elif alternative == 'greater':\n",
    "            p_value = 1 - stats.norm.cdf(z_statistic)\n",
    "        elif alternative == 'two-sided':\n",
    "            p_value = 2 * stats.norm.cdf(-np.abs(z_statistic)) # Правильная формула\n",
    "    else:\n",
    "        # t-test для неизвестных дисперсий (независимые выборки)\n",
    "        # Проверка равенства дисперсий (как в universal_mean_test)\n",
    "        fischer_p_value = Fischer_test(sample1, sample2)\n",
    "        if fischer_p_value < alpha:\n",
    "            p_value = stats.ttest_ind(sample1, sample2, alternative=alternative, equal_var=False)[1]\n",
    "        else:\n",
    "            p_value = stats.ttest_ind(sample1, sample2, alternative=alternative, equal_var=True)[1]\n",
    "    \n",
    "    return p_value"
   ]
  },
  {
   "cell_type": "markdown",
   "id": "d3b8027e",
   "metadata": {},
   "source": [
    "# Решение Задач"
   ]
  },
  {
   "cell_type": "code",
   "execution_count": 22,
   "id": "457556da",
   "metadata": {},
   "outputs": [
    {
     "name": "stdout",
     "output_type": "stream",
     "text": [
      "Результат теста (мой) : 0.006209665325776132\n",
      "Результат теста (scipy): 0.012419330651552265\n",
      "Вывод: p = 0.0124\n"
     ]
    }
   ],
   "source": [
    "\n",
    "# Задача 1\n",
    "sample1_z1 = [130] * 30\n",
    "sample2_z1 = [125] * 40\n",
    "std1_z1 = 60**(1/2)\n",
    "std2_z1 = 80**(1/2)\n",
    "\n",
    "result_z1 = universal_mean_test(sample1_z1, sample2_z1, alternative=\"two-sided\", std1=std1_z1, std2=std2_z1)\n",
    "result_scipy_z1 = universal_mean_test_scipy(sample1_z1, sample2_z1, alternative=\"two-sided\", std1=std1_z1, std2=std2_z1)\n",
    "print(f\"Результат теста (мой) : {result_z1}\")\n",
    "print(f\"Результат теста (scipy): {result_scipy_z1}\")\n",
    "print(f\"Вывод: p = {result_scipy_z1:.4f}\")\n"
   ]
  },
  {
   "cell_type": "code",
   "execution_count": null,
   "id": "7d069607",
   "metadata": {},
   "outputs": [
    {
     "name": "stdout",
     "output_type": "stream",
     "text": [
      "Результат теста (мой) : 0.0814992575109142\n",
      "Результат теста (scipy): 0.16299851502182822\n",
      "Вывод: p = 0.16300\n"
     ]
    }
   ],
   "source": [
    "\n",
    "# Задача 2\n",
    "sample1_z2 = [3.4]*2+[3.5]*3+[3.7]*4+[3.9]\n",
    "sample2_z2 = [3.2]*2+[3.4]*2+[3.6]*8\n",
    "\n",
    "result_z2 = universal_mean_test(sample1_z2, sample2_z2, alternative=\"two-sided\")\n",
    "result_scipy_z2 = universal_mean_test_scipy(sample1_z2, sample2_z2, alternative=\"two-sided\", alpha=0.05) # Используем alpha=0.05 для проверки дисперсий в scipy-функции\n",
    "print(f\"Результат теста (мой) : {result_z2}\")\n",
    "print(f\"Результат теста (scipy): {result_scipy_z2}\")\n",
    "print(f\"Вывод: p = {result_scipy_z2:.5f}\")\n"
   ]
  },
  {
   "cell_type": "code",
   "execution_count": 24,
   "id": "f9970679",
   "metadata": {},
   "outputs": [
    {
     "name": "stdout",
     "output_type": "stream",
     "text": [
      "Результат теста (мой) : 0.39977728803854506\n",
      "Результат теста (scipy): 0.8165892159697636\n",
      "Вывод: p = 0.817\n"
     ]
    }
   ],
   "source": [
    "\n",
    "# Задача 3\n",
    "sample1_z3 = [2, 3, 5, 6, 8, 10]\n",
    "sample2_z3 = [10, 3, 6, 1, 7, 4]\n",
    "result_z3 = universal_mean_test(sample1_z3, sample2_z3, alternative=\"two-sided\", isdependent=True)\n",
    "result_scipy_z3 = universal_mean_test_scipy(sample1_z3, sample2_z3, alternative=\"two-sided\", isdependent=True)\n",
    "\n",
    "print(f\"Результат теста (мой) : {result_z3}\")\n",
    "print(f\"Результат теста (scipy): {result_scipy_z3}\")\n",
    "print(f\"Вывод: p = {result_scipy_z3:.3f}\")"
   ]
  }
 ],
 "metadata": {
  "kernelspec": {
   "display_name": ".venv",
   "language": "python",
   "name": "python3"
  },
  "language_info": {
   "codemirror_mode": {
    "name": "ipython",
    "version": 3
   },
   "file_extension": ".py",
   "mimetype": "text/x-python",
   "name": "python",
   "nbconvert_exporter": "python",
   "pygments_lexer": "ipython3",
   "version": "3.12.3"
  }
 },
 "nbformat": 4,
 "nbformat_minor": 5
}
