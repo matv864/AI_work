{
 "cells": [
  {
   "cell_type": "code",
   "execution_count": 2,
   "metadata": {},
   "outputs": [],
   "source": [
    "import numpy as np\n",
    "import scipy.stats"
   ]
  },
  {
   "cell_type": "code",
   "execution_count": 3,
   "metadata": {},
   "outputs": [],
   "source": [
    "def empirical_distribution_function(sample, x):\n",
    "    n = len(sample)\n",
    "    # Подсчитаем количество наблюдей <= х\n",
    "    count = sum(1 for val in sample if val <= x)\n",
    "    # значение ЭФР\n",
    "    edf_value = count / n\n",
    "    # Вычисляем эпсилон для 95%-го доверительного интервала\n",
    "    # Для 95% интервала alpha = 0.05, ln(2/0.05) ≈ ln(40)\n",
    "    epsilon = np.sqrt(np.log(40) / (2 * n))\n",
    "    # Верхняя граница доверительного интервала\n",
    "    lower_bound = max(0, edf_value - epsilon)\n",
    "    # Нижняя граница доверительного интервала\n",
    "    upper_bound = min(1, edf_value + epsilon)\n",
    "    return edf_value, lower_bound, upper_bound"
   ]
  },
  {
   "cell_type": "code",
   "execution_count": null,
   "metadata": {},
   "outputs": [],
   "source": [
    "def scipy_edf(sample, x):\n",
    "    # Используем stats.percentileofscore для вычисления ЭФР\n",
    "    # kind='weak' даёт процент значений <= х (т.е. F(x)), поэтому делим на 100\n",
    "    edf_value = scipy.stats.percentileofscore(sample, x, kind='weak') / 100\n",
    "\n",
    "    # Вычисляем эпсилон так же, как и ранее\n",
    "    n = len(sample)\n",
    "    epsilon = np.sqrt(np.log(40) / (2 * n))\n",
    "\n",
    "    lower_bound = max(0, edf_value - epsilon)\n",
    "    upper_bound = min(1, edf_value + epsilon)\n",
    "    return edf_value, lower_bound, upper_bound"
   ]
  }
 ],
 "metadata": {
  "kernelspec": {
   "display_name": ".venv",
   "language": "python",
   "name": "python3"
  },
  "language_info": {
   "codemirror_mode": {
    "name": "ipython",
    "version": 3
   },
   "file_extension": ".py",
   "mimetype": "text/x-python",
   "name": "python",
   "nbconvert_exporter": "python",
   "pygments_lexer": "ipython3",
   "version": "3.12.8"
  }
 },
 "nbformat": 4,
 "nbformat_minor": 2
}
