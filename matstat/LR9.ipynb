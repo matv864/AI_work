{
 "cells": [
  {
   "cell_type": "markdown",
   "id": "2ab7a33f",
   "metadata": {},
   "source": [
    "## ЛАБОРАТОРНАЯ РАБОТА №7.\n",
    "## ТЕСТИРОВАНИЕ ГИПОТЕЗ О РАСПРЕДЛЕНИЯХ\n",
    "#### по дисциплине «Математическая статистика»\n",
    "Направление подготовки 01.03.02 Прикладная математика и информатика\n",
    "Очной формы обучения"
   ]
  },
  {
   "cell_type": "markdown",
   "id": "c68218ef",
   "metadata": {},
   "source": [
    "выполнил: студент группы Б9123-01.03.02ии\n",
    "\n",
    "Иванов Матвей Олегович\n",
    "\n",
    "принял: Деревягин Андрей Алексеевич"
   ]
  },
  {
   "cell_type": "code",
   "execution_count": 13,
   "id": "d460f9c9",
   "metadata": {},
   "outputs": [
    {
     "name": "stdout",
     "output_type": "stream",
     "text": [
      "[ 1  2  3  4  5  6  7  8  9 10 11 12 13 14 15 16 17 18 19 20 21 22 23 24\n",
      " 25 26 27 28 29 30 31 32 33 34 35 36 37 38 39 40 41 42 43 44 45 46 47 48\n",
      " 49 50]\n",
      "[18.01405235 15.91566308 15.81967373 16.46463288 15.5289257  12.173992\n",
      " 13.64098464 12.12633958 11.80590277 11.99321926 11.43968782 12.49991563\n",
      " 11.59110215 10.76803623 10.93584574 10.69805269 11.75507789  9.97413565\n",
      " 10.4297814   9.21661247  7.48573767 10.67184017 10.87107671  9.25926933\n",
      " 12.26980775  8.5455812  10.04432417  9.80617563 11.51455764 11.43063128\n",
      " 10.08423922 10.26144882  8.93292034  7.75820471  9.28770949  9.66436646\n",
      " 10.58392947 10.37231542  8.56703106  8.402053    7.36882627  6.67086044\n",
      "  6.01603302  9.25987917  6.33907794  5.90055799  4.52346496  5.93655461\n",
      "  2.87059628  3.53725972]\n"
     ]
    }
   ],
   "source": [
    "import numpy as np\n",
    "import scipy.stats as stats\n",
    "import matplotlib.pyplot as plt\n",
    "import statsmodels.api as sm\n",
    "from statsmodels.stats.diagnostic import het_breuschpagan\n",
    "from statsmodels.stats.stattools import durbin_watson\n",
    "\n",
    "\n",
    "with open(\"/home/matv864/it/AI_work/data/matstat_LR9_regressiya.txt\") as f:\n",
    "    s = f.read()\n",
    "y_s = s.split(\";\")\n",
    "X = np.arange(1, len(y_s)+1)\n",
    "Y = np.asarray(y_s, dtype=float)\n",
    "print(X)\n",
    "print(Y)\n"
   ]
  },
  {
   "cell_type": "markdown",
   "id": "6c3d9e87",
   "metadata": {},
   "source": [
    "# Математическая часть"
   ]
  },
  {
   "cell_type": "markdown",
   "id": "60f1fe3b",
   "metadata": {},
   "source": [
    "Уравнение регрессии Y на X выражается как:\n",
    "$$Y(x)=E(Y|X=x)+\\epsilon$$\n",
    "где $\\epsilon \\sim N(0; \\sigma^2)$ - случайный остаток\n",
    "$$E(Y|X=x) = a_1x_1 + a_2x_2 + \\cdots + a_mx_m = a^Tx$$\n",
    "$$Y(x) = a^Tx+\\epsilon$$\n",
    "где $a$ минимизирует сумму квадратов отклонений\n",
    "$$\\widehat{a} = \\argmin_{a} \\sum_{i=1}^n{(a^TX^i-Y_i)^2}$$"
   ]
  },
  {
   "cell_type": "markdown",
   "id": "f55af86e",
   "metadata": {},
   "source": [
    "### Проверка положения теоремы Гаусса-Маркова"
   ]
  },
  {
   "cell_type": "code",
   "execution_count": 14,
   "id": "cffaeda0",
   "metadata": {},
   "outputs": [],
   "source": [
    "def check_gauss_markov(model, X, flag=False):\n",
    "    ostatki = model.resid\n",
    "\n",
    "    stat_shapiro, p_shapiro = stats.shapiro(ostatki)\n",
    "    if flag:\n",
    "        print(\"1. Проверка нормальности остатков (тест Шапиро-Уилка):\")\n",
    "        print(f\"   Статистика = {stat_shapiro:.3f}, p-значение = {p_shapiro:.3f}\")\n",
    "    normal_ok = p_shapiro > 0.05\n",
    "    if flag:\n",
    "        if normal_ok:\n",
    "            print(\"Условие выполнено: остатки распределены нормально.\")\n",
    "        else:\n",
    "            print(\"Условие не выполнено: остатки не нормальны.\")\n",
    "\n",
    "    dw_stat = durbin_watson(ostatki)\n",
    "    autocorr_ok = 1.5 < dw_stat < 2.5\n",
    "    if flag:\n",
    "        print(\"\\n2. Проверка автокорреляции (тест Дарбина-Уотсона):\")\n",
    "        print(f\"   DW статистика = {dw_stat:.3f}\")\n",
    "        if autocorr_ok:\n",
    "            print(\"Условие выполнено: автокорреляции нет.\")\n",
    "        else:\n",
    "            print(\"Условие не выполнено: возможно, есть автокорреляция.\")\n",
    "\n",
    "    rank_X = np.linalg.matrix_rank(X)\n",
    "    num_params = X.shape[1]\n",
    "    if flag:\n",
    "        print(\"\\n3. Проверка ранга матрицы X:\")\n",
    "        print(f\"   Ранг матрицы X = {rank_X}, количество параметров = {num_params}\")\n",
    "    rank_ok = (rank_X == num_params)\n",
    "    if flag:\n",
    "        if rank_ok:\n",
    "            print(\"Условие выполнено: матрица имеет полный ранг.\")\n",
    "        else:\n",
    "            print(\"Условие не выполнено: матрица не имеет полного ранга.\")\n",
    "\n",
    "    t_stat, p_value = stats.ttest_1samp(ostatki, 0)\n",
    "    mean_ok = p_value > 0.05\n",
    "    if flag:\n",
    "        print(\"\\n4. Проверка математического ожидания остатков:\")\n",
    "        print(f\"   t-статистика = {t_stat}, p-значение = {p_value}\")\n",
    "        if mean_ok:\n",
    "            print(\"Математическое ожидание остатков не отличается от нуля.\")\n",
    "        else:\n",
    "            print(\"Математическое ожидание остатков значимо отлично от нуля.\")\n",
    "\n",
    "    try:\n",
    "        bp_test = het_breuschpagan(ostatki, X)\n",
    "        p_pagan = bp_test[1]\n",
    "        heteroskedasticity_ok = p_pagan > 0.05\n",
    "    except:\n",
    "        heteroskedasticity_ok = True\n",
    "        p_pagan = np.nan\n",
    "\n",
    "    if flag:\n",
    "        print(\"\\n5. тест Бреуша–Пагана:\")\n",
    "        print(f\"   p-значение = {p_pagan:.3f}\")\n",
    "        if heteroskedasticity_ok:\n",
    "            print(\"дисперсия остатков постоянна\")\n",
    "        else:\n",
    "            print(\"!!! дисперсия остатков постоянна\")\n",
    "    all_ok = normal_ok and autocorr_ok and rank_ok and mean_ok and heteroskedasticity_ok\n",
    "    if flag:\n",
    "        print()\n",
    "        if all_ok:\n",
    "            print(\"Все 5 условий теоремы Гаусса-Маркова выполнены.\")\n",
    "        else:\n",
    "            print(\"Не все условия теоремы Гаусса-Маркова выполнены.\")\n",
    "\n",
    "    return {\n",
    "        'normal': normal_ok,\n",
    "        'autocorrelation': autocorr_ok,\n",
    "        'rank': rank_ok,\n",
    "        'zero_mean': mean_ok,\n",
    "        'homoskedasticity': heteroskedasticity_ok,\n",
    "        'all_ok': all_ok\n",
    "    }"
   ]
  },
  {
   "cell_type": "markdown",
   "id": "b1ba6b41",
   "metadata": {
    "vscode": {
     "languageId": "plaintext"
    }
   },
   "source": [
    "# Задания"
   ]
  },
  {
   "cell_type": "code",
   "execution_count": 15,
   "id": "d89e3e21",
   "metadata": {},
   "outputs": [
    {
     "data": {
      "image/png": "[encoded data removed]",
      "text/plain": [
       "<Figure size 800x600 with 1 Axes>"
      ]
     },
     "metadata": {},
     "output_type": "display_data"
    }
   ],
   "source": [
    "# № 2\n",
    "# Построить диаграмму рассеяния.\n",
    "\n",
    "plt.figure(figsize=(8, 6))\n",
    "plt.scatter(X, Y, color='blue', s=5)\n",
    "\n",
    "# Подписи осей и заголовок\n",
    "plt.xlabel('X')\n",
    "plt.ylabel('Y')\n",
    "plt.title('диаграмма рассеяния')\n",
    "plt.grid(True, linestyle='--', alpha=0.7)\n",
    "plt.show()"
   ]
  },
  {
   "cell_type": "code",
   "execution_count": 16,
   "id": "a65d0346",
   "metadata": {},
   "outputs": [
    {
     "name": "stdout",
     "output_type": "stream",
     "text": [
      "Уравнение регрессии: Y = -0.19 * X + 14.94\n",
      "коэффициент детерминации: R^2 = 0.7570443680073584\n"
     ]
    },
    {
     "data": {
      "text/html": [
       "<table class=\"simpletable\">\n",
       "<caption>OLS Regression Results</caption>\n",
       "<tr>\n",
       "  <th>Dep. Variable:</th>            <td>y</td>        <th>  R-squared:         </th> <td>   0.757</td>\n",
       "</tr>\n",
       "<tr>\n",
       "  <th>Model:</th>                   <td>OLS</td>       <th>  Adj. R-squared:    </th> <td>   0.752</td>\n",
       "</tr>\n",
       "<tr>\n",
       "  <th>Method:</th>             <td>Least Squares</td>  <th>  F-statistic:       </th> <td>   149.6</td>\n",
       "</tr>\n",
       "<tr>\n",
       "  <th>Date:</th>             <td>Sat, 24 May 2025</td> <th>  Prob (F-statistic):</th> <td>2.34e-16</td>\n",
       "</tr>\n",
       "<tr>\n",
       "  <th>Time:</th>                 <td>19:47:20</td>     <th>  Log-Likelihood:    </th> <td> -92.445</td>\n",
       "</tr>\n",
       "<tr>\n",
       "  <th>No. Observations:</th>      <td>    50</td>      <th>  AIC:               </th> <td>   188.9</td>\n",
       "</tr>\n",
       "<tr>\n",
       "  <th>Df Residuals:</th>          <td>    48</td>      <th>  BIC:               </th> <td>   192.7</td>\n",
       "</tr>\n",
       "<tr>\n",
       "  <th>Df Model:</th>              <td>     1</td>      <th>                     </th>     <td> </td>   \n",
       "</tr>\n",
       "<tr>\n",
       "  <th>Covariance Type:</th>      <td>nonrobust</td>    <th>                     </th>     <td> </td>   \n",
       "</tr>\n",
       "</table>\n",
       "<table class=\"simpletable\">\n",
       "<tr>\n",
       "    <td></td>       <th>coef</th>     <th>std err</th>      <th>t</th>      <th>P>|t|</th>  <th>[0.025</th>    <th>0.975]</th>  \n",
       "</tr>\n",
       "<tr>\n",
       "  <th>const</th> <td>   14.9354</td> <td>    0.450</td> <td>   33.154</td> <td> 0.000</td> <td>   14.030</td> <td>   15.841</td>\n",
       "</tr>\n",
       "<tr>\n",
       "  <th>x1</th>    <td>   -0.1880</td> <td>    0.015</td> <td>  -12.230</td> <td> 0.000</td> <td>   -0.219</td> <td>   -0.157</td>\n",
       "</tr>\n",
       "</table>\n",
       "<table class=\"simpletable\">\n",
       "<tr>\n",
       "  <th>Omnibus:</th>       <td> 1.246</td> <th>  Durbin-Watson:     </th> <td>   0.993</td>\n",
       "</tr>\n",
       "<tr>\n",
       "  <th>Prob(Omnibus):</th> <td> 0.536</td> <th>  Jarque-Bera (JB):  </th> <td>   1.067</td>\n",
       "</tr>\n",
       "<tr>\n",
       "  <th>Skew:</th>          <td> 0.146</td> <th>  Prob(JB):          </th> <td>   0.587</td>\n",
       "</tr>\n",
       "<tr>\n",
       "  <th>Kurtosis:</th>      <td> 2.347</td> <th>  Cond. No.          </th> <td>    59.5</td>\n",
       "</tr>\n",
       "</table><br/><br/>Notes:<br/>[1] Standard Errors assume that the covariance matrix of the errors is correctly specified."
      ],
      "text/latex": [
       "\\begin{center}\n",
       "\\begin{tabular}{lclc}\n",
       "\\toprule\n",
       "\\textbf{Dep. Variable:}    &        y         & \\textbf{  R-squared:         } &     0.757   \\\\\n",
       "\\textbf{Model:}            &       OLS        & \\textbf{  Adj. R-squared:    } &     0.752   \\\\\n",
       "\\textbf{Method:}           &  Least Squares   & \\textbf{  F-statistic:       } &     149.6   \\\\\n",
       "\\textbf{Date:}             & Sat, 24 May 2025 & \\textbf{  Prob (F-statistic):} &  2.34e-16   \\\\\n",
       "\\textbf{Time:}             &     19:47:20     & \\textbf{  Log-Likelihood:    } &   -92.445   \\\\\n",
       "\\textbf{No. Observations:} &          50      & \\textbf{  AIC:               } &     188.9   \\\\\n",
       "\\textbf{Df Residuals:}     &          48      & \\textbf{  BIC:               } &     192.7   \\\\\n",
       "\\textbf{Df Model:}         &           1      & \\textbf{                     } &             \\\\\n",
       "\\textbf{Covariance Type:}  &    nonrobust     & \\textbf{                     } &             \\\\\n",
       "\\bottomrule\n",
       "\\end{tabular}\n",
       "\\begin{tabular}{lcccccc}\n",
       "               & \\textbf{coef} & \\textbf{std err} & \\textbf{t} & \\textbf{P$> |$t$|$} & \\textbf{[0.025} & \\textbf{0.975]}  \\\\\n",
       "\\midrule\n",
       "\\textbf{const} &      14.9354  &        0.450     &    33.154  &         0.000        &       14.030    &       15.841     \\\\\n",
       "\\textbf{x1}    &      -0.1880  &        0.015     &   -12.230  &         0.000        &       -0.219    &       -0.157     \\\\\n",
       "\\bottomrule\n",
       "\\end{tabular}\n",
       "\\begin{tabular}{lclc}\n",
       "\\textbf{Omnibus:}       &  1.246 & \\textbf{  Durbin-Watson:     } &    0.993  \\\\\n",
       "\\textbf{Prob(Omnibus):} &  0.536 & \\textbf{  Jarque-Bera (JB):  } &    1.067  \\\\\n",
       "\\textbf{Skew:}          &  0.146 & \\textbf{  Prob(JB):          } &    0.587  \\\\\n",
       "\\textbf{Kurtosis:}      &  2.347 & \\textbf{  Cond. No.          } &     59.5  \\\\\n",
       "\\bottomrule\n",
       "\\end{tabular}\n",
       "%\\caption{OLS Regression Results}\n",
       "\\end{center}\n",
       "\n",
       "Notes: \\newline\n",
       " [1] Standard Errors assume that the covariance matrix of the errors is correctly specified."
      ],
      "text/plain": [
       "<class 'statsmodels.iolib.summary.Summary'>\n",
       "\"\"\"\n",
       "                            OLS Regression Results                            \n",
       "==============================================================================\n",
       "Dep. Variable:                      y   R-squared:                       0.757\n",
       "Model:                            OLS   Adj. R-squared:                  0.752\n",
       "Method:                 Least Squares   F-statistic:                     149.6\n",
       "Date:                Sat, 24 May 2025   Prob (F-statistic):           2.34e-16\n",
       "Time:                        19:47:20   Log-Likelihood:                -92.445\n",
       "No. Observations:                  50   AIC:                             188.9\n",
       "Df Residuals:                      48   BIC:                             192.7\n",
       "Df Model:                           1                                         \n",
       "Covariance Type:            nonrobust                                         \n",
       "==============================================================================\n",
       "                 coef    std err          t      P>|t|      [0.025      0.975]\n",
       "------------------------------------------------------------------------------\n",
       "const         14.9354      0.450     33.154      0.000      14.030      15.841\n",
       "x1            -0.1880      0.015    -12.230      0.000      -0.219      -0.157\n",
       "==============================================================================\n",
       "Omnibus:                        1.246   Durbin-Watson:                   0.993\n",
       "Prob(Omnibus):                  0.536   Jarque-Bera (JB):                1.067\n",
       "Skew:                           0.146   Prob(JB):                        0.587\n",
       "Kurtosis:                       2.347   Cond. No.                         59.5\n",
       "==============================================================================\n",
       "\n",
       "Notes:\n",
       "[1] Standard Errors assume that the covariance matrix of the errors is correctly specified.\n",
       "\"\"\""
      ]
     },
     "execution_count": 16,
     "metadata": {},
     "output_type": "execute_result"
    }
   ],
   "source": [
    "# № 3\n",
    "# Построить модель линейной регрессии с помощью statsmodels.api.OLS взяв в качестве условного матожидания линейную функцию\n",
    "# Для модели вида Y=aX+b необходимо добавить столбец единиц:\n",
    "X_with_const = sm.add_constant(X)\n",
    "model = sm.OLS(Y, X_with_const)\n",
    "results = model.fit()\n",
    "a = results.params[1]\n",
    "b = results.params[0]\n",
    "print(f\"Уравнение регрессии: Y = {a:.2f} * X + {b:.2f}\")\n",
    "print(f\"коэффициент детерминации: R^2 = {results.rsquared}\")\n",
    "results.summary()\n",
    "\n"
   ]
  },
  {
   "cell_type": "code",
   "execution_count": 17,
   "id": "ac9b2567",
   "metadata": {},
   "outputs": [
    {
     "data": {
      "image/png": "[encoded data removed]",
      "text/plain": [
       "<Figure size 640x480 with 1 Axes>"
      ]
     },
     "metadata": {},
     "output_type": "display_data"
    }
   ],
   "source": [
    "# № 4\n",
    "# На диаграмму рассеяния добавить линию регрессии\n",
    "Y_linear_predicted = a * X + b\n",
    "plt.scatter(X, Y, color='blue', s=10)\n",
    "plt.plot(X, Y_linear_predicted, color=\"red\")\n",
    "plt.xlabel('X')\n",
    "plt.ylabel('Y')\n",
    "plt.title('Линейная регрессия')\n",
    "plt.grid(True, linestyle='--', alpha=0.7)\n",
    "plt.show()"
   ]
  },
  {
   "cell_type": "code",
   "execution_count": null,
   "id": "a3b9a9bc",
   "metadata": {},
   "outputs": [
    {
     "name": "stdout",
     "output_type": "stream",
     "text": [
      "[9.69884651e-35 2.34098285e-16]\n",
      "1. Проверка нормальности остатков (тест Шапиро-Уилка):\n",
      "   Статистика = 0.974, p-значение = 0.329\n",
      "Условие выполнено: остатки распределены нормально.\n",
      "\n",
      "2. Проверка автокорреляции (тест Дарбина-Уотсона):\n",
      "   DW статистика = 0.993\n",
      "Условие не выполнено: возможно, есть автокорреляция.\n",
      "\n",
      "3. Проверка ранга матрицы X:\n",
      "   Ранг матрицы X = 2, количество параметров = 2\n",
      "Условие выполнено: матрица имеет полный ранг.\n",
      "\n",
      "4. Проверка математического ожидания остатков:\n",
      "   t-статистика = -7.765543018032097e-15, p-значение = 0.9999999999999938\n",
      "Математическое ожидание остатков не отличается от нуля.\n",
      "\n",
      "5. тест Бреуша–Пагана:\n",
      "   p-значение = 0.768\n",
      "дисперсия остатков постоянна\n",
      "\n",
      "Не все условия теоремы Гаусса-Маркова выполнены.\n"
     ]
    },
    {
     "data": {
      "text/plain": [
       "{'normal': np.True_,\n",
       " 'autocorrelation': np.False_,\n",
       " 'rank': np.True_,\n",
       " 'zero_mean': np.True_,\n",
       " 'homoskedasticity': np.True_,\n",
       " 'all_ok': np.False_}"
      ]
     },
     "execution_count": 23,
     "metadata": {},
     "output_type": "execute_result"
    }
   ],
   "source": [
    "# № 5\n",
    "# Оценить значимость коэффициентов. Проверить положения теоремы Гаусса-Маркова. \n",
    "\n",
    "'''\n",
    "Коэффициент x1 (наклон):\n",
    "    P-value = 0.019 < 0.05 (значимо)\n",
    "    Вывод: Переменная X значимо влияет на Y.\n",
    "Константа (intercept):\n",
    "    P-value = 0.138 > 0.05 (незначимо)\n",
    "    Вывод: Модель может проходить через ноль\n",
    "'''\n",
    "\n",
    "check_gauss_markov(results, X_with_const, True)\n"
   ]
  },
  {
   "cell_type": "code",
   "execution_count": 19,
   "id": "3751cc42",
   "metadata": {},
   "outputs": [],
   "source": [
    "# № 6\n",
    "# Подобрать нелинейную функцию вместо линейной и проделать тоже самое. \n"
   ]
  },
  {
   "cell_type": "code",
   "execution_count": 20,
   "id": "d4c7b4ba",
   "metadata": {},
   "outputs": [
    {
     "name": "stdout",
     "output_type": "stream",
     "text": [
      "Уравнение регрессии: Y = 0.000*X^2 + -0.208*X + 15.105\n",
      "коэффициент детерминации: R^2 = 0.757569548692516\n"
     ]
    },
    {
     "data": {
      "text/html": [
       "<table class=\"simpletable\">\n",
       "<caption>OLS Regression Results</caption>\n",
       "<tr>\n",
       "  <th>Dep. Variable:</th>            <td>y</td>        <th>  R-squared:         </th> <td>   0.758</td>\n",
       "</tr>\n",
       "<tr>\n",
       "  <th>Model:</th>                   <td>OLS</td>       <th>  Adj. R-squared:    </th> <td>   0.747</td>\n",
       "</tr>\n",
       "<tr>\n",
       "  <th>Method:</th>             <td>Least Squares</td>  <th>  F-statistic:       </th> <td>   73.44</td>\n",
       "</tr>\n",
       "<tr>\n",
       "  <th>Date:</th>             <td>Sat, 24 May 2025</td> <th>  Prob (F-statistic):</th> <td>3.45e-15</td>\n",
       "</tr>\n",
       "<tr>\n",
       "  <th>Time:</th>                 <td>19:47:21</td>     <th>  Log-Likelihood:    </th> <td> -92.391</td>\n",
       "</tr>\n",
       "<tr>\n",
       "  <th>No. Observations:</th>      <td>    50</td>      <th>  AIC:               </th> <td>   190.8</td>\n",
       "</tr>\n",
       "<tr>\n",
       "  <th>Df Residuals:</th>          <td>    47</td>      <th>  BIC:               </th> <td>   196.5</td>\n",
       "</tr>\n",
       "<tr>\n",
       "  <th>Df Model:</th>              <td>     2</td>      <th>                     </th>     <td> </td>   \n",
       "</tr>\n",
       "<tr>\n",
       "  <th>Covariance Type:</th>      <td>nonrobust</td>    <th>                     </th>     <td> </td>   \n",
       "</tr>\n",
       "</table>\n",
       "<table class=\"simpletable\">\n",
       "<tr>\n",
       "    <td></td>       <th>coef</th>     <th>std err</th>      <th>t</th>      <th>P>|t|</th>  <th>[0.025</th>    <th>0.975]</th>  \n",
       "</tr>\n",
       "<tr>\n",
       "  <th>const</th> <td>   15.1051</td> <td>    0.700</td> <td>   21.587</td> <td> 0.000</td> <td>   13.697</td> <td>   16.513</td>\n",
       "</tr>\n",
       "<tr>\n",
       "  <th>x1</th>    <td>   -0.2076</td> <td>    0.063</td> <td>   -3.280</td> <td> 0.002</td> <td>   -0.335</td> <td>   -0.080</td>\n",
       "</tr>\n",
       "<tr>\n",
       "  <th>x2</th>    <td>    0.0004</td> <td>    0.001</td> <td>    0.319</td> <td> 0.751</td> <td>   -0.002</td> <td>    0.003</td>\n",
       "</tr>\n",
       "</table>\n",
       "<table class=\"simpletable\">\n",
       "<tr>\n",
       "  <th>Omnibus:</th>       <td> 1.390</td> <th>  Durbin-Watson:     </th> <td>   0.995</td>\n",
       "</tr>\n",
       "<tr>\n",
       "  <th>Prob(Omnibus):</th> <td> 0.499</td> <th>  Jarque-Bera (JB):  </th> <td>   1.098</td>\n",
       "</tr>\n",
       "<tr>\n",
       "  <th>Skew:</th>          <td> 0.115</td> <th>  Prob(JB):          </th> <td>   0.578</td>\n",
       "</tr>\n",
       "<tr>\n",
       "  <th>Kurtosis:</th>      <td> 2.312</td> <th>  Cond. No.          </th> <td>3.59e+03</td>\n",
       "</tr>\n",
       "</table><br/><br/>Notes:<br/>[1] Standard Errors assume that the covariance matrix of the errors is correctly specified.<br/>[2] The condition number is large, 3.59e+03. This might indicate that there are<br/>strong multicollinearity or other numerical problems."
      ],
      "text/latex": [
       "\\begin{center}\n",
       "\\begin{tabular}{lclc}\n",
       "\\toprule\n",
       "\\textbf{Dep. Variable:}    &        y         & \\textbf{  R-squared:         } &     0.758   \\\\\n",
       "\\textbf{Model:}            &       OLS        & \\textbf{  Adj. R-squared:    } &     0.747   \\\\\n",
       "\\textbf{Method:}           &  Least Squares   & \\textbf{  F-statistic:       } &     73.44   \\\\\n",
       "\\textbf{Date:}             & Sat, 24 May 2025 & \\textbf{  Prob (F-statistic):} &  3.45e-15   \\\\\n",
       "\\textbf{Time:}             &     19:47:21     & \\textbf{  Log-Likelihood:    } &   -92.391   \\\\\n",
       "\\textbf{No. Observations:} &          50      & \\textbf{  AIC:               } &     190.8   \\\\\n",
       "\\textbf{Df Residuals:}     &          47      & \\textbf{  BIC:               } &     196.5   \\\\\n",
       "\\textbf{Df Model:}         &           2      & \\textbf{                     } &             \\\\\n",
       "\\textbf{Covariance Type:}  &    nonrobust     & \\textbf{                     } &             \\\\\n",
       "\\bottomrule\n",
       "\\end{tabular}\n",
       "\\begin{tabular}{lcccccc}\n",
       "               & \\textbf{coef} & \\textbf{std err} & \\textbf{t} & \\textbf{P$> |$t$|$} & \\textbf{[0.025} & \\textbf{0.975]}  \\\\\n",
       "\\midrule\n",
       "\\textbf{const} &      15.1051  &        0.700     &    21.587  &         0.000        &       13.697    &       16.513     \\\\\n",
       "\\textbf{x1}    &      -0.2076  &        0.063     &    -3.280  &         0.002        &       -0.335    &       -0.080     \\\\\n",
       "\\textbf{x2}    &       0.0004  &        0.001     &     0.319  &         0.751        &       -0.002    &        0.003     \\\\\n",
       "\\bottomrule\n",
       "\\end{tabular}\n",
       "\\begin{tabular}{lclc}\n",
       "\\textbf{Omnibus:}       &  1.390 & \\textbf{  Durbin-Watson:     } &    0.995  \\\\\n",
       "\\textbf{Prob(Omnibus):} &  0.499 & \\textbf{  Jarque-Bera (JB):  } &    1.098  \\\\\n",
       "\\textbf{Skew:}          &  0.115 & \\textbf{  Prob(JB):          } &    0.578  \\\\\n",
       "\\textbf{Kurtosis:}      &  2.312 & \\textbf{  Cond. No.          } & 3.59e+03  \\\\\n",
       "\\bottomrule\n",
       "\\end{tabular}\n",
       "%\\caption{OLS Regression Results}\n",
       "\\end{center}\n",
       "\n",
       "Notes: \\newline\n",
       " [1] Standard Errors assume that the covariance matrix of the errors is correctly specified. \\newline\n",
       " [2] The condition number is large, 3.59e+03. This might indicate that there are \\newline\n",
       " strong multicollinearity or other numerical problems."
      ],
      "text/plain": [
       "<class 'statsmodels.iolib.summary.Summary'>\n",
       "\"\"\"\n",
       "                            OLS Regression Results                            \n",
       "==============================================================================\n",
       "Dep. Variable:                      y   R-squared:                       0.758\n",
       "Model:                            OLS   Adj. R-squared:                  0.747\n",
       "Method:                 Least Squares   F-statistic:                     73.44\n",
       "Date:                Sat, 24 May 2025   Prob (F-statistic):           3.45e-15\n",
       "Time:                        19:47:21   Log-Likelihood:                -92.391\n",
       "No. Observations:                  50   AIC:                             190.8\n",
       "Df Residuals:                      47   BIC:                             196.5\n",
       "Df Model:                           2                                         \n",
       "Covariance Type:            nonrobust                                         \n",
       "==============================================================================\n",
       "                 coef    std err          t      P>|t|      [0.025      0.975]\n",
       "------------------------------------------------------------------------------\n",
       "const         15.1051      0.700     21.587      0.000      13.697      16.513\n",
       "x1            -0.2076      0.063     -3.280      0.002      -0.335      -0.080\n",
       "x2             0.0004      0.001      0.319      0.751      -0.002       0.003\n",
       "==============================================================================\n",
       "Omnibus:                        1.390   Durbin-Watson:                   0.995\n",
       "Prob(Omnibus):                  0.499   Jarque-Bera (JB):                1.098\n",
       "Skew:                           0.115   Prob(JB):                        0.578\n",
       "Kurtosis:                       2.312   Cond. No.                     3.59e+03\n",
       "==============================================================================\n",
       "\n",
       "Notes:\n",
       "[1] Standard Errors assume that the covariance matrix of the errors is correctly specified.\n",
       "[2] The condition number is large, 3.59e+03. This might indicate that there are\n",
       "strong multicollinearity or other numerical problems.\n",
       "\"\"\""
      ]
     },
     "execution_count": 20,
     "metadata": {},
     "output_type": "execute_result"
    }
   ],
   "source": [
    "# квадратичная регрессия\n",
    "X_quad = sm.add_constant(np.column_stack((X, X**2)))\n",
    "model_quad = sm.OLS(Y, X_quad)\n",
    "results_quad = model_quad.fit()\n",
    "b0, b1, b2 = results_quad.params\n",
    "print(f\"Уравнение регрессии: Y = {b2:.3f}*X^2 + {b1:.3f}*X + {b0:.3f}\")\n",
    "print(f\"коэффициент детерминации: R^2 = {results_quad.rsquared}\")\n",
    "Y_quad_predicted = b2 * X * X + b1 * X + b0\n",
    "results_quad.summary()\n"
   ]
  },
  {
   "cell_type": "code",
   "execution_count": 21,
   "id": "aace18e0",
   "metadata": {},
   "outputs": [
    {
     "name": "stdout",
     "output_type": "stream",
     "text": [
      "Уравнение регрессии: Y = 13.306/X + 8.943\n",
      "коэффициент детерминации: R^2 = 0.4442845343578149\n"
     ]
    },
    {
     "data": {
      "text/html": [
       "<table class=\"simpletable\">\n",
       "<caption>OLS Regression Results</caption>\n",
       "<tr>\n",
       "  <th>Dep. Variable:</th>            <td>y</td>        <th>  R-squared:         </th> <td>   0.444</td>\n",
       "</tr>\n",
       "<tr>\n",
       "  <th>Model:</th>                   <td>OLS</td>       <th>  Adj. R-squared:    </th> <td>   0.433</td>\n",
       "</tr>\n",
       "<tr>\n",
       "  <th>Method:</th>             <td>Least Squares</td>  <th>  F-statistic:       </th> <td>   38.38</td>\n",
       "</tr>\n",
       "<tr>\n",
       "  <th>Date:</th>             <td>Sat, 24 May 2025</td> <th>  Prob (F-statistic):</th> <td>1.26e-07</td>\n",
       "</tr>\n",
       "<tr>\n",
       "  <th>Time:</th>                 <td>19:47:21</td>     <th>  Log-Likelihood:    </th> <td> -113.13</td>\n",
       "</tr>\n",
       "<tr>\n",
       "  <th>No. Observations:</th>      <td>    50</td>      <th>  AIC:               </th> <td>   230.3</td>\n",
       "</tr>\n",
       "<tr>\n",
       "  <th>Df Residuals:</th>          <td>    48</td>      <th>  BIC:               </th> <td>   234.1</td>\n",
       "</tr>\n",
       "<tr>\n",
       "  <th>Df Model:</th>              <td>     1</td>      <th>                     </th>     <td> </td>   \n",
       "</tr>\n",
       "<tr>\n",
       "  <th>Covariance Type:</th>      <td>nonrobust</td>    <th>                     </th>     <td> </td>   \n",
       "</tr>\n",
       "</table>\n",
       "<table class=\"simpletable\">\n",
       "<tr>\n",
       "    <td></td>       <th>coef</th>     <th>std err</th>      <th>t</th>      <th>P>|t|</th>  <th>[0.025</th>    <th>0.975]</th>  \n",
       "</tr>\n",
       "<tr>\n",
       "  <th>const</th> <td>    8.9432</td> <td>    0.387</td> <td>   23.095</td> <td> 0.000</td> <td>    8.165</td> <td>    9.722</td>\n",
       "</tr>\n",
       "<tr>\n",
       "  <th>x1</th>    <td>   13.3061</td> <td>    2.148</td> <td>    6.195</td> <td> 0.000</td> <td>    8.987</td> <td>   17.625</td>\n",
       "</tr>\n",
       "</table>\n",
       "<table class=\"simpletable\">\n",
       "<tr>\n",
       "  <th>Omnibus:</th>       <td> 6.687</td> <th>  Durbin-Watson:     </th> <td>   0.522</td>\n",
       "</tr>\n",
       "<tr>\n",
       "  <th>Prob(Omnibus):</th> <td> 0.035</td> <th>  Jarque-Bera (JB):  </th> <td>   5.963</td>\n",
       "</tr>\n",
       "<tr>\n",
       "  <th>Skew:</th>          <td>-0.833</td> <th>  Prob(JB):          </th> <td>  0.0507</td>\n",
       "</tr>\n",
       "<tr>\n",
       "  <th>Kurtosis:</th>      <td> 3.291</td> <th>  Cond. No.          </th> <td>    6.45</td>\n",
       "</tr>\n",
       "</table><br/><br/>Notes:<br/>[1] Standard Errors assume that the covariance matrix of the errors is correctly specified."
      ],
      "text/latex": [
       "\\begin{center}\n",
       "\\begin{tabular}{lclc}\n",
       "\\toprule\n",
       "\\textbf{Dep. Variable:}    &        y         & \\textbf{  R-squared:         } &     0.444   \\\\\n",
       "\\textbf{Model:}            &       OLS        & \\textbf{  Adj. R-squared:    } &     0.433   \\\\\n",
       "\\textbf{Method:}           &  Least Squares   & \\textbf{  F-statistic:       } &     38.38   \\\\\n",
       "\\textbf{Date:}             & Sat, 24 May 2025 & \\textbf{  Prob (F-statistic):} &  1.26e-07   \\\\\n",
       "\\textbf{Time:}             &     19:47:21     & \\textbf{  Log-Likelihood:    } &   -113.13   \\\\\n",
       "\\textbf{No. Observations:} &          50      & \\textbf{  AIC:               } &     230.3   \\\\\n",
       "\\textbf{Df Residuals:}     &          48      & \\textbf{  BIC:               } &     234.1   \\\\\n",
       "\\textbf{Df Model:}         &           1      & \\textbf{                     } &             \\\\\n",
       "\\textbf{Covariance Type:}  &    nonrobust     & \\textbf{                     } &             \\\\\n",
       "\\bottomrule\n",
       "\\end{tabular}\n",
       "\\begin{tabular}{lcccccc}\n",
       "               & \\textbf{coef} & \\textbf{std err} & \\textbf{t} & \\textbf{P$> |$t$|$} & \\textbf{[0.025} & \\textbf{0.975]}  \\\\\n",
       "\\midrule\n",
       "\\textbf{const} &       8.9432  &        0.387     &    23.095  &         0.000        &        8.165    &        9.722     \\\\\n",
       "\\textbf{x1}    &      13.3061  &        2.148     &     6.195  &         0.000        &        8.987    &       17.625     \\\\\n",
       "\\bottomrule\n",
       "\\end{tabular}\n",
       "\\begin{tabular}{lclc}\n",
       "\\textbf{Omnibus:}       &  6.687 & \\textbf{  Durbin-Watson:     } &    0.522  \\\\\n",
       "\\textbf{Prob(Omnibus):} &  0.035 & \\textbf{  Jarque-Bera (JB):  } &    5.963  \\\\\n",
       "\\textbf{Skew:}          & -0.833 & \\textbf{  Prob(JB):          } &   0.0507  \\\\\n",
       "\\textbf{Kurtosis:}      &  3.291 & \\textbf{  Cond. No.          } &     6.45  \\\\\n",
       "\\bottomrule\n",
       "\\end{tabular}\n",
       "%\\caption{OLS Regression Results}\n",
       "\\end{center}\n",
       "\n",
       "Notes: \\newline\n",
       " [1] Standard Errors assume that the covariance matrix of the errors is correctly specified."
      ],
      "text/plain": [
       "<class 'statsmodels.iolib.summary.Summary'>\n",
       "\"\"\"\n",
       "                            OLS Regression Results                            \n",
       "==============================================================================\n",
       "Dep. Variable:                      y   R-squared:                       0.444\n",
       "Model:                            OLS   Adj. R-squared:                  0.433\n",
       "Method:                 Least Squares   F-statistic:                     38.38\n",
       "Date:                Sat, 24 May 2025   Prob (F-statistic):           1.26e-07\n",
       "Time:                        19:47:21   Log-Likelihood:                -113.13\n",
       "No. Observations:                  50   AIC:                             230.3\n",
       "Df Residuals:                      48   BIC:                             234.1\n",
       "Df Model:                           1                                         \n",
       "Covariance Type:            nonrobust                                         \n",
       "==============================================================================\n",
       "                 coef    std err          t      P>|t|      [0.025      0.975]\n",
       "------------------------------------------------------------------------------\n",
       "const          8.9432      0.387     23.095      0.000       8.165       9.722\n",
       "x1            13.3061      2.148      6.195      0.000       8.987      17.625\n",
       "==============================================================================\n",
       "Omnibus:                        6.687   Durbin-Watson:                   0.522\n",
       "Prob(Omnibus):                  0.035   Jarque-Bera (JB):                5.963\n",
       "Skew:                          -0.833   Prob(JB):                       0.0507\n",
       "Kurtosis:                       3.291   Cond. No.                         6.45\n",
       "==============================================================================\n",
       "\n",
       "Notes:\n",
       "[1] Standard Errors assume that the covariance matrix of the errors is correctly specified.\n",
       "\"\"\""
      ]
     },
     "execution_count": 21,
     "metadata": {},
     "output_type": "execute_result"
    }
   ],
   "source": [
    "# гиперболическая регрессия\n",
    "X_hyper = sm.add_constant(1 / X)\n",
    "model_hyper = sm.OLS(Y, X_hyper)\n",
    "results_hyper = model_hyper.fit()\n",
    "a, b = results_hyper.params\n",
    "print(f\"Уравнение регрессии: Y = {b:.3f}/X + {a:.3f}\")\n",
    "print(f\"коэффициент детерминации: R^2 = {results_hyper.rsquared}\")\n",
    "Y_hyper_predicted = b / X + a\n",
    "results_hyper.summary()\n"
   ]
  },
  {
   "cell_type": "code",
   "execution_count": 22,
   "id": "56ec334a",
   "metadata": {},
   "outputs": [
    {
     "data": {
      "image/png": "[encoded data removed]",
      "text/plain": [
       "<Figure size 640x480 with 1 Axes>"
      ]
     },
     "metadata": {},
     "output_type": "display_data"
    }
   ],
   "source": [
    "plt.scatter(X, Y, color='blue', s=10)\n",
    "plt.plot(X, Y_linear_predicted, color=\"red\", label=\"Линейная регрессия\")\n",
    "plt.plot(X, Y_quad_predicted, color=\"green\", label=\"Квадратичная регрессия\")\n",
    "plt.plot(X, Y_hyper_predicted, color=\"black\", label=\"Гиперболическая регрессия\")\n",
    "plt.xlabel('X')\n",
    "plt.ylabel('Y')\n",
    "plt.title('сравнение моделей')\n",
    "plt.legend(loc='upper left')\n",
    "plt.grid(True, linestyle='--', alpha=0.7)\n",
    "plt.show()"
   ]
  },
  {
   "cell_type": "markdown",
   "id": "0ca66b80",
   "metadata": {},
   "source": [
    "(исходя из коэффициента детерминации) квадратичная регрессия показала себя лучше всего"
   ]
  },
  {
   "cell_type": "markdown",
   "id": "ae8a516a",
   "metadata": {},
   "source": [
    "Все обновления и историю изменений можно посмотреть по ссылке в моём репозитории \\\n",
    "https://github.com/matv864/AI_work/tree/main/matstat"
   ]
  }
 ],
 "metadata": {
  "kernelspec": {
   "display_name": ".venv",
   "language": "python",
   "name": "python3"
  },
  "language_info": {
   "codemirror_mode": {
    "name": "ipython",
    "version": 3
   },
   "file_extension": ".py",
   "mimetype": "text/x-python",
   "name": "python",
   "nbconvert_exporter": "python",
   "pygments_lexer": "ipython3",
   "version": "3.12.3"
  }
 },
 "nbformat": 4,
 "nbformat_minor": 5
}
