{
 "cells": [
  {
   "cell_type": "code",
   "execution_count": 51,
   "metadata": {},
   "outputs": [],
   "source": [
    "import numpy as np\n",
    "import datetime as dt\n",
    "import random as rand\n",
    "import pandas as pd\n",
    "from pprint import pprint\n",
    "from itertools import chain\n",
    "\n",
    "%run stepik_1.ipynb"
   ]
  },
  {
   "cell_type": "markdown",
   "metadata": {},
   "source": [
    "### Спомсобы нормализации данных\n",
    "\n",
    "- все значения перевести в [0, 1] $$p'_i=\\frac{p_i-\\min{\\{ p_i \\}}}{\\max{\\{ p_i \\}} - \\min{\\{ p_i \\}}}$$\n",
    "- через среднее и отклонение $$p'_i=\\frac{p_i-\\overline{p}}{s}$$"
   ]
  },
  {
   "cell_type": "code",
   "execution_count": 64,
   "metadata": {},
   "outputs": [],
   "source": [
    "def normalization_data_1(array: np.ndarray, target_index: int) -> int:\n",
    "    return (array[target_index] - array.min()) / (array.max() - array.min())"
   ]
  },
  {
   "cell_type": "code",
   "execution_count": 63,
   "metadata": {},
   "outputs": [],
   "source": [
    "def normalization_data_2(array: np.ndarray, target_index: int) -> int:\n",
    "    return (array[target_index] - array.mean()) / (get_deviation(array))"
   ]
  },
  {
   "cell_type": "markdown",
   "metadata": {},
   "source": [
    "### Способы восстановление данных\n",
    "- Евклидово расстояние\n",
    "- Манхэттенское расстояние\n",
    "- max метрика max(abs(x_i-x_j), abs(y_i-y_j), ...)\n",
    "- коэффициент корреляции\n"
   ]
  },
  {
   "cell_type": "code",
   "execution_count": null,
   "metadata": {},
   "outputs": [],
   "source": [
    "# восстановление данных с помощью коэффициента корреляции\n",
    "\n",
    "def get_pd_serial_without(\n",
    "    data: pd.DataFrame,\n",
    "    feature_index: int,\n",
    "    object_index: int\n",
    "):\n",
    "    return pd.concat([data[feature_index][:object_index], data[feature_index][object_index+1:]])\n",
    "\n",
    "def recover_by_coef_correlation(\n",
    "    data: pd.DataFrame,\n",
    "    feature_index: int,\n",
    "    object_index: int\n",
    "):\n",
    "    target_feature_mean = get_pd_serial_without(data, feature_index, object_index).mean()\n",
    "        \n",
    "    return (\n",
    "        target_feature_mean +\n",
    "        (\n",
    "            sum(\n",
    "                [\n",
    "                    (\n",
    "                        get_coef_correlation(\n",
    "                            get_pd_serial_without(data, feature_index, object_index),\n",
    "                            get_pd_serial_without(data, j, object_index)\n",
    "                        )\n",
    "                        *\n",
    "                        (data[j][object_index] - data[j].mean())\n",
    "                    )\n",
    "                    for j in chain(range(0, feature_index), range(feature_index+1, data.shape[1]))\n",
    "                ]\n",
    "            )\n",
    "            /\n",
    "            sum(\n",
    "                [\n",
    "                    (\n",
    "                        get_coef_correlation(\n",
    "                            get_pd_serial_without(data, feature_index, object_index),\n",
    "                            get_pd_serial_without(data, j, object_index)\n",
    "                        )\n",
    "                    )\n",
    "                    for j in chain(range(0, feature_index), range(feature_index+1, data.shape[1]))\n",
    "                ]\n",
    "            )\n",
    "        )\n",
    "    )\n",
    "\n"
   ]
  },
  {
   "cell_type": "code",
   "execution_count": 53,
   "metadata": {},
   "outputs": [
    {
     "name": "stdout",
     "output_type": "stream",
     "text": [
      "(7, 5)\n",
      "94.43811215935997\n"
     ]
    }
   ],
   "source": [
    "data = pd.DataFrame(\n",
    "    [\n",
    "        [99, 56, 91, 160, 58],\n",
    "        [89, 58, 89, 157, 48],\n",
    "        [91, 64, 91, 165, 54],\n",
    "        [91, 51, 91, 170, 54],\n",
    "        [86, 56, 84, 157, 44],\n",
    "        [97, 53, 86, 175, 56],\n",
    "        [0 , 51, 91, 165, 54],\n",
    "    ]\n",
    ")\n",
    "print(data.shape)\n",
    "print(recover_by_coef_correlation(data, 0, 6))"
   ]
  },
  {
   "cell_type": "code",
   "execution_count": 55,
   "metadata": {},
   "outputs": [
    {
     "name": "stdout",
     "output_type": "stream",
     "text": [
      "1.8708286933869707\n",
      "2.0\n"
     ]
    }
   ],
   "source": [
    "print(get_deviation(np.array([1,0,5,2,2])))\n",
    "print(np.array([1,0,5,2,2]).mean())"
   ]
  }
 ],
 "metadata": {
  "kernelspec": {
   "display_name": ".venv",
   "language": "python",
   "name": "python3"
  },
  "language_info": {
   "codemirror_mode": {
    "name": "ipython",
    "version": 3
   },
   "file_extension": ".py",
   "mimetype": "text/x-python",
   "name": "python",
   "nbconvert_exporter": "python",
   "pygments_lexer": "ipython3",
   "version": "3.12.8"
  }
 },
 "nbformat": 4,
 "nbformat_minor": 2
}
