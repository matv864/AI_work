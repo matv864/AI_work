{
 "cells": [
  {
   "cell_type": "code",
   "execution_count": 89,
   "metadata": {},
   "outputs": [],
   "source": [
    "import numpy as np\n",
    "import datetime as dt\n",
    "import random as rand\n",
    "from pprint import pprint"
   ]
  },
  {
   "cell_type": "markdown",
   "metadata": {},
   "source": [
    "### Признаки\n",
    "- числовые\n",
    "- номинальные (классификация) (в т.ч. бинарные)\n",
    "- порядковые"
   ]
  },
  {
   "cell_type": "code",
   "execution_count": 90,
   "metadata": {},
   "outputs": [
    {
     "data": {
      "text/plain": [
       "np.float64(1.5)"
      ]
     },
     "execution_count": 90,
     "metadata": {},
     "output_type": "execute_result"
    }
   ],
   "source": [
    "# среднее - арифметическое (\\overline{p})\n",
    "np.array([-1,0,4,2,1,2]).mean()\n",
    "\n",
    "# медиана - число, с которым колво чисел меньших и больших этого числа равны\n",
    "np.median(np.array([-1,0,4,2,1,2]))"
   ]
  },
  {
   "cell_type": "markdown",
   "metadata": {},
   "source": [
    "### Отклонение\n",
    "основная формула\n",
    "$$s_p = \\sqrt{\\frac{1}{n-1}\\sum^n_{i=1}{(p_i-\\overline{p})^2}}$$"
   ]
  },
  {
   "cell_type": "code",
   "execution_count": 96,
   "metadata": {},
   "outputs": [],
   "source": [
    "def get_deviation(array: np.ndarray):\n",
    "    return ((1/(array.size-1))*((array - array.mean())**2).sum())**(1/2)"
   ]
  },
  {
   "cell_type": "code",
   "execution_count": 97,
   "metadata": {},
   "outputs": [
    {
     "data": {
      "text/plain": [
       "np.float64(1.7511900715418263)"
      ]
     },
     "execution_count": 97,
     "metadata": {},
     "output_type": "execute_result"
    }
   ],
   "source": [
    "get_deviation(np.array([-1,0,4,2,1,2]))"
   ]
  },
  {
   "cell_type": "markdown",
   "metadata": {},
   "source": [
    "### Коэффициент корреляции\n",
    "формула для нахождения коэффициента корреляции\n",
    "Пусть $P=(p_1, p_2, \\cdots, p_n)$, $Q=(q_1, q_2, \\cdots, q_n)$\n",
    "$$r(P, Q) = \\frac{\\sum^{n}_{i=1}{p_i q_i - n\\overline{p}\\overline{q}}}{(n-1)s_p s_q}$$"
   ]
  },
  {
   "cell_type": "code",
   "execution_count": 94,
   "metadata": {},
   "outputs": [],
   "source": [
    "def get_coef_correlation(feature_1: np.ndarray, feature_2: np.ndarray):\n",
    "    feature_1_mean = feature_1.mean()\n",
    "    feature_2_mean = feature_2.mean()\n",
    "    feature_1_deviation = get_deviation(feature_1)\n",
    "    feature_2_deviation = get_deviation(feature_2)\n",
    "    return (\n",
    "        ((feature_1 * feature_2).sum() - feature_1.size * feature_1_mean * feature_2_mean)\n",
    "        /\n",
    "        ((feature_1.size - 1) * feature_1_deviation * feature_2_deviation)\n",
    "    )\n",
    "\n"
   ]
  },
  {
   "cell_type": "code",
   "execution_count": 95,
   "metadata": {},
   "outputs": [
    {
     "data": {
      "text/plain": [
       "np.float64(0.3333333333338623)"
      ]
     },
     "execution_count": 95,
     "metadata": {},
     "output_type": "execute_result"
    }
   ],
   "source": [
    "get_coef_correlation(np.array([10000000,3,2,1]), np.array([12,9,-10000000000000,3]))"
   ]
  },
  {
   "cell_type": "markdown",
   "metadata": {},
   "source": [
    "### Задача\n",
    "Однажды я попросил, чтобы студенты ответили на два вопроса анкеты «ваш год рождения» и «ваш возраст».\n",
    "\n",
    "Из их ответов я сформировал таблицу, в которой был столбец Р=«год рождения студента» и Q=«возраст студента».\n",
    "\n",
    "Оказывается, значение коэффициента корреляции признаков P и Q зависит от месяца, в котором проводилось анкетирование (это не шутка!). Укажите два месяца, которым соответствует наименьшее (по модулю) значение коэффициента корреляции признаков P и Q."
   ]
  },
  {
   "cell_type": "code",
   "execution_count": 93,
   "metadata": {},
   "outputs": [
    {
     "data": {
      "text/plain": [
       "[(8, np.float64(-0.9998718518587216)),\n",
       " (6, np.float64(-0.9998720388316207)),\n",
       " (3, np.float64(-0.9998883969644732)),\n",
       " (5, np.float64(-0.9998957196870302)),\n",
       " (4, np.float64(-0.999913204538522)),\n",
       " (7, np.float64(-0.9999152373758428)),\n",
       " (10, np.float64(-0.999948525842287)),\n",
       " (9, np.float64(-0.9999500046838518)),\n",
       " (11, np.float64(-0.9999623555917477)),\n",
       " (2, np.float64(-0.9999659083676344)),\n",
       " (1, np.float64(-0.9999765598418047)),\n",
       " (12, np.float64(-1.000000000000006))]"
      ]
     },
     "execution_count": 93,
     "metadata": {},
     "output_type": "execute_result"
    }
   ],
   "source": [
    "\n",
    "months = list(range(13))\n",
    "\n",
    "for i in range(1, 13):\n",
    "    months[i] = [\n",
    "        (\n",
    "            birth_year := rand.randint(1900, 2024),\n",
    "            (\n",
    "                dt.date(year=2025, month=i, day=1) - dt.date(year=birth_year, month=j, day=1)\n",
    "            ).days // 365\n",
    "        )\n",
    "        for j in range(1, 13)\n",
    "    ]\n",
    "statistics = []\n",
    "\n",
    "for i in range(1, 13):\n",
    "    features = months[i]\n",
    "    birth_years = np.array([features[j][0] for j in range(12)])\n",
    "    ages = np.array([features[j][1] for j in range(12)])\n",
    "    coef = get_coef_correlation(birth_years, ages)\n",
    "    # print(f\"month - {i}, coef - {coef}\")\n",
    "    statistics.append((i, coef))\n",
    "\n",
    "sorted(statistics, key=lambda x: abs(x[1]))\n"
   ]
  }
 ],
 "metadata": {
  "kernelspec": {
   "display_name": ".venv",
   "language": "python",
   "name": "python3"
  },
  "language_info": {
   "codemirror_mode": {
    "name": "ipython",
    "version": 3
   },
   "file_extension": ".py",
   "mimetype": "text/x-python",
   "name": "python",
   "nbconvert_exporter": "python",
   "pygments_lexer": "ipython3",
   "version": "3.12.8"
  }
 },
 "nbformat": 4,
 "nbformat_minor": 2
}
