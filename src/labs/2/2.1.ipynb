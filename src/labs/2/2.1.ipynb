{
 "cells": [
  {
   "cell_type": "code",
   "execution_count": 53,
   "metadata": {},
   "outputs": [],
   "source": [
    "from typing import Sequence, Optional\n",
    "\n",
    "import os\n",
    "import random\n",
    "import math\n",
    "import numpy as np\n",
    "import cv2\n",
    "import matplotlib.pyplot as plt\n",
    "\n",
    "ABSOLUTE_PATH_SRC = \"C:/Users/arman/it/prog/AI/src\"\n",
    "GOOD_WIDTH = 900\n",
    "GOOD_HEIGHT = 600"
   ]
  },
  {
   "cell_type": "code",
   "execution_count": 2,
   "metadata": {},
   "outputs": [],
   "source": [
    "def show(*imgs: Sequence[cv2.typing.MatLike]):\n",
    "    counter = 1\n",
    "    for img in imgs:\n",
    "        width, height, *_ = img.shape\n",
    "        width, height = int(width / (height / GOOD_HEIGHT)), GOOD_HEIGHT\n",
    "        resize_img = cv2.resize(img, (width, height))\n",
    "        cv2.imshow(f\"image - {counter}\", resize_img)\n",
    "        counter += 1\n",
    "    cv2.waitKey(0)\n",
    "    cv2.destroyAllWindows()\n"
   ]
  },
  {
   "cell_type": "code",
   "execution_count": 77,
   "metadata": {},
   "outputs": [],
   "source": [
    "def get_image():\n",
    "    # return cv2.imread(f\"{ABSOLUTE_PATH_SRC}/random_images/image_6.jpg\", 1)\n",
    "    images_names = os.listdir(f\"{ABSOLUTE_PATH_SRC}/random_images/\")\n",
    "    return cv2.imread(f\"{ABSOLUTE_PATH_SRC}/random_images/{random.choice(images_names)}\", 1)"
   ]
  },
  {
   "cell_type": "markdown",
   "metadata": {},
   "source": [
    "1)\tСоздание маски изображения (черно-белого изображения, на которой белым выделен определенный объект, который требуется сегментировать, и черным выделено все остальное) либо вручную, либо при помощи "
   ]
  },
  {
   "cell_type": "code",
   "execution_count": null,
   "metadata": {},
   "outputs": [],
   "source": [
    "img = get_image()\n",
    "\n",
    "img = cv2.cvtColor(img, cv2.COLOR_BGR2GRAY)\n",
    "# ret, mask = cv2.threshold(img, 127, 255, cv2.THRESH_BINARY)\n",
    "ret, mask = cv2.threshold(img,0,255,cv2.THRESH_BINARY | cv2.THRESH_OTSU)\n",
    "\n",
    "show(mask)\n"
   ]
  },
  {
   "cell_type": "markdown",
   "metadata": {},
   "source": [
    "2)\tГенератор изображений для аугментации изображения, случайным образом реализующий одну или несколько операций, таких как:"
   ]
  },
  {
   "cell_type": "code",
   "execution_count": 7,
   "metadata": {},
   "outputs": [],
   "source": [
    "def scale(\n",
    "    img: cv2.typing.MatLike,\n",
    "    width: Optional[int] = None,\n",
    "    height: Optional[int] = None\n",
    ") -> cv2.typing.MatLike:\n",
    "    if width is None and height is None:\n",
    "        width, height = GOOD_WIDTH, GOOD_HEIGHT\n",
    "    elif width is None:\n",
    "        width = img.shape[0]\n",
    "        width, height = int(width / (height / GOOD_HEIGHT)), GOOD_HEIGHT\n",
    "    elif height is None:\n",
    "        height = img.shape[1]\n",
    "        width, height = GOOD_WIDTH, int(height / (width / GOOD_WIDTH))\n",
    "    \n",
    "    return cv2.resize(img, (width, height))"
   ]
  },
  {
   "cell_type": "code",
   "execution_count": 34,
   "metadata": {},
   "outputs": [],
   "source": [
    "def move(\n",
    "    img: cv2.typing.MatLike,\n",
    "    square1: tuple[int, int, int, int] = [0, 0, 100, 100], # x1, y1, x2, y2\n",
    "    square2: tuple[int, int, int, int] = [200, 200, 300, 300], # x1, y1, x2, y2\n",
    ") -> cv2.typing.MatLike:\n",
    "    first_square = (img[square1[1]:square1[3], square1[0]:square1[2]]).copy()\n",
    "    second_square = (img[square2[1]:square2[3], square2[0]:square2[2]]).copy()\n",
    "    img[square1[1]:square1[3], square1[0]:square1[2]] = second_square\n",
    "    img[square2[1]:square2[3], square2[0]:square2[2]] = first_square\n",
    "    return img"
   ]
  },
  {
   "cell_type": "code",
   "execution_count": 58,
   "metadata": {},
   "outputs": [],
   "source": [
    "def rotate(\n",
    "    img: cv2.typing.MatLike,\n",
    "    angle: int # [0, 90]\n",
    ") -> cv2.typing.MatLike:\n",
    "    img_center = tuple(np.array(img.shape[1::-1]) / 2)\n",
    "    rot_mat = cv2.getRotationMatrix2D(img_center, angle, 1.0)\n",
    "\n",
    "    h, w = img.shape[:2]\n",
    "    img_c = (w / 2, h / 2)\n",
    "    rad = math.radians(angle)\n",
    "    sin = math.sin(rad)\n",
    "    cos = math.cos(rad)\n",
    "    b_w = int((h * abs(sin)) + (w * abs(cos)))\n",
    "    b_h = int((h * abs(cos)) + (w * abs(sin)))\n",
    "\n",
    "    rot_mat[0, 2] += ((b_w / 2) - img_c[0])\n",
    "    rot_mat[1, 2] += ((b_h / 2) - img_c[1])\n",
    "\n",
    "    return cv2.warpAffine(img, rot_mat, (b_w, b_h), flags=cv2.INTER_LINEAR)\n"
   ]
  },
  {
   "cell_type": "code",
   "execution_count": 78,
   "metadata": {},
   "outputs": [],
   "source": [
    "def reflection(\n",
    "    img: cv2.typing.MatLike,\n",
    "    vertical: bool = False,\n",
    "    horizontal: bool = False\n",
    ") -> cv2.typing.MatLike:\n",
    "    if vertical and horizontal:\n",
    "        return cv2.flip(img, -1)\n",
    "    elif vertical:\n",
    "        return cv2.flip(img, 0)\n",
    "    elif horizontal:\n",
    "        return cv2.flip(img, 1)\n",
    "    else:\n",
    "        return img"
   ]
  },
  {
   "cell_type": "code",
   "execution_count": 80,
   "metadata": {},
   "outputs": [],
   "source": [
    "img = get_image()\n",
    "ready_images = []\n",
    "w, h = img.shape[:2]\n",
    "for _ in range(100+1):\n",
    "    reflection_vert = random.choice([False, True])\n",
    "    reflection_hori = random.choice([False, True])\n",
    "\n",
    "    angle = random.randint(0, 180)\n",
    "\n",
    "    ready_images.append(reflection(rotate(img, angle=angle), reflection_vert, reflection_hori))\n",
    "    \n",
    "show(ready_images[0])"
   ]
  }
 ],
 "metadata": {
  "kernelspec": {
   "display_name": ".venv",
   "language": "python",
   "name": "python3"
  },
  "language_info": {
   "codemirror_mode": {
    "name": "ipython",
    "version": 3
   },
   "file_extension": ".py",
   "mimetype": "text/x-python",
   "name": "python",
   "nbconvert_exporter": "python",
   "pygments_lexer": "ipython3",
   "version": "3.12.8"
  }
 },
 "nbformat": 4,
 "nbformat_minor": 2
}
