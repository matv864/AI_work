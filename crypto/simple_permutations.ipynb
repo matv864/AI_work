{
 "cells": [
  {
   "cell_type": "code",
   "execution_count": 1,
   "id": "3d05a25b",
   "metadata": {},
   "outputs": [],
   "source": [
    "import math"
   ]
  },
  {
   "cell_type": "markdown",
   "id": "2b89c3ee",
   "metadata": {},
   "source": [
    "с 76\n",
    "Шифр простой перестановки"
   ]
  },
  {
   "cell_type": "code",
   "execution_count": 2,
   "id": "b6ca498e",
   "metadata": {},
   "outputs": [],
   "source": [
    "def simple_permutation(data: str, key: int) -> str:\n",
    "    # key - depth of table\n",
    "    # data = data.replace(\" \", \"\")\n",
    "    return \"\".join([data[i::key] for i in range(key)])\n"
   ]
  },
  {
   "cell_type": "code",
   "execution_count": 3,
   "id": "5b094e9b",
   "metadata": {},
   "outputs": [],
   "source": [
    "def decode_simple_permutations(encoded_data: str, decoded_key: int) -> str:\n",
    "    return \"\".join([encoded_data[i::decoded_key] for i in range(decoded_key)])"
   ]
  },
  {
   "cell_type": "code",
   "execution_count": 4,
   "id": "87abcc12",
   "metadata": {},
   "outputs": [],
   "source": [
    "def find_second_key(data_len: int, key: int) -> int:\n",
    "    return math.ceil(data_len / key)"
   ]
  },
  {
   "cell_type": "code",
   "execution_count": 5,
   "id": "91cf10f0",
   "metadata": {},
   "outputs": [],
   "source": [
    "def hack_simple_permutations_brutforce(encoded_data: str, word: str):\n",
    "    variants = []\n",
    "    for key in range(1, len(encoded_data)):\n",
    "        s = decode_simple_permutations(encoded_data, find_second_key(len(encoded_data), key))\n",
    "        if word in s:\n",
    "            variants.append(s)\n",
    "    return variants"
   ]
  },
  {
   "cell_type": "code",
   "execution_count": null,
   "id": "7e1c0e5b",
   "metadata": {},
   "outputs": [],
   "source": []
  },
  {
   "cell_type": "code",
   "execution_count": 6,
   "id": "08087407",
   "metadata": {},
   "outputs": [
    {
     "name": "stdout",
     "output_type": "stream",
     "text": [
      "Г КЛРБ РОМ ИЕЛБУРИСЦСИЕСОНТАПКЛЬДСО УИА\n",
      "ГОРОД МИНСК СТОЛИЦА РЕСПУБЛИКИ БЕЛАРУСЬ\n",
      "['ГОРОД МИНСК СТОЛИЦА РЕСПУБЛИКИ БЕЛАРУСЬ']\n"
     ]
    }
   ],
   "source": [
    "data = \"ГОРОД МИНСК СТОЛИЦА РЕСПУБЛИКИ БЕЛАРУСЬ\"\n",
    "word = \"СТОЛИЦА\"\n",
    "encoded_key = 5\n",
    "\n",
    "decoded_key = find_second_key(len(data), encoded_key)\n",
    "\n",
    "encoded_data = simple_permutation(data, encoded_key)\n",
    "print(encoded_data)\n",
    "decoded_data = decode_simple_permutations(encoded_data, decoded_key)\n",
    "print(decoded_data)\n",
    "print(hack_simple_permutations_brutforce(encoded_data, word))\n",
    "# print(hack_simple_permutations_analytic(encoded_data, word))\n"
   ]
  }
 ],
 "metadata": {
  "kernelspec": {
   "display_name": "ai-work (3.12.3)",
   "language": "python",
   "name": "python3"
  },
  "language_info": {
   "codemirror_mode": {
    "name": "ipython",
    "version": 3
   },
   "file_extension": ".py",
   "mimetype": "text/x-python",
   "name": "python",
   "nbconvert_exporter": "python",
   "pygments_lexer": "ipython3",
   "version": "3.12.3"
  }
 },
 "nbformat": 4,
 "nbformat_minor": 5
}
