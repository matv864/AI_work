{
 "cells": [
  {
   "cell_type": "code",
   "execution_count": 100,
   "id": "2d1188ed",
   "metadata": {},
   "outputs": [],
   "source": [
    "import math\n",
    "import random"
   ]
  },
  {
   "cell_type": "markdown",
   "id": "f10c84a2",
   "metadata": {},
   "source": [
    "c 77"
   ]
  },
  {
   "cell_type": "markdown",
   "id": "543fc9ec",
   "metadata": {},
   "source": [
    "для лучшего понимания кода\n",
    "self.word - это строка состоящая из букв\n",
    "self.title - это набор уникальных чисел, где каждое число принадлежит одному столбцу\n"
   ]
  },
  {
   "cell_type": "code",
   "execution_count": 101,
   "id": "f39f6bb3",
   "metadata": {},
   "outputs": [],
   "source": [
    "class Table:\n",
    "    def __init__(self, data: str, word: str):\n",
    "        self.word = word\n",
    "        self.title = []\n",
    "        self.rows = [list() for _ in range(len(self.word))]\n",
    "\n",
    "        self.depth = len(data) // len(word)\n",
    "        \n",
    "        need_to_space = len(data) - self.depth * len(word)\n",
    "        data += \" \" * need_to_space\n",
    "\n",
    "        for i in range(len(data)):\n",
    "            self.rows[i % len(self.word)].append(data[i])\n",
    "        self.title = list(range(len(self.rows)))\n",
    "        random.shuffle(self.title)\n",
    "\n",
    "    def get_current_key(self) -> str:\n",
    "        return \"\".join([str(i) for i in self.title])\n",
    "\n",
    "    def __shuffle(self, new_title: list[int]):\n",
    "        new_word = \"\"\n",
    "        new_rows = []\n",
    "        temp_dict = dict()\n",
    "\n",
    "        for i in range(len(self.title)):\n",
    "            temp_dict[self.title[i]] = (self.word[i], self.rows[i])\n",
    "\n",
    "        for i in new_title:\n",
    "            letter, row = temp_dict[i]\n",
    "            new_word += letter\n",
    "            new_rows.append(row)\n",
    "        \n",
    "        self.word = new_word\n",
    "        self.title = new_title\n",
    "        self.rows = new_rows\n",
    "        print(f\"it's shuffled by key {\"\".join([str(i) for i in new_title])}\")\n",
    "\n",
    "    \n",
    "    def shuffle_by_int(self, num: str):\n",
    "        self.__shuffle([int(i) for i in num])\n",
    "\n",
    "    def shuffle_by_word(self, word: str):\n",
    "        temp_dict = dict()\n",
    "        for i in range(len(self.title)):\n",
    "            temp_dict[self.word[i]] = self.title[i]\n",
    "        self.__shuffle([temp_dict[i] for i in word])\n",
    "    \n",
    "    def shuffle(self):\n",
    "        new_title = list(range(len(self.title)))\n",
    "        random.shuffle(new_title)\n",
    "        \n",
    "        self.__shuffle(new_title)\n",
    "    \n",
    "\n",
    "    def print_table(self):\n",
    "        print(*list(self.word))\n",
    "        print(*self.title)\n",
    "        for i in range(len(self.rows)):\n",
    "            print(*[row[i] for row in self.rows])\n",
    "    \n",
    "    def get_data(self):\n",
    "        data = \"\"\n",
    "        for j in range(self.depth):\n",
    "            for i in range(len(self.rows)):\n",
    "                data += self.rows[i][j]\n",
    "        return data\n",
    "        \n",
    "\n"
   ]
  },
  {
   "cell_type": "code",
   "execution_count": null,
   "id": "5034c458",
   "metadata": {},
   "outputs": [],
   "source": []
  },
  {
   "cell_type": "code",
   "execution_count": 102,
   "id": "7b17edf5",
   "metadata": {},
   "outputs": [
    {
     "name": "stdout",
     "output_type": "stream",
     "text": [
      "3201\n",
      "щ у к а\n",
      "3 2 0 1\n",
      "М и н с\n",
      "к и й А\n",
      "в т о з\n",
      "а в о д\n",
      "it's shuffled by key 0123\n",
      "к а у щ\n",
      "0 1 2 3\n",
      "н с и М\n",
      "й А и к\n",
      "о з т в\n",
      "о д в а\n",
      "it's shuffled by key 2013\n",
      "у к а щ\n",
      "2 0 1 3\n",
      "и н с М\n",
      "и й А к\n",
      "т о з в\n",
      "в о д а\n",
      "it's shuffled by key 3210\n",
      "щ у а к\n",
      "3 2 1 0\n",
      "М и с н\n",
      "к и А й\n",
      "в т з о\n",
      "а в д о\n",
      "it's shuffled by key 3201\n",
      "МинскийАвтозавод\n"
     ]
    }
   ],
   "source": [
    "t = Table(\"МинскийАвтозавод\", \"щука\")\n",
    "print(t.get_current_key())\n",
    "t.print_table()\n",
    "t.shuffle_by_int(\"0123\")\n",
    "t.print_table()\n",
    "t.shuffle_by_word(\"укащ\")\n",
    "t.print_table()\n",
    "t.shuffle()\n",
    "t.print_table()\n",
    "\n",
    "\n",
    "t.shuffle_by_word(\"щука\")\n",
    "print(t.get_data())\n"
   ]
  }
 ],
 "metadata": {
  "kernelspec": {
   "display_name": "ai-work (3.12.3)",
   "language": "python",
   "name": "python3"
  },
  "language_info": {
   "codemirror_mode": {
    "name": "ipython",
    "version": 3
   },
   "file_extension": ".py",
   "mimetype": "text/x-python",
   "name": "python",
   "nbconvert_exporter": "python",
   "pygments_lexer": "ipython3",
   "version": "3.12.3"
  }
 },
 "nbformat": 4,
 "nbformat_minor": 5
}
