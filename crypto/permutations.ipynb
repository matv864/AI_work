{
 "cells": [
  {
   "cell_type": "code",
   "execution_count": null,
   "id": "2d1188ed",
   "metadata": {},
   "outputs": [],
   "source": [
    "import random\n",
    "import itertools"
   ]
  },
  {
   "cell_type": "markdown",
   "id": "f10c84a2",
   "metadata": {},
   "source": [
    "c 77"
   ]
  },
  {
   "cell_type": "markdown",
   "id": "543fc9ec",
   "metadata": {},
   "source": [
    "для лучшего понимания кода \\\n",
    "self.word - это строка состоящая из букв \\\n",
    "self.title - это набор уникальных чисел, где каждое число принадлежит одному столбцу\n"
   ]
  },
  {
   "cell_type": "code",
   "execution_count": 55,
   "id": "f39f6bb3",
   "metadata": {},
   "outputs": [],
   "source": [
    "class Table:\n",
    "    def __init__(self, data: str, word: str):\n",
    "        self.word = word\n",
    "        self.title = []\n",
    "        self.rows = [list() for _ in range(len(self.word))]\n",
    "\n",
    "        self.depth = len(data) // len(word)\n",
    "        \n",
    "        need_to_space = len(data) - self.depth * len(word)\n",
    "        data += \" \" * need_to_space\n",
    "\n",
    "        for i in range(len(data)):\n",
    "            self.rows[i % len(self.word)].append(data[i])\n",
    "        self.title = list(range(len(self.rows)))\n",
    "        random.shuffle(self.title)\n",
    "\n",
    "    def get_current_key(self) -> str:\n",
    "        return \"\".join([str(i) for i in self.title])\n",
    "    \n",
    "    def get_current_key_word(self) -> str:\n",
    "        return self.word\n",
    "\n",
    "    def __shuffle(self, new_title: list[int]):\n",
    "        new_word = \"\"\n",
    "        new_rows = []\n",
    "        temp_dict = dict()\n",
    "\n",
    "        for i in range(len(self.title)):\n",
    "            temp_dict[self.title[i]] = (self.word[i], self.rows[i])\n",
    "\n",
    "        for i in new_title:\n",
    "            letter, row = temp_dict[i]\n",
    "            new_word += letter\n",
    "            new_rows.append(row)\n",
    "        \n",
    "        self.word = new_word\n",
    "        self.title = new_title\n",
    "        self.rows = new_rows\n",
    "\n",
    "    \n",
    "    def shuffle_by_int(self, num: str):\n",
    "        self.__shuffle([int(i) for i in num])\n",
    "\n",
    "    def shuffle_by_word(self, word: str):\n",
    "        temp_dict = dict()\n",
    "        for i in range(len(self.title)):\n",
    "            temp_dict[self.word[i]] = self.title[i]\n",
    "        self.__shuffle([temp_dict[i] for i in word])\n",
    "    \n",
    "    def shuffle(self):\n",
    "        new_title = list(range(len(self.title)))\n",
    "        random.shuffle(new_title)\n",
    "        \n",
    "        self.__shuffle(new_title)\n",
    "    \n",
    "\n",
    "    def print_table(self):\n",
    "        print(\"-\"*50)\n",
    "        print(*list(self.word))\n",
    "        print(*self.title)\n",
    "        for i in range(len(self.rows)):\n",
    "            print(*[row[i] for row in self.rows])\n",
    "        print(\"-\"*50)\n",
    "    \n",
    "    def get_data(self):\n",
    "        data = \"\"\n",
    "        for j in range(self.depth):\n",
    "            for i in range(len(self.rows)):\n",
    "                data += self.rows[i][j]\n",
    "        return data\n",
    "        \n",
    "\n"
   ]
  },
  {
   "cell_type": "code",
   "execution_count": 56,
   "id": "7b17edf5",
   "metadata": {},
   "outputs": [
    {
     "name": "stdout",
     "output_type": "stream",
     "text": [
      "0312\n",
      "--------------------------------------------------\n",
      "щ у к а\n",
      "0 3 1 2\n",
      "М и н с\n",
      "к и й А\n",
      "в т о з\n",
      "а в о д\n",
      "--------------------------------------------------\n"
     ]
    }
   ],
   "source": [
    "data_to_encrypt = \"МинскийАвтозаводзам\"\n",
    "key_word = \"щука\"\n",
    "t = Table(data_to_encrypt, key_word)\n",
    "print(t.get_current_key())\n",
    "t.print_table()\n",
    "\n",
    "\n"
   ]
  },
  {
   "cell_type": "code",
   "execution_count": 57,
   "id": "67b9a06e",
   "metadata": {},
   "outputs": [
    {
     "name": "stdout",
     "output_type": "stream",
     "text": [
      "--------------------------------------------------\n",
      "щ к а у\n",
      "0 1 2 3\n",
      "М н с и\n",
      "к й А и\n",
      "в о з т\n",
      "а о д в\n",
      "--------------------------------------------------\n",
      "--------------------------------------------------\n",
      "у к а щ\n",
      "3 1 2 0\n",
      "и н с М\n",
      "и й А к\n",
      "т о з в\n",
      "в о д а\n",
      "--------------------------------------------------\n",
      "--------------------------------------------------\n",
      "у к а щ\n",
      "3 1 2 0\n",
      "и н с М\n",
      "и й А к\n",
      "т о з в\n",
      "в о д а\n",
      "--------------------------------------------------\n",
      "МинскийАвтозавод\n"
     ]
    }
   ],
   "source": [
    "t.shuffle_by_int(\"0123\")\n",
    "t.print_table()\n",
    "t.shuffle_by_word(\"укащ\")\n",
    "t.print_table()\n",
    "t.shuffle()\n",
    "t.print_table()\n",
    "\n",
    "\n",
    "t.shuffle_by_word(\"щука\")\n",
    "print(t.get_data())"
   ]
  },
  {
   "cell_type": "code",
   "execution_count": 58,
   "id": "804997cc",
   "metadata": {},
   "outputs": [],
   "source": [
    "class BruteForceSolver:\n",
    "    def __init__(self, temp_table: Table, key_length: int):\n",
    "        self.temp_table = temp_table\n",
    "        self.key_length = key_length\n",
    "    \n",
    "    def brute_force_with_word_pattern(self, known_word: str):\n",
    "        \"\"\"\n",
    "        Брутфорс с учетом известного слова в тексте\n",
    "        \"\"\"\n",
    "        results = []\n",
    "        all_keys = list(itertools.permutations(range(self.key_length)))\n",
    "        \n",
    "        for key in all_keys:\n",
    "            key_str = ''.join(str(x) for x in key)\n",
    "        \n",
    "            self.temp_table.shuffle_by_int(key_str)\n",
    "            decrypted = self.temp_table.get_data()\n",
    "            \n",
    "\n",
    "            if known_word.lower() in decrypted.lower():\n",
    "                results.append((key_str, decrypted))\n",
    "                print(f\"Найден ключ с известным словом '{known_word}': {key_str} : {self.temp_table.get_current_key_word()}\")\n",
    "                print(f\"Расшифрованный текст: {decrypted}\")\n",
    "                print(\"-\" * 50)\n",
    "        \n",
    "        return results"
   ]
  },
  {
   "cell_type": "code",
   "execution_count": 59,
   "id": "dccbbdee",
   "metadata": {},
   "outputs": [
    {
     "name": "stdout",
     "output_type": "stream",
     "text": [
      "Найден ключ с известным словом 'за': 0132 : щкуа\n",
      "Расшифрованный текст: МнискйиАвотзаовд\n",
      "--------------------------------------------------\n",
      "Найден ключ с известным словом 'за': 0312 : щука\n",
      "Расшифрованный текст: МинскийАвтозавод\n",
      "--------------------------------------------------\n",
      "('0132', 'МнискйиАвотзаовд')\n",
      "('0312', 'МинскийАвтозавод')\n"
     ]
    }
   ],
   "source": [
    "known_word = \"за\"\n",
    "variants_of_decrypt = BruteForceSolver(t, len(key_word)).brute_force_with_word_pattern(known_word)\n",
    "print(*variants_of_decrypt, sep=\"\\n\")"
   ]
  }
 ],
 "metadata": {
  "kernelspec": {
   "display_name": "ai-work (3.12.3)",
   "language": "python",
   "name": "python3"
  },
  "language_info": {
   "codemirror_mode": {
    "name": "ipython",
    "version": 3
   },
   "file_extension": ".py",
   "mimetype": "text/x-python",
   "name": "python",
   "nbconvert_exporter": "python",
   "pygments_lexer": "ipython3",
   "version": "3.12.3"
  }
 },
 "nbformat": 4,
 "nbformat_minor": 5
}
