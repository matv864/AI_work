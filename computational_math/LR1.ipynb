{
 "cells": [
  {
   "cell_type": "markdown",
   "id": "b400b82f",
   "metadata": {},
   "source": [
    "# Тема 1. Интерполирование функции с помощью многочленов Лагранжа и многочленов Ньютона с разделенными разностями"
   ]
  },
  {
   "cell_type": "code",
   "execution_count": 11,
   "id": "c20eb129",
   "metadata": {},
   "outputs": [],
   "source": [
    "import numpy as np\n",
    "import math\n",
    "import pandas as pd"
   ]
  },
  {
   "cell_type": "markdown",
   "id": "0dc3be6e",
   "metadata": {},
   "source": [
    "Работать с математическим наименованием в питоне было очень сложно, поэтому мне пришлось его немного адаптировать \\\n",
    "x_ip1 -> x_{i+1} \\\n",
    "x_im1 -> x_{i-1} \n",
    "\n",
    "X_star_1 -> x^{*} \\\n",
    "X_star_2 -> x^{**} \n",
    "\n",
    "f_d1(x) -> f'(x) \\\n",
    "f_d2(x) -> f''(x) "
   ]
  },
  {
   "cell_type": "markdown",
   "id": "52c18400",
   "metadata": {},
   "source": [
    "### мой вариант 4\n",
    "$y=(x-1)^2-0.5e^x$ \\\n",
    "$[a,b] = [0.1, 0.6]$ \\\n",
    "$x^{*} = 0.13$ \\\n",
    "$x^{**} = 0.12$ \\\n",
    "$x^{***} = 0.57$ \\\n",
    "$x^{****} = 0.33$"
   ]
  },
  {
   "cell_type": "code",
   "execution_count": 12,
   "id": "cd98cb79",
   "metadata": {},
   "outputs": [],
   "source": [
    "def f(x):\n",
    "    return (x-1)**2 - 0.5 * math.exp(x)\n",
    "\n",
    "A = 0.1\n",
    "B = 0.6\n",
    "X_star_1 = 0.13\n",
    "X_star_2 = 0.12\n",
    "X_star_3 = 0.57\n",
    "X_star_4 = 0.33 \n",
    "\n",
    "X_star = X_star_1"
   ]
  },
  {
   "cell_type": "code",
   "execution_count": 13,
   "id": "91ef21d2",
   "metadata": {},
   "outputs": [],
   "source": [
    "def f_d2(x):\n",
    "    return 2 - 0.5 * math.exp(x)\n",
    "\n",
    "def f_d3(x):\n",
    "    return -0.5 * math.exp(x)"
   ]
  },
  {
   "cell_type": "markdown",
   "id": "c03c26dd",
   "metadata": {},
   "source": [
    "1. Построить таблицу из 11 значений выбранной функции."
   ]
  },
  {
   "cell_type": "code",
   "execution_count": 14,
   "id": "6b695452",
   "metadata": {},
   "outputs": [
    {
     "data": {
      "text/html": [
       "<div>\n",
       "<style scoped>\n",
       "    .dataframe tbody tr th:only-of-type {\n",
       "        vertical-align: middle;\n",
       "    }\n",
       "\n",
       "    .dataframe tbody tr th {\n",
       "        vertical-align: top;\n",
       "    }\n",
       "\n",
       "    .dataframe thead th {\n",
       "        text-align: right;\n",
       "    }\n",
       "</style>\n",
       "<table border=\"1\" class=\"dataframe\">\n",
       "  <thead>\n",
       "    <tr style=\"text-align: right;\">\n",
       "      <th></th>\n",
       "      <th>x_i</th>\n",
       "      <th>f(x_i)</th>\n",
       "    </tr>\n",
       "  </thead>\n",
       "  <tbody>\n",
       "    <tr>\n",
       "      <th>0</th>\n",
       "      <td>0.10</td>\n",
       "      <td>0.257415</td>\n",
       "    </tr>\n",
       "    <tr>\n",
       "      <th>1</th>\n",
       "      <td>0.15</td>\n",
       "      <td>0.141583</td>\n",
       "    </tr>\n",
       "    <tr>\n",
       "      <th>2</th>\n",
       "      <td>0.20</td>\n",
       "      <td>0.029299</td>\n",
       "    </tr>\n",
       "    <tr>\n",
       "      <th>3</th>\n",
       "      <td>0.25</td>\n",
       "      <td>-0.079513</td>\n",
       "    </tr>\n",
       "    <tr>\n",
       "      <th>4</th>\n",
       "      <td>0.30</td>\n",
       "      <td>-0.184929</td>\n",
       "    </tr>\n",
       "    <tr>\n",
       "      <th>5</th>\n",
       "      <td>0.35</td>\n",
       "      <td>-0.287034</td>\n",
       "    </tr>\n",
       "    <tr>\n",
       "      <th>6</th>\n",
       "      <td>0.40</td>\n",
       "      <td>-0.385912</td>\n",
       "    </tr>\n",
       "    <tr>\n",
       "      <th>7</th>\n",
       "      <td>0.45</td>\n",
       "      <td>-0.481656</td>\n",
       "    </tr>\n",
       "    <tr>\n",
       "      <th>8</th>\n",
       "      <td>0.50</td>\n",
       "      <td>-0.574361</td>\n",
       "    </tr>\n",
       "    <tr>\n",
       "      <th>9</th>\n",
       "      <td>0.55</td>\n",
       "      <td>-0.664127</td>\n",
       "    </tr>\n",
       "    <tr>\n",
       "      <th>10</th>\n",
       "      <td>0.60</td>\n",
       "      <td>-0.751059</td>\n",
       "    </tr>\n",
       "  </tbody>\n",
       "</table>\n",
       "</div>"
      ],
      "text/plain": [
       "     x_i    f(x_i)\n",
       "0   0.10  0.257415\n",
       "1   0.15  0.141583\n",
       "2   0.20  0.029299\n",
       "3   0.25 -0.079513\n",
       "4   0.30 -0.184929\n",
       "5   0.35 -0.287034\n",
       "6   0.40 -0.385912\n",
       "7   0.45 -0.481656\n",
       "8   0.50 -0.574361\n",
       "9   0.55 -0.664127\n",
       "10  0.60 -0.751059"
      ]
     },
     "execution_count": 14,
     "metadata": {},
     "output_type": "execute_result"
    }
   ],
   "source": [
    "table_parameters = np.linspace(A, B, 11)\n",
    "data_table = {\"x_i\": list(table_parameters), \"f(x_i)\": [f(i) for i in table_parameters]}\n",
    "pd.DataFrame(data=data_table)"
   ]
  },
  {
   "cell_type": "markdown",
   "id": "d847b1d2",
   "metadata": {},
   "source": [
    "2. По интерполяционной формуле Лагранжа первого порядка вычислить"
   ]
  },
  {
   "cell_type": "code",
   "execution_count": 15,
   "id": "d0e46fdb",
   "metadata": {},
   "outputs": [
    {
     "name": "stdout",
     "output_type": "stream",
     "text": [
      "Лагранж 1-го порядка для x* = 0.13:\n",
      "Узлы: x_0 = 0.100, x_1 = 0.150\n",
      "L_1(x*) = 0.187916\n",
      "f(x*) = 0.187486\n",
      "R_1(x*) = L_1 - f = 0.000430\n"
     ]
    }
   ],
   "source": [
    "i, x_i, x_ip1 = 0, 0, 0\n",
    "\n",
    "temp_i = 0\n",
    "for x_1, x_2 in zip(table_parameters[:-2], table_parameters[1:]):\n",
    "    if x_1 <= X_star <= x_2:\n",
    "        x_i, x_ip1 = x_1, x_2\n",
    "        i = temp_i\n",
    "        break\n",
    "    temp_i += 1\n",
    "\n",
    "def L_1(x, x_i, x_ip1):\n",
    "    return f(x_i)*(x-x_ip1)/(x_i-x_ip1) + f(x_ip1)*(x-x_i)/(x_ip1-x_i)\n",
    "\n",
    "\n",
    "L_1_star = L_1(X_star, x_i, x_ip1)\n",
    "f_star = f(X_star)\n",
    "R_1_star = L_1_star - f_star\n",
    "\n",
    "print(f\"Лагранж 1-го порядка для x* = {X_star}:\")\n",
    "print(f\"Узлы: x_{i} = {x_i:.3f}, x_{i+1} = {x_ip1:.3f}\")\n",
    "print(f\"L_1(x*) = {L_1_star:.6f}\")\n",
    "print(f\"f(x*) = {f_star:.6f}\")\n",
    "print(f\"R_1(x*) = L_1 - f = {R_1_star:.6f}\")\n"
   ]
  },
  {
   "cell_type": "markdown",
   "id": "9ca00103",
   "metadata": {},
   "source": [
    "3. Оценка остаточного члена R_1(x)"
   ]
  },
  {
   "cell_type": "code",
   "execution_count": 16,
   "id": "7470a579",
   "metadata": {},
   "outputs": [
    {
     "name": "stdout",
     "output_type": "stream",
     "text": [
      "Оценка R_1(x) на [0.100, 0.150]:\n",
      "f''_min = 1.419083, f''_max = 1.447415\n",
      "ω_2_min = -0.000625, ω_2_max = -0.000000\n",
      "min R_1 = -0.000443, max R_1 = -0.000000\n",
      "R_1(x*) = 0.000430\n",
      "min R_1 < R_1(x*) < max R_1: False\n"
     ]
    }
   ],
   "source": [
    "def omega_2(x, x_i, x_ip1):\n",
    "    return (x - x_i) * (x - x_ip1)\n",
    "\n",
    "# функция монотонная\n",
    "f_d2_min = min(f_d2(x_i), f_d2(x_ip1))\n",
    "f_d2_max = max(f_d2(x_i), f_d2(x_ip1))\n",
    "\n",
    "# ω_2 - парабола, максимум/минимум в середине отрезка или на концах\n",
    "x_mid = (x_i + x_ip1) / 2\n",
    "omega_2_vals = [omega_2(x_i, x_i, x_ip1), omega_2(x_ip1, x_i, x_ip1), \n",
    "               omega_2(x_mid, x_i, x_ip1)]\n",
    "omega_2_min = min(omega_2_vals)\n",
    "omega_2_max = max(omega_2_vals)\n",
    "\n",
    "R_1_min = (f_d2_min * omega_2_min) / 2\n",
    "R_1_max = (f_d2_max * omega_2_max) / 2\n",
    "\n",
    "print(f\"Оценка R_1(x) на [{x_i:.3f}, {x_ip1:.3f}]:\")\n",
    "print(f\"f''_min = {f_d2_min:.6f}, f''_max = {f_d2_max:.6f}\")\n",
    "print(f\"ω_2_min = {omega_2_min:.6f}, ω_2_max = {omega_2_max:.6f}\")\n",
    "print(f\"min R_1 = {R_1_min:.6f}, max R_1 = {R_1_max:.6f}\")\n",
    "print(f\"R_1(x*) = {R_1_star:.6f}\")\n",
    "print(f\"min R_1 < R_1(x*) < max R_1: {R_1_min < R_1_star < R_1_max}\")\n"
   ]
  },
  {
   "cell_type": "markdown",
   "id": "86d224ef",
   "metadata": {},
   "source": [
    "4. Интерполяция Лагранжа 2-го порядка"
   ]
  },
  {
   "cell_type": "code",
   "execution_count": 17,
   "id": "d26495b8",
   "metadata": {},
   "outputs": [
    {
     "name": "stdout",
     "output_type": "stream",
     "text": [
      "Лагранж 2-го порядка для x* = 0.13:\n",
      "Узлы: x_0 = 0.100, x_1 = 0.150, x_2 = 0.200\n",
      "L_2(x*) = 0.187490\n",
      "R_2(x*) = L_2 - f = 0.000004\n"
     ]
    }
   ],
   "source": [
    "# Берём три узла: x_{i-1}, x_i, x_{i+1}\n",
    "\n",
    "left_i = 0\n",
    "for i in range(len(table_parameters)):\n",
    "    if table_parameters[i] >= X_star:\n",
    "        left_i = i - 1\n",
    "        break\n",
    "center_i = left_i + 1\n",
    "right_i = center_i + 1\n",
    "if right_i >= len(table_parameters):\n",
    "    left_i -= 1\n",
    "    center_i -= 1\n",
    "    right_i -= 1\n",
    "\n",
    "x_im1 = table_parameters[left_i]\n",
    "x_i = table_parameters[center_i]\n",
    "x_ip1 = table_parameters[right_i]\n",
    "\n",
    "\n",
    "def L_2(x, x_im1, x_i, x_ip1):\n",
    "    term1 = f(x_im1) * ((x - x_i) * (x - x_ip1)) / ((x_im1 - x_i) * (x_im1 - x_ip1))\n",
    "    term2 = f(x_i) * ((x - x_im1) * (x - x_ip1)) / ((x_i - x_im1) * (x_i - x_ip1))\n",
    "    term3 = f(x_ip1) * ((x - x_im1) * (x - x_i)) / ((x_ip1 - x_im1) * (x_ip1 - x_i))\n",
    "    return term1 + term2 + term3\n",
    "\n",
    "L_2_star = L_2(X_star, x_im1, x_i, x_ip1)\n",
    "R_2_star = L_2_star - f_star\n",
    "\n",
    "print(f\"Лагранж 2-го порядка для x* = {X_star}:\")\n",
    "print(f\"Узлы: x_{left_i} = {x_im1:.3f}, x_{center_i} = {x_i:.3f}, x_{right_i} = {x_ip1:.3f}\")\n",
    "print(f\"L_2(x*) = {L_2_star:.6f}\")\n",
    "print(f\"R_2(x*) = L_2 - f = {R_2_star:.6f}\")"
   ]
  },
  {
   "cell_type": "markdown",
   "id": "0f26bd13",
   "metadata": {},
   "source": [
    "5. Оценка остаточного члена R₂(x)"
   ]
  },
  {
   "cell_type": "code",
   "execution_count": 18,
   "id": "9687ce84",
   "metadata": {},
   "outputs": [
    {
     "name": "stdout",
     "output_type": "stream",
     "text": [
      "Оценка R_2(x) на [0.100, 0.200]:\n",
      "f'''_min = -0.610701, f'''_max = -0.552585\n",
      "ω_3_min = -0.000029, ω_3_max = 0.000029\n",
      "min R_2 = 0.000003, max R_2 = -0.000003\n",
      "R_2(x*) = 0.000004\n",
      "min R_2 < R_2(x*) < max R_2: False\n"
     ]
    }
   ],
   "source": [
    "def omega_3(x, x_im1, x_i, x_ip1):\n",
    "    return (x - x_im1) * (x - x_i) * (x - x_ip1)\n",
    "\n",
    "f_d3_min = min(f_d3(x_im1), f_d3(x_ip1))\n",
    "f_d3_max = max(f_d3(x_im1), f_d3(x_ip1))\n",
    "\n",
    "# критические точки кубического уравнения\n",
    "x_crit1 = (2*x_im1 + x_i + x_ip1) / 4\n",
    "x_crit2 = (x_im1 + 2*x_i + x_ip1) / 4\n",
    "x_crit3 = (x_im1 + x_i + 2*x_ip1) / 4\n",
    "\n",
    "omega_3_vals = [omega_3(x_im1, x_im1, x_i, x_ip1),\n",
    "               omega_3(x_i, x_im1, x_i, x_ip1),\n",
    "               omega_3(x_ip1, x_im1, x_i, x_ip1),\n",
    "               omega_3(x_crit1, x_im1, x_i, x_ip1),\n",
    "               omega_3(x_crit2, x_im1, x_i, x_ip1),\n",
    "               omega_3(x_crit3, x_im1, x_i, x_ip1)]\n",
    "\n",
    "omega_3_min = min(omega_3_vals)\n",
    "omega_3_max = max(omega_3_vals)\n",
    "\n",
    "R_2_min = (f_d3_min * omega_3_min) / 6\n",
    "R_2_max = (f_d3_max * omega_3_max) / 6\n",
    "\n",
    "print(f\"Оценка R_2(x) на [{x_im1:.3f}, {x_ip1:.3f}]:\")\n",
    "print(f\"f'''_min = {f_d3_min:.6f}, f'''_max = {f_d3_max:.6f}\")\n",
    "print(f\"ω_3_min = {omega_3_min:.6f}, ω_3_max = {omega_3_max:.6f}\")\n",
    "print(f\"min R_2 = {R_2_min:.6f}, max R_2 = {R_2_max:.6f}\")\n",
    "print(f\"R_2(x*) = {R_2_star:.6f}\")\n",
    "print(f\"min R_2 < R_2(x*) < max R_2: {R_2_min < R_2_star < R_2_max}\")"
   ]
  },
  {
   "cell_type": "markdown",
   "id": "6a95f5a0",
   "metadata": {},
   "source": [
    "6. Интерполяция Ньютона"
   ]
  },
  {
   "cell_type": "code",
   "execution_count": 19,
   "id": "d3affe6b",
   "metadata": {},
   "outputs": [
    {
     "name": "stdout",
     "output_type": "stream",
     "text": [
      "Разделенные разности:\n",
      "f[x_0, x_1] = -2.316633\n",
      "f[x_1, x_2] = -2.245685\n",
      "f[x_0, x_1, x_2] = 0.709481\n",
      "N_1(x*) = 0.186497 (погрешность: 1.419e-03)\n",
      "N_2(x*) = 0.187490 (погрешность: 0.000e+00)\n"
     ]
    }
   ],
   "source": [
    "# функции нахождения разделенных разностей\n",
    "def divided_diff(*params):\n",
    "    if len(params) == 2:\n",
    "        x_i, x_ip1 = params\n",
    "        return (f(x_ip1) - f(x_i)) / (x_ip1 - x_i)\n",
    "    if len(params) == 3:\n",
    "        x_im1, x_i, x_ip1 = params\n",
    "        return (divided_diff(x_i, x_ip1) - divided_diff(x_im1, x_i)) / (x_ip1 - x_im1)\n",
    "\n",
    "def N_1(x, x_i, x_ip1):\n",
    "    return f(x_i) + divided_diff(x_i, x_ip1) * (x - x_i)\n",
    "\n",
    "def N_2(x, x_im1, x_i, x_ip1):\n",
    "    return f(x_im1) + divided_diff(x_im1, x_i) * (x - x_im1) + divided_diff(x_im1, x_i, x_ip1) * (x - x_im1) * (x - x_i)\n",
    "\n",
    "N_1_star = N_1(X_star, x_i, x_ip1)\n",
    "N_2_star = N_2(X_star, x_im1, x_i, x_ip1)\n",
    "\n",
    "print(\"Разделенные разности:\")\n",
    "print(f\"f[x_{i-1}, x_{i}] = {divided_diff(x_im1, x_i):.6f}\")\n",
    "print(f\"f[x_{i}, x_{i+1}] = {divided_diff(x_i, x_ip1):.6f}\")\n",
    "print(f\"f[x_{i-1}, x_{i}, x_{i+1}] = {divided_diff(x_im1, x_i, x_ip1):.6f}\")\n",
    "print(f\"N_1(x*) = {N_1_star:.6f} (погрешность: {abs(N_1_star - L_1_star):.3e})\")\n",
    "print(f\"N_2(x*) = {N_2_star:.6f} (погрешность: {abs(N_2_star - L_2_star):.3e})\")"
   ]
  },
  {
   "cell_type": "markdown",
   "id": "b1379b1d",
   "metadata": {},
   "source": [
    "погрешность по сравнению с действительным результатом"
   ]
  },
  {
   "cell_type": "code",
   "execution_count": 20,
   "id": "5092d111",
   "metadata": {},
   "outputs": [
    {
     "name": "stdout",
     "output_type": "stream",
     "text": [
      "L_1(x*) (погрешность: 4.297e-04)\n",
      "L_2(x*) (погрешность: 4.047e-06)\n",
      "N_1(x*) (погрешность: 9.892e-04)\n",
      "N_2(x*) (погрешность: 4.047e-06)\n"
     ]
    }
   ],
   "source": [
    "real = f(X_star)\n",
    "\n",
    "print(f\"L_1(x*) (погрешность: {abs(L_1_star - real):.3e})\")\n",
    "print(f\"L_2(x*) (погрешность: {abs(L_2_star - real):.3e})\")\n",
    "print(f\"N_1(x*) (погрешность: {abs(N_1_star - real):.3e})\")\n",
    "print(f\"N_2(x*) (погрешность: {abs(N_2_star - real):.3e})\")"
   ]
  },
  {
   "cell_type": "markdown",
   "id": "85c0269b",
   "metadata": {},
   "source": [
    "ссылка на эту работу на Github\n",
    "https://github.com/matv864/AI_work/tree/main/computational_math/LR2.ipynb"
   ]
  }
 ],
 "metadata": {
  "kernelspec": {
   "display_name": "ai-work (3.12.3)",
   "language": "python",
   "name": "python3"
  },
  "language_info": {
   "codemirror_mode": {
    "name": "ipython",
    "version": 3
   },
   "file_extension": ".py",
   "mimetype": "text/x-python",
   "name": "python",
   "nbconvert_exporter": "python",
   "pygments_lexer": "ipython3",
   "version": "3.12.3"
  }
 },
 "nbformat": 4,
 "nbformat_minor": 5
}
