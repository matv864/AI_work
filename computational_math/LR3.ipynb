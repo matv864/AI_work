{
 "cells": [
  {
   "cell_type": "markdown",
   "id": "596f0fcd",
   "metadata": {},
   "source": [
    "# Тема 4. Квадратурные формулы"
   ]
  },
  {
   "cell_type": "code",
   "execution_count": 15,
   "id": "0774560e",
   "metadata": {},
   "outputs": [],
   "source": [
    "import numpy as np\n",
    "import math\n",
    "import pandas as pd\n",
    "import sympy as sp"
   ]
  },
  {
   "cell_type": "markdown",
   "id": "18e2513e",
   "metadata": {},
   "source": [
    "Подготовка"
   ]
  },
  {
   "cell_type": "code",
   "execution_count": 16,
   "id": "708e8cf4",
   "metadata": {},
   "outputs": [],
   "source": [
    "x = sp.Symbol('x')\n",
    "f_sym = (x-1)**2 - 0.5*sp.exp(x)"
   ]
  },
  {
   "cell_type": "code",
   "execution_count": 17,
   "id": "5ba29a59",
   "metadata": {},
   "outputs": [],
   "source": [
    "epsilon = 1e-6\n",
    "\n",
    "a_val = 1\n",
    "b_val = 10"
   ]
  },
  {
   "cell_type": "code",
   "execution_count": 18,
   "id": "d1627006",
   "metadata": {},
   "outputs": [],
   "source": [
    "def analytical_integral():\n",
    "    F_sym = sp.integrate(f_sym, x)\n",
    "    integral_sym = F_sym.subs(x, b_val) - F_sym.subs(x, a_val)\n",
    "    return float(integral_sym)\n"
   ]
  },
  {
   "cell_type": "markdown",
   "id": "16b4851a",
   "metadata": {},
   "source": [
    "Реализация метода Симпсона"
   ]
  },
  {
   "cell_type": "code",
   "execution_count": 19,
   "id": "3a8da3d5",
   "metadata": {},
   "outputs": [],
   "source": [
    "def simpson(n=2):\n",
    "    n += n % 2  # гарантируем, что n чётное\n",
    "    h = (b_val - a_val) / n\n",
    "    integral = 0\n",
    "    integral += f_sym.subs({\"x\": a_val}) + f_sym.subs({\"x\": b_val})\n",
    "\n",
    "    # Сумма с коэффициентом 4 для нечётных индексов\n",
    "    for i in range(1, n, 2):\n",
    "        x_i = a_val + i * h\n",
    "        integral += 4 * f_sym.subs(x, x_i)\n",
    "    \n",
    "    # Сумма с коэффициентом 2 для чётных индексов\n",
    "    for i in range(2, n-1, 2):\n",
    "        x_i = a_val + i * h\n",
    "        integral += 2 * f_sym.subs(x, x_i)\n",
    "    \n",
    "    integral = float(integral * h / 3)\n",
    "    return integral\n",
    "\n"
   ]
  },
  {
   "cell_type": "code",
   "execution_count": null,
   "id": "1eb400e8",
   "metadata": {},
   "outputs": [],
   "source": [
    "def adaptive_simpson(max_iterations=100):\n",
    "    iteration_counter = 0\n",
    "    n = 2\n",
    "    I_prev = simpson(n)\n",
    "    error = None\n",
    "    result = None\n",
    "\n",
    "    while iteration_counter < max_iterations:\n",
    "        print(f\"try I_{n}, I_{2*n}\")\n",
    "        n *= 2\n",
    "        I_current = simpson(n)\n",
    "        error = abs(I_current - I_prev)\n",
    "        I_prev = I_current\n",
    "\n",
    "        print(f\"{error:.6e}\")\n",
    "        print(\"=\"*60)\n",
    "        if error < epsilon:\n",
    "            result = I_current\n",
    "            break\n",
    "        iteration_counter += 1\n",
    "    \n",
    "    if result is None:\n",
    "        print(f\"после {max_iterations} мы так и не смогли подобраться к правдоподобному результату\")\n",
    "    else:\n",
    "        print(f\"получили результат I_{n}={result:.6f} при разнице с прошлой итерацией {error:.6e}\")\n",
    "\n",
    "    return result\n",
    "\n"
   ]
  },
  {
   "cell_type": "code",
   "execution_count": 21,
   "id": "f4cb6ade",
   "metadata": {},
   "outputs": [
    {
     "ename": "TypeError",
     "evalue": "simpson() takes from 0 to 1 positional arguments but 2 were given",
     "output_type": "error",
     "traceback": [
      "\u001b[31m---------------------------------------------------------------------------\u001b[39m",
      "\u001b[31mTypeError\u001b[39m                                 Traceback (most recent call last)",
      "\u001b[36mCell\u001b[39m\u001b[36m \u001b[39m\u001b[32mIn[21]\u001b[39m\u001b[32m, line 2\u001b[39m\n\u001b[32m      1\u001b[39m simpson_result = simpson(n=\u001b[32m4\u001b[39m)\n\u001b[32m----> \u001b[39m\u001b[32m2\u001b[39m adaptive_simpson_result = \u001b[43madaptive_simpson\u001b[49m\u001b[43m(\u001b[49m\u001b[43mmax_iterations\u001b[49m\u001b[43m=\u001b[49m\u001b[32;43m200\u001b[39;49m\u001b[43m)\u001b[49m\n\u001b[32m      3\u001b[39m real_value = analytical_integral()\n\u001b[32m      5\u001b[39m \u001b[38;5;28mprint\u001b[39m(\u001b[33mf\u001b[39m\u001b[33m\"\u001b[39m\u001b[33mразница между обычным и адаптивным методом Симпсона \u001b[39m\u001b[38;5;132;01m{\u001b[39;00m\u001b[38;5;28mabs\u001b[39m(simpson_result-adaptive_simpson_result)\u001b[38;5;132;01m:\u001b[39;00m\u001b[33m.6e\u001b[39m\u001b[38;5;132;01m}\u001b[39;00m\u001b[33m\"\u001b[39m)\n",
      "\u001b[36mCell\u001b[39m\u001b[36m \u001b[39m\u001b[32mIn[20]\u001b[39m\u001b[32m, line 4\u001b[39m, in \u001b[36madaptive_simpson\u001b[39m\u001b[34m(max_iterations)\u001b[39m\n\u001b[32m      2\u001b[39m iteration_counter = \u001b[32m0\u001b[39m\n\u001b[32m      3\u001b[39m n = \u001b[32m2\u001b[39m\n\u001b[32m----> \u001b[39m\u001b[32m4\u001b[39m I_prev = \u001b[43msimpson\u001b[49m\u001b[43m(\u001b[49m\u001b[43mf_sym\u001b[49m\u001b[43m,\u001b[49m\u001b[43m \u001b[49m\u001b[43mn\u001b[49m\u001b[43m)\u001b[49m\n\u001b[32m      5\u001b[39m error = \u001b[38;5;28;01mNone\u001b[39;00m\n\u001b[32m      6\u001b[39m result = \u001b[38;5;28;01mNone\u001b[39;00m\n",
      "\u001b[31mTypeError\u001b[39m: simpson() takes from 0 to 1 positional arguments but 2 were given"
     ]
    }
   ],
   "source": [
    "simpson_result = simpson(n=4)\n",
    "adaptive_simpson_result = adaptive_simpson(max_iterations=200)\n",
    "real_value = analytical_integral()\n",
    "\n",
    "print(f\"разница между обычным и адаптивным методом Симпсона {abs(simpson_result-adaptive_simpson_result):.6e}\")\n",
    "print(f\"разница между адаптивным методом Симпсона и реальным результатом {abs(adaptive_simpson_result-real_value):.6e}\")"
   ]
  }
 ],
 "metadata": {
  "kernelspec": {
   "display_name": ".venv (3.12.3)",
   "language": "python",
   "name": "python3"
  },
  "language_info": {
   "codemirror_mode": {
    "name": "ipython",
    "version": 3
   },
   "file_extension": ".py",
   "mimetype": "text/x-python",
   "name": "python",
   "nbconvert_exporter": "python",
   "pygments_lexer": "ipython3",
   "version": "3.12.3"
  }
 },
 "nbformat": 4,
 "nbformat_minor": 5
}
