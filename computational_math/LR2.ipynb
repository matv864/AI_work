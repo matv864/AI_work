{
 "cells": [
  {
   "cell_type": "markdown",
   "id": "082ca758",
   "metadata": {},
   "source": [
    "# Тема 3. Дифференцирование таблично заданной функции с помощью многочлена Лагранжа"
   ]
  },
  {
   "cell_type": "code",
   "execution_count": 159,
   "id": "0d6636a4",
   "metadata": {},
   "outputs": [],
   "source": [
    "# %run LR1.ipynb"
   ]
  },
  {
   "cell_type": "code",
   "execution_count": 160,
   "id": "e89c507f",
   "metadata": {},
   "outputs": [],
   "source": [
    "import numpy as np\n",
    "import math\n",
    "import pandas as pd\n",
    "import sympy as sp"
   ]
  },
  {
   "cell_type": "markdown",
   "id": "eaeb3a4c",
   "metadata": {},
   "source": [
    "Подготовка"
   ]
  },
  {
   "cell_type": "code",
   "execution_count": 161,
   "id": "95b5f3c3",
   "metadata": {},
   "outputs": [],
   "source": [
    "# Символьные переменные\n",
    "x = sp.Symbol('x')\n",
    "xi = sp.Symbol('xi')  # для остаточного члена\n",
    "h = sp.Symbol('h', positive=True)\n"
   ]
  },
  {
   "cell_type": "code",
   "execution_count": 162,
   "id": "0488aa7b",
   "metadata": {},
   "outputs": [],
   "source": [
    "f_sym = (x-1)**2 - 0.5*sp.exp(x)\n",
    "f_prime_sym = sp.diff(f_sym, x)\n",
    "f_double_prime_sym = sp.diff(f_prime_sym, x)"
   ]
  },
  {
   "cell_type": "code",
   "execution_count": 163,
   "id": "256d42ca",
   "metadata": {},
   "outputs": [
    {
     "name": "stdout",
     "output_type": "stream",
     "text": [
      "Символьное представление функции и производных:\n",
      "f(x) = (x - 1)**2 - 0.5*exp(x)\n",
      "f'(x) = 2*x - 0.5*exp(x) - 2\n",
      "f''(x) = 2 - 0.5*exp(x)\n"
     ]
    }
   ],
   "source": [
    "print(\"Символьное представление функции и производных:\")\n",
    "print(f\"f(x) = {f_sym}\")\n",
    "print(f\"f'(x) = {f_prime_sym}\")\n",
    "print(f\"f''(x) = {f_double_prime_sym}\")\n"
   ]
  },
  {
   "cell_type": "code",
   "execution_count": 164,
   "id": "2b2ead38",
   "metadata": {},
   "outputs": [],
   "source": [
    "a, b = 0.1, 0.6\n",
    "n_total = 11\n",
    "h_num = (b - a) / (n_total - 1)\n",
    "x_nodes = [a + i*h_num for i in range(n_total)]\n",
    "\n",
    "\n"
   ]
  },
  {
   "cell_type": "code",
   "execution_count": 165,
   "id": "ed883c50",
   "metadata": {},
   "outputs": [],
   "source": [
    "# Параметры задачи\n",
    "k = 2  # порядок производной\n",
    "n = 5  # степень многочлена\n",
    "m = 1  # индекс точки"
   ]
  },
  {
   "cell_type": "code",
   "execution_count": 166,
   "id": "d33cf22d",
   "metadata": {},
   "outputs": [],
   "source": [
    "# Выбираем узлы вокруг точки x₁\n",
    "n_temp = n + 1\n",
    "\n",
    "start_idx = end_idx = m\n",
    "while (end_idx - start_idx+1) < n_temp:\n",
    "    start_idx = max(0, start_idx-1)\n",
    "    end_idx = min(len(x_nodes)-1, end_idx+1)\n",
    "\n",
    "if (end_idx - start_idx+1) > n_temp:\n",
    "    if (m-start_idx) >= (end_idx - m):\n",
    "        start_idx += 1\n",
    "    else:\n",
    "        end_idx -= 1\n",
    "\n",
    "selected_nodes = x_nodes[start_idx:end_idx + 1]\n",
    "selected_f_vals = [f_sym.subs({\"x\": x}) for x in selected_nodes]"
   ]
  },
  {
   "cell_type": "markdown",
   "id": "d7b630f5",
   "metadata": {},
   "source": [
    "Построение многочлена Лагранжа"
   ]
  },
  {
   "cell_type": "code",
   "execution_count": 167,
   "id": "05dadb80",
   "metadata": {},
   "outputs": [
    {
     "name": "stdout",
     "output_type": "stream",
     "text": [
      "Выбранные узлы (n=5):\n",
      "x_0 = 0.100, f = 0.257415\n",
      "x_1 = 0.150, f = 0.141583\n",
      "x_2 = 0.200, f = 0.029299\n",
      "x_3 = 0.250, f = -0.079513\n",
      "x_4 = 0.300, f = -0.184929\n",
      "x_5 = 0.350, f = -0.287034\n",
      "Многочлен Лагранжа L_5(x):\n",
      "-0.00522072969124565*x**5 - 0.0202357655425658*x**4 - 0.0835050303808202*x**3 + 0.750026592004588*x**2 - 2.500002105152*x + 0.500000066371568\n"
     ]
    }
   ],
   "source": [
    "def lagrange_basis(i):\n",
    "    \"\"\"Символьный базисный полином Лагранжа\"\"\"\n",
    "    result = 1\n",
    "    for j in range(len(selected_nodes)):\n",
    "        if j != i:\n",
    "            result *= (x - selected_nodes[j]) / ((i - j) * h_num)\n",
    "    return result\n",
    "\n",
    "def lagrange_polynomial():\n",
    "    \"\"\"Символьный интерполяционный многочлен Лагранжа\"\"\"\n",
    "    L_n = 0\n",
    "    for i in range(len(selected_nodes)):\n",
    "        basis = lagrange_basis(i)\n",
    "        L_n += selected_f_vals[i] * basis\n",
    "    return sp.simplify(L_n)\n",
    "\n",
    "\n",
    "print(f\"Выбранные узлы (n={n}):\")\n",
    "for i, node in enumerate(selected_nodes):\n",
    "    print(f\"x_{start_idx + i} = {node:.3f}, f = {selected_f_vals[i]:.6f}\")\n",
    "\n",
    "# Строим символьный многочлен Лагранжа\n",
    "L_n_sym = lagrange_polynomial()\n",
    "print(f\"Многочлен Лагранжа L_{n}(x):\")\n",
    "print(L_n_sym)"
   ]
  },
  {
   "cell_type": "markdown",
   "id": "17de5a6e",
   "metadata": {},
   "source": [
    "Аналитическое дифференцирование многочлена Лагранжа"
   ]
  },
  {
   "cell_type": "code",
   "execution_count": 168,
   "id": "f3a1b358",
   "metadata": {},
   "outputs": [
    {
     "name": "stdout",
     "output_type": "stream",
     "text": [
      "Аналитическая 2-я производная многочлена Лагранжа:\n",
      "L_5^(2)(x) = -0.104414593824913*x**3 - 0.242829186510789*x**2 - 0.501030182284921*x + 1.50005318400918\n",
      "РЕЗУЛЬТАТЫ ДИФФЕРЕНЦИРОВАНИЯ:\n",
      "Точка x_1 = 0.150000\n",
      "L_5^(2)(x_1) = 1.4190826007\n",
      "f^(2)(x_1) = 1.4190828786\n",
      "Погрешность R_5,2 = -0.0000002779\n"
     ]
    }
   ],
   "source": [
    "# Вычисляем k-ю производную аналитически\n",
    "L_n_deriv_sym = sp.diff(L_n_sym, x, k)\n",
    "L_n_deriv_sym = sp.simplify(L_n_deriv_sym)\n",
    "\n",
    "print(f\"Аналитическая {k}-я производная многочлена Лагранжа:\")\n",
    "print(f\"L_{n}^({k})(x) = {L_n_deriv_sym}\")\n",
    "\n",
    "# Вычисляем значение производной в точке x_m\n",
    "x_m = x_nodes[m]\n",
    "L_deriv_value = L_n_deriv_sym.subs(x, x_m)\n",
    "L_deriv_value = float(L_deriv_value)  # преобразуем в число\n",
    "\n",
    "# Точное значение производной\n",
    "f_exact_deriv_value = float(f_double_prime_sym.subs(x, x_m))\n",
    "\n",
    "print(f\"РЕЗУЛЬТАТЫ ДИФФЕРЕНЦИРОВАНИЯ:\")\n",
    "print(f\"Точка x_{m} = {x_m:.6f}\")\n",
    "print(f\"L_{n}^({k})(x_{m}) = {L_deriv_value:.10f}\")\n",
    "print(f\"f^({k})(x_{m}) = {f_exact_deriv_value:.10f}\")\n",
    "print(f\"Погрешность R_{n},{k} = {L_deriv_value - f_exact_deriv_value:.10f}\")"
   ]
  },
  {
   "cell_type": "markdown",
   "id": "2da42e04",
   "metadata": {},
   "source": [
    "Аналитическое вычисление остаточного члена"
   ]
  },
  {
   "cell_type": "code",
   "execution_count": 169,
   "id": "8e2cbff9",
   "metadata": {},
   "outputs": [
    {
     "name": "stdout",
     "output_type": "stream",
     "text": [
      "АНАЛИТИЧЕСКИЙ ОСТАТОЧНЫЙ ЧЛЕН:\n",
      "ω_6^(2)(x) = 30.0*x**4 - 27.0*x**3 + 8.85*x**2 - 1.24875*x + 0.0638\n",
      "f^(6)(ξ) = -0.5*exp(x)\n",
      "R_5,2(x) = (-0.0208333333333333*x**4 + 0.01875*x**3 - 0.00614583333333334*x**2 + 0.0008671875*x - 4.43055555555556e-5)*exp(x)\n"
     ]
    }
   ],
   "source": [
    "def symbolic_omega(nodes):\n",
    "    \"\"\"Символьная функция ω_{n+1}(x) = (x - x₀)(x - x₁)...(x - xₙ)\"\"\"\n",
    "    result = 1\n",
    "    for node in nodes:\n",
    "        result *= (x - node)\n",
    "    return sp.simplify(result)\n",
    "\n",
    "def symbolic_derivative_error(nodes, degree, deriv_order):\n",
    "    \"\"\"Аналитическое вычисление остаточного члена для производной\"\"\"\n",
    "    n = degree\n",
    "    \n",
    "    # ω_{n+1}(x)\n",
    "    omega_n1 = symbolic_omega(nodes)\n",
    "    \n",
    "    # k-я производная от ω_{n+1}(x)\n",
    "    omega_deriv = sp.diff(omega_n1, x, deriv_order)\n",
    "    omega_deriv = sp.simplify(omega_deriv)\n",
    "    \n",
    "    # f^{(n+1)}(ξ) - (n+1)-я производная исходной функции\n",
    "    f_deriv_n1 = sp.diff(f_sym, x, n + 1)\n",
    "    \n",
    "    # Остаточный член: R_{n,k}(x) = f^{(n+1)}(ξ)/(n+1)! · ω_{n+1}^{(k)}(x)\n",
    "    R_nk = (f_deriv_n1 / sp.factorial(n + 1)) * omega_deriv\n",
    "    \n",
    "    return sp.simplify(R_nk), omega_deriv, f_deriv_n1\n",
    "\n",
    "# Вычисляем остаточный член аналитически\n",
    "R_nk_sym, omega_deriv_sym, f_deriv_n1_sym = symbolic_derivative_error(selected_nodes, n, k)\n",
    "\n",
    "print(f\"АНАЛИТИЧЕСКИЙ ОСТАТОЧНЫЙ ЧЛЕН:\")\n",
    "print(f\"ω_{n+1}^({k})(x) = {omega_deriv_sym}\")\n",
    "print(f\"f^({n+1})(ξ) = {f_deriv_n1_sym}\")\n",
    "print(f\"R_{n},{k}(x) = {R_nk_sym}\")\n"
   ]
  },
  {
   "cell_type": "markdown",
   "id": "5e1168b8",
   "metadata": {},
   "source": [
    "Оценка границ остаточного члена"
   ]
  },
  {
   "cell_type": "code",
   "execution_count": 170,
   "id": "34db522b",
   "metadata": {},
   "outputs": [
    {
     "name": "stdout",
     "output_type": "stream",
     "text": [
      "ОЦЕНКА ГРАНИЦ ПОГРЕШНОСТИ:\n",
      "min R_5,2 = 0.0000002494\n",
      "max R_5,2 = 0.0000003203\n",
      "реальный остаточный член = -0.0000002779\n",
      "Фактическая погрешность = -2.7792007318e-07\n",
      "min R_5,2 < R_5,2 < max R_5,2: True\n"
     ]
    }
   ],
   "source": [
    "def evaluate_error_bounds(R_nk_sym, nodes, x_point):\n",
    "    \"\"\"Оценка минимального и максимального значения остаточного члена\"\"\"\n",
    "    \n",
    "    # f^{(n+1)}(ξ) на отрезке [min(nodes), max(nodes)]\n",
    "    f_deriv_n1_num = sp.lambdify(x, f_deriv_n1_sym, 'numpy')\n",
    "    deriv_values = [f_deriv_n1_num(node) for node in [min(nodes), max(nodes)]]\n",
    "    f_deriv_min = min(deriv_values)\n",
    "    f_deriv_max = max(deriv_values)\n",
    "    \n",
    "    # ω_{n+1}^{(k)}(x) в точке x_point\n",
    "    omega_deriv_num = sp.lambdify(x, omega_deriv_sym, 'numpy')\n",
    "    omega_deriv_value = omega_deriv_num(x_point)\n",
    "    \n",
    "    # Границы остаточного члена\n",
    "    R_min = (f_deriv_min * omega_deriv_value) / math.factorial(n + 1)\n",
    "    R_max = (f_deriv_max * omega_deriv_value) / math.factorial(n + 1)\n",
    "    R_min, R_max = min(R_min, R_max), max(R_min, R_max)\n",
    "    return R_min, R_max\n",
    "\n",
    "# Оцениваем границы погрешности\n",
    "R_min, R_max = evaluate_error_bounds(R_nk_sym, selected_nodes, x_m)\n",
    "R_real = L_deriv_value - f_exact_deriv_value\n",
    "\n",
    "print(f\"ОЦЕНКА ГРАНИЦ ПОГРЕШНОСТИ:\")\n",
    "print(f\"min R_{n},{k} = {R_min:.10f}\")\n",
    "print(f\"max R_{n},{k} = {R_max:.10f}\")\n",
    "print(f\"реальный остаточный член = {R_real:.10f}\")\n",
    "print(f\"Фактическая погрешность = {R_real:.10e}\")\n",
    "print(f\"min R_{n},{k} < R_{n},{k} < max R_{n},{k}: {(R_min) < abs(R_real) < (R_max)}\")\n"
   ]
  }
 ],
 "metadata": {
  "kernelspec": {
   "display_name": ".venv (3.12.3)",
   "language": "python",
   "name": "python3"
  },
  "language_info": {
   "codemirror_mode": {
    "name": "ipython",
    "version": 3
   },
   "file_extension": ".py",
   "mimetype": "text/x-python",
   "name": "python",
   "nbconvert_exporter": "python",
   "pygments_lexer": "ipython3",
   "version": "3.12.3"
  }
 },
 "nbformat": 4,
 "nbformat_minor": 5
}
