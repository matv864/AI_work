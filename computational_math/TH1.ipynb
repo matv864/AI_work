{
 "cells": [
  {
   "cell_type": "markdown",
   "id": "b400b82f",
   "metadata": {},
   "source": [
    "# Тема 1. Интерполирование функции с помощью многочленов Лагранжа и многочленов Ньютона с разделенными разностями"
   ]
  },
  {
   "cell_type": "code",
   "execution_count": 8,
   "id": "c20eb129",
   "metadata": {},
   "outputs": [],
   "source": [
    "import numpy as np\n",
    "import math\n",
    "import pandas as pd\n",
    "import random"
   ]
  },
  {
   "cell_type": "markdown",
   "id": "52c18400",
   "metadata": {},
   "source": [
    "### мой вариант 4\n",
    "$y=(x-1)^2-0.5e^x$ \\\n",
    "$[a,b] = [0.1, 0.6]$ \\\n",
    "$x^{*} = 0.13$ \\\n",
    "$x^{**} = 0.12$ \\\n",
    "$x^{***} = 0.57$ \\\n",
    "$x^{****} = 0.33$"
   ]
  },
  {
   "cell_type": "code",
   "execution_count": 2,
   "id": "cd98cb79",
   "metadata": {},
   "outputs": [],
   "source": [
    "def f(x: np.float64) -> np.float64:\n",
    "    return (x-1)**2 - 0.5 * math.e ** x\n",
    "\n",
    "A = 0.1\n",
    "B = 0.6\n",
    "X_S_1 = 0.13\n",
    "X_S_2 = 0.12\n",
    "X_S_3 = 0.57\n",
    "X_S_4 = 0.33 "
   ]
  },
  {
   "cell_type": "markdown",
   "id": "c03c26dd",
   "metadata": {},
   "source": [
    "1. Построить таблицу из 11 значений выбранной функции."
   ]
  },
  {
   "cell_type": "code",
   "execution_count": 3,
   "id": "6b695452",
   "metadata": {},
   "outputs": [
    {
     "data": {
      "text/html": [
       "<div>\n",
       "<style scoped>\n",
       "    .dataframe tbody tr th:only-of-type {\n",
       "        vertical-align: middle;\n",
       "    }\n",
       "\n",
       "    .dataframe tbody tr th {\n",
       "        vertical-align: top;\n",
       "    }\n",
       "\n",
       "    .dataframe thead th {\n",
       "        text-align: right;\n",
       "    }\n",
       "</style>\n",
       "<table border=\"1\" class=\"dataframe\">\n",
       "  <thead>\n",
       "    <tr style=\"text-align: right;\">\n",
       "      <th></th>\n",
       "      <th>0.10</th>\n",
       "      <th>0.15</th>\n",
       "      <th>0.20</th>\n",
       "      <th>0.25</th>\n",
       "      <th>0.30</th>\n",
       "      <th>0.35</th>\n",
       "      <th>0.40</th>\n",
       "      <th>0.45</th>\n",
       "      <th>0.50</th>\n",
       "      <th>0.55</th>\n",
       "      <th>0.60</th>\n",
       "    </tr>\n",
       "  </thead>\n",
       "  <tbody>\n",
       "    <tr>\n",
       "      <th></th>\n",
       "      <td>0.257415</td>\n",
       "      <td>0.141583</td>\n",
       "      <td>0.029299</td>\n",
       "      <td>-0.079513</td>\n",
       "      <td>-0.184929</td>\n",
       "      <td>-0.287034</td>\n",
       "      <td>-0.385912</td>\n",
       "      <td>-0.481656</td>\n",
       "      <td>-0.574361</td>\n",
       "      <td>-0.664127</td>\n",
       "      <td>-0.751059</td>\n",
       "    </tr>\n",
       "  </tbody>\n",
       "</table>\n",
       "</div>"
      ],
      "text/plain": [
       "      0.10      0.15      0.20      0.25      0.30      0.35      0.40  \\\n",
       "  0.257415  0.141583  0.029299 -0.079513 -0.184929 -0.287034 -0.385912   \n",
       "\n",
       "      0.45      0.50      0.55      0.60  \n",
       " -0.481656 -0.574361 -0.664127 -0.751059  "
      ]
     },
     "execution_count": 3,
     "metadata": {},
     "output_type": "execute_result"
    }
   ],
   "source": [
    "table_parameters = np.linspace(A, B, 11)\n",
    "data_table = {i: f(i) for i in table_parameters}\n",
    "pd.DataFrame(data=data_table, index=[\"\"])"
   ]
  },
  {
   "cell_type": "markdown",
   "id": "d847b1d2",
   "metadata": {},
   "source": [
    "2. По интерполяционной формуле Лагранжа первого порядка вычислить"
   ]
  },
  {
   "cell_type": "code",
   "execution_count": 4,
   "id": "d0e46fdb",
   "metadata": {},
   "outputs": [],
   "source": [
    "x_i_1, x_i_2 = 0, 0\n",
    "for x_1, x_2 in zip(table_parameters[:-2], table_parameters[1:]):\n",
    "    if x_1 <= X_S_1 <= x_2:\n",
    "        x_i_1, x_i_2 = x_1, x_2\n",
    "        break\n",
    "else:\n",
    "    raise ArithmeticError(\"X is not inside interval\")\n",
    "\n",
    "def L_1(x_S: np.float64) -> np.float64:\n",
    "    return f(x_i_1)*(x_S-x_i_2)/(x_i_1-x_i_2) + f(x_i_2)*(x_S-x_i_1)/(x_i_2-x_i_1)\n"
   ]
  },
  {
   "cell_type": "markdown",
   "id": "9ca00103",
   "metadata": {},
   "source": [
    "3. 1. На отрезке $[x_i, x_{i+1}]$ оценить минимальное и максимальное значения $f′′(x)$"
   ]
  },
  {
   "cell_type": "code",
   "execution_count": 7,
   "id": "7470a579",
   "metadata": {},
   "outputs": [],
   "source": [
    "def f_dd(x):\n",
    "    return 2 - 0.5 * math.e**x\n",
    "\n",
    "# функция монотонная\n",
    "f_dd_min, f_dd_max = min(f_dd(x_i_1), f_dd(x_i_2)), max(f_dd(x_i_1), f_dd(x_i_2))\n"
   ]
  },
  {
   "cell_type": "markdown",
   "id": "86d224ef",
   "metadata": {},
   "source": [
    "3. 2. С помощью формулы остаточного члена интерполяционной формулы\n",
    "Лагранжа первого порядка на отрезке $[x_i, x_{i+1}]$ оценить минимальное и максимальное значения\n",
    "остаточного члена $R_1(x)$"
   ]
  },
  {
   "cell_type": "code",
   "execution_count": null,
   "id": "d26495b8",
   "metadata": {},
   "outputs": [],
   "source": [
    "def w_2(x: np.float64) -> np.float64:\n",
    "    return (x - x_i_1) * (x - x_i_2)\n",
    "\n",
    "def R_1(x: np.float64, eps: np.float64 | None = None) -> np.float64:\n",
    "    if eps is None:\n",
    "        eps = (x_i_2 - x_i_1) * random.random() + x_i_1\n",
    "    return f_dd(eps)*w_2(x)/2\n"
   ]
  }
 ],
 "metadata": {
  "kernelspec": {
   "display_name": "ai-work (3.12.3)",
   "language": "python",
   "name": "python3"
  },
  "language_info": {
   "codemirror_mode": {
    "name": "ipython",
    "version": 3
   },
   "file_extension": ".py",
   "mimetype": "text/x-python",
   "name": "python",
   "nbconvert_exporter": "python",
   "pygments_lexer": "ipython3",
   "version": "3.12.3"
  }
 },
 "nbformat": 4,
 "nbformat_minor": 5
}
