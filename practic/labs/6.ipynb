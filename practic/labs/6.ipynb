{
 "cells": [
  {
   "cell_type": "code",
   "execution_count": 54,
   "id": "9fb2eeb7",
   "metadata": {},
   "outputs": [],
   "source": [
    "# Импортируем библиотеки\n",
    "import numpy as np\n",
    "import pandas as pd\n",
    "from sklearn.model_selection import train_test_split\n",
    "from sklearn.ensemble import RandomForestClassifier\n",
    "from sklearn.metrics import accuracy_score, precision_score, recall_score, f1_score, roc_auc_score\n",
    "from xgboost import XGBClassifier\n"
   ]
  },
  {
   "cell_type": "code",
   "execution_count": 55,
   "id": "214b9a6c",
   "metadata": {},
   "outputs": [],
   "source": [
    "DATA_PATH = \"/home/matv864/it/AI_work/data/billionaires_ready.csv\""
   ]
  },
  {
   "cell_type": "code",
   "execution_count": 56,
   "id": "b5c4d6b4",
   "metadata": {},
   "outputs": [],
   "source": [
    "\n",
    "df = pd.read_csv(DATA_PATH)\n",
    "\n"
   ]
  },
  {
   "cell_type": "code",
   "execution_count": 57,
   "id": "67fc5b5a",
   "metadata": {},
   "outputs": [],
   "source": [
    "category_list = [\n",
    "    'Fashion & Retail',\n",
    "    'Automotive',\n",
    "    'Technology',\n",
    "    'Finance & Investments',\n",
    "    'Media & Entertainment',\n",
    "    'Telecom',\n",
    "    'Diversified',\n",
    "    'Food & Beverage',\n",
    "    'Logistics',\n",
    "    'Gambling & Casinos',\n",
    "    'Manufacturing',\n",
    "    'Metals & Mining',\n",
    "    'Energy',\n",
    "    'Healthcare',\n",
    "    'Service',\n",
    "    'Real Estate',\n",
    "    'Construction & Engineering',\n",
    "    'Sports'\n",
    "]\n",
    "reverse_category_list = {\n",
    "    value: index\n",
    "    for index, value in zip(\n",
    "        range(len(category_list)),\n",
    "        category_list\n",
    "    )\n",
    "}"
   ]
  },
  {
   "cell_type": "code",
   "execution_count": 58,
   "id": "6d273240",
   "metadata": {},
   "outputs": [
    {
     "data": {
      "text/plain": [
       "array(['Fashion & Retail', 'Automotive', 'Technology',\n",
       "       'Finance & Investments', 'Media & Entertainment', 'Telecom',\n",
       "       'Diversified', 'Food & Beverage', 'Logistics',\n",
       "       'Gambling & Casinos', 'Manufacturing', 'Metals & Mining', 'Energy',\n",
       "       'Healthcare', 'Service', 'Real Estate',\n",
       "       'Construction & Engineering', 'Sports'], dtype=object)"
      ]
     },
     "execution_count": 58,
     "metadata": {},
     "output_type": "execute_result"
    }
   ],
   "source": [
    "X_reg = df.drop(columns=['category'])\n",
    "y_reg = df['category']\n",
    "y_reg.unique()"
   ]
  },
  {
   "cell_type": "code",
   "execution_count": 59,
   "id": "0eb52bd2",
   "metadata": {},
   "outputs": [],
   "source": [
    "def convert_category(category):\n",
    "    return reverse_category_list[category]\n",
    "\n",
    "y_reg = y_reg.apply(convert_category)"
   ]
  },
  {
   "cell_type": "code",
   "execution_count": 60,
   "id": "470a8b1d",
   "metadata": {},
   "outputs": [],
   "source": [
    "\n",
    "# Разделяем на train и test\n",
    "X_train, X_test, y_train, y_test = train_test_split(X_reg, y_reg, test_size=0.3, random_state=42)\n",
    "\n"
   ]
  },
  {
   "cell_type": "code",
   "execution_count": 61,
   "id": "b4371fff",
   "metadata": {},
   "outputs": [],
   "source": [
    "# 2. Random Forest\n",
    "rf = RandomForestClassifier(n_estimators=300, random_state=42)\n",
    "rf.fit(X_train, y_train)\n",
    "rf_pred = rf.predict(X_test)\n",
    "rf_pred_proba = rf.predict_proba(X_test)\n",
    "\n"
   ]
  },
  {
   "cell_type": "code",
   "execution_count": 62,
   "id": "79bdc5ad",
   "metadata": {},
   "outputs": [
    {
     "name": "stdout",
     "output_type": "stream",
     "text": [
      "Random Forest Metrics:\n",
      "Accuracy: 0.24166666666666667\n",
      "Precision (macro): 0.1636162385181993\n",
      "Recall (macro): 0.1554006574774568\n",
      "F1-Score (macro): 0.15430262775758521\n",
      "ROC-AUC (OvR): 0.6567354083113135\n"
     ]
    },
    {
     "name": "stderr",
     "output_type": "stream",
     "text": [
      "/home/matv864/it/AI_work/.venv/lib/python3.12/site-packages/sklearn/metrics/_classification.py:1565: UndefinedMetricWarning: Precision is ill-defined and being set to 0.0 in labels with no predicted samples. Use `zero_division` parameter to control this behavior.\n",
      "  _warn_prf(average, modifier, f\"{metric.capitalize()} is\", len(result))\n"
     ]
    }
   ],
   "source": [
    "# Метрики для Random Forest\n",
    "print(\"Random Forest Metrics:\")\n",
    "print(\"Accuracy:\", accuracy_score(y_test, rf_pred))\n",
    "print(\"Precision (macro):\", precision_score(y_test, rf_pred, average='macro'))\n",
    "print(\"Recall (macro):\", recall_score(y_test, rf_pred, average='macro'))\n",
    "print(\"F1-Score (macro):\", f1_score(y_test, rf_pred, average='macro'))\n",
    "print(\"ROC-AUC (OvR):\", roc_auc_score(y_test, rf_pred_proba, multi_class='ovr'))\n",
    "\n"
   ]
  },
  {
   "cell_type": "code",
   "execution_count": 63,
   "id": "a240ec00",
   "metadata": {},
   "outputs": [],
   "source": [
    "# 3. XGBoost\n",
    "xgb = XGBClassifier(n_estimators=100, random_state=42, eval_metric='mlogloss')\n",
    "xgb.fit(X_train, y_train)\n",
    "xgb_pred = xgb.predict(X_test)\n",
    "xgb_pred_proba = xgb.predict_proba(X_test)\n",
    "\n"
   ]
  },
  {
   "cell_type": "code",
   "execution_count": 64,
   "id": "512dfc4c",
   "metadata": {},
   "outputs": [
    {
     "name": "stdout",
     "output_type": "stream",
     "text": [
      "\n",
      "XGBoost Metrics:\n",
      "Accuracy: 0.2222222222222222\n",
      "Precision (macro): 0.13347992753906915\n",
      "Recall (macro): 0.13465296654705855\n",
      "F1-Score (macro): 0.13048020402309632\n",
      "ROC-AUC (OvR): 0.647554663599242\n"
     ]
    }
   ],
   "source": [
    "# Метрики для XGBoost\n",
    "print(\"\\nXGBoost Metrics:\")\n",
    "print(\"Accuracy:\", accuracy_score(y_test, xgb_pred))\n",
    "print(\"Precision (macro):\", precision_score(y_test, xgb_pred, average='macro'))\n",
    "print(\"Recall (macro):\", recall_score(y_test, xgb_pred, average='macro'))\n",
    "print(\"F1-Score (macro):\", f1_score(y_test, xgb_pred, average='macro'))\n",
    "print(\"ROC-AUC (OvR):\", roc_auc_score(y_test, xgb_pred_proba, multi_class='ovr'))"
   ]
  }
 ],
 "metadata": {
  "kernelspec": {
   "display_name": ".venv",
   "language": "python",
   "name": "python3"
  },
  "language_info": {
   "codemirror_mode": {
    "name": "ipython",
    "version": 3
   },
   "file_extension": ".py",
   "mimetype": "text/x-python",
   "name": "python",
   "nbconvert_exporter": "python",
   "pygments_lexer": "ipython3",
   "version": "3.12.3"
  }
 },
 "nbformat": 4,
 "nbformat_minor": 5
}
