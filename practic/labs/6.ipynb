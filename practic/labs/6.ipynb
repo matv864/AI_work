{
 "cells": [
  {
   "cell_type": "code",
   "execution_count": 11,
   "id": "9fb2eeb7",
   "metadata": {},
   "outputs": [],
   "source": [
    "# Импортируем библиотеки\n",
    "import numpy as np\n",
    "import pandas as pd\n",
    "from sklearn.model_selection import train_test_split\n",
    "from sklearn.preprocessing import LabelEncoder\n",
    "from sklearn.ensemble import RandomForestClassifier\n",
    "from sklearn.metrics import accuracy_score, precision_score, recall_score, f1_score, roc_auc_score\n",
    "from xgboost import XGBClassifier\n"
   ]
  },
  {
   "cell_type": "code",
   "execution_count": 12,
   "id": "214b9a6c",
   "metadata": {},
   "outputs": [],
   "source": [
    "DATA_PATH = \"/home/matv864/it/AI_work/data/billionaires_ready.csv\""
   ]
  },
  {
   "cell_type": "code",
   "execution_count": 13,
   "id": "b5c4d6b4",
   "metadata": {},
   "outputs": [],
   "source": [
    "df = pd.read_csv(DATA_PATH)"
   ]
  },
  {
   "cell_type": "code",
   "execution_count": 14,
   "id": "6d273240",
   "metadata": {},
   "outputs": [
    {
     "data": {
      "text/plain": [
       "array(['Fashion & Retail', 'Automotive', 'Technology',\n",
       "       'Finance & Investments', 'Media & Entertainment', 'Telecom',\n",
       "       'Diversified', 'Food & Beverage', 'Logistics',\n",
       "       'Gambling & Casinos', 'Manufacturing', 'Metals & Mining', 'Energy',\n",
       "       'Healthcare', 'Service', 'Real Estate',\n",
       "       'Construction & Engineering', 'Sports'], dtype=object)"
      ]
     },
     "execution_count": 14,
     "metadata": {},
     "output_type": "execute_result"
    }
   ],
   "source": [
    "X_reg = df.drop(columns=['category'])\n",
    "y_reg = df['category']\n",
    "y_reg.unique()"
   ]
  },
  {
   "cell_type": "code",
   "execution_count": 15,
   "id": "0eb52bd2",
   "metadata": {},
   "outputs": [],
   "source": [
    "le = LabelEncoder()\n",
    "y_reg = le.fit_transform(y_reg)"
   ]
  },
  {
   "cell_type": "code",
   "execution_count": 16,
   "id": "470a8b1d",
   "metadata": {},
   "outputs": [],
   "source": [
    "# Разделяем на train и test\n",
    "X_train, X_test, y_train, y_test = train_test_split(X_reg, y_reg, test_size=0.3, random_state=42)"
   ]
  },
  {
   "cell_type": "code",
   "execution_count": 17,
   "id": "b4371fff",
   "metadata": {},
   "outputs": [],
   "source": [
    "# 2. Random Forest\n",
    "rf = RandomForestClassifier(n_estimators=300, random_state=42)\n",
    "rf.fit(X_train, y_train)\n",
    "rf_pred = rf.predict(X_test)\n",
    "rf_pred_proba = rf.predict_proba(X_test)"
   ]
  },
  {
   "cell_type": "code",
   "execution_count": 18,
   "id": "79bdc5ad",
   "metadata": {},
   "outputs": [
    {
     "name": "stdout",
     "output_type": "stream",
     "text": [
      "Random Forest Metrics:\n",
      "Accuracy: 0.24166666666666667\n",
      "Precision (macro): 0.1636162385181993\n",
      "Recall (macro): 0.1554006574774568\n",
      "F1-Score (macro): 0.15430262775758521\n",
      "ROC-AUC (OvR): 0.6567354083113135\n"
     ]
    },
    {
     "name": "stderr",
     "output_type": "stream",
     "text": [
      "/home/matv864/it/AI_work/.venv/lib/python3.12/site-packages/sklearn/metrics/_classification.py:1565: UndefinedMetricWarning: Precision is ill-defined and being set to 0.0 in labels with no predicted samples. Use `zero_division` parameter to control this behavior.\n",
      "  _warn_prf(average, modifier, f\"{metric.capitalize()} is\", len(result))\n"
     ]
    }
   ],
   "source": [
    "# Метрики для Random Forest\n",
    "print(\"Random Forest Metrics:\")\n",
    "print(\"Accuracy:\", accuracy_score(y_test, rf_pred))\n",
    "print(\"Precision (macro):\", precision_score(y_test, rf_pred, average='macro'))\n",
    "print(\"Recall (macro):\", recall_score(y_test, rf_pred, average='macro'))\n",
    "print(\"F1-Score (macro):\", f1_score(y_test, rf_pred, average='macro'))\n",
    "print(\"ROC-AUC (OvR):\", roc_auc_score(y_test, rf_pred_proba, multi_class='ovr'))"
   ]
  },
  {
   "cell_type": "code",
   "execution_count": 19,
   "id": "a240ec00",
   "metadata": {},
   "outputs": [],
   "source": [
    "# 3. XGBoost\n",
    "xgb = XGBClassifier(n_estimators=100, random_state=42, eval_metric='mlogloss')\n",
    "xgb.fit(X_train, y_train)\n",
    "xgb_pred = xgb.predict(X_test)\n",
    "xgb_pred_proba = xgb.predict_proba(X_test)"
   ]
  },
  {
   "cell_type": "code",
   "execution_count": 20,
   "id": "512dfc4c",
   "metadata": {},
   "outputs": [
    {
     "name": "stdout",
     "output_type": "stream",
     "text": [
      "\n",
      "XGBoost Metrics:\n",
      "Accuracy: 0.2222222222222222\n",
      "Precision (macro): 0.13347992753906912\n",
      "Recall (macro): 0.13465296654705858\n",
      "F1-Score (macro): 0.1304802040230963\n",
      "ROC-AUC (OvR): 0.647554663599242\n"
     ]
    }
   ],
   "source": [
    "# Метрики для XGBoost\n",
    "print(\"\\nXGBoost Metrics:\")\n",
    "print(\"Accuracy:\", accuracy_score(y_test, xgb_pred))\n",
    "print(\"Precision (macro):\", precision_score(y_test, xgb_pred, average='macro'))\n",
    "print(\"Recall (macro):\", recall_score(y_test, xgb_pred, average='macro'))\n",
    "print(\"F1-Score (macro):\", f1_score(y_test, xgb_pred, average='macro'))\n",
    "print(\"ROC-AUC (OvR):\", roc_auc_score(y_test, xgb_pred_proba, multi_class='ovr'))"
   ]
  }
 ],
 "metadata": {
  "kernelspec": {
   "display_name": ".venv",
   "language": "python",
   "name": "python3"
  },
  "language_info": {
   "codemirror_mode": {
    "name": "ipython",
    "version": 3
   },
   "file_extension": ".py",
   "mimetype": "text/x-python",
   "name": "python",
   "nbconvert_exporter": "python",
   "pygments_lexer": "ipython3",
   "version": "3.12.3"
  }
 },
 "nbformat": 4,
 "nbformat_minor": 5
}
