{
 "cells": [
  {
   "cell_type": "code",
   "execution_count": 20,
   "id": "55336162",
   "metadata": {},
   "outputs": [],
   "source": [
    "import pandas as pd\n",
    "from sklearn.metrics import accuracy_score\n",
    "from sklearn.preprocessing import LabelEncoder\n",
    "from sklearn.ensemble import RandomForestClassifier\n",
    "from xgboost import XGBClassifier\n",
    "from sklearn.model_selection import train_test_split\n",
    "from sklearn.model_selection import GridSearchCV\n",
    "from sklearn.model_selection import RandomizedSearchCV\n",
    "from skopt import BayesSearchCV\n",
    "\n"
   ]
  },
  {
   "cell_type": "code",
   "execution_count": 21,
   "id": "3b9dfa51",
   "metadata": {},
   "outputs": [],
   "source": [
    "DATA_PATH = \"/home/matv864/it/AI_work/data/billionaires_ready.csv\""
   ]
  },
  {
   "cell_type": "code",
   "execution_count": 22,
   "id": "7281731e",
   "metadata": {},
   "outputs": [],
   "source": [
    "df = pd.read_csv(DATA_PATH)"
   ]
  },
  {
   "cell_type": "code",
   "execution_count": 23,
   "id": "78bd7739",
   "metadata": {},
   "outputs": [
    {
     "data": {
      "text/plain": [
       "array(['Fashion & Retail', 'Automotive', 'Technology',\n",
       "       'Finance & Investments', 'Media & Entertainment', 'Telecom',\n",
       "       'Diversified', 'Food & Beverage', 'Logistics',\n",
       "       'Gambling & Casinos', 'Manufacturing', 'Metals & Mining', 'Energy',\n",
       "       'Healthcare', 'Service', 'Real Estate',\n",
       "       'Construction & Engineering', 'Sports'], dtype=object)"
      ]
     },
     "execution_count": 23,
     "metadata": {},
     "output_type": "execute_result"
    }
   ],
   "source": [
    "X_reg = df.drop(columns=['category'])\n",
    "y_reg = df['category']\n",
    "y_reg.unique()"
   ]
  },
  {
   "cell_type": "code",
   "execution_count": 24,
   "id": "b84e9529",
   "metadata": {},
   "outputs": [],
   "source": [
    "le = LabelEncoder()\n",
    "y_reg = le.fit_transform(y_reg)"
   ]
  },
  {
   "cell_type": "code",
   "execution_count": 25,
   "id": "e4a9b6b6",
   "metadata": {},
   "outputs": [],
   "source": [
    "# Разделяем на train и test\n",
    "X_train, X_test, y_train, y_test = train_test_split(X_reg, y_reg, test_size=0.3, random_state=42)"
   ]
  },
  {
   "cell_type": "code",
   "execution_count": 26,
   "id": "99ca15e6",
   "metadata": {},
   "outputs": [],
   "source": [
    "rf = RandomForestClassifier(random_state=42)\n",
    "rf_params = {\n",
    "    'n_estimators': [100, 200, 300],\n",
    "    'max_depth': [None, 10, 20],\n",
    "    'min_samples_split': [2, 5, 10]\n",
    "}\n",
    "\n",
    "xgb = XGBClassifier(random_state=42, eval_metric='mlogloss')\n",
    "xgb_params = {\n",
    "    'n_estimators':  [100, 200, 300],\n",
    "    'max_depth': [None, 10, 20],\n",
    "    'learning_rate': [0.01, 0.1, 0.2]\n",
    "}"
   ]
  },
  {
   "cell_type": "markdown",
   "id": "ef6b1399",
   "metadata": {},
   "source": [
    "# Без гиперпараметров"
   ]
  },
  {
   "cell_type": "code",
   "execution_count": 27,
   "id": "94f5496e",
   "metadata": {},
   "outputs": [
    {
     "name": "stdout",
     "output_type": "stream",
     "text": [
      "Accuracy RandomForest: 0.24027777777777778\n",
      "Accuracy XGBoost: 0.2222222222222222\n"
     ]
    }
   ],
   "source": [
    "rf.fit(X_train, y_train)\n",
    "rf_pred = rf.predict(X_test)\n",
    "print(\"Accuracy RandomForest:\", accuracy_score(y_test, rf_pred))\n",
    "\n",
    "xgb.fit(X_train, y_train)\n",
    "xgb_pred = xgb.predict(X_test)\n",
    "print(\"Accuracy XGBoost:\", accuracy_score(y_test, xgb_pred))"
   ]
  },
  {
   "cell_type": "markdown",
   "id": "f252c89f",
   "metadata": {},
   "source": [
    "# Поиск по решётке"
   ]
  },
  {
   "cell_type": "code",
   "execution_count": 28,
   "id": "1d0fdb62",
   "metadata": {},
   "outputs": [
    {
     "name": "stdout",
     "output_type": "stream",
     "text": [
      "Лучшие параметры для RandomForest: {'max_depth': 20, 'min_samples_split': 10, 'n_estimators': 300}\n",
      "Лучшая accuracy: 0.27609275053304905\n"
     ]
    }
   ],
   "source": [
    "rf_grid = GridSearchCV(rf, rf_params, cv=5, scoring='accuracy', n_jobs=-1)\n",
    "rf_grid.fit(X_train, y_train)\n",
    "print(\"Лучшие параметры для RandomForest:\", rf_grid.best_params_)\n",
    "print(\"Лучшая accuracy:\", rf_grid.best_score_)"
   ]
  },
  {
   "cell_type": "code",
   "execution_count": 29,
   "id": "3abe5717",
   "metadata": {},
   "outputs": [
    {
     "name": "stdout",
     "output_type": "stream",
     "text": [
      "Лучшие параметры для XGBoost: {'learning_rate': 0.01, 'max_depth': None, 'n_estimators': 200}\n",
      "Лучшая accuracy: 0.2534363894811656\n"
     ]
    }
   ],
   "source": [
    "xgb_grid = GridSearchCV(xgb, xgb_params, cv=5, scoring='accuracy', n_jobs=-1)\n",
    "xgb_grid.fit(X_train, y_train)\n",
    "print(\"Лучшие параметры для XGBoost:\", xgb_grid.best_params_)\n",
    "print(\"Лучшая accuracy:\", xgb_grid.best_score_)"
   ]
  },
  {
   "cell_type": "markdown",
   "id": "33f663ce",
   "metadata": {},
   "source": [
    "# Случайный поиск"
   ]
  },
  {
   "cell_type": "code",
   "execution_count": 30,
   "id": "43257aeb",
   "metadata": {},
   "outputs": [
    {
     "name": "stdout",
     "output_type": "stream",
     "text": [
      "Лучшие параметры для RandomForest: {'n_estimators': 300, 'min_samples_split': 10, 'max_depth': 20}\n",
      "Лучшая accuracy: 0.27609275053304905\n"
     ]
    }
   ],
   "source": [
    "rf_random = RandomizedSearchCV(rf, rf_params, n_iter=10, cv=5, scoring='accuracy', n_jobs=-1)\n",
    "rf_random.fit(X_train, y_train)\n",
    "print(\"Лучшие параметры для RandomForest:\", rf_random.best_params_)\n",
    "print(\"Лучшая accuracy:\", rf_random.best_score_)\n"
   ]
  },
  {
   "cell_type": "code",
   "execution_count": 31,
   "id": "f4b07def",
   "metadata": {},
   "outputs": [
    {
     "name": "stdout",
     "output_type": "stream",
     "text": [
      "Лучшие параметры для XGBoost: {'n_estimators': 100, 'max_depth': None, 'learning_rate': 0.01}\n",
      "Лучшая accuracy: 0.24865671641791046\n"
     ]
    }
   ],
   "source": [
    "xgb_random = RandomizedSearchCV(xgb, xgb_params, n_iter=10, cv=5, scoring='accuracy', n_jobs=-1)\n",
    "xgb_random.fit(X_train, y_train)\n",
    "print(\"Лучшие параметры для XGBoost:\", xgb_random.best_params_)\n",
    "print(\"Лучшая accuracy:\", xgb_random.best_score_)"
   ]
  },
  {
   "cell_type": "markdown",
   "id": "9c9fc4d9",
   "metadata": {},
   "source": [
    "# Байесов подход"
   ]
  },
  {
   "cell_type": "code",
   "execution_count": 32,
   "id": "730fbafd",
   "metadata": {},
   "outputs": [
    {
     "name": "stdout",
     "output_type": "stream",
     "text": [
      "Лучшие параметры для RandomForest: OrderedDict({'max_depth': None, 'min_samples_split': 10, 'n_estimators': 300})\n",
      "Лучшая accuracy: 0.27549573560767593\n"
     ]
    }
   ],
   "source": [
    "rf_bayes = BayesSearchCV(\n",
    "    rf,\n",
    "    rf_params,\n",
    "    n_iter=10,\n",
    "    cv=5,\n",
    "    scoring='accuracy',\n",
    "    n_jobs=-1\n",
    ")\n",
    "rf_bayes.fit(X_train, y_train)\n",
    "print(\"Лучшие параметры для RandomForest:\", rf_bayes.best_params_)\n",
    "print(\"Лучшая accuracy:\", rf_bayes.best_score_)"
   ]
  },
  {
   "cell_type": "code",
   "execution_count": 33,
   "id": "b101b629",
   "metadata": {},
   "outputs": [
    {
     "name": "stdout",
     "output_type": "stream",
     "text": [
      "Лучшие параметры для XGBoost: OrderedDict({'learning_rate': 0.01, 'max_depth': None, 'n_estimators': 300})\n",
      "Лучшая accuracy: 0.2498560767590618\n"
     ]
    }
   ],
   "source": [
    "xgb_bayes = BayesSearchCV(\n",
    "    xgb,\n",
    "    xgb_params,\n",
    "    n_iter=10,\n",
    "    cv=5,\n",
    "    scoring='accuracy',\n",
    "    n_jobs=-1\n",
    ")\n",
    "xgb_bayes.fit(X_train, y_train)\n",
    "print(\"Лучшие параметры для XGBoost:\", xgb_bayes.best_params_)\n",
    "print(\"Лучшая accuracy:\", xgb_bayes.best_score_)"
   ]
  }
 ],
 "metadata": {
  "kernelspec": {
   "display_name": ".venv",
   "language": "python",
   "name": "python3"
  },
  "language_info": {
   "codemirror_mode": {
    "name": "ipython",
    "version": 3
   },
   "file_extension": ".py",
   "mimetype": "text/x-python",
   "name": "python",
   "nbconvert_exporter": "python",
   "pygments_lexer": "ipython3",
   "version": "3.12.3"
  }
 },
 "nbformat": 4,
 "nbformat_minor": 5
}
