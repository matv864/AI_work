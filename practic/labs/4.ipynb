{
 "cells": [
  {
   "cell_type": "code",
   "execution_count": 87,
   "id": "f133564d",
   "metadata": {},
   "outputs": [],
   "source": [
    "import numpy as np\n",
    "import pandas as pd\n",
    "import re\n",
    "import matplotlib.pyplot as plt\n",
    "import seaborn as sns\n",
    "from datetime import datetime\n",
    "\n",
    "from sklearn.preprocessing import StandardScaler, MinMaxScaler\n",
    "from sklearn.cluster import KMeans\n",
    "from sklearn.manifold import TSNE\n"
   ]
  },
  {
   "cell_type": "code",
   "execution_count": 88,
   "id": "edf7ffc4",
   "metadata": {},
   "outputs": [],
   "source": [
    "DATA_PATH = \"/home/matv864/it/AI_work/data/billionaires.csv\"\n",
    "SAVE_DATA_PATH = \"/home/matv864/it/AI_work/data/billionaires_ready.csv\""
   ]
  },
  {
   "cell_type": "code",
   "execution_count": 89,
   "id": "e10c2175",
   "metadata": {},
   "outputs": [],
   "source": [
    "# import kagglehub\n",
    "\n",
    "\n",
    "# # Download latest version\n",
    "# path = kagglehub.dataset_download(\n",
    "#     \"nelgiriyewithana/billionaires-statistics-dataset\",\n",
    "# )\n",
    "\n",
    "# print(\"Path to dataset files:\", path)"
   ]
  },
  {
   "cell_type": "code",
   "execution_count": 90,
   "id": "fdc6d0db",
   "metadata": {},
   "outputs": [
    {
     "data": {
      "application/vnd.microsoft.datawrangler.viewer.v0+json": {
       "columns": [
        {
         "name": "index",
         "rawType": "int64",
         "type": "integer"
        },
        {
         "name": "rank",
         "rawType": "int64",
         "type": "integer"
        },
        {
         "name": "finalWorth",
         "rawType": "int64",
         "type": "integer"
        },
        {
         "name": "category",
         "rawType": "object",
         "type": "string"
        },
        {
         "name": "personName",
         "rawType": "object",
         "type": "string"
        },
        {
         "name": "age",
         "rawType": "float64",
         "type": "float"
        },
        {
         "name": "country",
         "rawType": "object",
         "type": "string"
        },
        {
         "name": "city",
         "rawType": "object",
         "type": "string"
        },
        {
         "name": "source",
         "rawType": "object",
         "type": "string"
        },
        {
         "name": "industries",
         "rawType": "object",
         "type": "string"
        },
        {
         "name": "countryOfCitizenship",
         "rawType": "object",
         "type": "string"
        },
        {
         "name": "organization",
         "rawType": "object",
         "type": "string"
        },
        {
         "name": "selfMade",
         "rawType": "bool",
         "type": "boolean"
        },
        {
         "name": "status",
         "rawType": "object",
         "type": "string"
        },
        {
         "name": "gender",
         "rawType": "object",
         "type": "string"
        },
        {
         "name": "birthDate",
         "rawType": "object",
         "type": "string"
        },
        {
         "name": "lastName",
         "rawType": "object",
         "type": "string"
        },
        {
         "name": "firstName",
         "rawType": "object",
         "type": "string"
        },
        {
         "name": "title",
         "rawType": "object",
         "type": "string"
        },
        {
         "name": "date",
         "rawType": "object",
         "type": "string"
        },
        {
         "name": "state",
         "rawType": "object",
         "type": "unknown"
        },
        {
         "name": "residenceStateRegion",
         "rawType": "object",
         "type": "unknown"
        },
        {
         "name": "birthYear",
         "rawType": "float64",
         "type": "float"
        },
        {
         "name": "birthMonth",
         "rawType": "float64",
         "type": "float"
        },
        {
         "name": "birthDay",
         "rawType": "float64",
         "type": "float"
        },
        {
         "name": "cpi_country",
         "rawType": "float64",
         "type": "float"
        },
        {
         "name": "cpi_change_country",
         "rawType": "float64",
         "type": "float"
        },
        {
         "name": "gdp_country",
         "rawType": "object",
         "type": "string"
        },
        {
         "name": "gross_tertiary_education_enrollment",
         "rawType": "float64",
         "type": "float"
        },
        {
         "name": "gross_primary_education_enrollment_country",
         "rawType": "float64",
         "type": "float"
        },
        {
         "name": "life_expectancy_country",
         "rawType": "float64",
         "type": "float"
        },
        {
         "name": "tax_revenue_country_country",
         "rawType": "float64",
         "type": "float"
        },
        {
         "name": "total_tax_rate_country",
         "rawType": "float64",
         "type": "float"
        },
        {
         "name": "population_country",
         "rawType": "float64",
         "type": "float"
        },
        {
         "name": "latitude_country",
         "rawType": "float64",
         "type": "float"
        },
        {
         "name": "longitude_country",
         "rawType": "float64",
         "type": "float"
        }
       ],
       "ref": "45f2b221-e57b-405f-8d50-5196dfd63567",
       "rows": [
        [
         "0",
         "1",
         "211000",
         "Fashion & Retail",
         "Bernard Arnault & family",
         "74.0",
         "France",
         "Paris",
         "LVMH",
         "Fashion & Retail",
         "France",
         "LVMH Moët Hennessy Louis Vuitton",
         "False",
         "U",
         "M",
         "3/5/1949 0:00",
         "Arnault",
         "Bernard",
         "Chairman and CEO",
         "4/4/2023 5:01",
         null,
         null,
         "1949.0",
         "3.0",
         "5.0",
         "110.05",
         "1.1",
         "$2,715,518,274,227 ",
         "65.6",
         "102.5",
         "82.5",
         "24.2",
         "60.7",
         "67059887.0",
         "46.227638",
         "2.213749"
        ],
        [
         "1",
         "2",
         "180000",
         "Automotive",
         "Elon Musk",
         "51.0",
         "United States",
         "Austin",
         "Tesla, SpaceX",
         "Automotive",
         "United States",
         "Tesla",
         "True",
         "D",
         "M",
         "6/28/1971 0:00",
         "Musk",
         "Elon",
         "CEO",
         "4/4/2023 5:01",
         "Texas",
         "South",
         "1971.0",
         "6.0",
         "28.0",
         "117.24",
         "7.5",
         "$21,427,700,000,000 ",
         "88.2",
         "101.8",
         "78.5",
         "9.6",
         "36.6",
         "328239523.0",
         "37.09024",
         "-95.712891"
        ],
        [
         "2",
         "3",
         "114000",
         "Technology",
         "Jeff Bezos",
         "59.0",
         "United States",
         "Medina",
         "Amazon",
         "Technology",
         "United States",
         "Amazon",
         "True",
         "D",
         "M",
         "1/12/1964 0:00",
         "Bezos",
         "Jeff",
         "Chairman and Founder",
         "4/4/2023 5:01",
         "Washington",
         "West",
         "1964.0",
         "1.0",
         "12.0",
         "117.24",
         "7.5",
         "$21,427,700,000,000 ",
         "88.2",
         "101.8",
         "78.5",
         "9.6",
         "36.6",
         "328239523.0",
         "37.09024",
         "-95.712891"
        ],
        [
         "3",
         "4",
         "107000",
         "Technology",
         "Larry Ellison",
         "78.0",
         "United States",
         "Lanai",
         "Oracle",
         "Technology",
         "United States",
         "Oracle",
         "True",
         "U",
         "M",
         "8/17/1944 0:00",
         "Ellison",
         "Larry",
         "CTO and Founder",
         "4/4/2023 5:01",
         "Hawaii",
         "West",
         "1944.0",
         "8.0",
         "17.0",
         "117.24",
         "7.5",
         "$21,427,700,000,000 ",
         "88.2",
         "101.8",
         "78.5",
         "9.6",
         "36.6",
         "328239523.0",
         "37.09024",
         "-95.712891"
        ],
        [
         "4",
         "5",
         "106000",
         "Finance & Investments",
         "Warren Buffett",
         "92.0",
         "United States",
         "Omaha",
         "Berkshire Hathaway",
         "Finance & Investments",
         "United States",
         "Berkshire Hathaway Inc. (Cl A)",
         "True",
         "D",
         "M",
         "8/30/1930 0:00",
         "Buffett",
         "Warren",
         "CEO",
         "4/4/2023 5:01",
         "Nebraska",
         "Midwest",
         "1930.0",
         "8.0",
         "30.0",
         "117.24",
         "7.5",
         "$21,427,700,000,000 ",
         "88.2",
         "101.8",
         "78.5",
         "9.6",
         "36.6",
         "328239523.0",
         "37.09024",
         "-95.712891"
        ]
       ],
       "shape": {
        "columns": 35,
        "rows": 5
       }
      },
      "text/html": [
       "<div>\n",
       "<style scoped>\n",
       "    .dataframe tbody tr th:only-of-type {\n",
       "        vertical-align: middle;\n",
       "    }\n",
       "\n",
       "    .dataframe tbody tr th {\n",
       "        vertical-align: top;\n",
       "    }\n",
       "\n",
       "    .dataframe thead th {\n",
       "        text-align: right;\n",
       "    }\n",
       "</style>\n",
       "<table border=\"1\" class=\"dataframe\">\n",
       "  <thead>\n",
       "    <tr style=\"text-align: right;\">\n",
       "      <th></th>\n",
       "      <th>rank</th>\n",
       "      <th>finalWorth</th>\n",
       "      <th>category</th>\n",
       "      <th>personName</th>\n",
       "      <th>age</th>\n",
       "      <th>country</th>\n",
       "      <th>city</th>\n",
       "      <th>source</th>\n",
       "      <th>industries</th>\n",
       "      <th>countryOfCitizenship</th>\n",
       "      <th>...</th>\n",
       "      <th>cpi_change_country</th>\n",
       "      <th>gdp_country</th>\n",
       "      <th>gross_tertiary_education_enrollment</th>\n",
       "      <th>gross_primary_education_enrollment_country</th>\n",
       "      <th>life_expectancy_country</th>\n",
       "      <th>tax_revenue_country_country</th>\n",
       "      <th>total_tax_rate_country</th>\n",
       "      <th>population_country</th>\n",
       "      <th>latitude_country</th>\n",
       "      <th>longitude_country</th>\n",
       "    </tr>\n",
       "  </thead>\n",
       "  <tbody>\n",
       "    <tr>\n",
       "      <th>0</th>\n",
       "      <td>1</td>\n",
       "      <td>211000</td>\n",
       "      <td>Fashion &amp; Retail</td>\n",
       "      <td>Bernard Arnault &amp; family</td>\n",
       "      <td>74.0</td>\n",
       "      <td>France</td>\n",
       "      <td>Paris</td>\n",
       "      <td>LVMH</td>\n",
       "      <td>Fashion &amp; Retail</td>\n",
       "      <td>France</td>\n",
       "      <td>...</td>\n",
       "      <td>1.1</td>\n",
       "      <td>$2,715,518,274,227</td>\n",
       "      <td>65.6</td>\n",
       "      <td>102.5</td>\n",
       "      <td>82.5</td>\n",
       "      <td>24.2</td>\n",
       "      <td>60.7</td>\n",
       "      <td>67059887.0</td>\n",
       "      <td>46.227638</td>\n",
       "      <td>2.213749</td>\n",
       "    </tr>\n",
       "    <tr>\n",
       "      <th>1</th>\n",
       "      <td>2</td>\n",
       "      <td>180000</td>\n",
       "      <td>Automotive</td>\n",
       "      <td>Elon Musk</td>\n",
       "      <td>51.0</td>\n",
       "      <td>United States</td>\n",
       "      <td>Austin</td>\n",
       "      <td>Tesla, SpaceX</td>\n",
       "      <td>Automotive</td>\n",
       "      <td>United States</td>\n",
       "      <td>...</td>\n",
       "      <td>7.5</td>\n",
       "      <td>$21,427,700,000,000</td>\n",
       "      <td>88.2</td>\n",
       "      <td>101.8</td>\n",
       "      <td>78.5</td>\n",
       "      <td>9.6</td>\n",
       "      <td>36.6</td>\n",
       "      <td>328239523.0</td>\n",
       "      <td>37.090240</td>\n",
       "      <td>-95.712891</td>\n",
       "    </tr>\n",
       "    <tr>\n",
       "      <th>2</th>\n",
       "      <td>3</td>\n",
       "      <td>114000</td>\n",
       "      <td>Technology</td>\n",
       "      <td>Jeff Bezos</td>\n",
       "      <td>59.0</td>\n",
       "      <td>United States</td>\n",
       "      <td>Medina</td>\n",
       "      <td>Amazon</td>\n",
       "      <td>Technology</td>\n",
       "      <td>United States</td>\n",
       "      <td>...</td>\n",
       "      <td>7.5</td>\n",
       "      <td>$21,427,700,000,000</td>\n",
       "      <td>88.2</td>\n",
       "      <td>101.8</td>\n",
       "      <td>78.5</td>\n",
       "      <td>9.6</td>\n",
       "      <td>36.6</td>\n",
       "      <td>328239523.0</td>\n",
       "      <td>37.090240</td>\n",
       "      <td>-95.712891</td>\n",
       "    </tr>\n",
       "    <tr>\n",
       "      <th>3</th>\n",
       "      <td>4</td>\n",
       "      <td>107000</td>\n",
       "      <td>Technology</td>\n",
       "      <td>Larry Ellison</td>\n",
       "      <td>78.0</td>\n",
       "      <td>United States</td>\n",
       "      <td>Lanai</td>\n",
       "      <td>Oracle</td>\n",
       "      <td>Technology</td>\n",
       "      <td>United States</td>\n",
       "      <td>...</td>\n",
       "      <td>7.5</td>\n",
       "      <td>$21,427,700,000,000</td>\n",
       "      <td>88.2</td>\n",
       "      <td>101.8</td>\n",
       "      <td>78.5</td>\n",
       "      <td>9.6</td>\n",
       "      <td>36.6</td>\n",
       "      <td>328239523.0</td>\n",
       "      <td>37.090240</td>\n",
       "      <td>-95.712891</td>\n",
       "    </tr>\n",
       "    <tr>\n",
       "      <th>4</th>\n",
       "      <td>5</td>\n",
       "      <td>106000</td>\n",
       "      <td>Finance &amp; Investments</td>\n",
       "      <td>Warren Buffett</td>\n",
       "      <td>92.0</td>\n",
       "      <td>United States</td>\n",
       "      <td>Omaha</td>\n",
       "      <td>Berkshire Hathaway</td>\n",
       "      <td>Finance &amp; Investments</td>\n",
       "      <td>United States</td>\n",
       "      <td>...</td>\n",
       "      <td>7.5</td>\n",
       "      <td>$21,427,700,000,000</td>\n",
       "      <td>88.2</td>\n",
       "      <td>101.8</td>\n",
       "      <td>78.5</td>\n",
       "      <td>9.6</td>\n",
       "      <td>36.6</td>\n",
       "      <td>328239523.0</td>\n",
       "      <td>37.090240</td>\n",
       "      <td>-95.712891</td>\n",
       "    </tr>\n",
       "  </tbody>\n",
       "</table>\n",
       "<p>5 rows × 35 columns</p>\n",
       "</div>"
      ],
      "text/plain": [
       "   rank  finalWorth               category                personName   age  \\\n",
       "0     1      211000       Fashion & Retail  Bernard Arnault & family  74.0   \n",
       "1     2      180000             Automotive                 Elon Musk  51.0   \n",
       "2     3      114000             Technology                Jeff Bezos  59.0   \n",
       "3     4      107000             Technology             Larry Ellison  78.0   \n",
       "4     5      106000  Finance & Investments            Warren Buffett  92.0   \n",
       "\n",
       "         country    city              source             industries  \\\n",
       "0         France   Paris                LVMH       Fashion & Retail   \n",
       "1  United States  Austin       Tesla, SpaceX             Automotive   \n",
       "2  United States  Medina              Amazon             Technology   \n",
       "3  United States   Lanai              Oracle             Technology   \n",
       "4  United States   Omaha  Berkshire Hathaway  Finance & Investments   \n",
       "\n",
       "  countryOfCitizenship  ... cpi_change_country           gdp_country  \\\n",
       "0               France  ...                1.1   $2,715,518,274,227    \n",
       "1        United States  ...                7.5  $21,427,700,000,000    \n",
       "2        United States  ...                7.5  $21,427,700,000,000    \n",
       "3        United States  ...                7.5  $21,427,700,000,000    \n",
       "4        United States  ...                7.5  $21,427,700,000,000    \n",
       "\n",
       "  gross_tertiary_education_enrollment  \\\n",
       "0                                65.6   \n",
       "1                                88.2   \n",
       "2                                88.2   \n",
       "3                                88.2   \n",
       "4                                88.2   \n",
       "\n",
       "  gross_primary_education_enrollment_country life_expectancy_country  \\\n",
       "0                                      102.5                    82.5   \n",
       "1                                      101.8                    78.5   \n",
       "2                                      101.8                    78.5   \n",
       "3                                      101.8                    78.5   \n",
       "4                                      101.8                    78.5   \n",
       "\n",
       "  tax_revenue_country_country total_tax_rate_country population_country  \\\n",
       "0                        24.2                   60.7         67059887.0   \n",
       "1                         9.6                   36.6        328239523.0   \n",
       "2                         9.6                   36.6        328239523.0   \n",
       "3                         9.6                   36.6        328239523.0   \n",
       "4                         9.6                   36.6        328239523.0   \n",
       "\n",
       "  latitude_country longitude_country  \n",
       "0        46.227638          2.213749  \n",
       "1        37.090240        -95.712891  \n",
       "2        37.090240        -95.712891  \n",
       "3        37.090240        -95.712891  \n",
       "4        37.090240        -95.712891  \n",
       "\n",
       "[5 rows x 35 columns]"
      ]
     },
     "execution_count": 90,
     "metadata": {},
     "output_type": "execute_result"
    }
   ],
   "source": [
    "df = pd.read_csv(DATA_PATH)\n",
    "df.head()"
   ]
  },
  {
   "cell_type": "code",
   "execution_count": 91,
   "id": "1762950c",
   "metadata": {},
   "outputs": [
    {
     "data": {
      "text/plain": [
       "(2398, 35)"
      ]
     },
     "execution_count": 91,
     "metadata": {},
     "output_type": "execute_result"
    }
   ],
   "source": [
    "df = df.dropna(thresh=df.shape[1] - 5)\n",
    "df.shape"
   ]
  },
  {
   "cell_type": "code",
   "execution_count": 92,
   "id": "5b3de222",
   "metadata": {},
   "outputs": [],
   "source": [
    "column = \"rank\"\n"
   ]
  },
  {
   "cell_type": "code",
   "execution_count": 93,
   "id": "d7df913c",
   "metadata": {},
   "outputs": [],
   "source": [
    "column = \"finalWorth\"\n"
   ]
  },
  {
   "cell_type": "code",
   "execution_count": null,
   "id": "c24083d9",
   "metadata": {},
   "outputs": [
    {
     "data": {
      "text/plain": [
       "np.float64(0.0)"
      ]
     },
     "execution_count": 94,
     "metadata": {},
     "output_type": "execute_result"
    }
   ],
   "source": [
    "column = \"category\"\n",
    "# unique 18\n",
    "\n",
    "# df = df.drop(column, axis=1)\n",
    "df[column].isna().sum()/df[column].count()"
   ]
  },
  {
   "cell_type": "code",
   "execution_count": 95,
   "id": "58183d6f",
   "metadata": {},
   "outputs": [],
   "source": [
    "column = \"personName\"\n",
    "# don't need\n",
    "\n",
    "df = df.drop(column, axis=1)"
   ]
  },
  {
   "cell_type": "code",
   "execution_count": 96,
   "id": "1d90d6a5",
   "metadata": {},
   "outputs": [
    {
     "data": {
      "text/plain": [
       "np.float64(0.0)"
      ]
     },
     "execution_count": 96,
     "metadata": {},
     "output_type": "execute_result"
    }
   ],
   "source": [
    "column = \"age\"\n",
    "# loss 2%\n",
    "# after soft clean 3 nan - 0%\n",
    "\n",
    "df[column].isna().sum()/df[column].count()\n",
    "\n",
    "# df = df.drop(column, axis=1)"
   ]
  },
  {
   "cell_type": "code",
   "execution_count": 97,
   "id": "4124d41f",
   "metadata": {},
   "outputs": [],
   "source": [
    "column = \"country\"\n",
    "# loss 1%\n",
    "# unique 78\n",
    "\n",
    "# 3 main and other\n",
    "\n",
    "df = df.drop(column, axis=1)"
   ]
  },
  {
   "cell_type": "code",
   "execution_count": 98,
   "id": "3d7a87a3",
   "metadata": {},
   "outputs": [],
   "source": [
    "column = \"city\"\n",
    "# loss 3%\n",
    "# unique 741\n",
    "\n",
    "df = df.drop(column, axis=1)"
   ]
  },
  {
   "cell_type": "code",
   "execution_count": 99,
   "id": "551802e1",
   "metadata": {},
   "outputs": [],
   "source": [
    "column = \"source\"\n",
    "# unique 908\n",
    "\n",
    "df = df.drop(column, axis=1)\n",
    "# df[\"source\"].unique()"
   ]
  },
  {
   "cell_type": "code",
   "execution_count": 100,
   "id": "e544b22c",
   "metadata": {},
   "outputs": [],
   "source": [
    "column = \"industries\"\n",
    "# unique 18\n",
    "\n",
    "df = df.drop(column, axis=1)"
   ]
  },
  {
   "cell_type": "code",
   "execution_count": 101,
   "id": "60e6ea53",
   "metadata": {},
   "outputs": [],
   "source": [
    "column = \"countryOfCitizenship\"\n",
    "# unique 77\n",
    "\n",
    "df = df.drop(column, axis=1)"
   ]
  },
  {
   "cell_type": "code",
   "execution_count": 102,
   "id": "47f88ee5",
   "metadata": {},
   "outputs": [],
   "source": [
    "column = \"organization\"\n",
    "# very small amount of information \n",
    "# loss 88%\n",
    "\n",
    "df = df.drop(column, axis=1)"
   ]
  },
  {
   "cell_type": "code",
   "execution_count": 103,
   "id": "59430cf2",
   "metadata": {},
   "outputs": [],
   "source": [
    "column = \"selfMade\"\n",
    "# ready in True/False\n",
    "\n",
    "# yes_no_dict = {\n",
    "#     True: 1,\n",
    "#     False: 0\n",
    "# }\n",
    "\n",
    "# df[column] = df[column].map(yes_no_dict)\n"
   ]
  },
  {
   "cell_type": "code",
   "execution_count": 104,
   "id": "d02f5fcf",
   "metadata": {},
   "outputs": [],
   "source": [
    "column = \"status\"\n",
    "# unique 6\n",
    "\n",
    "df = df.drop(column, axis=1)\n",
    "# df[\"status\"]"
   ]
  },
  {
   "cell_type": "code",
   "execution_count": 105,
   "id": "98862c1f",
   "metadata": {},
   "outputs": [
    {
     "name": "stdout",
     "output_type": "stream",
     "text": [
      "0       M\n",
      "1       M\n",
      "2       M\n",
      "3       M\n",
      "4       M\n",
      "       ..\n",
      "2635    M\n",
      "2636    M\n",
      "2637    M\n",
      "2638    M\n",
      "2639    M\n",
      "Name: gender, Length: 2398, dtype: object\n"
     ]
    }
   ],
   "source": [
    "column = \"gender\"\n",
    "print(df[column])\n",
    "\n",
    "\n",
    "def convert_to_is_male(gender: str | None) -> bool:\n",
    "    match gender:\n",
    "        case \"M\":\n",
    "            return True\n",
    "        case \"F\":\n",
    "            return False\n",
    "        case _:\n",
    "            print(\"ERRROR\")\n",
    "            0/0\n",
    "\n",
    "\n",
    "df[column] = (\n",
    "    df[column]\n",
    "    .apply(convert_to_is_male)\n",
    ")\n",
    "\n",
    "df = df.rename(columns={'gender': 'is_male'})\n",
    "# df = df.drop(column, axis=1)"
   ]
  },
  {
   "cell_type": "code",
   "execution_count": 106,
   "id": "6ede8e3d",
   "metadata": {},
   "outputs": [],
   "source": [
    "column = \"birthDate\"\n",
    "\n",
    "def convert_to_date(date: str | None) -> datetime:\n",
    "    if type(date) is str:\n",
    "        return datetime.strptime(date, r'%m/%d/%Y %H:%M').timestamp()\n",
    "    return date\n",
    "\n",
    "df[column] = (\n",
    "    df[column]\n",
    "    .apply(convert_to_date)\n",
    ")\n",
    "\n",
    "mean_timestamp = df[column].dropna().astype('int64').mean()\n",
    "mean_date = pd.to_datetime(mean_timestamp)\n",
    "\n",
    "df[column] = df[column].fillna(mean_date)\n",
    "\n",
    "# df = df.drop(column, axis=1)"
   ]
  },
  {
   "cell_type": "code",
   "execution_count": 107,
   "id": "339ee2b0",
   "metadata": {},
   "outputs": [],
   "source": [
    "column = \"lastName\"\n",
    "\n",
    "\n",
    "\n",
    "df = df.drop(column, axis=1)"
   ]
  },
  {
   "cell_type": "code",
   "execution_count": 108,
   "id": "0aa3d8bb",
   "metadata": {},
   "outputs": [],
   "source": [
    "column = \"firstName\"\n",
    "\n",
    "df[column] = df[column].dropna()\n",
    "\n",
    "df = df.drop(column, axis=1)"
   ]
  },
  {
   "cell_type": "code",
   "execution_count": 109,
   "id": "6443e323",
   "metadata": {},
   "outputs": [],
   "source": [
    "column = \"title\"\n",
    "# loss 87%\n",
    "\n",
    "df = df.drop(column, axis=1)"
   ]
  },
  {
   "cell_type": "code",
   "execution_count": 110,
   "id": "569ddeea",
   "metadata": {},
   "outputs": [],
   "source": [
    "column = \"date\"\n",
    "# not interesting\n",
    "\n",
    "\n",
    "df = df.drop(column, axis=1)"
   ]
  },
  {
   "cell_type": "code",
   "execution_count": 111,
   "id": "1e4626c4",
   "metadata": {},
   "outputs": [],
   "source": [
    "column = \"state\"\n",
    "# not interested\n",
    "\n",
    "df = df.drop(column, axis=1)"
   ]
  },
  {
   "cell_type": "code",
   "execution_count": 112,
   "id": "88c3d9e5",
   "metadata": {},
   "outputs": [],
   "source": [
    "column = \"residenceStateRegion\"\n",
    "# not interested\n",
    "\n",
    "df = df.drop(column, axis=1)"
   ]
  },
  {
   "cell_type": "code",
   "execution_count": 113,
   "id": "16b6f458",
   "metadata": {},
   "outputs": [],
   "source": [
    "column = \"birthYear\"\n",
    "# we have birthDate\n",
    "\n",
    "# df = df.drop(column, axis=1)"
   ]
  },
  {
   "cell_type": "code",
   "execution_count": 114,
   "id": "9d46221f",
   "metadata": {},
   "outputs": [],
   "source": [
    "column = \"birthMonth\"\n",
    "# we have birthDate\n",
    "\n",
    "# df = df.drop(column, axis=1)"
   ]
  },
  {
   "cell_type": "code",
   "execution_count": 115,
   "id": "d33c7515",
   "metadata": {},
   "outputs": [],
   "source": [
    "column = \"birthDay\"\n",
    "# we have birthDate\n",
    "\n",
    "# df = df.drop(column, axis=1)"
   ]
  },
  {
   "cell_type": "code",
   "execution_count": 116,
   "id": "6aab71cf",
   "metadata": {},
   "outputs": [
    {
     "name": "stdout",
     "output_type": "stream",
     "text": [
      "0.00041718815185648727\n",
      "0.00041718815185648727\n"
     ]
    }
   ],
   "source": [
    "column = \"cpi_country\"\n",
    "# loss 7%\n",
    "# after soft clean 3 nan - <0.001%\n",
    "\n",
    "print(df[column].isna().sum()/df[column].count())\n",
    "df[column] = df[column].dropna()\n",
    "print(df[column].isna().sum()/df[column].count())\n",
    "# df = df.drop(column, axis=1)"
   ]
  },
  {
   "cell_type": "code",
   "execution_count": 117,
   "id": "9fa86e40",
   "metadata": {},
   "outputs": [
    {
     "name": "stdout",
     "output_type": "stream",
     "text": [
      "0.00041718815185648727\n",
      "0.00041718815185648727\n"
     ]
    }
   ],
   "source": [
    "column = \"cpi_change_country\"\n",
    "# loss 7%\n",
    "# after soft clean 3 nan - <0.001%\n",
    "\n",
    "print(df[column].isna().sum()/df[column].count())\n",
    "df[column] = df[column].dropna()\n",
    "print(df[column].isna().sum()/df[column].count())\n",
    "# df = df.drop(column, axis=1)"
   ]
  },
  {
   "cell_type": "code",
   "execution_count": 118,
   "id": "5ac4c0cc",
   "metadata": {},
   "outputs": [
    {
     "name": "stdout",
     "output_type": "stream",
     "text": [
      "0.0\n"
     ]
    }
   ],
   "source": [
    "column = \"gdp_country\"\n",
    "# loss 6%\n",
    "# after soft clean 3 nan - 0%\n",
    "\n",
    "def from_dollars_to_int(string: str) -> int:\n",
    "    return int(string.replace(\"$\", \"\").replace(\",\", \"\"))\n",
    "\n",
    "print(df[column].isna().sum()/df[column].count())\n",
    "\n",
    "df[column] = df[column].apply(from_dollars_to_int)\n",
    "\n",
    "# df = df.drop(column, axis=1)"
   ]
  },
  {
   "cell_type": "code",
   "execution_count": 119,
   "id": "0aac9e19",
   "metadata": {},
   "outputs": [
    {
     "name": "stdout",
     "output_type": "stream",
     "text": [
      "0.0\n"
     ]
    }
   ],
   "source": [
    "column = \"gross_tertiary_education_enrollment\"\n",
    "# loss 7%\n",
    "# after soft clean 3 nan - 0%\n",
    "\n",
    "print(df[column].isna().sum()/df[column].count())\n",
    "\n",
    "# df = df.drop(column, axis=1)"
   ]
  },
  {
   "cell_type": "code",
   "execution_count": 120,
   "id": "3c89d55f",
   "metadata": {},
   "outputs": [
    {
     "name": "stdout",
     "output_type": "stream",
     "text": [
      "0.0\n"
     ]
    }
   ],
   "source": [
    "column = \"gross_primary_education_enrollment_country\"\n",
    "# loss 7%\n",
    "# after soft clean 3 nan - 0%\n",
    "\n",
    "print(df[column].isna().sum()/df[column].count())\n",
    "\n",
    "# df = df.drop(column, axis=1)"
   ]
  },
  {
   "cell_type": "code",
   "execution_count": 121,
   "id": "49ab8247",
   "metadata": {},
   "outputs": [
    {
     "name": "stdout",
     "output_type": "stream",
     "text": [
      "0.0\n"
     ]
    }
   ],
   "source": [
    "column = \"life_expectancy_country\"\n",
    "# loss 7%\n",
    "# after soft clean 3 nan - 0%\n",
    "\n",
    "print(df[column].isna().sum()/df[column].count())\n",
    "\n",
    "# df = df.drop(column, axis=1)"
   ]
  },
  {
   "cell_type": "code",
   "execution_count": 122,
   "id": "8f72b24d",
   "metadata": {},
   "outputs": [
    {
     "name": "stdout",
     "output_type": "stream",
     "text": [
      "0.0\n"
     ]
    }
   ],
   "source": [
    "column = \"tax_revenue_country_country\"\n",
    "# loss 7%\n",
    "# after soft clean 3 nan - 0%\n",
    "\n",
    "print(df[column].isna().sum()/df[column].count())\n",
    "\n",
    "# df = df.drop(column, axis=1)"
   ]
  },
  {
   "cell_type": "code",
   "execution_count": 123,
   "id": "bd1c9ef1",
   "metadata": {},
   "outputs": [
    {
     "name": "stdout",
     "output_type": "stream",
     "text": [
      "0.0\n"
     ]
    }
   ],
   "source": [
    "column = \"total_tax_rate_country\"\n",
    "# loss 7%\n",
    "# after soft clean 3 nan - 0%\n",
    "\n",
    "print(df[column].isna().sum()/df[column].count())\n",
    "\n",
    "\n",
    "\n",
    "# df = df.drop(column, axis=1)"
   ]
  },
  {
   "cell_type": "code",
   "execution_count": 124,
   "id": "2738beb5",
   "metadata": {},
   "outputs": [
    {
     "name": "stdout",
     "output_type": "stream",
     "text": [
      "0.0\n"
     ]
    }
   ],
   "source": [
    "column = \"population_country\"\n",
    "# loss 6%\n",
    "# after soft clean 3 nan - 0%\n",
    "\n",
    "print(df[column].isna().sum()/df[column].count())\n",
    "\n",
    "\n",
    "# df = df.drop(column, axis=1)"
   ]
  },
  {
   "cell_type": "code",
   "execution_count": 125,
   "id": "b63eef7a",
   "metadata": {},
   "outputs": [
    {
     "name": "stdout",
     "output_type": "stream",
     "text": [
      "0.0\n"
     ]
    }
   ],
   "source": [
    "column = \"latitude_country\"\n",
    "# loss 6%\n",
    "# after soft clean 3 nan - 0%\n",
    "\n",
    "print(df[column].isna().sum()/df[column].count())\n",
    "\n",
    "\n",
    "\n",
    "# df = df.drop(column, axis=1)"
   ]
  },
  {
   "cell_type": "code",
   "execution_count": 126,
   "id": "6fac8f42",
   "metadata": {},
   "outputs": [
    {
     "name": "stdout",
     "output_type": "stream",
     "text": [
      "0.0\n"
     ]
    }
   ],
   "source": [
    "column = \"longitude_country\"\n",
    "# loss 6%\n",
    "# after soft clean 3 nan - 0%\n",
    "\n",
    "print(df[column].isna().sum()/df[column].count())\n",
    "\n",
    "# df = df.drop(column, axis=1)"
   ]
  },
  {
   "cell_type": "code",
   "execution_count": 127,
   "id": "82ad04f4",
   "metadata": {},
   "outputs": [
    {
     "name": "stdout",
     "output_type": "stream",
     "text": [
      "(2398, 21)\n",
      "(2397, 21)\n"
     ]
    }
   ],
   "source": [
    "print(df.shape)\n",
    "df = df.dropna()\n",
    "print(df.shape)\n",
    "\n",
    "# df = (\n",
    "#     df\n",
    "#     .drop(\"birthDate\", axis=1)\n",
    "#     .drop(\"birthYear\", axis=1)\n",
    "#     .drop(\"birthMonth\", axis=1)\n",
    "#     .drop(\"birthDay\", axis=1)\n",
    "# )"
   ]
  },
  {
   "cell_type": "code",
   "execution_count": 128,
   "id": "2f23a598",
   "metadata": {},
   "outputs": [],
   "source": [
    "df.to_csv(SAVE_DATA_PATH.format(1))"
   ]
  },
  {
   "cell_type": "code",
   "execution_count": 129,
   "id": "600f0d14",
   "metadata": {},
   "outputs": [
    {
     "ename": "ValueError",
     "evalue": "could not convert string to float: 'Fashion & Retail'",
     "output_type": "error",
     "traceback": [
      "\u001b[31m---------------------------------------------------------------------------\u001b[39m",
      "\u001b[31mValueError\u001b[39m                                Traceback (most recent call last)",
      "\u001b[36mCell\u001b[39m\u001b[36m \u001b[39m\u001b[32mIn[129]\u001b[39m\u001b[32m, line 2\u001b[39m\n\u001b[32m      1\u001b[39m \u001b[38;5;66;03m# Compute the correlation matrix of the variables\u001b[39;00m\n\u001b[32m----> \u001b[39m\u001b[32m2\u001b[39m diamonds_corr_matrix = \u001b[43mdf\u001b[49m\u001b[43m.\u001b[49m\u001b[43mcorr\u001b[49m\u001b[43m(\u001b[49m\u001b[43m)\u001b[49m\n\u001b[32m      3\u001b[39m \u001b[38;5;28mprint\u001b[39m(diamonds_corr_matrix)\n\u001b[32m      5\u001b[39m \u001b[38;5;66;03m# Create the heatmap using the `heatmap` function of Seaborn\u001b[39;00m\n",
      "\u001b[36mFile \u001b[39m\u001b[32m~/it/AI_work/.venv/lib/python3.12/site-packages/pandas/core/frame.py:11049\u001b[39m, in \u001b[36mDataFrame.corr\u001b[39m\u001b[34m(self, method, min_periods, numeric_only)\u001b[39m\n\u001b[32m  11047\u001b[39m cols = data.columns\n\u001b[32m  11048\u001b[39m idx = cols.copy()\n\u001b[32m> \u001b[39m\u001b[32m11049\u001b[39m mat = \u001b[43mdata\u001b[49m\u001b[43m.\u001b[49m\u001b[43mto_numpy\u001b[49m\u001b[43m(\u001b[49m\u001b[43mdtype\u001b[49m\u001b[43m=\u001b[49m\u001b[38;5;28;43mfloat\u001b[39;49m\u001b[43m,\u001b[49m\u001b[43m \u001b[49m\u001b[43mna_value\u001b[49m\u001b[43m=\u001b[49m\u001b[43mnp\u001b[49m\u001b[43m.\u001b[49m\u001b[43mnan\u001b[49m\u001b[43m,\u001b[49m\u001b[43m \u001b[49m\u001b[43mcopy\u001b[49m\u001b[43m=\u001b[49m\u001b[38;5;28;43;01mFalse\u001b[39;49;00m\u001b[43m)\u001b[49m\n\u001b[32m  11051\u001b[39m \u001b[38;5;28;01mif\u001b[39;00m method == \u001b[33m\"\u001b[39m\u001b[33mpearson\u001b[39m\u001b[33m\"\u001b[39m:\n\u001b[32m  11052\u001b[39m     correl = libalgos.nancorr(mat, minp=min_periods)\n",
      "\u001b[36mFile \u001b[39m\u001b[32m~/it/AI_work/.venv/lib/python3.12/site-packages/pandas/core/frame.py:1993\u001b[39m, in \u001b[36mDataFrame.to_numpy\u001b[39m\u001b[34m(self, dtype, copy, na_value)\u001b[39m\n\u001b[32m   1991\u001b[39m \u001b[38;5;28;01mif\u001b[39;00m dtype \u001b[38;5;129;01mis\u001b[39;00m \u001b[38;5;129;01mnot\u001b[39;00m \u001b[38;5;28;01mNone\u001b[39;00m:\n\u001b[32m   1992\u001b[39m     dtype = np.dtype(dtype)\n\u001b[32m-> \u001b[39m\u001b[32m1993\u001b[39m result = \u001b[38;5;28;43mself\u001b[39;49m\u001b[43m.\u001b[49m\u001b[43m_mgr\u001b[49m\u001b[43m.\u001b[49m\u001b[43mas_array\u001b[49m\u001b[43m(\u001b[49m\u001b[43mdtype\u001b[49m\u001b[43m=\u001b[49m\u001b[43mdtype\u001b[49m\u001b[43m,\u001b[49m\u001b[43m \u001b[49m\u001b[43mcopy\u001b[49m\u001b[43m=\u001b[49m\u001b[43mcopy\u001b[49m\u001b[43m,\u001b[49m\u001b[43m \u001b[49m\u001b[43mna_value\u001b[49m\u001b[43m=\u001b[49m\u001b[43mna_value\u001b[49m\u001b[43m)\u001b[49m\n\u001b[32m   1994\u001b[39m \u001b[38;5;28;01mif\u001b[39;00m result.dtype \u001b[38;5;129;01mis\u001b[39;00m \u001b[38;5;129;01mnot\u001b[39;00m dtype:\n\u001b[32m   1995\u001b[39m     result = np.asarray(result, dtype=dtype)\n",
      "\u001b[36mFile \u001b[39m\u001b[32m~/it/AI_work/.venv/lib/python3.12/site-packages/pandas/core/internals/managers.py:1694\u001b[39m, in \u001b[36mBlockManager.as_array\u001b[39m\u001b[34m(self, dtype, copy, na_value)\u001b[39m\n\u001b[32m   1692\u001b[39m         arr.flags.writeable = \u001b[38;5;28;01mFalse\u001b[39;00m\n\u001b[32m   1693\u001b[39m \u001b[38;5;28;01melse\u001b[39;00m:\n\u001b[32m-> \u001b[39m\u001b[32m1694\u001b[39m     arr = \u001b[38;5;28;43mself\u001b[39;49m\u001b[43m.\u001b[49m\u001b[43m_interleave\u001b[49m\u001b[43m(\u001b[49m\u001b[43mdtype\u001b[49m\u001b[43m=\u001b[49m\u001b[43mdtype\u001b[49m\u001b[43m,\u001b[49m\u001b[43m \u001b[49m\u001b[43mna_value\u001b[49m\u001b[43m=\u001b[49m\u001b[43mna_value\u001b[49m\u001b[43m)\u001b[49m\n\u001b[32m   1695\u001b[39m     \u001b[38;5;66;03m# The underlying data was copied within _interleave, so no need\u001b[39;00m\n\u001b[32m   1696\u001b[39m     \u001b[38;5;66;03m# to further copy if copy=True or setting na_value\u001b[39;00m\n\u001b[32m   1698\u001b[39m \u001b[38;5;28;01mif\u001b[39;00m na_value \u001b[38;5;129;01mis\u001b[39;00m lib.no_default:\n",
      "\u001b[36mFile \u001b[39m\u001b[32m~/it/AI_work/.venv/lib/python3.12/site-packages/pandas/core/internals/managers.py:1753\u001b[39m, in \u001b[36mBlockManager._interleave\u001b[39m\u001b[34m(self, dtype, na_value)\u001b[39m\n\u001b[32m   1751\u001b[39m     \u001b[38;5;28;01melse\u001b[39;00m:\n\u001b[32m   1752\u001b[39m         arr = blk.get_values(dtype)\n\u001b[32m-> \u001b[39m\u001b[32m1753\u001b[39m     \u001b[43mresult\u001b[49m\u001b[43m[\u001b[49m\u001b[43mrl\u001b[49m\u001b[43m.\u001b[49m\u001b[43mindexer\u001b[49m\u001b[43m]\u001b[49m = arr\n\u001b[32m   1754\u001b[39m     itemmask[rl.indexer] = \u001b[32m1\u001b[39m\n\u001b[32m   1756\u001b[39m \u001b[38;5;28;01mif\u001b[39;00m \u001b[38;5;129;01mnot\u001b[39;00m itemmask.all():\n",
      "\u001b[31mValueError\u001b[39m: could not convert string to float: 'Fashion & Retail'"
     ]
    }
   ],
   "source": [
    "# Compute the correlation matrix of the variables\n",
    "diamonds_corr_matrix = df.corr()\n",
    "print(diamonds_corr_matrix)\n",
    "\n",
    "# Create the heatmap using the `heatmap` function of Seaborn\n",
    "sns.heatmap(diamonds_corr_matrix, cmap='coolwarm')\n",
    "\n",
    "# Display the heatmap using the `show` method of the `pyplot` module from matplotlib.\n",
    "plt.show()"
   ]
  },
  {
   "cell_type": "markdown",
   "id": "8ee75f03",
   "metadata": {},
   "source": [
    "# try to clusterization"
   ]
  },
  {
   "cell_type": "code",
   "execution_count": null,
   "id": "03a6dadd",
   "metadata": {},
   "outputs": [],
   "source": [
    "scaler = MinMaxScaler()\n",
    "scaled_data = scaler.fit_transform(df)\n"
   ]
  },
  {
   "cell_type": "code",
   "execution_count": null,
   "id": "99ee8ba3",
   "metadata": {},
   "outputs": [],
   "source": [
    "wcss = []\n",
    "for k in range(1, 20):\n",
    "    kmeans = KMeans(n_clusters=k, init='k-means++', random_state=777)\n",
    "    kmeans.fit(scaled_data)\n",
    "    wcss.append(kmeans.inertia_)"
   ]
  },
  {
   "cell_type": "code",
   "execution_count": null,
   "id": "5a4e6e5b",
   "metadata": {},
   "outputs": [],
   "source": [
    "plt.plot(range(1, 20), wcss, marker=\"o\")\n",
    "plt.xlabel(\"Количество кластеров\")\n",
    "plt.ylabel(\"WCSS\")\n",
    "plt.title(\"Метод локтя\")\n",
    "plt.show()"
   ]
  },
  {
   "cell_type": "code",
   "execution_count": null,
   "id": "36a85ada",
   "metadata": {},
   "outputs": [],
   "source": [
    "kmeans = KMeans(n_clusters=5, init='k-means++', random_state=777)\n",
    "kmeans.fit(scaled_data)"
   ]
  },
  {
   "cell_type": "code",
   "execution_count": null,
   "id": "bf357aa0",
   "metadata": {},
   "outputs": [],
   "source": [
    "clusters = kmeans.fit_predict(scaled_data)"
   ]
  },
  {
   "cell_type": "code",
   "execution_count": null,
   "id": "649aac25",
   "metadata": {},
   "outputs": [],
   "source": [
    "tsne = TSNE(n_components=2, random_state=1984)\n",
    "projected_data = tsne.fit_transform(scaled_data)\n",
    "\n",
    "plt.scatter(projected_data[:, 0], projected_data[:, 1], c=clusters, cmap=\"viridis\")\n",
    "plt.xlabel(\"t-SNE 1\")\n",
    "plt.ylabel(\"t-SNE 2\")\n",
    "plt.title(\"Кластеры (K-means++)\")\n",
    "plt.colorbar()\n",
    "plt.show()"
   ]
  },
  {
   "cell_type": "code",
   "execution_count": null,
   "id": "c58f4b8d",
   "metadata": {},
   "outputs": [],
   "source": [
    "df['Cluster'] = clusters\n",
    "cluster_stats = df.groupby('Cluster').mean()\n",
    "cluster_stats"
   ]
  }
 ],
 "metadata": {
  "kernelspec": {
   "display_name": ".venv",
   "language": "python",
   "name": "python3"
  },
  "language_info": {
   "codemirror_mode": {
    "name": "ipython",
    "version": 3
   },
   "file_extension": ".py",
   "mimetype": "text/x-python",
   "name": "python",
   "nbconvert_exporter": "python",
   "pygments_lexer": "ipython3",
   "version": "3.12.3"
  }
 },
 "nbformat": 4,
 "nbformat_minor": 5
}
