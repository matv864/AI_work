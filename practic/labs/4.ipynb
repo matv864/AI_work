{
 "cells": [
  {
   "cell_type": "code",
   "execution_count": 1,
   "id": "f133564d",
   "metadata": {},
   "outputs": [],
   "source": [
    "import numpy as np\n",
    "import pandas as pd\n",
    "import re\n",
    "import matplotlib.pyplot as plt\n",
    "import seaborn as sns\n",
    "from datetime import datetime\n",
    "\n",
    "from sklearn.preprocessing import StandardScaler, MinMaxScaler\n",
    "from sklearn.cluster import KMeans\n",
    "from sklearn.manifold import TSNE\n"
   ]
  },
  {
   "cell_type": "code",
   "execution_count": 2,
   "id": "edf7ffc4",
   "metadata": {},
   "outputs": [],
   "source": [
    "DATA_PATH = \"/home/matv864/it/AI_work/data/billionaires.csv\"\n",
    "SAVE_DATA_PATH = \"/home/matv864/it/AI_work/data/billionaires_ready.csv\""
   ]
  },
  {
   "cell_type": "code",
   "execution_count": 3,
   "id": "e10c2175",
   "metadata": {},
   "outputs": [],
   "source": [
    "# import kagglehub\n",
    "\n",
    "\n",
    "# # Download latest version\n",
    "# path = kagglehub.dataset_download(\n",
    "#     \"nelgiriyewithana/billionaires-statistics-dataset\",\n",
    "# )\n",
    "\n",
    "# print(\"Path to dataset files:\", path)"
   ]
  },
  {
   "cell_type": "code",
   "execution_count": 4,
   "id": "fdc6d0db",
   "metadata": {},
   "outputs": [
    {
     "data": {
      "application/vnd.microsoft.datawrangler.viewer.v0+json": {
       "columns": [
        {
         "name": "index",
         "rawType": "int64",
         "type": "integer"
        },
        {
         "name": "rank",
         "rawType": "int64",
         "type": "integer"
        },
        {
         "name": "finalWorth",
         "rawType": "int64",
         "type": "integer"
        },
        {
         "name": "category",
         "rawType": "object",
         "type": "string"
        },
        {
         "name": "personName",
         "rawType": "object",
         "type": "string"
        },
        {
         "name": "age",
         "rawType": "float64",
         "type": "float"
        },
        {
         "name": "country",
         "rawType": "object",
         "type": "string"
        },
        {
         "name": "city",
         "rawType": "object",
         "type": "string"
        },
        {
         "name": "source",
         "rawType": "object",
         "type": "string"
        },
        {
         "name": "industries",
         "rawType": "object",
         "type": "string"
        },
        {
         "name": "countryOfCitizenship",
         "rawType": "object",
         "type": "string"
        },
        {
         "name": "organization",
         "rawType": "object",
         "type": "string"
        },
        {
         "name": "selfMade",
         "rawType": "bool",
         "type": "boolean"
        },
        {
         "name": "status",
         "rawType": "object",
         "type": "string"
        },
        {
         "name": "gender",
         "rawType": "object",
         "type": "string"
        },
        {
         "name": "birthDate",
         "rawType": "object",
         "type": "string"
        },
        {
         "name": "lastName",
         "rawType": "object",
         "type": "string"
        },
        {
         "name": "firstName",
         "rawType": "object",
         "type": "string"
        },
        {
         "name": "title",
         "rawType": "object",
         "type": "string"
        },
        {
         "name": "date",
         "rawType": "object",
         "type": "string"
        },
        {
         "name": "state",
         "rawType": "object",
         "type": "unknown"
        },
        {
         "name": "residenceStateRegion",
         "rawType": "object",
         "type": "unknown"
        },
        {
         "name": "birthYear",
         "rawType": "float64",
         "type": "float"
        },
        {
         "name": "birthMonth",
         "rawType": "float64",
         "type": "float"
        },
        {
         "name": "birthDay",
         "rawType": "float64",
         "type": "float"
        },
        {
         "name": "cpi_country",
         "rawType": "float64",
         "type": "float"
        },
        {
         "name": "cpi_change_country",
         "rawType": "float64",
         "type": "float"
        },
        {
         "name": "gdp_country",
         "rawType": "object",
         "type": "string"
        },
        {
         "name": "gross_tertiary_education_enrollment",
         "rawType": "float64",
         "type": "float"
        },
        {
         "name": "gross_primary_education_enrollment_country",
         "rawType": "float64",
         "type": "float"
        },
        {
         "name": "life_expectancy_country",
         "rawType": "float64",
         "type": "float"
        },
        {
         "name": "tax_revenue_country_country",
         "rawType": "float64",
         "type": "float"
        },
        {
         "name": "total_tax_rate_country",
         "rawType": "float64",
         "type": "float"
        },
        {
         "name": "population_country",
         "rawType": "float64",
         "type": "float"
        },
        {
         "name": "latitude_country",
         "rawType": "float64",
         "type": "float"
        },
        {
         "name": "longitude_country",
         "rawType": "float64",
         "type": "float"
        }
       ],
       "ref": "ab48fa9f-5110-4ec8-a1ca-bcc77be33c0b",
       "rows": [
        [
         "0",
         "1",
         "211000",
         "Fashion & Retail",
         "Bernard Arnault & family",
         "74.0",
         "France",
         "Paris",
         "LVMH",
         "Fashion & Retail",
         "France",
         "LVMH Moët Hennessy Louis Vuitton",
         "False",
         "U",
         "M",
         "3/5/1949 0:00",
         "Arnault",
         "Bernard",
         "Chairman and CEO",
         "4/4/2023 5:01",
         null,
         null,
         "1949.0",
         "3.0",
         "5.0",
         "110.05",
         "1.1",
         "$2,715,518,274,227 ",
         "65.6",
         "102.5",
         "82.5",
         "24.2",
         "60.7",
         "67059887.0",
         "46.227638",
         "2.213749"
        ],
        [
         "1",
         "2",
         "180000",
         "Automotive",
         "Elon Musk",
         "51.0",
         "United States",
         "Austin",
         "Tesla, SpaceX",
         "Automotive",
         "United States",
         "Tesla",
         "True",
         "D",
         "M",
         "6/28/1971 0:00",
         "Musk",
         "Elon",
         "CEO",
         "4/4/2023 5:01",
         "Texas",
         "South",
         "1971.0",
         "6.0",
         "28.0",
         "117.24",
         "7.5",
         "$21,427,700,000,000 ",
         "88.2",
         "101.8",
         "78.5",
         "9.6",
         "36.6",
         "328239523.0",
         "37.09024",
         "-95.712891"
        ],
        [
         "2",
         "3",
         "114000",
         "Technology",
         "Jeff Bezos",
         "59.0",
         "United States",
         "Medina",
         "Amazon",
         "Technology",
         "United States",
         "Amazon",
         "True",
         "D",
         "M",
         "1/12/1964 0:00",
         "Bezos",
         "Jeff",
         "Chairman and Founder",
         "4/4/2023 5:01",
         "Washington",
         "West",
         "1964.0",
         "1.0",
         "12.0",
         "117.24",
         "7.5",
         "$21,427,700,000,000 ",
         "88.2",
         "101.8",
         "78.5",
         "9.6",
         "36.6",
         "328239523.0",
         "37.09024",
         "-95.712891"
        ],
        [
         "3",
         "4",
         "107000",
         "Technology",
         "Larry Ellison",
         "78.0",
         "United States",
         "Lanai",
         "Oracle",
         "Technology",
         "United States",
         "Oracle",
         "True",
         "U",
         "M",
         "8/17/1944 0:00",
         "Ellison",
         "Larry",
         "CTO and Founder",
         "4/4/2023 5:01",
         "Hawaii",
         "West",
         "1944.0",
         "8.0",
         "17.0",
         "117.24",
         "7.5",
         "$21,427,700,000,000 ",
         "88.2",
         "101.8",
         "78.5",
         "9.6",
         "36.6",
         "328239523.0",
         "37.09024",
         "-95.712891"
        ],
        [
         "4",
         "5",
         "106000",
         "Finance & Investments",
         "Warren Buffett",
         "92.0",
         "United States",
         "Omaha",
         "Berkshire Hathaway",
         "Finance & Investments",
         "United States",
         "Berkshire Hathaway Inc. (Cl A)",
         "True",
         "D",
         "M",
         "8/30/1930 0:00",
         "Buffett",
         "Warren",
         "CEO",
         "4/4/2023 5:01",
         "Nebraska",
         "Midwest",
         "1930.0",
         "8.0",
         "30.0",
         "117.24",
         "7.5",
         "$21,427,700,000,000 ",
         "88.2",
         "101.8",
         "78.5",
         "9.6",
         "36.6",
         "328239523.0",
         "37.09024",
         "-95.712891"
        ]
       ],
       "shape": {
        "columns": 35,
        "rows": 5
       }
      },
      "text/html": [
       "<div>\n",
       "<style scoped>\n",
       "    .dataframe tbody tr th:only-of-type {\n",
       "        vertical-align: middle;\n",
       "    }\n",
       "\n",
       "    .dataframe tbody tr th {\n",
       "        vertical-align: top;\n",
       "    }\n",
       "\n",
       "    .dataframe thead th {\n",
       "        text-align: right;\n",
       "    }\n",
       "</style>\n",
       "<table border=\"1\" class=\"dataframe\">\n",
       "  <thead>\n",
       "    <tr style=\"text-align: right;\">\n",
       "      <th></th>\n",
       "      <th>rank</th>\n",
       "      <th>finalWorth</th>\n",
       "      <th>category</th>\n",
       "      <th>personName</th>\n",
       "      <th>age</th>\n",
       "      <th>country</th>\n",
       "      <th>city</th>\n",
       "      <th>source</th>\n",
       "      <th>industries</th>\n",
       "      <th>countryOfCitizenship</th>\n",
       "      <th>...</th>\n",
       "      <th>cpi_change_country</th>\n",
       "      <th>gdp_country</th>\n",
       "      <th>gross_tertiary_education_enrollment</th>\n",
       "      <th>gross_primary_education_enrollment_country</th>\n",
       "      <th>life_expectancy_country</th>\n",
       "      <th>tax_revenue_country_country</th>\n",
       "      <th>total_tax_rate_country</th>\n",
       "      <th>population_country</th>\n",
       "      <th>latitude_country</th>\n",
       "      <th>longitude_country</th>\n",
       "    </tr>\n",
       "  </thead>\n",
       "  <tbody>\n",
       "    <tr>\n",
       "      <th>0</th>\n",
       "      <td>1</td>\n",
       "      <td>211000</td>\n",
       "      <td>Fashion &amp; Retail</td>\n",
       "      <td>Bernard Arnault &amp; family</td>\n",
       "      <td>74.0</td>\n",
       "      <td>France</td>\n",
       "      <td>Paris</td>\n",
       "      <td>LVMH</td>\n",
       "      <td>Fashion &amp; Retail</td>\n",
       "      <td>France</td>\n",
       "      <td>...</td>\n",
       "      <td>1.1</td>\n",
       "      <td>$2,715,518,274,227</td>\n",
       "      <td>65.6</td>\n",
       "      <td>102.5</td>\n",
       "      <td>82.5</td>\n",
       "      <td>24.2</td>\n",
       "      <td>60.7</td>\n",
       "      <td>67059887.0</td>\n",
       "      <td>46.227638</td>\n",
       "      <td>2.213749</td>\n",
       "    </tr>\n",
       "    <tr>\n",
       "      <th>1</th>\n",
       "      <td>2</td>\n",
       "      <td>180000</td>\n",
       "      <td>Automotive</td>\n",
       "      <td>Elon Musk</td>\n",
       "      <td>51.0</td>\n",
       "      <td>United States</td>\n",
       "      <td>Austin</td>\n",
       "      <td>Tesla, SpaceX</td>\n",
       "      <td>Automotive</td>\n",
       "      <td>United States</td>\n",
       "      <td>...</td>\n",
       "      <td>7.5</td>\n",
       "      <td>$21,427,700,000,000</td>\n",
       "      <td>88.2</td>\n",
       "      <td>101.8</td>\n",
       "      <td>78.5</td>\n",
       "      <td>9.6</td>\n",
       "      <td>36.6</td>\n",
       "      <td>328239523.0</td>\n",
       "      <td>37.090240</td>\n",
       "      <td>-95.712891</td>\n",
       "    </tr>\n",
       "    <tr>\n",
       "      <th>2</th>\n",
       "      <td>3</td>\n",
       "      <td>114000</td>\n",
       "      <td>Technology</td>\n",
       "      <td>Jeff Bezos</td>\n",
       "      <td>59.0</td>\n",
       "      <td>United States</td>\n",
       "      <td>Medina</td>\n",
       "      <td>Amazon</td>\n",
       "      <td>Technology</td>\n",
       "      <td>United States</td>\n",
       "      <td>...</td>\n",
       "      <td>7.5</td>\n",
       "      <td>$21,427,700,000,000</td>\n",
       "      <td>88.2</td>\n",
       "      <td>101.8</td>\n",
       "      <td>78.5</td>\n",
       "      <td>9.6</td>\n",
       "      <td>36.6</td>\n",
       "      <td>328239523.0</td>\n",
       "      <td>37.090240</td>\n",
       "      <td>-95.712891</td>\n",
       "    </tr>\n",
       "    <tr>\n",
       "      <th>3</th>\n",
       "      <td>4</td>\n",
       "      <td>107000</td>\n",
       "      <td>Technology</td>\n",
       "      <td>Larry Ellison</td>\n",
       "      <td>78.0</td>\n",
       "      <td>United States</td>\n",
       "      <td>Lanai</td>\n",
       "      <td>Oracle</td>\n",
       "      <td>Technology</td>\n",
       "      <td>United States</td>\n",
       "      <td>...</td>\n",
       "      <td>7.5</td>\n",
       "      <td>$21,427,700,000,000</td>\n",
       "      <td>88.2</td>\n",
       "      <td>101.8</td>\n",
       "      <td>78.5</td>\n",
       "      <td>9.6</td>\n",
       "      <td>36.6</td>\n",
       "      <td>328239523.0</td>\n",
       "      <td>37.090240</td>\n",
       "      <td>-95.712891</td>\n",
       "    </tr>\n",
       "    <tr>\n",
       "      <th>4</th>\n",
       "      <td>5</td>\n",
       "      <td>106000</td>\n",
       "      <td>Finance &amp; Investments</td>\n",
       "      <td>Warren Buffett</td>\n",
       "      <td>92.0</td>\n",
       "      <td>United States</td>\n",
       "      <td>Omaha</td>\n",
       "      <td>Berkshire Hathaway</td>\n",
       "      <td>Finance &amp; Investments</td>\n",
       "      <td>United States</td>\n",
       "      <td>...</td>\n",
       "      <td>7.5</td>\n",
       "      <td>$21,427,700,000,000</td>\n",
       "      <td>88.2</td>\n",
       "      <td>101.8</td>\n",
       "      <td>78.5</td>\n",
       "      <td>9.6</td>\n",
       "      <td>36.6</td>\n",
       "      <td>328239523.0</td>\n",
       "      <td>37.090240</td>\n",
       "      <td>-95.712891</td>\n",
       "    </tr>\n",
       "  </tbody>\n",
       "</table>\n",
       "<p>5 rows × 35 columns</p>\n",
       "</div>"
      ],
      "text/plain": [
       "   rank  finalWorth               category                personName   age  \\\n",
       "0     1      211000       Fashion & Retail  Bernard Arnault & family  74.0   \n",
       "1     2      180000             Automotive                 Elon Musk  51.0   \n",
       "2     3      114000             Technology                Jeff Bezos  59.0   \n",
       "3     4      107000             Technology             Larry Ellison  78.0   \n",
       "4     5      106000  Finance & Investments            Warren Buffett  92.0   \n",
       "\n",
       "         country    city              source             industries  \\\n",
       "0         France   Paris                LVMH       Fashion & Retail   \n",
       "1  United States  Austin       Tesla, SpaceX             Automotive   \n",
       "2  United States  Medina              Amazon             Technology   \n",
       "3  United States   Lanai              Oracle             Technology   \n",
       "4  United States   Omaha  Berkshire Hathaway  Finance & Investments   \n",
       "\n",
       "  countryOfCitizenship  ... cpi_change_country           gdp_country  \\\n",
       "0               France  ...                1.1   $2,715,518,274,227    \n",
       "1        United States  ...                7.5  $21,427,700,000,000    \n",
       "2        United States  ...                7.5  $21,427,700,000,000    \n",
       "3        United States  ...                7.5  $21,427,700,000,000    \n",
       "4        United States  ...                7.5  $21,427,700,000,000    \n",
       "\n",
       "  gross_tertiary_education_enrollment  \\\n",
       "0                                65.6   \n",
       "1                                88.2   \n",
       "2                                88.2   \n",
       "3                                88.2   \n",
       "4                                88.2   \n",
       "\n",
       "  gross_primary_education_enrollment_country life_expectancy_country  \\\n",
       "0                                      102.5                    82.5   \n",
       "1                                      101.8                    78.5   \n",
       "2                                      101.8                    78.5   \n",
       "3                                      101.8                    78.5   \n",
       "4                                      101.8                    78.5   \n",
       "\n",
       "  tax_revenue_country_country total_tax_rate_country population_country  \\\n",
       "0                        24.2                   60.7         67059887.0   \n",
       "1                         9.6                   36.6        328239523.0   \n",
       "2                         9.6                   36.6        328239523.0   \n",
       "3                         9.6                   36.6        328239523.0   \n",
       "4                         9.6                   36.6        328239523.0   \n",
       "\n",
       "  latitude_country longitude_country  \n",
       "0        46.227638          2.213749  \n",
       "1        37.090240        -95.712891  \n",
       "2        37.090240        -95.712891  \n",
       "3        37.090240        -95.712891  \n",
       "4        37.090240        -95.712891  \n",
       "\n",
       "[5 rows x 35 columns]"
      ]
     },
     "execution_count": 4,
     "metadata": {},
     "output_type": "execute_result"
    }
   ],
   "source": [
    "df = pd.read_csv(DATA_PATH)\n",
    "df.head()"
   ]
  },
  {
   "cell_type": "code",
   "execution_count": 5,
   "id": "1762950c",
   "metadata": {},
   "outputs": [
    {
     "data": {
      "text/plain": [
       "(2398, 35)"
      ]
     },
     "execution_count": 5,
     "metadata": {},
     "output_type": "execute_result"
    }
   ],
   "source": [
    "df = df.dropna(thresh=df.shape[1] - 5)\n",
    "df.shape"
   ]
  },
  {
   "cell_type": "code",
   "execution_count": 6,
   "id": "5b3de222",
   "metadata": {},
   "outputs": [],
   "source": [
    "column = \"rank\"\n"
   ]
  },
  {
   "cell_type": "code",
   "execution_count": 7,
   "id": "d7df913c",
   "metadata": {},
   "outputs": [],
   "source": [
    "column = \"finalWorth\"\n"
   ]
  },
  {
   "cell_type": "code",
   "execution_count": 8,
   "id": "c24083d9",
   "metadata": {},
   "outputs": [
    {
     "data": {
      "text/plain": [
       "np.float64(0.0)"
      ]
     },
     "execution_count": 8,
     "metadata": {},
     "output_type": "execute_result"
    }
   ],
   "source": [
    "column = \"category\"\n",
    "# unique 18\n",
    "\n",
    "# df = df.drop(column, axis=1)\n",
    "df[column].isna().sum()/df[column].count()"
   ]
  },
  {
   "cell_type": "code",
   "execution_count": 9,
   "id": "58183d6f",
   "metadata": {},
   "outputs": [],
   "source": [
    "column = \"personName\"\n",
    "# don't need\n",
    "\n",
    "df = df.drop(column, axis=1)"
   ]
  },
  {
   "cell_type": "code",
   "execution_count": 10,
   "id": "1d90d6a5",
   "metadata": {},
   "outputs": [
    {
     "data": {
      "text/plain": [
       "np.float64(0.0)"
      ]
     },
     "execution_count": 10,
     "metadata": {},
     "output_type": "execute_result"
    }
   ],
   "source": [
    "column = \"age\"\n",
    "# loss 2%\n",
    "# after soft clean 3 nan - 0%\n",
    "\n",
    "df[column].isna().sum()/df[column].count()\n",
    "\n",
    "# df = df.drop(column, axis=1)"
   ]
  },
  {
   "cell_type": "code",
   "execution_count": 11,
   "id": "4124d41f",
   "metadata": {},
   "outputs": [],
   "source": [
    "column = \"country\"\n",
    "# loss 1%\n",
    "# unique 78\n",
    "\n",
    "# 3 main and other\n",
    "\n",
    "df = df.drop(column, axis=1)"
   ]
  },
  {
   "cell_type": "code",
   "execution_count": 12,
   "id": "3d7a87a3",
   "metadata": {},
   "outputs": [],
   "source": [
    "column = \"city\"\n",
    "# loss 3%\n",
    "# unique 741\n",
    "\n",
    "df = df.drop(column, axis=1)"
   ]
  },
  {
   "cell_type": "code",
   "execution_count": 13,
   "id": "551802e1",
   "metadata": {},
   "outputs": [],
   "source": [
    "column = \"source\"\n",
    "# unique 908\n",
    "\n",
    "df = df.drop(column, axis=1)\n",
    "# df[\"source\"].unique()"
   ]
  },
  {
   "cell_type": "code",
   "execution_count": 14,
   "id": "e544b22c",
   "metadata": {},
   "outputs": [],
   "source": [
    "column = \"industries\"\n",
    "# unique 18\n",
    "\n",
    "df = df.drop(column, axis=1)"
   ]
  },
  {
   "cell_type": "code",
   "execution_count": 15,
   "id": "60e6ea53",
   "metadata": {},
   "outputs": [],
   "source": [
    "column = \"countryOfCitizenship\"\n",
    "# unique 77\n",
    "\n",
    "df = df.drop(column, axis=1)"
   ]
  },
  {
   "cell_type": "code",
   "execution_count": 16,
   "id": "47f88ee5",
   "metadata": {},
   "outputs": [],
   "source": [
    "column = \"organization\"\n",
    "# very small amount of information \n",
    "# loss 88%\n",
    "\n",
    "df = df.drop(column, axis=1)"
   ]
  },
  {
   "cell_type": "code",
   "execution_count": 17,
   "id": "59430cf2",
   "metadata": {},
   "outputs": [],
   "source": [
    "column = \"selfMade\"\n",
    "# ready in True/False\n",
    "\n",
    "# yes_no_dict = {\n",
    "#     True: 1,\n",
    "#     False: 0\n",
    "# }\n",
    "\n",
    "# df[column] = df[column].map(yes_no_dict)\n"
   ]
  },
  {
   "cell_type": "code",
   "execution_count": 18,
   "id": "d02f5fcf",
   "metadata": {},
   "outputs": [],
   "source": [
    "column = \"status\"\n",
    "# unique 6\n",
    "\n",
    "df = df.drop(column, axis=1)\n",
    "# df[\"status\"]"
   ]
  },
  {
   "cell_type": "code",
   "execution_count": 19,
   "id": "98862c1f",
   "metadata": {},
   "outputs": [
    {
     "name": "stdout",
     "output_type": "stream",
     "text": [
      "0       M\n",
      "1       M\n",
      "2       M\n",
      "3       M\n",
      "4       M\n",
      "       ..\n",
      "2635    M\n",
      "2636    M\n",
      "2637    M\n",
      "2638    M\n",
      "2639    M\n",
      "Name: gender, Length: 2398, dtype: object\n"
     ]
    }
   ],
   "source": [
    "column = \"gender\"\n",
    "print(df[column])\n",
    "\n",
    "\n",
    "def convert_to_is_male(gender: str | None) -> bool:\n",
    "    match gender:\n",
    "        case \"M\":\n",
    "            return True\n",
    "        case \"F\":\n",
    "            return False\n",
    "        case _:\n",
    "            print(\"ERRROR\")\n",
    "            0/0\n",
    "\n",
    "\n",
    "df[column] = (\n",
    "    df[column]\n",
    "    .apply(convert_to_is_male)\n",
    ")\n",
    "\n",
    "df = df.rename(columns={'gender': 'is_male'})\n",
    "# df = df.drop(column, axis=1)"
   ]
  },
  {
   "cell_type": "code",
   "execution_count": 20,
   "id": "6ede8e3d",
   "metadata": {},
   "outputs": [],
   "source": [
    "column = \"birthDate\"\n",
    "\n",
    "def convert_to_date(date: str | None) -> datetime:\n",
    "    if type(date) is str:\n",
    "        return datetime.strptime(date, r'%m/%d/%Y %H:%M').timestamp()\n",
    "    return date\n",
    "\n",
    "df[column] = (\n",
    "    df[column]\n",
    "    .apply(convert_to_date)\n",
    ")\n",
    "\n",
    "mean_timestamp = df[column].dropna().astype('int64').mean()\n",
    "mean_date = pd.to_datetime(mean_timestamp)\n",
    "\n",
    "df[column] = df[column].fillna(mean_date)\n",
    "\n",
    "# df = df.drop(column, axis=1)"
   ]
  },
  {
   "cell_type": "code",
   "execution_count": 21,
   "id": "339ee2b0",
   "metadata": {},
   "outputs": [],
   "source": [
    "column = \"lastName\"\n",
    "\n",
    "\n",
    "\n",
    "df = df.drop(column, axis=1)"
   ]
  },
  {
   "cell_type": "code",
   "execution_count": 22,
   "id": "0aa3d8bb",
   "metadata": {},
   "outputs": [],
   "source": [
    "column = \"firstName\"\n",
    "\n",
    "df[column] = df[column].dropna()\n",
    "\n",
    "df = df.drop(column, axis=1)"
   ]
  },
  {
   "cell_type": "code",
   "execution_count": 23,
   "id": "6443e323",
   "metadata": {},
   "outputs": [],
   "source": [
    "column = \"title\"\n",
    "# loss 87%\n",
    "\n",
    "df = df.drop(column, axis=1)"
   ]
  },
  {
   "cell_type": "code",
   "execution_count": 24,
   "id": "569ddeea",
   "metadata": {},
   "outputs": [],
   "source": [
    "column = \"date\"\n",
    "# not interesting\n",
    "\n",
    "\n",
    "df = df.drop(column, axis=1)"
   ]
  },
  {
   "cell_type": "code",
   "execution_count": 25,
   "id": "1e4626c4",
   "metadata": {},
   "outputs": [],
   "source": [
    "column = \"state\"\n",
    "# not interested\n",
    "\n",
    "df = df.drop(column, axis=1)"
   ]
  },
  {
   "cell_type": "code",
   "execution_count": 26,
   "id": "88c3d9e5",
   "metadata": {},
   "outputs": [],
   "source": [
    "column = \"residenceStateRegion\"\n",
    "# not interested\n",
    "\n",
    "df = df.drop(column, axis=1)"
   ]
  },
  {
   "cell_type": "code",
   "execution_count": 27,
   "id": "16b6f458",
   "metadata": {},
   "outputs": [],
   "source": [
    "column = \"birthYear\"\n",
    "# we have birthDate\n",
    "\n",
    "# df = df.drop(column, axis=1)"
   ]
  },
  {
   "cell_type": "code",
   "execution_count": 28,
   "id": "9d46221f",
   "metadata": {},
   "outputs": [],
   "source": [
    "column = \"birthMonth\"\n",
    "# we have birthDate\n",
    "\n",
    "# df = df.drop(column, axis=1)"
   ]
  },
  {
   "cell_type": "code",
   "execution_count": 29,
   "id": "d33c7515",
   "metadata": {},
   "outputs": [],
   "source": [
    "column = \"birthDay\"\n",
    "# we have birthDate\n",
    "\n",
    "# df = df.drop(column, axis=1)"
   ]
  },
  {
   "cell_type": "code",
   "execution_count": 30,
   "id": "6aab71cf",
   "metadata": {},
   "outputs": [
    {
     "name": "stdout",
     "output_type": "stream",
     "text": [
      "0.00041718815185648727\n",
      "0.00041718815185648727\n"
     ]
    }
   ],
   "source": [
    "column = \"cpi_country\"\n",
    "# loss 7%\n",
    "# after soft clean 3 nan - <0.001%\n",
    "\n",
    "print(df[column].isna().sum()/df[column].count())\n",
    "df[column] = df[column].dropna()\n",
    "print(df[column].isna().sum()/df[column].count())\n",
    "# df = df.drop(column, axis=1)"
   ]
  },
  {
   "cell_type": "code",
   "execution_count": 31,
   "id": "9fa86e40",
   "metadata": {},
   "outputs": [
    {
     "name": "stdout",
     "output_type": "stream",
     "text": [
      "0.00041718815185648727\n",
      "0.00041718815185648727\n"
     ]
    }
   ],
   "source": [
    "column = \"cpi_change_country\"\n",
    "# loss 7%\n",
    "# after soft clean 3 nan - <0.001%\n",
    "\n",
    "print(df[column].isna().sum()/df[column].count())\n",
    "df[column] = df[column].dropna()\n",
    "print(df[column].isna().sum()/df[column].count())\n",
    "# df = df.drop(column, axis=1)"
   ]
  },
  {
   "cell_type": "code",
   "execution_count": 32,
   "id": "5ac4c0cc",
   "metadata": {},
   "outputs": [
    {
     "name": "stdout",
     "output_type": "stream",
     "text": [
      "0.0\n"
     ]
    }
   ],
   "source": [
    "column = \"gdp_country\"\n",
    "# loss 6%\n",
    "# after soft clean 3 nan - 0%\n",
    "\n",
    "def from_dollars_to_int(string: str) -> int:\n",
    "    return int(string.replace(\"$\", \"\").replace(\",\", \"\"))\n",
    "\n",
    "print(df[column].isna().sum()/df[column].count())\n",
    "\n",
    "df[column] = df[column].apply(from_dollars_to_int)\n",
    "\n",
    "# df = df.drop(column, axis=1)"
   ]
  },
  {
   "cell_type": "code",
   "execution_count": 33,
   "id": "0aac9e19",
   "metadata": {},
   "outputs": [
    {
     "name": "stdout",
     "output_type": "stream",
     "text": [
      "0.0\n"
     ]
    }
   ],
   "source": [
    "column = \"gross_tertiary_education_enrollment\"\n",
    "# loss 7%\n",
    "# after soft clean 3 nan - 0%\n",
    "\n",
    "print(df[column].isna().sum()/df[column].count())\n",
    "\n",
    "# df = df.drop(column, axis=1)"
   ]
  },
  {
   "cell_type": "code",
   "execution_count": 34,
   "id": "3c89d55f",
   "metadata": {},
   "outputs": [
    {
     "name": "stdout",
     "output_type": "stream",
     "text": [
      "0.0\n"
     ]
    }
   ],
   "source": [
    "column = \"gross_primary_education_enrollment_country\"\n",
    "# loss 7%\n",
    "# after soft clean 3 nan - 0%\n",
    "\n",
    "print(df[column].isna().sum()/df[column].count())\n",
    "\n",
    "# df = df.drop(column, axis=1)"
   ]
  },
  {
   "cell_type": "code",
   "execution_count": 35,
   "id": "49ab8247",
   "metadata": {},
   "outputs": [
    {
     "name": "stdout",
     "output_type": "stream",
     "text": [
      "0.0\n"
     ]
    }
   ],
   "source": [
    "column = \"life_expectancy_country\"\n",
    "# loss 7%\n",
    "# after soft clean 3 nan - 0%\n",
    "\n",
    "print(df[column].isna().sum()/df[column].count())\n",
    "\n",
    "# df = df.drop(column, axis=1)"
   ]
  },
  {
   "cell_type": "code",
   "execution_count": 36,
   "id": "8f72b24d",
   "metadata": {},
   "outputs": [
    {
     "name": "stdout",
     "output_type": "stream",
     "text": [
      "0.0\n"
     ]
    }
   ],
   "source": [
    "column = \"tax_revenue_country_country\"\n",
    "# loss 7%\n",
    "# after soft clean 3 nan - 0%\n",
    "\n",
    "print(df[column].isna().sum()/df[column].count())\n",
    "\n",
    "# df = df.drop(column, axis=1)"
   ]
  },
  {
   "cell_type": "code",
   "execution_count": 37,
   "id": "bd1c9ef1",
   "metadata": {},
   "outputs": [
    {
     "name": "stdout",
     "output_type": "stream",
     "text": [
      "0.0\n"
     ]
    }
   ],
   "source": [
    "column = \"total_tax_rate_country\"\n",
    "# loss 7%\n",
    "# after soft clean 3 nan - 0%\n",
    "\n",
    "print(df[column].isna().sum()/df[column].count())\n",
    "\n",
    "\n",
    "\n",
    "# df = df.drop(column, axis=1)"
   ]
  },
  {
   "cell_type": "code",
   "execution_count": 38,
   "id": "2738beb5",
   "metadata": {},
   "outputs": [
    {
     "name": "stdout",
     "output_type": "stream",
     "text": [
      "0.0\n"
     ]
    }
   ],
   "source": [
    "column = \"population_country\"\n",
    "# loss 6%\n",
    "# after soft clean 3 nan - 0%\n",
    "\n",
    "print(df[column].isna().sum()/df[column].count())\n",
    "\n",
    "\n",
    "# df = df.drop(column, axis=1)"
   ]
  },
  {
   "cell_type": "code",
   "execution_count": 39,
   "id": "b63eef7a",
   "metadata": {},
   "outputs": [
    {
     "name": "stdout",
     "output_type": "stream",
     "text": [
      "0.0\n"
     ]
    }
   ],
   "source": [
    "column = \"latitude_country\"\n",
    "# loss 6%\n",
    "# after soft clean 3 nan - 0%\n",
    "\n",
    "print(df[column].isna().sum()/df[column].count())\n",
    "\n",
    "\n",
    "\n",
    "# df = df.drop(column, axis=1)"
   ]
  },
  {
   "cell_type": "code",
   "execution_count": 40,
   "id": "6fac8f42",
   "metadata": {},
   "outputs": [
    {
     "name": "stdout",
     "output_type": "stream",
     "text": [
      "0.0\n"
     ]
    }
   ],
   "source": [
    "column = \"longitude_country\"\n",
    "# loss 6%\n",
    "# after soft clean 3 nan - 0%\n",
    "\n",
    "print(df[column].isna().sum()/df[column].count())\n",
    "\n",
    "# df = df.drop(column, axis=1)"
   ]
  },
  {
   "cell_type": "code",
   "execution_count": 41,
   "id": "82ad04f4",
   "metadata": {},
   "outputs": [
    {
     "name": "stdout",
     "output_type": "stream",
     "text": [
      "(2398, 21)\n",
      "(2397, 21)\n"
     ]
    }
   ],
   "source": [
    "print(df.shape)\n",
    "df = df.dropna()\n",
    "print(df.shape)\n",
    "\n",
    "# df = (\n",
    "#     df\n",
    "#     .drop(\"birthDate\", axis=1)\n",
    "#     .drop(\"birthYear\", axis=1)\n",
    "#     .drop(\"birthMonth\", axis=1)\n",
    "#     .drop(\"birthDay\", axis=1)\n",
    "# )"
   ]
  },
  {
   "cell_type": "code",
   "execution_count": 42,
   "id": "2f23a598",
   "metadata": {},
   "outputs": [],
   "source": [
    "df.to_csv(SAVE_DATA_PATH.format(1))"
   ]
  },
  {
   "cell_type": "code",
   "execution_count": 43,
   "id": "600f0d14",
   "metadata": {},
   "outputs": [
    {
     "ename": "ValueError",
     "evalue": "could not convert string to float: 'Fashion & Retail'",
     "output_type": "error",
     "traceback": [
      "\u001b[31m---------------------------------------------------------------------------\u001b[39m",
      "\u001b[31mValueError\u001b[39m                                Traceback (most recent call last)",
      "\u001b[36mCell\u001b[39m\u001b[36m \u001b[39m\u001b[32mIn[43]\u001b[39m\u001b[32m, line 2\u001b[39m\n\u001b[32m      1\u001b[39m \u001b[38;5;66;03m# Compute the correlation matrix of the variables\u001b[39;00m\n\u001b[32m----> \u001b[39m\u001b[32m2\u001b[39m diamonds_corr_matrix = \u001b[43mdf\u001b[49m\u001b[43m.\u001b[49m\u001b[43mcorr\u001b[49m\u001b[43m(\u001b[49m\u001b[43m)\u001b[49m\n\u001b[32m      3\u001b[39m \u001b[38;5;28mprint\u001b[39m(diamonds_corr_matrix)\n\u001b[32m      5\u001b[39m \u001b[38;5;66;03m# Create the heatmap using the `heatmap` function of Seaborn\u001b[39;00m\n",
      "\u001b[36mFile \u001b[39m\u001b[32m~/it/AI_work/.venv/lib/python3.12/site-packages/pandas/core/frame.py:11049\u001b[39m, in \u001b[36mDataFrame.corr\u001b[39m\u001b[34m(self, method, min_periods, numeric_only)\u001b[39m\n\u001b[32m  11047\u001b[39m cols = data.columns\n\u001b[32m  11048\u001b[39m idx = cols.copy()\n\u001b[32m> \u001b[39m\u001b[32m11049\u001b[39m mat = \u001b[43mdata\u001b[49m\u001b[43m.\u001b[49m\u001b[43mto_numpy\u001b[49m\u001b[43m(\u001b[49m\u001b[43mdtype\u001b[49m\u001b[43m=\u001b[49m\u001b[38;5;28;43mfloat\u001b[39;49m\u001b[43m,\u001b[49m\u001b[43m \u001b[49m\u001b[43mna_value\u001b[49m\u001b[43m=\u001b[49m\u001b[43mnp\u001b[49m\u001b[43m.\u001b[49m\u001b[43mnan\u001b[49m\u001b[43m,\u001b[49m\u001b[43m \u001b[49m\u001b[43mcopy\u001b[49m\u001b[43m=\u001b[49m\u001b[38;5;28;43;01mFalse\u001b[39;49;00m\u001b[43m)\u001b[49m\n\u001b[32m  11051\u001b[39m \u001b[38;5;28;01mif\u001b[39;00m method == \u001b[33m\"\u001b[39m\u001b[33mpearson\u001b[39m\u001b[33m\"\u001b[39m:\n\u001b[32m  11052\u001b[39m     correl = libalgos.nancorr(mat, minp=min_periods)\n",
      "\u001b[36mFile \u001b[39m\u001b[32m~/it/AI_work/.venv/lib/python3.12/site-packages/pandas/core/frame.py:1993\u001b[39m, in \u001b[36mDataFrame.to_numpy\u001b[39m\u001b[34m(self, dtype, copy, na_value)\u001b[39m\n\u001b[32m   1991\u001b[39m \u001b[38;5;28;01mif\u001b[39;00m dtype \u001b[38;5;129;01mis\u001b[39;00m \u001b[38;5;129;01mnot\u001b[39;00m \u001b[38;5;28;01mNone\u001b[39;00m:\n\u001b[32m   1992\u001b[39m     dtype = np.dtype(dtype)\n\u001b[32m-> \u001b[39m\u001b[32m1993\u001b[39m result = \u001b[38;5;28;43mself\u001b[39;49m\u001b[43m.\u001b[49m\u001b[43m_mgr\u001b[49m\u001b[43m.\u001b[49m\u001b[43mas_array\u001b[49m\u001b[43m(\u001b[49m\u001b[43mdtype\u001b[49m\u001b[43m=\u001b[49m\u001b[43mdtype\u001b[49m\u001b[43m,\u001b[49m\u001b[43m \u001b[49m\u001b[43mcopy\u001b[49m\u001b[43m=\u001b[49m\u001b[43mcopy\u001b[49m\u001b[43m,\u001b[49m\u001b[43m \u001b[49m\u001b[43mna_value\u001b[49m\u001b[43m=\u001b[49m\u001b[43mna_value\u001b[49m\u001b[43m)\u001b[49m\n\u001b[32m   1994\u001b[39m \u001b[38;5;28;01mif\u001b[39;00m result.dtype \u001b[38;5;129;01mis\u001b[39;00m \u001b[38;5;129;01mnot\u001b[39;00m dtype:\n\u001b[32m   1995\u001b[39m     result = np.asarray(result, dtype=dtype)\n",
      "\u001b[36mFile \u001b[39m\u001b[32m~/it/AI_work/.venv/lib/python3.12/site-packages/pandas/core/internals/managers.py:1694\u001b[39m, in \u001b[36mBlockManager.as_array\u001b[39m\u001b[34m(self, dtype, copy, na_value)\u001b[39m\n\u001b[32m   1692\u001b[39m         arr.flags.writeable = \u001b[38;5;28;01mFalse\u001b[39;00m\n\u001b[32m   1693\u001b[39m \u001b[38;5;28;01melse\u001b[39;00m:\n\u001b[32m-> \u001b[39m\u001b[32m1694\u001b[39m     arr = \u001b[38;5;28;43mself\u001b[39;49m\u001b[43m.\u001b[49m\u001b[43m_interleave\u001b[49m\u001b[43m(\u001b[49m\u001b[43mdtype\u001b[49m\u001b[43m=\u001b[49m\u001b[43mdtype\u001b[49m\u001b[43m,\u001b[49m\u001b[43m \u001b[49m\u001b[43mna_value\u001b[49m\u001b[43m=\u001b[49m\u001b[43mna_value\u001b[49m\u001b[43m)\u001b[49m\n\u001b[32m   1695\u001b[39m     \u001b[38;5;66;03m# The underlying data was copied within _interleave, so no need\u001b[39;00m\n\u001b[32m   1696\u001b[39m     \u001b[38;5;66;03m# to further copy if copy=True or setting na_value\u001b[39;00m\n\u001b[32m   1698\u001b[39m \u001b[38;5;28;01mif\u001b[39;00m na_value \u001b[38;5;129;01mis\u001b[39;00m lib.no_default:\n",
      "\u001b[36mFile \u001b[39m\u001b[32m~/it/AI_work/.venv/lib/python3.12/site-packages/pandas/core/internals/managers.py:1753\u001b[39m, in \u001b[36mBlockManager._interleave\u001b[39m\u001b[34m(self, dtype, na_value)\u001b[39m\n\u001b[32m   1751\u001b[39m     \u001b[38;5;28;01melse\u001b[39;00m:\n\u001b[32m   1752\u001b[39m         arr = blk.get_values(dtype)\n\u001b[32m-> \u001b[39m\u001b[32m1753\u001b[39m     \u001b[43mresult\u001b[49m\u001b[43m[\u001b[49m\u001b[43mrl\u001b[49m\u001b[43m.\u001b[49m\u001b[43mindexer\u001b[49m\u001b[43m]\u001b[49m = arr\n\u001b[32m   1754\u001b[39m     itemmask[rl.indexer] = \u001b[32m1\u001b[39m\n\u001b[32m   1756\u001b[39m \u001b[38;5;28;01mif\u001b[39;00m \u001b[38;5;129;01mnot\u001b[39;00m itemmask.all():\n",
      "\u001b[31mValueError\u001b[39m: could not convert string to float: 'Fashion & Retail'"
     ]
    }
   ],
   "source": [
    "# Compute the correlation matrix of the variables\n",
    "diamonds_corr_matrix = df.corr()\n",
    "print(diamonds_corr_matrix)\n",
    "\n",
    "# Create the heatmap using the `heatmap` function of Seaborn\n",
    "sns.heatmap(diamonds_corr_matrix, cmap='coolwarm')\n",
    "\n",
    "# Display the heatmap using the `show` method of the `pyplot` module from matplotlib.\n",
    "plt.show()"
   ]
  },
  {
   "cell_type": "markdown",
   "id": "8ee75f03",
   "metadata": {},
   "source": [
    "# try to clusterization"
   ]
  },
  {
   "cell_type": "code",
   "execution_count": null,
   "id": "03a6dadd",
   "metadata": {},
   "outputs": [],
   "source": [
    "scaler = MinMaxScaler()\n",
    "scaled_data = scaler.fit_transform(df)\n"
   ]
  },
  {
   "cell_type": "code",
   "execution_count": null,
   "id": "99ee8ba3",
   "metadata": {},
   "outputs": [],
   "source": [
    "wcss = []\n",
    "for k in range(1, 20):\n",
    "    kmeans = KMeans(n_clusters=k, init='k-means++', random_state=777)\n",
    "    kmeans.fit(scaled_data)\n",
    "    wcss.append(kmeans.inertia_)"
   ]
  },
  {
   "cell_type": "code",
   "execution_count": null,
   "id": "5a4e6e5b",
   "metadata": {},
   "outputs": [
    {
     "data": {
      "image/png": "[encoded data removed]",
      "text/plain": [
       "<Figure size 640x480 with 1 Axes>"
      ]
     },
     "metadata": {},
     "output_type": "display_data"
    }
   ],
   "source": [
    "plt.plot(range(1, 20), wcss, marker=\"o\")\n",
    "plt.xlabel(\"Количество кластеров\")\n",
    "plt.ylabel(\"WCSS\")\n",
    "plt.title(\"Метод локтя\")\n",
    "plt.show()"
   ]
  },
  {
   "cell_type": "code",
   "execution_count": null,
   "id": "36a85ada",
   "metadata": {},
   "outputs": [
    {
     "data": {
      "text/html": [
       "<style>#sk-container-id-1 {\n",
       "  /* Definition of color scheme common for light and dark mode */\n",
       "  --sklearn-color-text: #000;\n",
       "  --sklearn-color-text-muted: #666;\n",
       "  --sklearn-color-line: gray;\n",
       "  /* Definition of color scheme for unfitted estimators */\n",
       "  --sklearn-color-unfitted-level-0: #fff5e6;\n",
       "  --sklearn-color-unfitted-level-1: #f6e4d2;\n",
       "  --sklearn-color-unfitted-level-2: #ffe0b3;\n",
       "  --sklearn-color-unfitted-level-3: chocolate;\n",
       "  /* Definition of color scheme for fitted estimators */\n",
       "  --sklearn-color-fitted-level-0: #f0f8ff;\n",
       "  --sklearn-color-fitted-level-1: #d4ebff;\n",
       "  --sklearn-color-fitted-level-2: #b3dbfd;\n",
       "  --sklearn-color-fitted-level-3: cornflowerblue;\n",
       "\n",
       "  /* Specific color for light theme */\n",
       "  --sklearn-color-text-on-default-background: var(--sg-text-color, var(--theme-code-foreground, var(--jp-content-font-color1, black)));\n",
       "  --sklearn-color-background: var(--sg-background-color, var(--theme-background, var(--jp-layout-color0, white)));\n",
       "  --sklearn-color-border-box: var(--sg-text-color, var(--theme-code-foreground, var(--jp-content-font-color1, black)));\n",
       "  --sklearn-color-icon: #696969;\n",
       "\n",
       "  @media (prefers-color-scheme: dark) {\n",
       "    /* Redefinition of color scheme for dark theme */\n",
       "    --sklearn-color-text-on-default-background: var(--sg-text-color, var(--theme-code-foreground, var(--jp-content-font-color1, white)));\n",
       "    --sklearn-color-background: var(--sg-background-color, var(--theme-background, var(--jp-layout-color0, #111)));\n",
       "    --sklearn-color-border-box: var(--sg-text-color, var(--theme-code-foreground, var(--jp-content-font-color1, white)));\n",
       "    --sklearn-color-icon: #878787;\n",
       "  }\n",
       "}\n",
       "\n",
       "#sk-container-id-1 {\n",
       "  color: var(--sklearn-color-text);\n",
       "}\n",
       "\n",
       "#sk-container-id-1 pre {\n",
       "  padding: 0;\n",
       "}\n",
       "\n",
       "#sk-container-id-1 input.sk-hidden--visually {\n",
       "  border: 0;\n",
       "  clip: rect(1px 1px 1px 1px);\n",
       "  clip: rect(1px, 1px, 1px, 1px);\n",
       "  height: 1px;\n",
       "  margin: -1px;\n",
       "  overflow: hidden;\n",
       "  padding: 0;\n",
       "  position: absolute;\n",
       "  width: 1px;\n",
       "}\n",
       "\n",
       "#sk-container-id-1 div.sk-dashed-wrapped {\n",
       "  border: 1px dashed var(--sklearn-color-line);\n",
       "  margin: 0 0.4em 0.5em 0.4em;\n",
       "  box-sizing: border-box;\n",
       "  padding-bottom: 0.4em;\n",
       "  background-color: var(--sklearn-color-background);\n",
       "}\n",
       "\n",
       "#sk-container-id-1 div.sk-container {\n",
       "  /* jupyter's `normalize.less` sets `[hidden] { display: none; }`\n",
       "     but bootstrap.min.css set `[hidden] { display: none !important; }`\n",
       "     so we also need the `!important` here to be able to override the\n",
       "     default hidden behavior on the sphinx rendered scikit-learn.org.\n",
       "     See: https://github.com/scikit-learn/scikit-learn/issues/21755 */\n",
       "  display: inline-block !important;\n",
       "  position: relative;\n",
       "}\n",
       "\n",
       "#sk-container-id-1 div.sk-text-repr-fallback {\n",
       "  display: none;\n",
       "}\n",
       "\n",
       "div.sk-parallel-item,\n",
       "div.sk-serial,\n",
       "div.sk-item {\n",
       "  /* draw centered vertical line to link estimators */\n",
       "  background-image: linear-gradient(var(--sklearn-color-text-on-default-background), var(--sklearn-color-text-on-default-background));\n",
       "  background-size: 2px 100%;\n",
       "  background-repeat: no-repeat;\n",
       "  background-position: center center;\n",
       "}\n",
       "\n",
       "/* Parallel-specific style estimator block */\n",
       "\n",
       "#sk-container-id-1 div.sk-parallel-item::after {\n",
       "  content: \"\";\n",
       "  width: 100%;\n",
       "  border-bottom: 2px solid var(--sklearn-color-text-on-default-background);\n",
       "  flex-grow: 1;\n",
       "}\n",
       "\n",
       "#sk-container-id-1 div.sk-parallel {\n",
       "  display: flex;\n",
       "  align-items: stretch;\n",
       "  justify-content: center;\n",
       "  background-color: var(--sklearn-color-background);\n",
       "  position: relative;\n",
       "}\n",
       "\n",
       "#sk-container-id-1 div.sk-parallel-item {\n",
       "  display: flex;\n",
       "  flex-direction: column;\n",
       "}\n",
       "\n",
       "#sk-container-id-1 div.sk-parallel-item:first-child::after {\n",
       "  align-self: flex-end;\n",
       "  width: 50%;\n",
       "}\n",
       "\n",
       "#sk-container-id-1 div.sk-parallel-item:last-child::after {\n",
       "  align-self: flex-start;\n",
       "  width: 50%;\n",
       "}\n",
       "\n",
       "#sk-container-id-1 div.sk-parallel-item:only-child::after {\n",
       "  width: 0;\n",
       "}\n",
       "\n",
       "/* Serial-specific style estimator block */\n",
       "\n",
       "#sk-container-id-1 div.sk-serial {\n",
       "  display: flex;\n",
       "  flex-direction: column;\n",
       "  align-items: center;\n",
       "  background-color: var(--sklearn-color-background);\n",
       "  padding-right: 1em;\n",
       "  padding-left: 1em;\n",
       "}\n",
       "\n",
       "\n",
       "/* Toggleable style: style used for estimator/Pipeline/ColumnTransformer box that is\n",
       "clickable and can be expanded/collapsed.\n",
       "- Pipeline and ColumnTransformer use this feature and define the default style\n",
       "- Estimators will overwrite some part of the style using the `sk-estimator` class\n",
       "*/\n",
       "\n",
       "/* Pipeline and ColumnTransformer style (default) */\n",
       "\n",
       "#sk-container-id-1 div.sk-toggleable {\n",
       "  /* Default theme specific background. It is overwritten whether we have a\n",
       "  specific estimator or a Pipeline/ColumnTransformer */\n",
       "  background-color: var(--sklearn-color-background);\n",
       "}\n",
       "\n",
       "/* Toggleable label */\n",
       "#sk-container-id-1 label.sk-toggleable__label {\n",
       "  cursor: pointer;\n",
       "  display: flex;\n",
       "  width: 100%;\n",
       "  margin-bottom: 0;\n",
       "  padding: 0.5em;\n",
       "  box-sizing: border-box;\n",
       "  text-align: center;\n",
       "  align-items: start;\n",
       "  justify-content: space-between;\n",
       "  gap: 0.5em;\n",
       "}\n",
       "\n",
       "#sk-container-id-1 label.sk-toggleable__label .caption {\n",
       "  font-size: 0.6rem;\n",
       "  font-weight: lighter;\n",
       "  color: var(--sklearn-color-text-muted);\n",
       "}\n",
       "\n",
       "#sk-container-id-1 label.sk-toggleable__label-arrow:before {\n",
       "  /* Arrow on the left of the label */\n",
       "  content: \"▸\";\n",
       "  float: left;\n",
       "  margin-right: 0.25em;\n",
       "  color: var(--sklearn-color-icon);\n",
       "}\n",
       "\n",
       "#sk-container-id-1 label.sk-toggleable__label-arrow:hover:before {\n",
       "  color: var(--sklearn-color-text);\n",
       "}\n",
       "\n",
       "/* Toggleable content - dropdown */\n",
       "\n",
       "#sk-container-id-1 div.sk-toggleable__content {\n",
       "  max-height: 0;\n",
       "  max-width: 0;\n",
       "  overflow: hidden;\n",
       "  text-align: left;\n",
       "  /* unfitted */\n",
       "  background-color: var(--sklearn-color-unfitted-level-0);\n",
       "}\n",
       "\n",
       "#sk-container-id-1 div.sk-toggleable__content.fitted {\n",
       "  /* fitted */\n",
       "  background-color: var(--sklearn-color-fitted-level-0);\n",
       "}\n",
       "\n",
       "#sk-container-id-1 div.sk-toggleable__content pre {\n",
       "  margin: 0.2em;\n",
       "  border-radius: 0.25em;\n",
       "  color: var(--sklearn-color-text);\n",
       "  /* unfitted */\n",
       "  background-color: var(--sklearn-color-unfitted-level-0);\n",
       "}\n",
       "\n",
       "#sk-container-id-1 div.sk-toggleable__content.fitted pre {\n",
       "  /* unfitted */\n",
       "  background-color: var(--sklearn-color-fitted-level-0);\n",
       "}\n",
       "\n",
       "#sk-container-id-1 input.sk-toggleable__control:checked~div.sk-toggleable__content {\n",
       "  /* Expand drop-down */\n",
       "  max-height: 200px;\n",
       "  max-width: 100%;\n",
       "  overflow: auto;\n",
       "}\n",
       "\n",
       "#sk-container-id-1 input.sk-toggleable__control:checked~label.sk-toggleable__label-arrow:before {\n",
       "  content: \"▾\";\n",
       "}\n",
       "\n",
       "/* Pipeline/ColumnTransformer-specific style */\n",
       "\n",
       "#sk-container-id-1 div.sk-label input.sk-toggleable__control:checked~label.sk-toggleable__label {\n",
       "  color: var(--sklearn-color-text);\n",
       "  background-color: var(--sklearn-color-unfitted-level-2);\n",
       "}\n",
       "\n",
       "#sk-container-id-1 div.sk-label.fitted input.sk-toggleable__control:checked~label.sk-toggleable__label {\n",
       "  background-color: var(--sklearn-color-fitted-level-2);\n",
       "}\n",
       "\n",
       "/* Estimator-specific style */\n",
       "\n",
       "/* Colorize estimator box */\n",
       "#sk-container-id-1 div.sk-estimator input.sk-toggleable__control:checked~label.sk-toggleable__label {\n",
       "  /* unfitted */\n",
       "  background-color: var(--sklearn-color-unfitted-level-2);\n",
       "}\n",
       "\n",
       "#sk-container-id-1 div.sk-estimator.fitted input.sk-toggleable__control:checked~label.sk-toggleable__label {\n",
       "  /* fitted */\n",
       "  background-color: var(--sklearn-color-fitted-level-2);\n",
       "}\n",
       "\n",
       "#sk-container-id-1 div.sk-label label.sk-toggleable__label,\n",
       "#sk-container-id-1 div.sk-label label {\n",
       "  /* The background is the default theme color */\n",
       "  color: var(--sklearn-color-text-on-default-background);\n",
       "}\n",
       "\n",
       "/* On hover, darken the color of the background */\n",
       "#sk-container-id-1 div.sk-label:hover label.sk-toggleable__label {\n",
       "  color: var(--sklearn-color-text);\n",
       "  background-color: var(--sklearn-color-unfitted-level-2);\n",
       "}\n",
       "\n",
       "/* Label box, darken color on hover, fitted */\n",
       "#sk-container-id-1 div.sk-label.fitted:hover label.sk-toggleable__label.fitted {\n",
       "  color: var(--sklearn-color-text);\n",
       "  background-color: var(--sklearn-color-fitted-level-2);\n",
       "}\n",
       "\n",
       "/* Estimator label */\n",
       "\n",
       "#sk-container-id-1 div.sk-label label {\n",
       "  font-family: monospace;\n",
       "  font-weight: bold;\n",
       "  display: inline-block;\n",
       "  line-height: 1.2em;\n",
       "}\n",
       "\n",
       "#sk-container-id-1 div.sk-label-container {\n",
       "  text-align: center;\n",
       "}\n",
       "\n",
       "/* Estimator-specific */\n",
       "#sk-container-id-1 div.sk-estimator {\n",
       "  font-family: monospace;\n",
       "  border: 1px dotted var(--sklearn-color-border-box);\n",
       "  border-radius: 0.25em;\n",
       "  box-sizing: border-box;\n",
       "  margin-bottom: 0.5em;\n",
       "  /* unfitted */\n",
       "  background-color: var(--sklearn-color-unfitted-level-0);\n",
       "}\n",
       "\n",
       "#sk-container-id-1 div.sk-estimator.fitted {\n",
       "  /* fitted */\n",
       "  background-color: var(--sklearn-color-fitted-level-0);\n",
       "}\n",
       "\n",
       "/* on hover */\n",
       "#sk-container-id-1 div.sk-estimator:hover {\n",
       "  /* unfitted */\n",
       "  background-color: var(--sklearn-color-unfitted-level-2);\n",
       "}\n",
       "\n",
       "#sk-container-id-1 div.sk-estimator.fitted:hover {\n",
       "  /* fitted */\n",
       "  background-color: var(--sklearn-color-fitted-level-2);\n",
       "}\n",
       "\n",
       "/* Specification for estimator info (e.g. \"i\" and \"?\") */\n",
       "\n",
       "/* Common style for \"i\" and \"?\" */\n",
       "\n",
       ".sk-estimator-doc-link,\n",
       "a:link.sk-estimator-doc-link,\n",
       "a:visited.sk-estimator-doc-link {\n",
       "  float: right;\n",
       "  font-size: smaller;\n",
       "  line-height: 1em;\n",
       "  font-family: monospace;\n",
       "  background-color: var(--sklearn-color-background);\n",
       "  border-radius: 1em;\n",
       "  height: 1em;\n",
       "  width: 1em;\n",
       "  text-decoration: none !important;\n",
       "  margin-left: 0.5em;\n",
       "  text-align: center;\n",
       "  /* unfitted */\n",
       "  border: var(--sklearn-color-unfitted-level-1) 1pt solid;\n",
       "  color: var(--sklearn-color-unfitted-level-1);\n",
       "}\n",
       "\n",
       ".sk-estimator-doc-link.fitted,\n",
       "a:link.sk-estimator-doc-link.fitted,\n",
       "a:visited.sk-estimator-doc-link.fitted {\n",
       "  /* fitted */\n",
       "  border: var(--sklearn-color-fitted-level-1) 1pt solid;\n",
       "  color: var(--sklearn-color-fitted-level-1);\n",
       "}\n",
       "\n",
       "/* On hover */\n",
       "div.sk-estimator:hover .sk-estimator-doc-link:hover,\n",
       ".sk-estimator-doc-link:hover,\n",
       "div.sk-label-container:hover .sk-estimator-doc-link:hover,\n",
       ".sk-estimator-doc-link:hover {\n",
       "  /* unfitted */\n",
       "  background-color: var(--sklearn-color-unfitted-level-3);\n",
       "  color: var(--sklearn-color-background);\n",
       "  text-decoration: none;\n",
       "}\n",
       "\n",
       "div.sk-estimator.fitted:hover .sk-estimator-doc-link.fitted:hover,\n",
       ".sk-estimator-doc-link.fitted:hover,\n",
       "div.sk-label-container:hover .sk-estimator-doc-link.fitted:hover,\n",
       ".sk-estimator-doc-link.fitted:hover {\n",
       "  /* fitted */\n",
       "  background-color: var(--sklearn-color-fitted-level-3);\n",
       "  color: var(--sklearn-color-background);\n",
       "  text-decoration: none;\n",
       "}\n",
       "\n",
       "/* Span, style for the box shown on hovering the info icon */\n",
       ".sk-estimator-doc-link span {\n",
       "  display: none;\n",
       "  z-index: 9999;\n",
       "  position: relative;\n",
       "  font-weight: normal;\n",
       "  right: .2ex;\n",
       "  padding: .5ex;\n",
       "  margin: .5ex;\n",
       "  width: min-content;\n",
       "  min-width: 20ex;\n",
       "  max-width: 50ex;\n",
       "  color: var(--sklearn-color-text);\n",
       "  box-shadow: 2pt 2pt 4pt #999;\n",
       "  /* unfitted */\n",
       "  background: var(--sklearn-color-unfitted-level-0);\n",
       "  border: .5pt solid var(--sklearn-color-unfitted-level-3);\n",
       "}\n",
       "\n",
       ".sk-estimator-doc-link.fitted span {\n",
       "  /* fitted */\n",
       "  background: var(--sklearn-color-fitted-level-0);\n",
       "  border: var(--sklearn-color-fitted-level-3);\n",
       "}\n",
       "\n",
       ".sk-estimator-doc-link:hover span {\n",
       "  display: block;\n",
       "}\n",
       "\n",
       "/* \"?\"-specific style due to the `<a>` HTML tag */\n",
       "\n",
       "#sk-container-id-1 a.estimator_doc_link {\n",
       "  float: right;\n",
       "  font-size: 1rem;\n",
       "  line-height: 1em;\n",
       "  font-family: monospace;\n",
       "  background-color: var(--sklearn-color-background);\n",
       "  border-radius: 1rem;\n",
       "  height: 1rem;\n",
       "  width: 1rem;\n",
       "  text-decoration: none;\n",
       "  /* unfitted */\n",
       "  color: var(--sklearn-color-unfitted-level-1);\n",
       "  border: var(--sklearn-color-unfitted-level-1) 1pt solid;\n",
       "}\n",
       "\n",
       "#sk-container-id-1 a.estimator_doc_link.fitted {\n",
       "  /* fitted */\n",
       "  border: var(--sklearn-color-fitted-level-1) 1pt solid;\n",
       "  color: var(--sklearn-color-fitted-level-1);\n",
       "}\n",
       "\n",
       "/* On hover */\n",
       "#sk-container-id-1 a.estimator_doc_link:hover {\n",
       "  /* unfitted */\n",
       "  background-color: var(--sklearn-color-unfitted-level-3);\n",
       "  color: var(--sklearn-color-background);\n",
       "  text-decoration: none;\n",
       "}\n",
       "\n",
       "#sk-container-id-1 a.estimator_doc_link.fitted:hover {\n",
       "  /* fitted */\n",
       "  background-color: var(--sklearn-color-fitted-level-3);\n",
       "}\n",
       "</style><div id=\"sk-container-id-1\" class=\"sk-top-container\"><div class=\"sk-text-repr-fallback\"><pre>KMeans(n_clusters=5, random_state=777)</pre><b>In a Jupyter environment, please rerun this cell to show the HTML representation or trust the notebook. <br />On GitHub, the HTML representation is unable to render, please try loading this page with nbviewer.org.</b></div><div class=\"sk-container\" hidden><div class=\"sk-item\"><div class=\"sk-estimator fitted sk-toggleable\"><input class=\"sk-toggleable__control sk-hidden--visually\" id=\"sk-estimator-id-1\" type=\"checkbox\" checked><label for=\"sk-estimator-id-1\" class=\"sk-toggleable__label fitted sk-toggleable__label-arrow\"><div><div>KMeans</div></div><div><a class=\"sk-estimator-doc-link fitted\" rel=\"noreferrer\" target=\"_blank\" href=\"https://scikit-learn.org/1.6/modules/generated/sklearn.cluster.KMeans.html\">?<span>Documentation for KMeans</span></a><span class=\"sk-estimator-doc-link fitted\">i<span>Fitted</span></span></div></label><div class=\"sk-toggleable__content fitted\"><pre>KMeans(n_clusters=5, random_state=777)</pre></div> </div></div></div></div>"
      ],
      "text/plain": [
       "KMeans(n_clusters=5, random_state=777)"
      ]
     },
     "execution_count": 47,
     "metadata": {},
     "output_type": "execute_result"
    }
   ],
   "source": [
    "kmeans = KMeans(n_clusters=5, init='k-means++', random_state=777)\n",
    "kmeans.fit(scaled_data)"
   ]
  },
  {
   "cell_type": "code",
   "execution_count": null,
   "id": "bf357aa0",
   "metadata": {},
   "outputs": [],
   "source": [
    "clusters = kmeans.fit_predict(scaled_data)"
   ]
  },
  {
   "cell_type": "code",
   "execution_count": null,
   "id": "649aac25",
   "metadata": {},
   "outputs": [
    {
     "data": {
      "image/png": "[encoded data removed]",
      "text/plain": [
       "<Figure size 640x480 with 2 Axes>"
      ]
     },
     "metadata": {},
     "output_type": "display_data"
    }
   ],
   "source": [
    "tsne = TSNE(n_components=2, random_state=1984)\n",
    "projected_data = tsne.fit_transform(scaled_data)\n",
    "\n",
    "plt.scatter(projected_data[:, 0], projected_data[:, 1], c=clusters, cmap=\"viridis\")\n",
    "plt.xlabel(\"t-SNE 1\")\n",
    "plt.ylabel(\"t-SNE 2\")\n",
    "plt.title(\"Кластеры (K-means++)\")\n",
    "plt.colorbar()\n",
    "plt.show()"
   ]
  },
  {
   "cell_type": "code",
   "execution_count": null,
   "id": "c58f4b8d",
   "metadata": {},
   "outputs": [
    {
     "data": {
      "application/vnd.microsoft.datawrangler.viewer.v0+json": {
       "columns": [
        {
         "name": "Cluster",
         "rawType": "int32",
         "type": "integer"
        },
        {
         "name": "rank",
         "rawType": "float64",
         "type": "float"
        },
        {
         "name": "finalWorth",
         "rawType": "float64",
         "type": "float"
        },
        {
         "name": "age",
         "rawType": "float64",
         "type": "float"
        },
        {
         "name": "selfMade",
         "rawType": "float64",
         "type": "float"
        },
        {
         "name": "is_male",
         "rawType": "float64",
         "type": "float"
        },
        {
         "name": "birthDate",
         "rawType": "float64",
         "type": "float"
        },
        {
         "name": "birthYear",
         "rawType": "float64",
         "type": "float"
        },
        {
         "name": "birthMonth",
         "rawType": "float64",
         "type": "float"
        },
        {
         "name": "birthDay",
         "rawType": "float64",
         "type": "float"
        },
        {
         "name": "cpi_country",
         "rawType": "float64",
         "type": "float"
        },
        {
         "name": "cpi_change_country",
         "rawType": "float64",
         "type": "float"
        },
        {
         "name": "gdp_country",
         "rawType": "float64",
         "type": "float"
        },
        {
         "name": "gross_tertiary_education_enrollment",
         "rawType": "float64",
         "type": "float"
        },
        {
         "name": "gross_primary_education_enrollment_country",
         "rawType": "float64",
         "type": "float"
        },
        {
         "name": "life_expectancy_country",
         "rawType": "float64",
         "type": "float"
        },
        {
         "name": "tax_revenue_country_country",
         "rawType": "float64",
         "type": "float"
        },
        {
         "name": "total_tax_rate_country",
         "rawType": "float64",
         "type": "float"
        },
        {
         "name": "population_country",
         "rawType": "float64",
         "type": "float"
        },
        {
         "name": "latitude_country",
         "rawType": "float64",
         "type": "float"
        },
        {
         "name": "longitude_country",
         "rawType": "float64",
         "type": "float"
        }
       ],
       "ref": "b266e5f3-8925-43dc-aef8-cc8ac74ec16f",
       "rows": [
        [
         "0",
         "1124.7525773195875",
         "5951.840942562592",
         "67.1782032400589",
         "0.7952871870397643",
         "0.9646539027982327",
         "-454449137.6303387",
         "1955.1281296023565",
         "6.232695139911635",
         "15.041237113402062",
         "117.24",
         "7.5",
         "21427700000000.0",
         "88.2",
         "101.8",
         "78.5",
         "9.6",
         "36.6",
         "328239523.0",
         "37.09024",
         "-95.712891"
        ],
        [
         "1",
         "1474.2262118491922",
         "3551.705565529623",
         "59.66068222621185",
         "0.9838420107719928",
         "0.9210053859964094",
         "-215297696.22980252",
         "1962.8204667863554",
         "5.102333931777379",
         "7.639138240574506",
         "131.73910233393175",
         "3.47737881508079",
         "17829150807899.46",
         "47.8935368043088",
         "101.73967684021544",
         "76.08581687612208",
         "9.616517055655297",
         "58.05727109515261",
         "1393950340.2477558",
         "34.02511710592459",
         "101.16024684021544"
        ],
        [
         "2",
         "1266.6648351648353",
         "4995.054945054945",
         "66.56593406593407",
         "0.0",
         "1.0",
         "-434760705.49450547",
         "1955.7884615384614",
         "5.868131868131868",
         "12.758241758241759",
         "137.2481868131868",
         "3.148901098901099",
         "1900232707810.7886",
         "55.40384615384615",
         "106.1412087912088",
         "77.62967032967033",
         "15.193956043956042",
         "43.198351648351654",
         "355952789.03571427",
         "28.928620442307693",
         "38.58957709065934"
        ],
        [
         "3",
         "1322.018456375839",
         "4099.161073825503",
         "66.70302013422818",
         "1.0",
         "0.9765100671140939",
         "-439030153.6912752",
         "1955.6526845637584",
         "5.864093959731544",
         "13.144295302013424",
         "132.76805369127516",
         "2.544295302013423",
         "1588858041806.2903",
         "67.27986577181208",
         "102.93070469798657",
         "79.33036912751678",
         "16.40788590604027",
         "39.6489932885906",
         "70079198.61073825",
         "35.98744110889262",
         "43.333812738255034"
        ],
        [
         "4",
         "1121.6567164179105",
         "5602.487562189055",
         "64.05472636815921",
         "0.0",
         "0.0",
         "-355924119.4029851",
         "1958.323383084577",
         "5.442786069651741",
         "12.368159203980099",
         "121.90442786069652",
         "4.259203980099502",
         "9660324615173.283",
         "74.12587064676616",
         "103.51442786069653",
         "79.57014925373134",
         "14.718407960199006",
         "42.13880597014925",
         "261316927.7363184",
         "36.09684889552239",
         "-17.270275129353234"
        ]
       ],
       "shape": {
        "columns": 20,
        "rows": 5
       }
      },
      "text/html": [
       "<div>\n",
       "<style scoped>\n",
       "    .dataframe tbody tr th:only-of-type {\n",
       "        vertical-align: middle;\n",
       "    }\n",
       "\n",
       "    .dataframe tbody tr th {\n",
       "        vertical-align: top;\n",
       "    }\n",
       "\n",
       "    .dataframe thead th {\n",
       "        text-align: right;\n",
       "    }\n",
       "</style>\n",
       "<table border=\"1\" class=\"dataframe\">\n",
       "  <thead>\n",
       "    <tr style=\"text-align: right;\">\n",
       "      <th></th>\n",
       "      <th>rank</th>\n",
       "      <th>finalWorth</th>\n",
       "      <th>age</th>\n",
       "      <th>selfMade</th>\n",
       "      <th>is_male</th>\n",
       "      <th>birthDate</th>\n",
       "      <th>birthYear</th>\n",
       "      <th>birthMonth</th>\n",
       "      <th>birthDay</th>\n",
       "      <th>cpi_country</th>\n",
       "      <th>cpi_change_country</th>\n",
       "      <th>gdp_country</th>\n",
       "      <th>gross_tertiary_education_enrollment</th>\n",
       "      <th>gross_primary_education_enrollment_country</th>\n",
       "      <th>life_expectancy_country</th>\n",
       "      <th>tax_revenue_country_country</th>\n",
       "      <th>total_tax_rate_country</th>\n",
       "      <th>population_country</th>\n",
       "      <th>latitude_country</th>\n",
       "      <th>longitude_country</th>\n",
       "    </tr>\n",
       "    <tr>\n",
       "      <th>Cluster</th>\n",
       "      <th></th>\n",
       "      <th></th>\n",
       "      <th></th>\n",
       "      <th></th>\n",
       "      <th></th>\n",
       "      <th></th>\n",
       "      <th></th>\n",
       "      <th></th>\n",
       "      <th></th>\n",
       "      <th></th>\n",
       "      <th></th>\n",
       "      <th></th>\n",
       "      <th></th>\n",
       "      <th></th>\n",
       "      <th></th>\n",
       "      <th></th>\n",
       "      <th></th>\n",
       "      <th></th>\n",
       "      <th></th>\n",
       "      <th></th>\n",
       "    </tr>\n",
       "  </thead>\n",
       "  <tbody>\n",
       "    <tr>\n",
       "      <th>0</th>\n",
       "      <td>1124.752577</td>\n",
       "      <td>5951.840943</td>\n",
       "      <td>67.178203</td>\n",
       "      <td>0.795287</td>\n",
       "      <td>0.964654</td>\n",
       "      <td>-4.544491e+08</td>\n",
       "      <td>1955.128130</td>\n",
       "      <td>6.232695</td>\n",
       "      <td>15.041237</td>\n",
       "      <td>117.240000</td>\n",
       "      <td>7.500000</td>\n",
       "      <td>2.142770e+13</td>\n",
       "      <td>88.200000</td>\n",
       "      <td>101.800000</td>\n",
       "      <td>78.500000</td>\n",
       "      <td>9.600000</td>\n",
       "      <td>36.600000</td>\n",
       "      <td>3.282395e+08</td>\n",
       "      <td>37.090240</td>\n",
       "      <td>-95.712891</td>\n",
       "    </tr>\n",
       "    <tr>\n",
       "      <th>1</th>\n",
       "      <td>1474.226212</td>\n",
       "      <td>3551.705566</td>\n",
       "      <td>59.660682</td>\n",
       "      <td>0.983842</td>\n",
       "      <td>0.921005</td>\n",
       "      <td>-2.152977e+08</td>\n",
       "      <td>1962.820467</td>\n",
       "      <td>5.102334</td>\n",
       "      <td>7.639138</td>\n",
       "      <td>131.739102</td>\n",
       "      <td>3.477379</td>\n",
       "      <td>1.782915e+13</td>\n",
       "      <td>47.893537</td>\n",
       "      <td>101.739677</td>\n",
       "      <td>76.085817</td>\n",
       "      <td>9.616517</td>\n",
       "      <td>58.057271</td>\n",
       "      <td>1.393950e+09</td>\n",
       "      <td>34.025117</td>\n",
       "      <td>101.160247</td>\n",
       "    </tr>\n",
       "    <tr>\n",
       "      <th>2</th>\n",
       "      <td>1266.664835</td>\n",
       "      <td>4995.054945</td>\n",
       "      <td>66.565934</td>\n",
       "      <td>0.000000</td>\n",
       "      <td>1.000000</td>\n",
       "      <td>-4.347607e+08</td>\n",
       "      <td>1955.788462</td>\n",
       "      <td>5.868132</td>\n",
       "      <td>12.758242</td>\n",
       "      <td>137.248187</td>\n",
       "      <td>3.148901</td>\n",
       "      <td>1.900233e+12</td>\n",
       "      <td>55.403846</td>\n",
       "      <td>106.141209</td>\n",
       "      <td>77.629670</td>\n",
       "      <td>15.193956</td>\n",
       "      <td>43.198352</td>\n",
       "      <td>3.559528e+08</td>\n",
       "      <td>28.928620</td>\n",
       "      <td>38.589577</td>\n",
       "    </tr>\n",
       "    <tr>\n",
       "      <th>3</th>\n",
       "      <td>1322.018456</td>\n",
       "      <td>4099.161074</td>\n",
       "      <td>66.703020</td>\n",
       "      <td>1.000000</td>\n",
       "      <td>0.976510</td>\n",
       "      <td>-4.390302e+08</td>\n",
       "      <td>1955.652685</td>\n",
       "      <td>5.864094</td>\n",
       "      <td>13.144295</td>\n",
       "      <td>132.768054</td>\n",
       "      <td>2.544295</td>\n",
       "      <td>1.588858e+12</td>\n",
       "      <td>67.279866</td>\n",
       "      <td>102.930705</td>\n",
       "      <td>79.330369</td>\n",
       "      <td>16.407886</td>\n",
       "      <td>39.648993</td>\n",
       "      <td>7.007920e+07</td>\n",
       "      <td>35.987441</td>\n",
       "      <td>43.333813</td>\n",
       "    </tr>\n",
       "    <tr>\n",
       "      <th>4</th>\n",
       "      <td>1121.656716</td>\n",
       "      <td>5602.487562</td>\n",
       "      <td>64.054726</td>\n",
       "      <td>0.000000</td>\n",
       "      <td>0.000000</td>\n",
       "      <td>-3.559241e+08</td>\n",
       "      <td>1958.323383</td>\n",
       "      <td>5.442786</td>\n",
       "      <td>12.368159</td>\n",
       "      <td>121.904428</td>\n",
       "      <td>4.259204</td>\n",
       "      <td>9.660325e+12</td>\n",
       "      <td>74.125871</td>\n",
       "      <td>103.514428</td>\n",
       "      <td>79.570149</td>\n",
       "      <td>14.718408</td>\n",
       "      <td>42.138806</td>\n",
       "      <td>2.613169e+08</td>\n",
       "      <td>36.096849</td>\n",
       "      <td>-17.270275</td>\n",
       "    </tr>\n",
       "  </tbody>\n",
       "</table>\n",
       "</div>"
      ],
      "text/plain": [
       "                rank   finalWorth        age  selfMade   is_male  \\\n",
       "Cluster                                                            \n",
       "0        1124.752577  5951.840943  67.178203  0.795287  0.964654   \n",
       "1        1474.226212  3551.705566  59.660682  0.983842  0.921005   \n",
       "2        1266.664835  4995.054945  66.565934  0.000000  1.000000   \n",
       "3        1322.018456  4099.161074  66.703020  1.000000  0.976510   \n",
       "4        1121.656716  5602.487562  64.054726  0.000000  0.000000   \n",
       "\n",
       "            birthDate    birthYear  birthMonth   birthDay  cpi_country  \\\n",
       "Cluster                                                                  \n",
       "0       -4.544491e+08  1955.128130    6.232695  15.041237   117.240000   \n",
       "1       -2.152977e+08  1962.820467    5.102334   7.639138   131.739102   \n",
       "2       -4.347607e+08  1955.788462    5.868132  12.758242   137.248187   \n",
       "3       -4.390302e+08  1955.652685    5.864094  13.144295   132.768054   \n",
       "4       -3.559241e+08  1958.323383    5.442786  12.368159   121.904428   \n",
       "\n",
       "         cpi_change_country   gdp_country  \\\n",
       "Cluster                                     \n",
       "0                  7.500000  2.142770e+13   \n",
       "1                  3.477379  1.782915e+13   \n",
       "2                  3.148901  1.900233e+12   \n",
       "3                  2.544295  1.588858e+12   \n",
       "4                  4.259204  9.660325e+12   \n",
       "\n",
       "         gross_tertiary_education_enrollment  \\\n",
       "Cluster                                        \n",
       "0                                  88.200000   \n",
       "1                                  47.893537   \n",
       "2                                  55.403846   \n",
       "3                                  67.279866   \n",
       "4                                  74.125871   \n",
       "\n",
       "         gross_primary_education_enrollment_country  life_expectancy_country  \\\n",
       "Cluster                                                                        \n",
       "0                                        101.800000                78.500000   \n",
       "1                                        101.739677                76.085817   \n",
       "2                                        106.141209                77.629670   \n",
       "3                                        102.930705                79.330369   \n",
       "4                                        103.514428                79.570149   \n",
       "\n",
       "         tax_revenue_country_country  total_tax_rate_country  \\\n",
       "Cluster                                                        \n",
       "0                           9.600000               36.600000   \n",
       "1                           9.616517               58.057271   \n",
       "2                          15.193956               43.198352   \n",
       "3                          16.407886               39.648993   \n",
       "4                          14.718408               42.138806   \n",
       "\n",
       "         population_country  latitude_country  longitude_country  \n",
       "Cluster                                                           \n",
       "0              3.282395e+08         37.090240         -95.712891  \n",
       "1              1.393950e+09         34.025117         101.160247  \n",
       "2              3.559528e+08         28.928620          38.589577  \n",
       "3              7.007920e+07         35.987441          43.333813  \n",
       "4              2.613169e+08         36.096849         -17.270275  "
      ]
     },
     "execution_count": 50,
     "metadata": {},
     "output_type": "execute_result"
    }
   ],
   "source": [
    "df['Cluster'] = clusters\n",
    "cluster_stats = df.groupby('Cluster').mean()\n",
    "cluster_stats"
   ]
  }
 ],
 "metadata": {
  "kernelspec": {
   "display_name": ".venv",
   "language": "python",
   "name": "python3"
  },
  "language_info": {
   "codemirror_mode": {
    "name": "ipython",
    "version": 3
   },
   "file_extension": ".py",
   "mimetype": "text/x-python",
   "name": "python",
   "nbconvert_exporter": "python",
   "pygments_lexer": "ipython3",
   "version": "3.12.3"
  }
 },
 "nbformat": 4,
 "nbformat_minor": 5
}
