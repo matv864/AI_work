{
 "cells": [
  {
   "cell_type": "code",
   "execution_count": 1,
   "id": "da9d5620",
   "metadata": {},
   "outputs": [],
   "source": [
    "from pprint import pprint\n",
    "\n",
    "import numpy as np\n",
    "import pandas as pd\n",
    "from sklearn.preprocessing import StandardScaler\n",
    "from sklearn.model_selection import train_test_split\n",
    "from sklearn.linear_model import LinearRegression, Ridge, Lasso, LogisticRegression\n",
    "from sklearn.metrics import mean_squared_error, mean_absolute_error, r2_score\n",
    "from sklearn.metrics import accuracy_score, roc_auc_score\n",
    "from sklearn.metrics import precision_score, recall_score, f1_score"
   ]
  },
  {
   "cell_type": "code",
   "execution_count": 2,
   "id": "0e5e5983",
   "metadata": {},
   "outputs": [],
   "source": [
    "DATA_PATH = \"/home/matv864/it/AI_work/data/billionaires_ready.csv\""
   ]
  },
  {
   "cell_type": "code",
   "execution_count": 3,
   "id": "49d90046",
   "metadata": {},
   "outputs": [],
   "source": [
    "df = pd.read_csv(DATA_PATH)"
   ]
  },
  {
   "cell_type": "code",
   "execution_count": 4,
   "id": "60050343",
   "metadata": {},
   "outputs": [
    {
     "name": "stdout",
     "output_type": "stream",
     "text": [
      "(2397, 21)\n",
      "(2397, 21)\n"
     ]
    }
   ],
   "source": [
    "print(df.shape)\n",
    "df = df.dropna(thresh=df.shape[1] - 1)\n",
    "print(df.shape)"
   ]
  },
  {
   "cell_type": "code",
   "execution_count": 5,
   "id": "e902bd82",
   "metadata": {},
   "outputs": [
    {
     "name": "stdout",
     "output_type": "stream",
     "text": [
      "Linear Regression\n",
      "{'MAE': 3331.8156426943024,\n",
      " 'MSE': np.float64(6814.921631405478),\n",
      " 'R2': 0.2561849108037604}\n",
      "==============================\n",
      "Ridge Regression\n",
      "{'MAE': 3335.6454662085653,\n",
      " 'MSE': np.float64(6819.079369468108),\n",
      " 'R2': 0.2552770407330718}\n",
      "==============================\n",
      "Lasso Regression\n",
      "{'MAE': 3336.684104602315,\n",
      " 'MSE': np.float64(6818.578427286166),\n",
      " 'R2': 0.25538645416588024}\n",
      "==============================\n"
     ]
    },
    {
     "name": "stderr",
     "output_type": "stream",
     "text": [
      "/home/matv864/it/AI_work/.venv/lib/python3.12/site-packages/sklearn/linear_model/_coordinate_descent.py:695: ConvergenceWarning: Objective did not converge. You might want to increase the number of iterations, check the scale of the features or consider increasing regularisation. Duality gap: 8.652e+10, tolerance: 2.207e+07\n",
      "  model = cd_fast.enet_coordinate_descent(\n"
     ]
    }
   ],
   "source": [
    "X_reg = df.drop(columns=['finalWorth'])\n",
    "y_reg = df['finalWorth']\n",
    "\n",
    "X_train_reg, X_test_reg, y_train_reg, y_test_reg = train_test_split(\n",
    "    X_reg, y_reg, test_size=0.2, random_state=777\n",
    ")\n",
    "\n",
    "scaler = StandardScaler()\n",
    "X_train_reg_scaled = scaler.fit_transform(X_train_reg)\n",
    "X_test_reg_scaled = scaler.transform(X_test_reg)\n",
    "\n",
    "regression_models = {\n",
    "    \"Linear Regression\": LinearRegression(),  # линейная комбинация\n",
    "    \"Ridge Regression\": Ridge(alpha=1.0),  # штрафы -> сжимаем коэфы\n",
    "    \"Lasso Regression\": Lasso(alpha=0.1)  # штраф может обнулить признак -> отбор признаков\n",
    "}\n",
    "\n",
    "regression_results = {}\n",
    "\n",
    "for name, model in regression_models.items():\n",
    "    model.fit(X_train_reg_scaled, y_train_reg)\n",
    "    y_pred = model.predict(X_test_reg_scaled)\n",
    "    \n",
    "    # Mean Squared Error - чувствителен к выбросам\n",
    "    mse = np.sqrt(mean_squared_error(y_test_reg, y_pred))\n",
    "\n",
    "    # Mean Absolute Error - менее чувствителен к выбросам, чем MSE\n",
    "    mae = mean_absolute_error(y_test_reg, y_pred)\n",
    "\n",
    "    # R^2 - показывает, насколько хорошо модель объясняет дисперсию данных\n",
    "    # =1 - идеальное\n",
    "    # =0 - модель работает как простое среднее \n",
    "    # <0 - модель хуже, чем предсказание средним\n",
    "    r2 = r2_score(y_test_reg, y_pred)\n",
    "\n",
    "    print(name)\n",
    "    pprint({\n",
    "        \"MSE\": mse,\n",
    "        \"MAE\": mae,\n",
    "        \"R2\": r2\n",
    "    })\n",
    "    print(\"=\"*30)"
   ]
  },
  {
   "cell_type": "code",
   "execution_count": 6,
   "id": "25153178",
   "metadata": {},
   "outputs": [
    {
     "name": "stdout",
     "output_type": "stream",
     "text": [
      "Logistic Regression\n",
      "{'Accuracy': 0.8583333333333333,\n",
      " 'F1 Score': 0.9225512528473804,\n",
      " 'Precision': 0.8901098901098901,\n",
      " 'ROC-AUC': np.float64(0.5280577329849446),\n",
      " 'Recall': 0.9574468085106383}\n",
      "==============================\n"
     ]
    }
   ],
   "source": [
    "X_cls = df.drop(columns=['is_male'])\n",
    "y_cls = df['is_male']\n",
    "\n",
    "X_train_cls, X_test_cls, y_train_cls, y_test_cls = train_test_split(\n",
    "    X_cls, y_cls, test_size=0.2, random_state=777, stratify=y_cls\n",
    ")\n",
    "\n",
    "# бинарная классификация \n",
    "# выход - вероятность [0, 1]\n",
    "logistic_regression_model = LogisticRegression(max_iter=1000, random_state=22)\n",
    "\n",
    "\n",
    "\n",
    "logistic_regression_model.fit(X_train_cls, y_train_cls)\n",
    "y_pred = logistic_regression_model.predict(X_test_cls)\n",
    "y_pred_proba = logistic_regression_model.predict_proba(X_test_cls)[:, 1]\n",
    "\n",
    "# доля правильный предсказаний среди всех\n",
    "accuracy = accuracy_score(y_test_cls, y_pred)\n",
    "\n",
    "# сколько из ответов \"1\" реально правильные\n",
    "precision = precision_score(y_test_cls, y_pred)\n",
    "\n",
    "# Полнота - какой процент \"1\" от реальных \n",
    "recall = recall_score(y_test_cls, y_pred)\n",
    "\n",
    "# Баланс между Precision и Recall\n",
    "f1 = f1_score(y_test_cls, y_pred)\n",
    "\n",
    "# =1 - идеал\n",
    "# =0.5 - как случайные угадывания\n",
    "roc_auc = roc_auc_score(y_test_cls, y_pred_proba)\n",
    "print(\"Logistic Regression\")\n",
    "pprint({\n",
    "    \"Accuracy\": accuracy,\n",
    "    \"Precision\": precision,\n",
    "    \"Recall\": recall,\n",
    "    \"F1 Score\": f1,\n",
    "    \"ROC-AUC\": roc_auc\n",
    "})\n",
    "print(\"=\"*30)\n"
   ]
  }
 ],
 "metadata": {
  "kernelspec": {
   "display_name": ".venv",
   "language": "python",
   "name": "python3"
  },
  "language_info": {
   "codemirror_mode": {
    "name": "ipython",
    "version": 3
   },
   "file_extension": ".py",
   "mimetype": "text/x-python",
   "name": "python",
   "nbconvert_exporter": "python",
   "pygments_lexer": "ipython3",
   "version": "3.12.3"
  }
 },
 "nbformat": 4,
 "nbformat_minor": 5
}
