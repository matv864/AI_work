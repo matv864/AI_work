{
 "cells": [
  {
   "cell_type": "code",
   "execution_count": 304,
   "id": "f133564d",
   "metadata": {},
   "outputs": [],
   "source": [
    "import numpy as np\n",
    "import pandas as pd\n",
    "import re\n",
    "import matplotlib.pyplot as plt\n",
    "import seaborn as sns\n",
    "from datetime import datetime\n"
   ]
  },
  {
   "cell_type": "code",
   "execution_count": 305,
   "id": "edf7ffc4",
   "metadata": {},
   "outputs": [],
   "source": [
    "DATA_PATH = \"/home/matv864/it/AI_work/data/billionaires.csv\"\n",
    "SAVE_DATA_PATH = \"/home/matv864/it/AI_work/data/billionaires_{}.csv\""
   ]
  },
  {
   "cell_type": "code",
   "execution_count": 306,
   "id": "e10c2175",
   "metadata": {},
   "outputs": [],
   "source": [
    "# import kagglehub\n",
    "\n",
    "\n",
    "# # Download latest version\n",
    "# path = kagglehub.dataset_download(\n",
    "#     \"nelgiriyewithana/billionaires-statistics-dataset\",\n",
    "# )\n",
    "\n",
    "# print(\"Path to dataset files:\", path)"
   ]
  },
  {
   "cell_type": "code",
   "execution_count": 307,
   "id": "fdc6d0db",
   "metadata": {},
   "outputs": [],
   "source": [
    "df = pd.read_csv(DATA_PATH)"
   ]
  },
  {
   "cell_type": "code",
   "execution_count": 308,
   "id": "1762950c",
   "metadata": {},
   "outputs": [
    {
     "data": {
      "text/plain": [
       "(2398, 35)"
      ]
     },
     "execution_count": 308,
     "metadata": {},
     "output_type": "execute_result"
    }
   ],
   "source": [
    "df = df.dropna(thresh=df.shape[1] - 5)\n",
    "df.shape"
   ]
  },
  {
   "cell_type": "code",
   "execution_count": 309,
   "id": "5b3de222",
   "metadata": {},
   "outputs": [],
   "source": [
    "column = \"rank\"\n"
   ]
  },
  {
   "cell_type": "code",
   "execution_count": 310,
   "id": "d7df913c",
   "metadata": {},
   "outputs": [],
   "source": [
    "column = \"finalWorth\"\n"
   ]
  },
  {
   "cell_type": "code",
   "execution_count": 311,
   "id": "c24083d9",
   "metadata": {},
   "outputs": [],
   "source": [
    "column = \"category\"\n",
    "# unique 18\n",
    "\n",
    "df = df.drop(column, axis=1)"
   ]
  },
  {
   "cell_type": "code",
   "execution_count": 312,
   "id": "58183d6f",
   "metadata": {},
   "outputs": [],
   "source": [
    "column = \"personName\"\n",
    "# don't need\n",
    "\n",
    "df = df.drop(column, axis=1)"
   ]
  },
  {
   "cell_type": "code",
   "execution_count": 313,
   "id": "1d90d6a5",
   "metadata": {},
   "outputs": [
    {
     "name": "stdout",
     "output_type": "stream",
     "text": [
      "0.0\n"
     ]
    }
   ],
   "source": [
    "column = \"age\"\n",
    "# loss 2%\n",
    "# after soft clean 3 nan - 0%\n",
    "\n",
    "print(df[column].isna().sum()/df[column].count())\n",
    "\n",
    "# df = df.drop(column, axis=1)"
   ]
  },
  {
   "cell_type": "code",
   "execution_count": 314,
   "id": "4124d41f",
   "metadata": {},
   "outputs": [],
   "source": [
    "column = \"country\"\n",
    "# loss 1%\n",
    "# unique 78\n",
    "\n",
    "df = df.drop(column, axis=1)"
   ]
  },
  {
   "cell_type": "code",
   "execution_count": 315,
   "id": "3d7a87a3",
   "metadata": {},
   "outputs": [],
   "source": [
    "column = \"city\"\n",
    "# loss 3%\n",
    "# unique 741\n",
    "\n",
    "df = df.drop(column, axis=1)"
   ]
  },
  {
   "cell_type": "code",
   "execution_count": 316,
   "id": "551802e1",
   "metadata": {},
   "outputs": [],
   "source": [
    "column = \"source\"\n",
    "# unique 908\n",
    "\n",
    "df = df.drop(column, axis=1)"
   ]
  },
  {
   "cell_type": "code",
   "execution_count": null,
   "id": "e544b22c",
   "metadata": {},
   "outputs": [],
   "source": [
    "column = \"industries\"\n",
    "# unique 18\n",
    "\n",
    "df = df.drop(column, axis=1)"
   ]
  },
  {
   "cell_type": "code",
   "execution_count": 318,
   "id": "60e6ea53",
   "metadata": {},
   "outputs": [],
   "source": [
    "column = \"countryOfCitizenship\"\n",
    "# unique 77\n",
    "\n",
    "df = df.drop(column, axis=1)"
   ]
  },
  {
   "cell_type": "code",
   "execution_count": 319,
   "id": "47f88ee5",
   "metadata": {},
   "outputs": [],
   "source": [
    "column = \"organization\"\n",
    "# very small amount of information \n",
    "# loss 88%\n",
    "\n",
    "df = df.drop(column, axis=1)"
   ]
  },
  {
   "cell_type": "code",
   "execution_count": 320,
   "id": "59430cf2",
   "metadata": {},
   "outputs": [],
   "source": [
    "column = \"selfMade\"\n",
    "# ready in True/False\n",
    "\n",
    "# yes_no_dict = {\n",
    "#     True: 1,\n",
    "#     False: 0\n",
    "# }\n",
    "\n",
    "# df[column] = df[column].map(yes_no_dict)\n"
   ]
  },
  {
   "cell_type": "code",
   "execution_count": 321,
   "id": "d02f5fcf",
   "metadata": {},
   "outputs": [],
   "source": [
    "column = \"status\"\n",
    "# unique 6\n",
    "\n",
    "df = df.drop(column, axis=1)"
   ]
  },
  {
   "cell_type": "code",
   "execution_count": 322,
   "id": "98862c1f",
   "metadata": {},
   "outputs": [],
   "source": [
    "column = \"gender\"\n",
    "\n",
    "# df = df.drop(column, axis=1)"
   ]
  },
  {
   "cell_type": "code",
   "execution_count": 323,
   "id": "6ede8e3d",
   "metadata": {},
   "outputs": [],
   "source": [
    "column = \"birthDate\"\n",
    "\n",
    "def convert_to_date(date: str | None) -> datetime:\n",
    "    if type(date) is str:\n",
    "        return datetime.strptime(date, r'%m/%d/%Y %H:%M')\n",
    "    return date\n",
    "\n",
    "df[column] = (\n",
    "    df[column]\n",
    "    .apply(convert_to_date)\n",
    ")\n",
    "\n",
    "mean_timestamp = df[column].dropna().astype('int64').mean()\n",
    "mean_date = pd.to_datetime(mean_timestamp)\n",
    "\n",
    "df[column] = df[column].fillna(mean_date)\n",
    "\n",
    "# df = df.drop(column, axis=1)"
   ]
  },
  {
   "cell_type": "code",
   "execution_count": 324,
   "id": "339ee2b0",
   "metadata": {},
   "outputs": [],
   "source": [
    "column = \"lastName\"\n",
    "\n",
    "\n",
    "\n",
    "df = df.drop(column, axis=1)"
   ]
  },
  {
   "cell_type": "code",
   "execution_count": 325,
   "id": "0aa3d8bb",
   "metadata": {},
   "outputs": [],
   "source": [
    "column = \"firstName\"\n",
    "\n",
    "df[column] = df[column].dropna()\n",
    "\n",
    "df = df.drop(column, axis=1)"
   ]
  },
  {
   "cell_type": "code",
   "execution_count": 326,
   "id": "6443e323",
   "metadata": {},
   "outputs": [],
   "source": [
    "column = \"title\"\n",
    "# loss 87%\n",
    "\n",
    "df = df.drop(column, axis=1)"
   ]
  },
  {
   "cell_type": "code",
   "execution_count": 327,
   "id": "569ddeea",
   "metadata": {},
   "outputs": [],
   "source": [
    "column = \"date\"\n",
    "# not interesting\n",
    "\n",
    "\n",
    "df = df.drop(column, axis=1)"
   ]
  },
  {
   "cell_type": "code",
   "execution_count": 328,
   "id": "1e4626c4",
   "metadata": {},
   "outputs": [],
   "source": [
    "column = \"state\"\n",
    "# not interested\n",
    "\n",
    "df = df.drop(column, axis=1)"
   ]
  },
  {
   "cell_type": "code",
   "execution_count": 329,
   "id": "88c3d9e5",
   "metadata": {},
   "outputs": [],
   "source": [
    "column = \"residenceStateRegion\"\n",
    "# not interested\n",
    "\n",
    "df = df.drop(column, axis=1)"
   ]
  },
  {
   "cell_type": "code",
   "execution_count": 330,
   "id": "16b6f458",
   "metadata": {},
   "outputs": [],
   "source": [
    "column = \"birthYear\"\n",
    "# we have birthDate\n",
    "\n",
    "# df = df.drop(column, axis=1)"
   ]
  },
  {
   "cell_type": "code",
   "execution_count": 331,
   "id": "9d46221f",
   "metadata": {},
   "outputs": [],
   "source": [
    "column = \"birthMonth\"\n",
    "# we have birthDate\n",
    "\n",
    "# df = df.drop(column, axis=1)"
   ]
  },
  {
   "cell_type": "code",
   "execution_count": 332,
   "id": "d33c7515",
   "metadata": {},
   "outputs": [],
   "source": [
    "column = \"birthDay\"\n",
    "# we have birthDate\n",
    "\n",
    "# df = df.drop(column, axis=1)"
   ]
  },
  {
   "cell_type": "code",
   "execution_count": 333,
   "id": "6aab71cf",
   "metadata": {},
   "outputs": [
    {
     "name": "stdout",
     "output_type": "stream",
     "text": [
      "0.00041718815185648727\n"
     ]
    }
   ],
   "source": [
    "column = \"cpi_country\"\n",
    "# loss 7%\n",
    "# after soft clean 3 nan - <0.001%\n",
    "\n",
    "print(df[column].isna().sum()/df[column].count())\n",
    "df[column] = df[column].dropna()\n",
    "\n",
    "# df = df.drop(column, axis=1)"
   ]
  },
  {
   "cell_type": "code",
   "execution_count": 334,
   "id": "9fa86e40",
   "metadata": {},
   "outputs": [
    {
     "name": "stdout",
     "output_type": "stream",
     "text": [
      "0.00041718815185648727\n"
     ]
    }
   ],
   "source": [
    "column = \"cpi_change_country\"\n",
    "# loss 7%\n",
    "# after soft clean 3 nan - <0.001%\n",
    "\n",
    "print(df[column].isna().sum()/df[column].count())\n",
    "df[column] = df[column].dropna()\n",
    "\n",
    "# df = df.drop(column, axis=1)"
   ]
  },
  {
   "cell_type": "code",
   "execution_count": 335,
   "id": "5ac4c0cc",
   "metadata": {},
   "outputs": [
    {
     "name": "stdout",
     "output_type": "stream",
     "text": [
      "0.0\n"
     ]
    }
   ],
   "source": [
    "column = \"gdp_country\"\n",
    "# loss 6%\n",
    "# after soft clean 3 nan - 0%\n",
    "\n",
    "def from_dollars_to_int(string: str) -> int:\n",
    "    return int(string.replace(\"$\", \"\").replace(\",\", \"\"))\n",
    "\n",
    "print(df[column].isna().sum()/df[column].count())\n",
    "\n",
    "df[column] = df[column].apply(from_dollars_to_int)\n",
    "\n",
    "# df = df.drop(column, axis=1)"
   ]
  },
  {
   "cell_type": "code",
   "execution_count": 336,
   "id": "0aac9e19",
   "metadata": {},
   "outputs": [
    {
     "name": "stdout",
     "output_type": "stream",
     "text": [
      "0.0\n"
     ]
    }
   ],
   "source": [
    "column = \"gross_tertiary_education_enrollment\"\n",
    "# loss 7%\n",
    "# after soft clean 3 nan - 0%\n",
    "\n",
    "print(df[column].isna().sum()/df[column].count())\n",
    "\n",
    "# df = df.drop(column, axis=1)"
   ]
  },
  {
   "cell_type": "code",
   "execution_count": 337,
   "id": "3c89d55f",
   "metadata": {},
   "outputs": [
    {
     "name": "stdout",
     "output_type": "stream",
     "text": [
      "0.0\n"
     ]
    }
   ],
   "source": [
    "column = \"gross_primary_education_enrollment_country\"\n",
    "# loss 7%\n",
    "# after soft clean 3 nan - 0%\n",
    "\n",
    "print(df[column].isna().sum()/df[column].count())\n",
    "\n",
    "# df = df.drop(column, axis=1)"
   ]
  },
  {
   "cell_type": "code",
   "execution_count": 338,
   "id": "49ab8247",
   "metadata": {},
   "outputs": [
    {
     "name": "stdout",
     "output_type": "stream",
     "text": [
      "0.0\n"
     ]
    }
   ],
   "source": [
    "column = \"life_expectancy_country\"\n",
    "# loss 7%\n",
    "# after soft clean 3 nan - 0%\n",
    "\n",
    "print(df[column].isna().sum()/df[column].count())\n",
    "\n",
    "# df = df.drop(column, axis=1)"
   ]
  },
  {
   "cell_type": "code",
   "execution_count": 339,
   "id": "8f72b24d",
   "metadata": {},
   "outputs": [
    {
     "name": "stdout",
     "output_type": "stream",
     "text": [
      "0.0\n"
     ]
    }
   ],
   "source": [
    "column = \"tax_revenue_country_country\"\n",
    "# loss 7%\n",
    "# after soft clean 3 nan - 0%\n",
    "\n",
    "print(df[column].isna().sum()/df[column].count())\n",
    "\n",
    "# df = df.drop(column, axis=1)"
   ]
  },
  {
   "cell_type": "code",
   "execution_count": 340,
   "id": "bd1c9ef1",
   "metadata": {},
   "outputs": [
    {
     "name": "stdout",
     "output_type": "stream",
     "text": [
      "0.0\n"
     ]
    }
   ],
   "source": [
    "column = \"total_tax_rate_country\"\n",
    "# loss 7%\n",
    "# after soft clean 3 nan - 0%\n",
    "\n",
    "print(df[column].isna().sum()/df[column].count())\n",
    "\n",
    "\n",
    "\n",
    "# df = df.drop(column, axis=1)"
   ]
  },
  {
   "cell_type": "code",
   "execution_count": 341,
   "id": "2738beb5",
   "metadata": {},
   "outputs": [
    {
     "name": "stdout",
     "output_type": "stream",
     "text": [
      "0.0\n"
     ]
    }
   ],
   "source": [
    "column = \"population_country\"\n",
    "# loss 6%\n",
    "# after soft clean 3 nan - 0%\n",
    "\n",
    "print(df[column].isna().sum()/df[column].count())\n",
    "\n",
    "\n",
    "# df = df.drop(column, axis=1)"
   ]
  },
  {
   "cell_type": "code",
   "execution_count": 342,
   "id": "b63eef7a",
   "metadata": {},
   "outputs": [
    {
     "name": "stdout",
     "output_type": "stream",
     "text": [
      "0.0\n"
     ]
    }
   ],
   "source": [
    "column = \"latitude_country\"\n",
    "# loss 6%\n",
    "# after soft clean 3 nan - 0%\n",
    "\n",
    "print(df[column].isna().sum()/df[column].count())\n",
    "\n",
    "\n",
    "\n",
    "# df = df.drop(column, axis=1)"
   ]
  },
  {
   "cell_type": "code",
   "execution_count": 343,
   "id": "6fac8f42",
   "metadata": {},
   "outputs": [
    {
     "name": "stdout",
     "output_type": "stream",
     "text": [
      "0.0\n"
     ]
    }
   ],
   "source": [
    "column = \"longitude_country\"\n",
    "# loss 6%\n",
    "# after soft clean 3 nan - 0%\n",
    "\n",
    "print(df[column].isna().sum()/df[column].count())\n",
    "\n",
    "# df = df.drop(column, axis=1)"
   ]
  },
  {
   "cell_type": "code",
   "execution_count": 344,
   "id": "2f23a598",
   "metadata": {},
   "outputs": [],
   "source": [
    "df.to_csv(SAVE_DATA_PATH.format(1))"
   ]
  },
  {
   "cell_type": "code",
   "execution_count": null,
   "id": "cc404ae1",
   "metadata": {},
   "outputs": [],
   "source": [
    "df = pd.get_dummies(df, columns=[\"gender\"])"
   ]
  },
  {
   "cell_type": "code",
   "execution_count": 346,
   "id": "600f0d14",
   "metadata": {},
   "outputs": [
    {
     "name": "stdout",
     "output_type": "stream",
     "text": [
      "                                                rank  finalWorth       age  \\\n",
      "rank                                        1.000000   -0.446311 -0.136961   \n",
      "finalWorth                                 -0.446311    1.000000  0.061529   \n",
      "age                                        -0.136961    0.061529  1.000000   \n",
      "selfMade                                    0.079831   -0.032820 -0.068284   \n",
      "birthDate                                   0.137720   -0.061793 -0.999776   \n",
      "birthYear                                   0.138377   -0.061854 -0.999322   \n",
      "birthMonth                                 -0.029960    0.000193  0.012596   \n",
      "birthDay                                   -0.040947    0.057705  0.091894   \n",
      "cpi_country                                 0.079001   -0.044428 -0.001433   \n",
      "cpi_change_country                         -0.060862    0.033675  0.114149   \n",
      "gdp_country                                -0.052446    0.037500 -0.066339   \n",
      "gross_tertiary_education_enrollment        -0.122888    0.064264  0.059599   \n",
      "gross_primary_education_enrollment_country  0.008316   -0.010055  0.065447   \n",
      "life_expectancy_country                    -0.044457    0.022954  0.019751   \n",
      "tax_revenue_country_country                 0.021650   -0.010368  0.004811   \n",
      "total_tax_rate_country                      0.120618   -0.033889 -0.148929   \n",
      "population_country                          0.118665   -0.052043 -0.164541   \n",
      "latitude_country                           -0.066677    0.032680 -0.125762   \n",
      "longitude_country                           0.185590   -0.098978 -0.167070   \n",
      "gender_F                                   -0.026746    0.005699 -0.034957   \n",
      "gender_M                                    0.026746   -0.005699  0.034957   \n",
      "industries_Automotive                      -0.019082    0.048137  0.015375   \n",
      "industries_Construction & Engineering       0.038530   -0.027102 -0.000579   \n",
      "industries_Diversified                      0.016750   -0.003983  0.069130   \n",
      "industries_Energy                          -0.025375   -0.001488  0.040799   \n",
      "industries_Fashion & Retail                -0.036688    0.060462  0.044152   \n",
      "industries_Finance & Investments           -0.039110   -0.013216  0.008989   \n",
      "industries_Food & Beverage                 -0.031380    0.001893  0.034526   \n",
      "industries_Gambling & Casinos              -0.004775   -0.001276  0.027976   \n",
      "industries_Healthcare                       0.054251   -0.042623 -0.005734   \n",
      "industries_Logistics                       -0.038004    0.024156  0.014211   \n",
      "industries_Manufacturing                    0.070764   -0.053750 -0.009651   \n",
      "industries_Media & Entertainment            0.004039    0.002443  0.011305   \n",
      "industries_Metals & Mining                 -0.036925    0.024493 -0.045991   \n",
      "industries_Real Estate                      0.021499   -0.042077  0.066119   \n",
      "industries_Service                         -0.006310   -0.017762  0.040395   \n",
      "industries_Sports                          -0.000050   -0.015503  0.043929   \n",
      "industries_Technology                      -0.000275    0.051770 -0.236841   \n",
      "industries_Telecom                          0.002836    0.021533  0.018684   \n",
      "\n",
      "                                            selfMade  birthDate  birthYear  \\\n",
      "rank                                        0.079831   0.137720   0.138377   \n",
      "finalWorth                                 -0.032820  -0.061793  -0.061854   \n",
      "age                                        -0.068284  -0.999776  -0.999322   \n",
      "selfMade                                    1.000000   0.068764   0.068661   \n",
      "birthDate                                   0.068764   1.000000   0.999710   \n",
      "birthYear                                   0.068661   0.999710   1.000000   \n",
      "birthMonth                                  0.004803  -0.019430  -0.043422   \n",
      "birthDay                                   -0.036678  -0.094134  -0.101437   \n",
      "cpi_country                                -0.023702   0.000676  -0.000738   \n",
      "cpi_change_country                          0.017368  -0.115365  -0.118060   \n",
      "gdp_country                                 0.243221   0.066836   0.066901   \n",
      "gross_tertiary_education_enrollment         0.013113  -0.059913  -0.061364   \n",
      "gross_primary_education_enrollment_country -0.220818  -0.065844  -0.066491   \n",
      "life_expectancy_country                    -0.041282  -0.018969  -0.017925   \n",
      "tax_revenue_country_country                -0.159126  -0.005172  -0.005262   \n",
      "total_tax_rate_country                      0.107713   0.150110   0.151381   \n",
      "population_country                          0.204342   0.165897   0.167400   \n",
      "latitude_country                            0.082350   0.125348   0.126094   \n",
      "longitude_country                           0.105079   0.168467   0.170178   \n",
      "gender_F                                   -0.330449   0.034987   0.035766   \n",
      "gender_M                                    0.330449  -0.034987  -0.035766   \n",
      "industries_Automotive                      -0.066868  -0.014901  -0.015155   \n",
      "industries_Construction & Engineering      -0.040885   0.001143   0.001492   \n",
      "industries_Diversified                     -0.155674  -0.069118  -0.068783   \n",
      "industries_Energy                           0.012530  -0.041114  -0.041022   \n",
      "industries_Fashion & Retail                -0.079824  -0.044372  -0.043563   \n",
      "industries_Finance & Investments            0.068243  -0.010058  -0.011949   \n",
      "industries_Food & Beverage                 -0.114459  -0.034264  -0.033118   \n",
      "industries_Gambling & Casinos               0.024318  -0.027869  -0.028342   \n",
      "industries_Healthcare                       0.023414   0.006675   0.007499   \n",
      "industries_Logistics                        0.027945  -0.014112  -0.014172   \n",
      "industries_Manufacturing                    0.029046   0.009617   0.010826   \n",
      "industries_Media & Entertainment            0.004842  -0.011110  -0.011514   \n",
      "industries_Metals & Mining                  0.016742   0.046243   0.046232   \n",
      "industries_Real Estate                      0.008344  -0.066601  -0.066966   \n",
      "industries_Service                         -0.030799  -0.040212  -0.040095   \n",
      "industries_Sports                          -0.019736  -0.044332  -0.045190   \n",
      "industries_Technology                       0.186975   0.236940   0.235984   \n",
      "industries_Telecom                          0.036734  -0.018266  -0.018198   \n",
      "\n",
      "                                            birthMonth  birthDay  cpi_country  \\\n",
      "rank                                         -0.029960 -0.040947     0.079001   \n",
      "finalWorth                                    0.000193  0.057705    -0.044428   \n",
      "age                                           0.012596  0.091894    -0.001433   \n",
      "selfMade                                      0.004803 -0.036678    -0.023702   \n",
      "birthDate                                    -0.019430 -0.094134     0.000676   \n",
      "birthYear                                    -0.043422 -0.101437    -0.000738   \n",
      "birthMonth                                    1.000000  0.227001     0.056870   \n",
      "birthDay                                      0.227001  1.000000     0.037517   \n",
      "cpi_country                                   0.056870  0.037517     1.000000   \n",
      "cpi_change_country                            0.106427  0.146357     0.429792   \n",
      "gdp_country                                  -0.002826 -0.032903    -0.302790   \n",
      "gross_tertiary_education_enrollment           0.049165  0.171195    -0.464218   \n",
      "gross_primary_education_enrollment_country    0.026359  0.044898     0.277481   \n",
      "life_expectancy_country                      -0.044070  0.004955    -0.749750   \n",
      "tax_revenue_country_country                   0.001484  0.034128    -0.037974   \n",
      "total_tax_rate_country                       -0.046975 -0.150352     0.241453   \n",
      "population_country                           -0.052837 -0.205135     0.221864   \n",
      "latitude_country                             -0.037084  0.006282    -0.204840   \n",
      "longitude_country                            -0.063011 -0.189067     0.267007   \n",
      "gender_F                                     -0.033960 -0.005673    -0.066748   \n",
      "gender_M                                      0.033960  0.005673     0.066748   \n",
      "industries_Automotive                         0.011044  0.002661     0.016751   \n",
      "industries_Construction & Engineering        -0.017400  0.031052     0.044858   \n",
      "industries_Diversified                       -0.008622 -0.031520     0.219979   \n",
      "industries_Energy                             0.000287 -0.026552     0.059486   \n",
      "industries_Fashion & Retail                  -0.032687  0.000464    -0.069590   \n",
      "industries_Finance & Investments              0.073487  0.084314    -0.085142   \n",
      "industries_Food & Beverage                   -0.045137 -0.024591    -0.022437   \n",
      "industries_Gambling & Casinos                 0.019227  0.021589    -0.050974   \n",
      "industries_Healthcare                        -0.032395 -0.036665     0.024896   \n",
      "industries_Logistics                          0.004639 -0.016462    -0.013756   \n",
      "industries_Manufacturing                     -0.045185 -0.073736     0.043992   \n",
      "industries_Media & Entertainment              0.013022  0.052362    -0.045311   \n",
      "industries_Metals & Mining                    0.000114 -0.019293     0.117804   \n",
      "industries_Real Estate                        0.018714 -0.004583    -0.032508   \n",
      "industries_Service                           -0.004323  0.009223    -0.035409   \n",
      "industries_Sports                             0.031650  0.074310    -0.052852   \n",
      "industries_Technology                         0.029791  0.014877    -0.091052   \n",
      "industries_Telecom                           -0.001284 -0.010488     0.028765   \n",
      "\n",
      "                                            cpi_change_country  ...  \\\n",
      "rank                                                 -0.060862  ...   \n",
      "finalWorth                                            0.033675  ...   \n",
      "age                                                   0.114149  ...   \n",
      "selfMade                                              0.017368  ...   \n",
      "birthDate                                            -0.115365  ...   \n",
      "birthYear                                            -0.118060  ...   \n",
      "birthMonth                                            0.106427  ...   \n",
      "birthDay                                              0.146357  ...   \n",
      "cpi_country                                           0.429792  ...   \n",
      "cpi_change_country                                    1.000000  ...   \n",
      "gdp_country                                           0.403860  ...   \n",
      "gross_tertiary_education_enrollment                   0.164644  ...   \n",
      "gross_primary_education_enrollment_country            0.046437  ...   \n",
      "life_expectancy_country                              -0.404883  ...   \n",
      "tax_revenue_country_country                          -0.334916  ...   \n",
      "total_tax_rate_country                               -0.025332  ...   \n",
      "population_country                                    0.074064  ...   \n",
      "latitude_country                                     -0.090715  ...   \n",
      "longitude_country                                    -0.485069  ...   \n",
      "gender_F                                             -0.014852  ...   \n",
      "gender_M                                              0.014852  ...   \n",
      "industries_Automotive                                -0.019600  ...   \n",
      "industries_Construction & Engineering                -0.030321  ...   \n",
      "industries_Diversified                                0.029415  ...   \n",
      "industries_Energy                                     0.061126  ...   \n",
      "industries_Fashion & Retail                          -0.081870  ...   \n",
      "industries_Finance & Investments                      0.088455  ...   \n",
      "industries_Food & Beverage                            0.023191  ...   \n",
      "industries_Gambling & Casinos                        -0.041339  ...   \n",
      "industries_Healthcare                                -0.029139  ...   \n",
      "industries_Logistics                                 -0.045039  ...   \n",
      "industries_Manufacturing                             -0.081543  ...   \n",
      "industries_Media & Entertainment                      0.009034  ...   \n",
      "industries_Metals & Mining                           -0.065361  ...   \n",
      "industries_Real Estate                               -0.004012  ...   \n",
      "industries_Service                                   -0.001042  ...   \n",
      "industries_Sports                                     0.094628  ...   \n",
      "industries_Technology                                 0.057079  ...   \n",
      "industries_Telecom                                   -0.011540  ...   \n",
      "\n",
      "                                            industries_Healthcare  \\\n",
      "rank                                                     0.054251   \n",
      "finalWorth                                              -0.042623   \n",
      "age                                                     -0.005734   \n",
      "selfMade                                                 0.023414   \n",
      "birthDate                                                0.006675   \n",
      "birthYear                                                0.007499   \n",
      "birthMonth                                              -0.032395   \n",
      "birthDay                                                -0.036665   \n",
      "cpi_country                                              0.024896   \n",
      "cpi_change_country                                      -0.029139   \n",
      "gdp_country                                              0.013080   \n",
      "gross_tertiary_education_enrollment                     -0.122557   \n",
      "gross_primary_education_enrollment_country               0.040925   \n",
      "life_expectancy_country                                 -0.064658   \n",
      "tax_revenue_country_country                             -0.067196   \n",
      "total_tax_rate_country                                   0.114028   \n",
      "population_country                                       0.151121   \n",
      "latitude_country                                         0.020815   \n",
      "longitude_country                                        0.092076   \n",
      "gender_F                                                 0.013528   \n",
      "gender_M                                                -0.013528   \n",
      "industries_Automotive                                   -0.049448   \n",
      "industries_Construction & Engineering                   -0.038468   \n",
      "industries_Diversified                                  -0.081581   \n",
      "industries_Energy                                       -0.058585   \n",
      "industries_Fashion & Retail                             -0.098165   \n",
      "industries_Finance & Investments                        -0.118549   \n",
      "industries_Food & Beverage                              -0.085313   \n",
      "industries_Gambling & Casinos                           -0.028065   \n",
      "industries_Healthcare                                    1.000000   \n",
      "industries_Logistics                                    -0.033920   \n",
      "industries_Manufacturing                                -0.107542   \n",
      "industries_Media & Entertainment                        -0.055570   \n",
      "industries_Metals & Mining                              -0.050946   \n",
      "industries_Real Estate                                  -0.077724   \n",
      "industries_Service                                      -0.041684   \n",
      "industries_Sports                                       -0.037010   \n",
      "industries_Technology                                   -0.108815   \n",
      "industries_Telecom                                      -0.031702   \n",
      "\n",
      "                                            industries_Logistics  \\\n",
      "rank                                                   -0.038004   \n",
      "finalWorth                                              0.024156   \n",
      "age                                                     0.014211   \n",
      "selfMade                                                0.027945   \n",
      "birthDate                                              -0.014112   \n",
      "birthYear                                              -0.014172   \n",
      "birthMonth                                              0.004639   \n",
      "birthDay                                               -0.016462   \n",
      "cpi_country                                            -0.013756   \n",
      "cpi_change_country                                     -0.045039   \n",
      "gdp_country                                            -0.035981   \n",
      "gross_tertiary_education_enrollment                    -0.002830   \n",
      "gross_primary_education_enrollment_country             -0.008023   \n",
      "life_expectancy_country                                 0.014617   \n",
      "tax_revenue_country_country                             0.027385   \n",
      "total_tax_rate_country                                  0.020144   \n",
      "population_country                                     -0.014182   \n",
      "latitude_country                                        0.017693   \n",
      "longitude_country                                       0.039627   \n",
      "gender_F                                                0.025047   \n",
      "gender_M                                               -0.025047   \n",
      "industries_Automotive                                  -0.019717   \n",
      "industries_Construction & Engineering                  -0.015338   \n",
      "industries_Diversified                                 -0.032529   \n",
      "industries_Energy                                      -0.023360   \n",
      "industries_Fashion & Retail                            -0.039142   \n",
      "industries_Finance & Investments                       -0.047270   \n",
      "industries_Food & Beverage                             -0.034017   \n",
      "industries_Gambling & Casinos                          -0.011191   \n",
      "industries_Healthcare                                  -0.033920   \n",
      "industries_Logistics                                    1.000000   \n",
      "industries_Manufacturing                               -0.042881   \n",
      "industries_Media & Entertainment                       -0.022158   \n",
      "industries_Metals & Mining                             -0.020314   \n",
      "industries_Real Estate                                 -0.030991   \n",
      "industries_Service                                     -0.016621   \n",
      "industries_Sports                                      -0.014757   \n",
      "industries_Technology                                  -0.043389   \n",
      "industries_Telecom                                     -0.012641   \n",
      "\n",
      "                                            industries_Manufacturing  \\\n",
      "rank                                                        0.070764   \n",
      "finalWorth                                                 -0.053750   \n",
      "age                                                        -0.009651   \n",
      "selfMade                                                    0.029046   \n",
      "birthDate                                                   0.009617   \n",
      "birthYear                                                   0.010826   \n",
      "birthMonth                                                 -0.045185   \n",
      "birthDay                                                   -0.073736   \n",
      "cpi_country                                                 0.043992   \n",
      "cpi_change_country                                         -0.081543   \n",
      "gdp_country                                                 0.032442   \n",
      "gross_tertiary_education_enrollment                        -0.178811   \n",
      "gross_primary_education_enrollment_country                 -0.018567   \n",
      "life_expectancy_country                                    -0.094169   \n",
      "tax_revenue_country_country                                -0.042180   \n",
      "total_tax_rate_country                                      0.197728   \n",
      "population_country                                          0.249781   \n",
      "latitude_country                                           -0.000624   \n",
      "longitude_country                                           0.209062   \n",
      "gender_F                                                    0.008481   \n",
      "gender_M                                                   -0.008481   \n",
      "industries_Automotive                                      -0.062512   \n",
      "industries_Construction & Engineering                      -0.048631   \n",
      "industries_Diversified                                     -0.103135   \n",
      "industries_Energy                                          -0.074063   \n",
      "industries_Fashion & Retail                                -0.124099   \n",
      "industries_Finance & Investments                           -0.149870   \n",
      "industries_Food & Beverage                                 -0.107852   \n",
      "industries_Gambling & Casinos                              -0.035480   \n",
      "industries_Healthcare                                      -0.107542   \n",
      "industries_Logistics                                       -0.042881   \n",
      "industries_Manufacturing                                    1.000000   \n",
      "industries_Media & Entertainment                           -0.070251   \n",
      "industries_Metals & Mining                                 -0.064406   \n",
      "industries_Real Estate                                     -0.098258   \n",
      "industries_Service                                         -0.052697   \n",
      "industries_Sports                                          -0.046788   \n",
      "industries_Technology                                      -0.137564   \n",
      "industries_Telecom                                         -0.040078   \n",
      "\n",
      "                                            industries_Media & Entertainment  \\\n",
      "rank                                                                0.004039   \n",
      "finalWorth                                                          0.002443   \n",
      "age                                                                 0.011305   \n",
      "selfMade                                                            0.004842   \n",
      "birthDate                                                          -0.011110   \n",
      "birthYear                                                          -0.011514   \n",
      "birthMonth                                                          0.013022   \n",
      "birthDay                                                            0.052362   \n",
      "cpi_country                                                        -0.045311   \n",
      "cpi_change_country                                                  0.009034   \n",
      "gdp_country                                                         0.016091   \n",
      "gross_tertiary_education_enrollment                                 0.065411   \n",
      "gross_primary_education_enrollment_country                         -0.014712   \n",
      "life_expectancy_country                                             0.052883   \n",
      "tax_revenue_country_country                                         0.009962   \n",
      "total_tax_rate_country                                             -0.055851   \n",
      "population_country                                                 -0.057837   \n",
      "latitude_country                                                   -0.013480   \n",
      "longitude_country                                                  -0.048619   \n",
      "gender_F                                                           -0.006421   \n",
      "gender_M                                                            0.006421   \n",
      "industries_Automotive                                              -0.032302   \n",
      "industries_Construction & Engineering                              -0.025129   \n",
      "industries_Diversified                                             -0.053292   \n",
      "industries_Energy                                                  -0.038270   \n",
      "industries_Fashion & Retail                                        -0.064125   \n",
      "industries_Finance & Investments                                   -0.077442   \n",
      "industries_Food & Beverage                                         -0.055730   \n",
      "industries_Gambling & Casinos                                      -0.018334   \n",
      "industries_Healthcare                                              -0.055570   \n",
      "industries_Logistics                                               -0.022158   \n",
      "industries_Manufacturing                                           -0.070251   \n",
      "industries_Media & Entertainment                                    1.000000   \n",
      "industries_Metals & Mining                                         -0.033280   \n",
      "industries_Real Estate                                             -0.050773   \n",
      "industries_Service                                                 -0.027230   \n",
      "industries_Sports                                                  -0.024177   \n",
      "industries_Technology                                              -0.071083   \n",
      "industries_Telecom                                                 -0.020709   \n",
      "\n",
      "                                            industries_Metals & Mining  \\\n",
      "rank                                                         -0.036925   \n",
      "finalWorth                                                    0.024493   \n",
      "age                                                          -0.045991   \n",
      "selfMade                                                      0.016742   \n",
      "birthDate                                                     0.046243   \n",
      "birthYear                                                     0.046232   \n",
      "birthMonth                                                    0.000114   \n",
      "birthDay                                                     -0.019293   \n",
      "cpi_country                                                   0.117804   \n",
      "cpi_change_country                                           -0.065361   \n",
      "gdp_country                                                  -0.124074   \n",
      "gross_tertiary_education_enrollment                           0.011408   \n",
      "gross_primary_education_enrollment_country                   -0.023890   \n",
      "life_expectancy_country                                      -0.050180   \n",
      "tax_revenue_country_country                                   0.062548   \n",
      "total_tax_rate_country                                       -0.011605   \n",
      "population_country                                           -0.054963   \n",
      "latitude_country                                             -0.035017   \n",
      "longitude_country                                             0.106345   \n",
      "gender_F                                                     -0.002891   \n",
      "gender_M                                                      0.002891   \n",
      "industries_Automotive                                        -0.029614   \n",
      "industries_Construction & Engineering                        -0.023038   \n",
      "industries_Diversified                                       -0.048858   \n",
      "industries_Energy                                            -0.035086   \n",
      "industries_Fashion & Retail                                  -0.058790   \n",
      "industries_Finance & Investments                             -0.070998   \n",
      "industries_Food & Beverage                                   -0.051093   \n",
      "industries_Gambling & Casinos                                -0.016808   \n",
      "industries_Healthcare                                        -0.050946   \n",
      "industries_Logistics                                         -0.020314   \n",
      "industries_Manufacturing                                     -0.064406   \n",
      "industries_Media & Entertainment                             -0.033280   \n",
      "industries_Metals & Mining                                    1.000000   \n",
      "industries_Real Estate                                       -0.046548   \n",
      "industries_Service                                           -0.024964   \n",
      "industries_Sports                                            -0.022165   \n",
      "industries_Technology                                        -0.065169   \n",
      "industries_Telecom                                           -0.018986   \n",
      "\n",
      "                                            industries_Real Estate  \\\n",
      "rank                                                      0.021499   \n",
      "finalWorth                                               -0.042077   \n",
      "age                                                       0.066119   \n",
      "selfMade                                                  0.008344   \n",
      "birthDate                                                -0.066601   \n",
      "birthYear                                                -0.066966   \n",
      "birthMonth                                                0.018714   \n",
      "birthDay                                                 -0.004583   \n",
      "cpi_country                                              -0.032508   \n",
      "cpi_change_country                                       -0.004012   \n",
      "gdp_country                                              -0.009687   \n",
      "gross_tertiary_education_enrollment                       0.047110   \n",
      "gross_primary_education_enrollment_country               -0.004045   \n",
      "life_expectancy_country                                   0.035536   \n",
      "tax_revenue_country_country                              -0.013670   \n",
      "total_tax_rate_country                                   -0.048411   \n",
      "population_country                                       -0.017280   \n",
      "latitude_country                                         -0.070982   \n",
      "longitude_country                                         0.022742   \n",
      "gender_F                                                 -0.014361   \n",
      "gender_M                                                  0.014361   \n",
      "industries_Automotive                                    -0.045179   \n",
      "industries_Construction & Engineering                    -0.035147   \n",
      "industries_Diversified                                   -0.074538   \n",
      "industries_Energy                                        -0.053528   \n",
      "industries_Fashion & Retail                              -0.089690   \n",
      "industries_Finance & Investments                         -0.108315   \n",
      "industries_Food & Beverage                               -0.077948   \n",
      "industries_Gambling & Casinos                            -0.025642   \n",
      "industries_Healthcare                                    -0.077724   \n",
      "industries_Logistics                                     -0.030991   \n",
      "industries_Manufacturing                                 -0.098258   \n",
      "industries_Media & Entertainment                         -0.050773   \n",
      "industries_Metals & Mining                               -0.046548   \n",
      "industries_Real Estate                                    1.000000   \n",
      "industries_Service                                       -0.038085   \n",
      "industries_Sports                                        -0.033815   \n",
      "industries_Technology                                    -0.099421   \n",
      "industries_Telecom                                       -0.028965   \n",
      "\n",
      "                                            industries_Service  \\\n",
      "rank                                                 -0.006310   \n",
      "finalWorth                                           -0.017762   \n",
      "age                                                   0.040395   \n",
      "selfMade                                             -0.030799   \n",
      "birthDate                                            -0.040212   \n",
      "birthYear                                            -0.040095   \n",
      "birthMonth                                           -0.004323   \n",
      "birthDay                                              0.009223   \n",
      "cpi_country                                          -0.035409   \n",
      "cpi_change_country                                   -0.001042   \n",
      "gdp_country                                           0.028841   \n",
      "gross_tertiary_education_enrollment                   0.018768   \n",
      "gross_primary_education_enrollment_country           -0.013064   \n",
      "life_expectancy_country                               0.021336   \n",
      "tax_revenue_country_country                          -0.042021   \n",
      "total_tax_rate_country                               -0.009752   \n",
      "population_country                                    0.003333   \n",
      "latitude_country                                      0.025265   \n",
      "longitude_country                                    -0.025600   \n",
      "gender_F                                              0.012323   \n",
      "gender_M                                             -0.012323   \n",
      "industries_Automotive                                -0.024230   \n",
      "industries_Construction & Engineering                -0.018849   \n",
      "industries_Diversified                               -0.039976   \n",
      "industries_Energy                                    -0.028707   \n",
      "industries_Fashion & Retail                          -0.048102   \n",
      "industries_Finance & Investments                     -0.058090   \n",
      "industries_Food & Beverage                           -0.041804   \n",
      "industries_Gambling & Casinos                        -0.013752   \n",
      "industries_Healthcare                                -0.041684   \n",
      "industries_Logistics                                 -0.016621   \n",
      "industries_Manufacturing                             -0.052697   \n",
      "industries_Media & Entertainment                     -0.027230   \n",
      "industries_Metals & Mining                           -0.024964   \n",
      "industries_Real Estate                               -0.038085   \n",
      "industries_Service                                    1.000000   \n",
      "industries_Sports                                    -0.018135   \n",
      "industries_Technology                                -0.053321   \n",
      "industries_Telecom                                   -0.015534   \n",
      "\n",
      "                                            industries_Sports  \\\n",
      "rank                                                -0.000050   \n",
      "finalWorth                                          -0.015503   \n",
      "age                                                  0.043929   \n",
      "selfMade                                            -0.019736   \n",
      "birthDate                                           -0.044332   \n",
      "birthYear                                           -0.045190   \n",
      "birthMonth                                           0.031650   \n",
      "birthDay                                             0.074310   \n",
      "cpi_country                                         -0.052852   \n",
      "cpi_change_country                                   0.094628   \n",
      "gdp_country                                          0.108326   \n",
      "gross_tertiary_education_enrollment                  0.110755   \n",
      "gross_primary_education_enrollment_country          -0.027330   \n",
      "life_expectancy_country                              0.023575   \n",
      "tax_revenue_country_country                         -0.057857   \n",
      "total_tax_rate_country                              -0.083265   \n",
      "population_country                                  -0.047171   \n",
      "latitude_country                                     0.026413   \n",
      "longitude_country                                   -0.148752   \n",
      "gender_F                                             0.015685   \n",
      "gender_M                                            -0.015685   \n",
      "industries_Automotive                               -0.021513   \n",
      "industries_Construction & Engineering               -0.016736   \n",
      "industries_Diversified                              -0.035493   \n",
      "industries_Energy                                   -0.025488   \n",
      "industries_Fashion & Retail                         -0.042708   \n",
      "industries_Finance & Investments                    -0.051577   \n",
      "industries_Food & Beverage                          -0.037117   \n",
      "industries_Gambling & Casinos                       -0.012210   \n",
      "industries_Healthcare                               -0.037010   \n",
      "industries_Logistics                                -0.014757   \n",
      "industries_Manufacturing                            -0.046788   \n",
      "industries_Media & Entertainment                    -0.024177   \n",
      "industries_Metals & Mining                          -0.022165   \n",
      "industries_Real Estate                              -0.033815   \n",
      "industries_Service                                  -0.018135   \n",
      "industries_Sports                                    1.000000   \n",
      "industries_Technology                               -0.047342   \n",
      "industries_Telecom                                  -0.013792   \n",
      "\n",
      "                                            industries_Technology  \\\n",
      "rank                                                    -0.000275   \n",
      "finalWorth                                               0.051770   \n",
      "age                                                     -0.236841   \n",
      "selfMade                                                 0.186975   \n",
      "birthDate                                                0.236940   \n",
      "birthYear                                                0.235984   \n",
      "birthMonth                                               0.029791   \n",
      "birthDay                                                 0.014877   \n",
      "cpi_country                                             -0.091052   \n",
      "cpi_change_country                                       0.057079   \n",
      "gdp_country                                              0.164824   \n",
      "gross_tertiary_education_enrollment                      0.107296   \n",
      "gross_primary_education_enrollment_country              -0.072630   \n",
      "life_expectancy_country                                  0.036723   \n",
      "tax_revenue_country_country                             -0.091656   \n",
      "total_tax_rate_country                                  -0.027240   \n",
      "population_country                                       0.049561   \n",
      "latitude_country                                         0.000820   \n",
      "longitude_country                                       -0.061686   \n",
      "gender_F                                                -0.029910   \n",
      "gender_M                                                 0.029910   \n",
      "industries_Automotive                                   -0.063252   \n",
      "industries_Construction & Engineering                   -0.049206   \n",
      "industries_Diversified                                  -0.104355   \n",
      "industries_Energy                                       -0.074940   \n",
      "industries_Fashion & Retail                             -0.125568   \n",
      "industries_Finance & Investments                        -0.151644   \n",
      "industries_Food & Beverage                              -0.109129   \n",
      "industries_Gambling & Casinos                           -0.035900   \n",
      "industries_Healthcare                                   -0.108815   \n",
      "industries_Logistics                                    -0.043389   \n",
      "industries_Manufacturing                                -0.137564   \n",
      "industries_Media & Entertainment                        -0.071083   \n",
      "industries_Metals & Mining                              -0.065169   \n",
      "industries_Real Estate                                  -0.099421   \n",
      "industries_Service                                      -0.053321   \n",
      "industries_Sports                                       -0.047342   \n",
      "industries_Technology                                    1.000000   \n",
      "industries_Telecom                                      -0.040552   \n",
      "\n",
      "                                            industries_Telecom  \n",
      "rank                                                  0.002836  \n",
      "finalWorth                                            0.021533  \n",
      "age                                                   0.018684  \n",
      "selfMade                                              0.036734  \n",
      "birthDate                                            -0.018266  \n",
      "birthYear                                            -0.018198  \n",
      "birthMonth                                           -0.001284  \n",
      "birthDay                                             -0.010488  \n",
      "cpi_country                                           0.028765  \n",
      "cpi_change_country                                   -0.011540  \n",
      "gdp_country                                          -0.050219  \n",
      "gross_tertiary_education_enrollment                  -0.037811  \n",
      "gross_primary_education_enrollment_country           -0.024639  \n",
      "life_expectancy_country                               0.013338  \n",
      "tax_revenue_country_country                           0.045441  \n",
      "total_tax_rate_country                               -0.015294  \n",
      "population_country                                   -0.032145  \n",
      "latitude_country                                      0.005148  \n",
      "longitude_country                                     0.011535  \n",
      "gender_F                                             -0.039760  \n",
      "gender_M                                              0.039760  \n",
      "industries_Automotive                                -0.018428  \n",
      "industries_Construction & Engineering                -0.014336  \n",
      "industries_Diversified                               -0.030403  \n",
      "industries_Energy                                    -0.021833  \n",
      "industries_Fashion & Retail                          -0.036583  \n",
      "industries_Finance & Investments                     -0.044180  \n",
      "industries_Food & Beverage                           -0.031793  \n",
      "industries_Gambling & Casinos                        -0.010459  \n",
      "industries_Healthcare                                -0.031702  \n",
      "industries_Logistics                                 -0.012641  \n",
      "industries_Manufacturing                             -0.040078  \n",
      "industries_Media & Entertainment                     -0.020709  \n",
      "industries_Metals & Mining                           -0.018986  \n",
      "industries_Real Estate                               -0.028965  \n",
      "industries_Service                                   -0.015534  \n",
      "industries_Sports                                    -0.013792  \n",
      "industries_Technology                                -0.040552  \n",
      "industries_Telecom                                    1.000000  \n",
      "\n",
      "[39 rows x 39 columns]\n"
     ]
    },
    {
     "data": {
      "image/png": "[encoded data removed]",
      "text/plain": [
       "<Figure size 640x480 with 2 Axes>"
      ]
     },
     "metadata": {},
     "output_type": "display_data"
    }
   ],
   "source": [
    "# Compute the correlation matrix of the variables\n",
    "diamonds_corr_matrix = df.corr()\n",
    "print(diamonds_corr_matrix)\n",
    "\n",
    "# Create the heatmap using the `heatmap` function of Seaborn\n",
    "sns.heatmap(diamonds_corr_matrix, cmap='coolwarm')\n",
    "\n",
    "# Display the heatmap using the `show` method of the `pyplot` module from matplotlib.\n",
    "plt.show()"
   ]
  }
 ],
 "metadata": {
  "kernelspec": {
   "display_name": ".venv",
   "language": "python",
   "name": "python3"
  },
  "language_info": {
   "codemirror_mode": {
    "name": "ipython",
    "version": 3
   },
   "file_extension": ".py",
   "mimetype": "text/x-python",
   "name": "python",
   "nbconvert_exporter": "python",
   "pygments_lexer": "ipython3",
   "version": "3.12.3"
  }
 },
 "nbformat": 4,
 "nbformat_minor": 5
}
